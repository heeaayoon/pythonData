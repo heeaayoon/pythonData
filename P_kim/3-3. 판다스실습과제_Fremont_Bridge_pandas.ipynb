{
  "cells": [
    {
      "cell_type": "markdown",
      "metadata": {
        "id": "-7RY74DAVMbP"
      },
      "source": [
        "## Pandas 데이터 분석 연습 문제: 시애틀 자전거 통행량\n",
        "\n",
        "이 문제는 시애틀의 Fremont Bridge 자전거 통행량 데이터를 분석하는 연습을 제공합니다. pandas를 활용하여 데이터 전처리, 날짜 기반 분석, 날씨 데이터 병합 및 상관관계 분석을 수행합니다. (p234 참고)\n",
        "\n",
        "---"
      ]
    },
    {
      "cell_type": "markdown",
      "metadata": {
        "id": "xJ65b-27V_zF"
      },
      "source": [
        "<img src=\"https://images.seattletimes.com/wp-content/uploads/2020/01/01022020_bike-count_114545.jpg?d=2040x1360\" width=400>\n",
        "\n",
        "Ken Lambert, \"Bike ridership hits record highs on 2 Seattle routes\", The Seattle Times, Jan. 6, 2020"
      ]
    },
    {
      "cell_type": "markdown",
      "metadata": {
        "id": "XiY3C8DA8ZMv"
      },
      "source": [
        "\n",
        "## 1. 자전거 통행량 데이터 기본 전처리\n",
        "\n",
        "FremontBridge.csv 파일을 사용하여 시애틀 다리의 자전거 통행량 데이터를 불러오고 기본적인 전처리 작업을 수행합니다."
      ]
    },
    {
      "cell_type": "code",
      "execution_count": 1,
      "metadata": {},
      "outputs": [],
      "source": [
        "import numpy as np\n",
        "import pandas as pd"
      ]
    },
    {
      "cell_type": "markdown",
      "metadata": {
        "id": "TDxJJOsC78bL"
      },
      "source": [
        "\n",
        "\n",
        "\n",
        "### 1.1 데이터 읽기\n",
        "\n",
        "- **목표**: FremontBridge.csv 파일을 pandas DataFrame으로 읽어와 df_bike 변수에 저장합니다.\n",
        "- **힌트**:\n",
        "    - pandas의 read_csv 함수를 사용하세요.\n",
        "    - 파일의 경로와 이름을 인자로 전달합니다. (url: 'https://raw.githubusercontent.com/jakevdp/bicycle-data/refs/heads/main/FremontBridge.csv')\n",
        "\n"
      ]
    },
    {
      "cell_type": "code",
      "execution_count": 108,
      "metadata": {
        "id": "yF1n57X479jt"
      },
      "outputs": [],
      "source": [
        "bycycle_url = 'https://raw.githubusercontent.com/jakevdp/bicycle-data/refs/heads/main/FremontBridge.csv'\n",
        "df_bike = pd.read_csv(bycycle_url)"
      ]
    },
    {
      "cell_type": "markdown",
      "metadata": {
        "id": "P9FnyJtk8DzZ"
      },
      "source": [
        "### 1.2 데이터 미리보기\n",
        "\n",
        "- **목표**: df_bike DataFrame의 처음 5개 행을 출력하여 데이터 구조와 값을 확인합니다.\n",
        "- **힌트**:\n",
        "    - DataFrame의 head 메서드를 사용하면 처음 5개 행을 확인할 수 있습니다.\n",
        "\n"
      ]
    },
    {
      "cell_type": "code",
      "execution_count": 109,
      "metadata": {
        "id": "pWLfeVCN8GsD"
      },
      "outputs": [
        {
          "data": {
            "text/html": [
              "<div>\n",
              "<style scoped>\n",
              "    .dataframe tbody tr th:only-of-type {\n",
              "        vertical-align: middle;\n",
              "    }\n",
              "\n",
              "    .dataframe tbody tr th {\n",
              "        vertical-align: top;\n",
              "    }\n",
              "\n",
              "    .dataframe thead th {\n",
              "        text-align: right;\n",
              "    }\n",
              "</style>\n",
              "<table border=\"1\" class=\"dataframe\">\n",
              "  <thead>\n",
              "    <tr style=\"text-align: right;\">\n",
              "      <th></th>\n",
              "      <th>Date</th>\n",
              "      <th>Fremont Bridge Total</th>\n",
              "      <th>Fremont Bridge East Sidewalk</th>\n",
              "      <th>Fremont Bridge West Sidewalk</th>\n",
              "    </tr>\n",
              "  </thead>\n",
              "  <tbody>\n",
              "    <tr>\n",
              "      <th>0</th>\n",
              "      <td>11/01/2019 12:00:00 AM</td>\n",
              "      <td>12.0</td>\n",
              "      <td>7.0</td>\n",
              "      <td>5.0</td>\n",
              "    </tr>\n",
              "    <tr>\n",
              "      <th>1</th>\n",
              "      <td>11/01/2019 01:00:00 AM</td>\n",
              "      <td>7.0</td>\n",
              "      <td>0.0</td>\n",
              "      <td>7.0</td>\n",
              "    </tr>\n",
              "    <tr>\n",
              "      <th>2</th>\n",
              "      <td>11/01/2019 02:00:00 AM</td>\n",
              "      <td>1.0</td>\n",
              "      <td>0.0</td>\n",
              "      <td>1.0</td>\n",
              "    </tr>\n",
              "    <tr>\n",
              "      <th>3</th>\n",
              "      <td>11/01/2019 03:00:00 AM</td>\n",
              "      <td>6.0</td>\n",
              "      <td>6.0</td>\n",
              "      <td>0.0</td>\n",
              "    </tr>\n",
              "    <tr>\n",
              "      <th>4</th>\n",
              "      <td>11/01/2019 04:00:00 AM</td>\n",
              "      <td>6.0</td>\n",
              "      <td>5.0</td>\n",
              "      <td>1.0</td>\n",
              "    </tr>\n",
              "  </tbody>\n",
              "</table>\n",
              "</div>"
            ],
            "text/plain": [
              "                     Date  Fremont Bridge Total  Fremont Bridge East Sidewalk  \\\n",
              "0  11/01/2019 12:00:00 AM                  12.0                           7.0   \n",
              "1  11/01/2019 01:00:00 AM                   7.0                           0.0   \n",
              "2  11/01/2019 02:00:00 AM                   1.0                           0.0   \n",
              "3  11/01/2019 03:00:00 AM                   6.0                           6.0   \n",
              "4  11/01/2019 04:00:00 AM                   6.0                           5.0   \n",
              "\n",
              "   Fremont Bridge West Sidewalk  \n",
              "0                           5.0  \n",
              "1                           7.0  \n",
              "2                           1.0  \n",
              "3                           0.0  \n",
              "4                           1.0  "
            ]
          },
          "execution_count": 109,
          "metadata": {},
          "output_type": "execute_result"
        }
      ],
      "source": [
        "df_bike.head()"
      ]
    },
    {
      "cell_type": "markdown",
      "metadata": {
        "id": "ilZYkqYo8HIQ"
      },
      "source": [
        "### 1.3 데이터 요약 정보 확인\n",
        "\n",
        "- **목표**: df_bike DataFrame의 컬럼명, 데이터 타입, 유효 값 개수, 메모리 사용량 등 요약 정보를 확인합니다.\n",
        "- **힌트**:\n",
        "    - DataFrame의 info 메서드를 호출하여 요약 정보를 확인하세요.\n",
        "\n"
      ]
    },
    {
      "cell_type": "code",
      "execution_count": 110,
      "metadata": {
        "id": "jkN8n57n8I3y"
      },
      "outputs": [
        {
          "name": "stdout",
          "output_type": "stream",
          "text": [
            "<class 'pandas.core.frame.DataFrame'>\n",
            "RangeIndex: 147278 entries, 0 to 147277\n",
            "Data columns (total 4 columns):\n",
            " #   Column                        Non-Null Count   Dtype  \n",
            "---  ------                        --------------   -----  \n",
            " 0   Date                          147278 non-null  object \n",
            " 1   Fremont Bridge Total          147256 non-null  float64\n",
            " 2   Fremont Bridge East Sidewalk  147256 non-null  float64\n",
            " 3   Fremont Bridge West Sidewalk  147255 non-null  float64\n",
            "dtypes: float64(3), object(1)\n",
            "memory usage: 4.5+ MB\n"
          ]
        }
      ],
      "source": [
        "df_bike.info()"
      ]
    },
    {
      "cell_type": "markdown",
      "metadata": {
        "id": "4CpC0Hkz8JIz"
      },
      "source": [
        "### 1.4 데이터 타입 및 누락값 상세 확인\n",
        "\n",
        "- **목표**: 각 컬럼의 데이터 타입과 누락값(NaN)의 개수를 확인합니다.\n",
        "- **힌트**:\n",
        "    - 데이터 타입은 dtypes 속성으로 확인합니다.\n",
        "    - 누락값은 isnull 메서드와 sum 메서드를 조합하여 컬럼별 합계를 계산합니다.\n",
        "\n"
      ]
    },
    {
      "cell_type": "code",
      "execution_count": 111,
      "metadata": {
        "id": "gHG8yUTA8K-H"
      },
      "outputs": [
        {
          "data": {
            "text/plain": [
              "Date                             object\n",
              "Fremont Bridge Total            float64\n",
              "Fremont Bridge East Sidewalk    float64\n",
              "Fremont Bridge West Sidewalk    float64\n",
              "dtype: object"
            ]
          },
          "execution_count": 111,
          "metadata": {},
          "output_type": "execute_result"
        }
      ],
      "source": [
        "df_bike.dtypes"
      ]
    },
    {
      "cell_type": "code",
      "execution_count": 112,
      "metadata": {},
      "outputs": [
        {
          "data": {
            "text/html": [
              "<div>\n",
              "<style scoped>\n",
              "    .dataframe tbody tr th:only-of-type {\n",
              "        vertical-align: middle;\n",
              "    }\n",
              "\n",
              "    .dataframe tbody tr th {\n",
              "        vertical-align: top;\n",
              "    }\n",
              "\n",
              "    .dataframe thead th {\n",
              "        text-align: right;\n",
              "    }\n",
              "</style>\n",
              "<table border=\"1\" class=\"dataframe\">\n",
              "  <thead>\n",
              "    <tr style=\"text-align: right;\">\n",
              "      <th></th>\n",
              "      <th>Date</th>\n",
              "      <th>Fremont Bridge Total</th>\n",
              "      <th>Fremont Bridge East Sidewalk</th>\n",
              "      <th>Fremont Bridge West Sidewalk</th>\n",
              "    </tr>\n",
              "  </thead>\n",
              "  <tbody>\n",
              "    <tr>\n",
              "      <th>12338</th>\n",
              "      <td>06/14/2013 09:00:00 AM</td>\n",
              "      <td>NaN</td>\n",
              "      <td>NaN</td>\n",
              "      <td>NaN</td>\n",
              "    </tr>\n",
              "    <tr>\n",
              "      <th>12339</th>\n",
              "      <td>06/14/2013 10:00:00 AM</td>\n",
              "      <td>NaN</td>\n",
              "      <td>NaN</td>\n",
              "      <td>NaN</td>\n",
              "    </tr>\n",
              "    <tr>\n",
              "      <th>18763</th>\n",
              "      <td>03/09/2014 02:00:00 AM</td>\n",
              "      <td>NaN</td>\n",
              "      <td>NaN</td>\n",
              "      <td>NaN</td>\n",
              "    </tr>\n",
              "    <tr>\n",
              "      <th>27499</th>\n",
              "      <td>03/08/2015 02:00:00 AM</td>\n",
              "      <td>NaN</td>\n",
              "      <td>NaN</td>\n",
              "      <td>NaN</td>\n",
              "    </tr>\n",
              "    <tr>\n",
              "      <th>28564</th>\n",
              "      <td>04/21/2015 11:00:00 AM</td>\n",
              "      <td>NaN</td>\n",
              "      <td>NaN</td>\n",
              "      <td>NaN</td>\n",
              "    </tr>\n",
              "    <tr>\n",
              "      <th>28565</th>\n",
              "      <td>04/21/2015 12:00:00 PM</td>\n",
              "      <td>NaN</td>\n",
              "      <td>NaN</td>\n",
              "      <td>NaN</td>\n",
              "    </tr>\n",
              "    <tr>\n",
              "      <th>36436</th>\n",
              "      <td>03/13/2016 02:00:00 AM</td>\n",
              "      <td>NaN</td>\n",
              "      <td>NaN</td>\n",
              "      <td>NaN</td>\n",
              "    </tr>\n",
              "    <tr>\n",
              "      <th>45172</th>\n",
              "      <td>03/12/2017 02:00:00 AM</td>\n",
              "      <td>NaN</td>\n",
              "      <td>NaN</td>\n",
              "      <td>NaN</td>\n",
              "    </tr>\n",
              "    <tr>\n",
              "      <th>53908</th>\n",
              "      <td>03/11/2018 02:00:00 AM</td>\n",
              "      <td>NaN</td>\n",
              "      <td>NaN</td>\n",
              "      <td>NaN</td>\n",
              "    </tr>\n",
              "    <tr>\n",
              "      <th>68103</th>\n",
              "      <td>06/14/2013 09:00:00 AM</td>\n",
              "      <td>NaN</td>\n",
              "      <td>NaN</td>\n",
              "      <td>NaN</td>\n",
              "    </tr>\n",
              "    <tr>\n",
              "      <th>68104</th>\n",
              "      <td>06/14/2013 10:00:00 AM</td>\n",
              "      <td>NaN</td>\n",
              "      <td>NaN</td>\n",
              "      <td>NaN</td>\n",
              "    </tr>\n",
              "    <tr>\n",
              "      <th>74528</th>\n",
              "      <td>03/09/2014 02:00:00 AM</td>\n",
              "      <td>NaN</td>\n",
              "      <td>NaN</td>\n",
              "      <td>NaN</td>\n",
              "    </tr>\n",
              "    <tr>\n",
              "      <th>83264</th>\n",
              "      <td>03/08/2015 02:00:00 AM</td>\n",
              "      <td>NaN</td>\n",
              "      <td>NaN</td>\n",
              "      <td>NaN</td>\n",
              "    </tr>\n",
              "    <tr>\n",
              "      <th>84329</th>\n",
              "      <td>04/21/2015 11:00:00 AM</td>\n",
              "      <td>NaN</td>\n",
              "      <td>NaN</td>\n",
              "      <td>NaN</td>\n",
              "    </tr>\n",
              "    <tr>\n",
              "      <th>84330</th>\n",
              "      <td>04/21/2015 12:00:00 PM</td>\n",
              "      <td>NaN</td>\n",
              "      <td>NaN</td>\n",
              "      <td>NaN</td>\n",
              "    </tr>\n",
              "    <tr>\n",
              "      <th>92168</th>\n",
              "      <td>03/13/2016 02:00:00 AM</td>\n",
              "      <td>NaN</td>\n",
              "      <td>NaN</td>\n",
              "      <td>NaN</td>\n",
              "    </tr>\n",
              "    <tr>\n",
              "      <th>100904</th>\n",
              "      <td>03/12/2017 02:00:00 AM</td>\n",
              "      <td>NaN</td>\n",
              "      <td>NaN</td>\n",
              "      <td>NaN</td>\n",
              "    </tr>\n",
              "    <tr>\n",
              "      <th>109640</th>\n",
              "      <td>03/11/2018 02:00:00 AM</td>\n",
              "      <td>NaN</td>\n",
              "      <td>NaN</td>\n",
              "      <td>NaN</td>\n",
              "    </tr>\n",
              "    <tr>\n",
              "      <th>118376</th>\n",
              "      <td>03/10/2019 02:00:00 AM</td>\n",
              "      <td>NaN</td>\n",
              "      <td>NaN</td>\n",
              "      <td>NaN</td>\n",
              "    </tr>\n",
              "    <tr>\n",
              "      <th>124250</th>\n",
              "      <td>03/10/2019 02:00:00 AM</td>\n",
              "      <td>NaN</td>\n",
              "      <td>NaN</td>\n",
              "      <td>NaN</td>\n",
              "    </tr>\n",
              "    <tr>\n",
              "      <th>132986</th>\n",
              "      <td>03/08/2020 02:00:00 AM</td>\n",
              "      <td>NaN</td>\n",
              "      <td>NaN</td>\n",
              "      <td>NaN</td>\n",
              "    </tr>\n",
              "    <tr>\n",
              "      <th>140272</th>\n",
              "      <td>03/14/2021 02:00:00 AM</td>\n",
              "      <td>NaN</td>\n",
              "      <td>NaN</td>\n",
              "      <td>NaN</td>\n",
              "    </tr>\n",
              "  </tbody>\n",
              "</table>\n",
              "</div>"
            ],
            "text/plain": [
              "                          Date  Fremont Bridge Total  \\\n",
              "12338   06/14/2013 09:00:00 AM                   NaN   \n",
              "12339   06/14/2013 10:00:00 AM                   NaN   \n",
              "18763   03/09/2014 02:00:00 AM                   NaN   \n",
              "27499   03/08/2015 02:00:00 AM                   NaN   \n",
              "28564   04/21/2015 11:00:00 AM                   NaN   \n",
              "28565   04/21/2015 12:00:00 PM                   NaN   \n",
              "36436   03/13/2016 02:00:00 AM                   NaN   \n",
              "45172   03/12/2017 02:00:00 AM                   NaN   \n",
              "53908   03/11/2018 02:00:00 AM                   NaN   \n",
              "68103   06/14/2013 09:00:00 AM                   NaN   \n",
              "68104   06/14/2013 10:00:00 AM                   NaN   \n",
              "74528   03/09/2014 02:00:00 AM                   NaN   \n",
              "83264   03/08/2015 02:00:00 AM                   NaN   \n",
              "84329   04/21/2015 11:00:00 AM                   NaN   \n",
              "84330   04/21/2015 12:00:00 PM                   NaN   \n",
              "92168   03/13/2016 02:00:00 AM                   NaN   \n",
              "100904  03/12/2017 02:00:00 AM                   NaN   \n",
              "109640  03/11/2018 02:00:00 AM                   NaN   \n",
              "118376  03/10/2019 02:00:00 AM                   NaN   \n",
              "124250  03/10/2019 02:00:00 AM                   NaN   \n",
              "132986  03/08/2020 02:00:00 AM                   NaN   \n",
              "140272  03/14/2021 02:00:00 AM                   NaN   \n",
              "\n",
              "        Fremont Bridge East Sidewalk  Fremont Bridge West Sidewalk  \n",
              "12338                            NaN                           NaN  \n",
              "12339                            NaN                           NaN  \n",
              "18763                            NaN                           NaN  \n",
              "27499                            NaN                           NaN  \n",
              "28564                            NaN                           NaN  \n",
              "28565                            NaN                           NaN  \n",
              "36436                            NaN                           NaN  \n",
              "45172                            NaN                           NaN  \n",
              "53908                            NaN                           NaN  \n",
              "68103                            NaN                           NaN  \n",
              "68104                            NaN                           NaN  \n",
              "74528                            NaN                           NaN  \n",
              "83264                            NaN                           NaN  \n",
              "84329                            NaN                           NaN  \n",
              "84330                            NaN                           NaN  \n",
              "92168                            NaN                           NaN  \n",
              "100904                           NaN                           NaN  \n",
              "109640                           NaN                           NaN  \n",
              "118376                           NaN                           NaN  \n",
              "124250                           NaN                           NaN  \n",
              "132986                           NaN                           NaN  \n",
              "140272                           NaN                           NaN  "
            ]
          },
          "execution_count": 112,
          "metadata": {},
          "output_type": "execute_result"
        }
      ],
      "source": [
        "df_bike[df_bike['Fremont Bridge Total'].isnull()] # 'Fremont Bridge Total' 이름을 가진 열 중에서 결측치인 값들만 모아서 반환"
      ]
    },
    {
      "cell_type": "code",
      "execution_count": 113,
      "metadata": {},
      "outputs": [
        {
          "data": {
            "text/plain": [
              "Date                             0\n",
              "Fremont Bridge Total            22\n",
              "Fremont Bridge East Sidewalk    22\n",
              "Fremont Bridge West Sidewalk    23\n",
              "dtype: int64"
            ]
          },
          "execution_count": 113,
          "metadata": {},
          "output_type": "execute_result"
        }
      ],
      "source": [
        "df_bike.isnull().sum()"
      ]
    },
    {
      "cell_type": "markdown",
      "metadata": {
        "id": "QCKW6mXE8Le_"
      },
      "source": [
        "### 1.5 컬럼명 변경\n",
        "\n",
        "- **목표**: df_bike DataFrame의 컬럼명을 다음과 같이 변경합니다:\n",
        "    - Fremont Bridge Total → Total\n",
        "    - Fremont Bridge East Sidewalk → East\n",
        "    - Fremont Bridge West Sidewalk → West"
      ]
    },
    {
      "cell_type": "code",
      "execution_count": 114,
      "metadata": {
        "id": "vEZn0EBp8NVf"
      },
      "outputs": [],
      "source": [
        "df_bike.rename(columns=\n",
        "               {'Fremont Bridge Total':'Total', \n",
        "                'Fremont Bridge East Sidewalk':'East', \n",
        "                'Fremont Bridge West Sidewalk':'West'}, inplace=True) # inplace=True : 기존 데이터프레임을 수정해줌"
      ]
    },
    {
      "cell_type": "code",
      "execution_count": 104,
      "metadata": {},
      "outputs": [],
      "source": [
        "# 혹은\n",
        "df_bike.columns = ['Date', 'Total', 'East', 'West']"
      ]
    },
    {
      "cell_type": "code",
      "execution_count": 115,
      "metadata": {},
      "outputs": [
        {
          "data": {
            "text/html": [
              "<div>\n",
              "<style scoped>\n",
              "    .dataframe tbody tr th:only-of-type {\n",
              "        vertical-align: middle;\n",
              "    }\n",
              "\n",
              "    .dataframe tbody tr th {\n",
              "        vertical-align: top;\n",
              "    }\n",
              "\n",
              "    .dataframe thead th {\n",
              "        text-align: right;\n",
              "    }\n",
              "</style>\n",
              "<table border=\"1\" class=\"dataframe\">\n",
              "  <thead>\n",
              "    <tr style=\"text-align: right;\">\n",
              "      <th></th>\n",
              "      <th>Date</th>\n",
              "      <th>Total</th>\n",
              "      <th>East</th>\n",
              "      <th>West</th>\n",
              "    </tr>\n",
              "  </thead>\n",
              "  <tbody>\n",
              "    <tr>\n",
              "      <th>0</th>\n",
              "      <td>11/01/2019 12:00:00 AM</td>\n",
              "      <td>12.0</td>\n",
              "      <td>7.0</td>\n",
              "      <td>5.0</td>\n",
              "    </tr>\n",
              "    <tr>\n",
              "      <th>1</th>\n",
              "      <td>11/01/2019 01:00:00 AM</td>\n",
              "      <td>7.0</td>\n",
              "      <td>0.0</td>\n",
              "      <td>7.0</td>\n",
              "    </tr>\n",
              "    <tr>\n",
              "      <th>2</th>\n",
              "      <td>11/01/2019 02:00:00 AM</td>\n",
              "      <td>1.0</td>\n",
              "      <td>0.0</td>\n",
              "      <td>1.0</td>\n",
              "    </tr>\n",
              "    <tr>\n",
              "      <th>3</th>\n",
              "      <td>11/01/2019 03:00:00 AM</td>\n",
              "      <td>6.0</td>\n",
              "      <td>6.0</td>\n",
              "      <td>0.0</td>\n",
              "    </tr>\n",
              "    <tr>\n",
              "      <th>4</th>\n",
              "      <td>11/01/2019 04:00:00 AM</td>\n",
              "      <td>6.0</td>\n",
              "      <td>5.0</td>\n",
              "      <td>1.0</td>\n",
              "    </tr>\n",
              "    <tr>\n",
              "      <th>...</th>\n",
              "      <td>...</td>\n",
              "      <td>...</td>\n",
              "      <td>...</td>\n",
              "      <td>...</td>\n",
              "    </tr>\n",
              "    <tr>\n",
              "      <th>147273</th>\n",
              "      <td>12/31/2021 07:00:00 PM</td>\n",
              "      <td>0.0</td>\n",
              "      <td>0.0</td>\n",
              "      <td>0.0</td>\n",
              "    </tr>\n",
              "    <tr>\n",
              "      <th>147274</th>\n",
              "      <td>12/31/2021 08:00:00 PM</td>\n",
              "      <td>0.0</td>\n",
              "      <td>0.0</td>\n",
              "      <td>0.0</td>\n",
              "    </tr>\n",
              "    <tr>\n",
              "      <th>147275</th>\n",
              "      <td>12/31/2021 09:00:00 PM</td>\n",
              "      <td>0.0</td>\n",
              "      <td>0.0</td>\n",
              "      <td>0.0</td>\n",
              "    </tr>\n",
              "    <tr>\n",
              "      <th>147276</th>\n",
              "      <td>12/31/2021 10:00:00 PM</td>\n",
              "      <td>0.0</td>\n",
              "      <td>0.0</td>\n",
              "      <td>0.0</td>\n",
              "    </tr>\n",
              "    <tr>\n",
              "      <th>147277</th>\n",
              "      <td>12/31/2021 11:00:00 PM</td>\n",
              "      <td>0.0</td>\n",
              "      <td>0.0</td>\n",
              "      <td>0.0</td>\n",
              "    </tr>\n",
              "  </tbody>\n",
              "</table>\n",
              "<p>147278 rows × 4 columns</p>\n",
              "</div>"
            ],
            "text/plain": [
              "                          Date  Total  East  West\n",
              "0       11/01/2019 12:00:00 AM   12.0   7.0   5.0\n",
              "1       11/01/2019 01:00:00 AM    7.0   0.0   7.0\n",
              "2       11/01/2019 02:00:00 AM    1.0   0.0   1.0\n",
              "3       11/01/2019 03:00:00 AM    6.0   6.0   0.0\n",
              "4       11/01/2019 04:00:00 AM    6.0   5.0   1.0\n",
              "...                        ...    ...   ...   ...\n",
              "147273  12/31/2021 07:00:00 PM    0.0   0.0   0.0\n",
              "147274  12/31/2021 08:00:00 PM    0.0   0.0   0.0\n",
              "147275  12/31/2021 09:00:00 PM    0.0   0.0   0.0\n",
              "147276  12/31/2021 10:00:00 PM    0.0   0.0   0.0\n",
              "147277  12/31/2021 11:00:00 PM    0.0   0.0   0.0\n",
              "\n",
              "[147278 rows x 4 columns]"
            ]
          },
          "execution_count": 115,
          "metadata": {},
          "output_type": "execute_result"
        }
      ],
      "source": [
        "df_bike"
      ]
    },
    {
      "cell_type": "markdown",
      "metadata": {
        "id": "96qI6DBI8Ni-"
      },
      "source": [
        "### 1.6 'Date' 컬럼 타입 변경\n",
        "\n",
        "- **목표**: Date 컬럼을 문자열(object)에서 datetime 형식으로 변환하여 df_bike['Date']에 할당합니다.\n",
        "- **힌트**:\n",
        "    - pandas의 to_datetime 함수에 df_bike['Date']를 전달하여 변환합니다.\n",
        "\n"
      ]
    },
    {
      "cell_type": "code",
      "execution_count": 116,
      "metadata": {
        "id": "ZCjxMTDl8Phn"
      },
      "outputs": [],
      "source": [
        "df_bike['Date'] = pd.to_datetime(df_bike['Date'], format=\"%m/%d/%Y %I:%M:%S %p\") \n",
        "# pd.to_datetime() : 문자열을 날짜타입(datetime64 타입)으로 변환\n",
        "# format으로 날짜/시간의 정확한 구조를 Pandas에게 알려줌 -> 이 형식에 맞춰서 데이터를 파싱(parsing)하므로 시간이 단축됨"
      ]
    },
    {
      "cell_type": "code",
      "execution_count": 117,
      "metadata": {},
      "outputs": [
        {
          "name": "stdout",
          "output_type": "stream",
          "text": [
            "<class 'pandas.core.frame.DataFrame'>\n",
            "RangeIndex: 147278 entries, 0 to 147277\n",
            "Data columns (total 4 columns):\n",
            " #   Column  Non-Null Count   Dtype         \n",
            "---  ------  --------------   -----         \n",
            " 0   Date    147278 non-null  datetime64[ns]\n",
            " 1   Total   147256 non-null  float64       \n",
            " 2   East    147256 non-null  float64       \n",
            " 3   West    147255 non-null  float64       \n",
            "dtypes: datetime64[ns](1), float64(3)\n",
            "memory usage: 4.5 MB\n"
          ]
        }
      ],
      "source": [
        "df_bike.info() # datetime64 으로 데이터 타입이 변환되었는지 확인"
      ]
    },
    {
      "cell_type": "markdown",
      "metadata": {
        "id": "5uti2lil8P4_"
      },
      "source": [
        "### 1.7 'Date' 컬럼을 인덱스로 설정\n",
        "\n",
        "- **목표**: datetime 형식으로 변환된 Date 컬럼을 df_bike의 행 인덱스로 설정합니다.\n",
        "- **힌트**:\n",
        "    - set_index 메서드에 Date 컬럼명을 전달합니다.\n",
        "\n"
      ]
    },
    {
      "cell_type": "code",
      "execution_count": 118,
      "metadata": {},
      "outputs": [],
      "source": [
        "df_bike = df_bike.sort_values(['Date']) # Date 컬럼명을 컬럼을 찾아서, 그 값을 기준으로 데이터 프레임을 정렬 (날짜순 정렬)"
      ]
    },
    {
      "cell_type": "code",
      "execution_count": 119,
      "metadata": {
        "id": "hhSGfwqY8RfX"
      },
      "outputs": [],
      "source": [
        "df_bike = df_bike.set_index('Date') # Date 컬럼명을 컬럼을 찾아서, 그 값을 df_bike의 행인덱스로 전달"
      ]
    },
    {
      "cell_type": "code",
      "execution_count": 120,
      "metadata": {},
      "outputs": [
        {
          "data": {
            "text/html": [
              "<div>\n",
              "<style scoped>\n",
              "    .dataframe tbody tr th:only-of-type {\n",
              "        vertical-align: middle;\n",
              "    }\n",
              "\n",
              "    .dataframe tbody tr th {\n",
              "        vertical-align: top;\n",
              "    }\n",
              "\n",
              "    .dataframe thead th {\n",
              "        text-align: right;\n",
              "    }\n",
              "</style>\n",
              "<table border=\"1\" class=\"dataframe\">\n",
              "  <thead>\n",
              "    <tr style=\"text-align: right;\">\n",
              "      <th></th>\n",
              "      <th>Total</th>\n",
              "      <th>East</th>\n",
              "      <th>West</th>\n",
              "    </tr>\n",
              "    <tr>\n",
              "      <th>Date</th>\n",
              "      <th></th>\n",
              "      <th></th>\n",
              "      <th></th>\n",
              "    </tr>\n",
              "  </thead>\n",
              "  <tbody>\n",
              "    <tr>\n",
              "      <th>2012-10-03 00:00:00</th>\n",
              "      <td>13.0</td>\n",
              "      <td>4.0</td>\n",
              "      <td>9.0</td>\n",
              "    </tr>\n",
              "    <tr>\n",
              "      <th>2012-10-03 00:00:00</th>\n",
              "      <td>13.0</td>\n",
              "      <td>4.0</td>\n",
              "      <td>9.0</td>\n",
              "    </tr>\n",
              "    <tr>\n",
              "      <th>2012-10-03 01:00:00</th>\n",
              "      <td>10.0</td>\n",
              "      <td>4.0</td>\n",
              "      <td>6.0</td>\n",
              "    </tr>\n",
              "    <tr>\n",
              "      <th>2012-10-03 01:00:00</th>\n",
              "      <td>10.0</td>\n",
              "      <td>4.0</td>\n",
              "      <td>6.0</td>\n",
              "    </tr>\n",
              "    <tr>\n",
              "      <th>2012-10-03 02:00:00</th>\n",
              "      <td>2.0</td>\n",
              "      <td>1.0</td>\n",
              "      <td>1.0</td>\n",
              "    </tr>\n",
              "    <tr>\n",
              "      <th>...</th>\n",
              "      <td>...</td>\n",
              "      <td>...</td>\n",
              "      <td>...</td>\n",
              "    </tr>\n",
              "    <tr>\n",
              "      <th>2021-12-31 19:00:00</th>\n",
              "      <td>0.0</td>\n",
              "      <td>0.0</td>\n",
              "      <td>0.0</td>\n",
              "    </tr>\n",
              "    <tr>\n",
              "      <th>2021-12-31 20:00:00</th>\n",
              "      <td>0.0</td>\n",
              "      <td>0.0</td>\n",
              "      <td>0.0</td>\n",
              "    </tr>\n",
              "    <tr>\n",
              "      <th>2021-12-31 21:00:00</th>\n",
              "      <td>0.0</td>\n",
              "      <td>0.0</td>\n",
              "      <td>0.0</td>\n",
              "    </tr>\n",
              "    <tr>\n",
              "      <th>2021-12-31 22:00:00</th>\n",
              "      <td>0.0</td>\n",
              "      <td>0.0</td>\n",
              "      <td>0.0</td>\n",
              "    </tr>\n",
              "    <tr>\n",
              "      <th>2021-12-31 23:00:00</th>\n",
              "      <td>0.0</td>\n",
              "      <td>0.0</td>\n",
              "      <td>0.0</td>\n",
              "    </tr>\n",
              "  </tbody>\n",
              "</table>\n",
              "<p>147278 rows × 3 columns</p>\n",
              "</div>"
            ],
            "text/plain": [
              "                     Total  East  West\n",
              "Date                                  \n",
              "2012-10-03 00:00:00   13.0   4.0   9.0\n",
              "2012-10-03 00:00:00   13.0   4.0   9.0\n",
              "2012-10-03 01:00:00   10.0   4.0   6.0\n",
              "2012-10-03 01:00:00   10.0   4.0   6.0\n",
              "2012-10-03 02:00:00    2.0   1.0   1.0\n",
              "...                    ...   ...   ...\n",
              "2021-12-31 19:00:00    0.0   0.0   0.0\n",
              "2021-12-31 20:00:00    0.0   0.0   0.0\n",
              "2021-12-31 21:00:00    0.0   0.0   0.0\n",
              "2021-12-31 22:00:00    0.0   0.0   0.0\n",
              "2021-12-31 23:00:00    0.0   0.0   0.0\n",
              "\n",
              "[147278 rows x 3 columns]"
            ]
          },
          "execution_count": 120,
          "metadata": {},
          "output_type": "execute_result"
        }
      ],
      "source": [
        "df_bike"
      ]
    },
    {
      "cell_type": "markdown",
      "metadata": {
        "id": "E2LN9HA78Rwb"
      },
      "source": [
        "### 1.8 누락값 처리\n",
        "\n",
        "- **목표**: Total, East, West 컬럼의 누락값(NaN)을 각 컬럼의 평균값으로 채웁니다.\n",
        "- **힌트**:\n",
        "    - 각 컬럼에 fillna 메서드를 사용하고, 채울 값으로 해당 컬럼의 mean 값을 전달합니다.\n"
      ]
    },
    {
      "cell_type": "code",
      "execution_count": 121,
      "metadata": {
        "id": "EFv1kadb8SVf"
      },
      "outputs": [],
      "source": [
        "total_mean = df_bike['Total'].mean()\n",
        "east_mean = df_bike['East'].mean()\n",
        "west_mean = df_bike['East'].mean()\n",
        "total_mean, east_mean, west_mean\n",
        "\n",
        "df_bike['Total'] = df_bike['Total'].fillna(total_mean)\n",
        "df_bike['East'] = df_bike['East'].fillna(east_mean)\n",
        "df_bike['West'] = df_bike['West'].fillna(west_mean)"
      ]
    },
    {
      "cell_type": "code",
      "execution_count": 122,
      "metadata": {},
      "outputs": [
        {
          "data": {
            "text/plain": [
              "Total    0\n",
              "East     0\n",
              "West     0\n",
              "dtype: int64"
            ]
          },
          "execution_count": 122,
          "metadata": {},
          "output_type": "execute_result"
        }
      ],
      "source": [
        "df_bike.isnull().sum()"
      ]
    },
    {
      "cell_type": "markdown",
      "metadata": {
        "id": "8b-JQs6B7dSD"
      },
      "source": [
        "\n",
        "\n",
        "## 2. 날짜 관련 데이터 분석 (자전거 통행량)\n",
        "\n",
        "시간 정보를 활용하여 자전거 통행량의 패턴을 분석하고 시각화합니다.\n",
        "\n"
      ]
    },
    {
      "cell_type": "markdown",
      "metadata": {
        "id": "CZ0PVFVI8iAD"
      },
      "source": [
        "### 2.1 주간 단위 총 통행량 시각화\n",
        "\n",
        "- **목표**: Total 컬럼의 일별 통행량을 주간 단위로 합산하여 선 그래프(line plot)로 시각화합니다.\n",
        "- **힌트**:\n",
        "    - Total 컬럼을 선택한 후 resample('W')로 주간 단위로 그룹화하고 sum으로 합계를 계산합니다.\n",
        "    - plot 메서드로 선 그래프를 그립니다.\n",
        "\n"
      ]
    },
    {
      "cell_type": "code",
      "execution_count": 98,
      "metadata": {
        "id": "LqvtdXno8kS_"
      },
      "outputs": [
        {
          "name": "stderr",
          "output_type": "stream",
          "text": [
            "C:\\Users\\user\\AppData\\Local\\Temp\\ipykernel_15952\\1692194487.py:3: FutureWarning: 'M' is deprecated and will be removed in a future version, please use 'ME' instead.\n",
            "  df_bike_total.resample(\"M\").sum().plot()\n",
            "C:\\Users\\user\\AppData\\Local\\Temp\\ipykernel_15952\\1692194487.py:4: FutureWarning: PeriodDtype[B] is deprecated and will be removed in a future version. Use a DatetimeIndex with freq='B' instead\n",
            "  df_bike_total.resample(\"B\").sum().plot()\n"
          ]
        },
        {
          "data": {
            "text/plain": [
              "<Axes: xlabel='Date'>"
            ]
          },
          "execution_count": 98,
          "metadata": {},
          "output_type": "execute_result"
        },
        {
          "data": {
            "image/png": "[encoded data removed]",
            "text/plain": [
              "<Figure size 640x480 with 1 Axes>"
            ]
          },
          "metadata": {},
          "output_type": "display_data"
        }
      ],
      "source": [
        "df_bike_total = df_bike.loc[:,'Total']\n",
        "df_bike_total.resample(\"W\").sum().plot()\n",
        "df_bike_total.resample(\"M\").sum().plot()\n",
        "df_bike_total.resample(\"B\").sum().plot()"
      ]
    },
    {
      "cell_type": "markdown",
      "metadata": {
        "id": "byKqxa0_8ksX"
      },
      "source": [
        "### 2.2 시간대별 평균 통행량 시각화\n",
        "\n",
        "- **목표**: 하루 24시간(0~23시)별 평균 Total 통행량을 계산하고 막대 그래프(bar plot)로 시각화합니다.\n",
        "- **힌트**:\n",
        "    - 인덱스의 시간 정보(df_bike.index.hour)를 기준으로 groupby 연산을 수행합니다.\n",
        "    - Total 컬럼의 mean 값을 계산하고 plot(kind='bar')로 막대 그래프를 그립니다.\n",
        "\n"
      ]
    },
    {
      "cell_type": "code",
      "execution_count": 123,
      "metadata": {
        "id": "tnCBQAyt8nL8"
      },
      "outputs": [
        {
          "data": {
            "text/plain": [
              "<Axes: xlabel='Date'>"
            ]
          },
          "execution_count": 123,
          "metadata": {},
          "output_type": "execute_result"
        },
        {
          "data": {
            "image/png": "[encoded data removed]",
            "text/plain": [
              "<Figure size 640x480 with 1 Axes>"
            ]
          },
          "metadata": {},
          "output_type": "display_data"
        }
      ],
      "source": [
        "df_bike_total = df_bike.groupby(df_bike.index.hour)['Total']\n",
        "df_bike_total.mean().plot()"
      ]
    },
    {
      "cell_type": "markdown",
      "metadata": {
        "id": "wYvGfBcC8neT"
      },
      "source": [
        "### 2.3 요일별 평균 통행량 시각화\n",
        "\n",
        "- **목표**: 요일별(월~일) 평균 Total 통행량을 계산하고 막대 그래프로 시각화합니다.\n",
        "- **힌트**:\n",
        "    - 인덱스의 요일 이름(df_bike.index.day_name())을 기준으로 groupby 연산을 수행합니다.\n",
        "    - Total 컬럼의 mean 값을 계산하고 plot(kind='bar')로 막대 그래프를 그립니다.\n",
        "\n"
      ]
    },
    {
      "cell_type": "code",
      "execution_count": 125,
      "metadata": {
        "id": "CNIhut7I8rWT"
      },
      "outputs": [
        {
          "data": {
            "text/plain": [
              "<Axes: xlabel='Date'>"
            ]
          },
          "execution_count": 125,
          "metadata": {},
          "output_type": "execute_result"
        },
        {
          "data": {
            "image/png": "[encoded data removed]",
            "text/plain": [
              "<Figure size 640x480 with 1 Axes>"
            ]
          },
          "metadata": {},
          "output_type": "display_data"
        }
      ],
      "source": [
        "df_bike_total = df_bike.groupby(df_bike.index.day_name())['Total']\n",
        "df_bike_total.mean().plot(kind='bar')"
      ]
    },
    {
      "cell_type": "markdown",
      "metadata": {
        "id": "F8pSRCMl8rnn"
      },
      "source": [
        "### 2.4 요일 및 시간대별 평균 통행량 (Pivot Table)\n",
        "\n",
        "- **목표**: 피벗 테이블을 사용하여 시간대(행)와 요일(열)에 따른 평균 Total 통행량 표를 생성합니다.\n",
        "- **힌트**:\n",
        "    - pivot_table 메서드에서 values='Total', index=df_bike.index.hour, columns=df_bike.index.day_name(), aggfunc='mean'을 지정합니다.\n",
        "\n"
      ]
    },
    {
      "cell_type": "code",
      "execution_count": null,
      "metadata": {
        "id": "RUejvE_j8umv"
      },
      "outputs": [],
      "source": []
    },
    {
      "cell_type": "markdown",
      "metadata": {
        "id": "CUPkgEwR8u2j"
      },
      "source": [
        "### 2.5 30일 이동 평균 통행량 시각화\n",
        "\n",
        "- **목표**: Total 통행량의 30일 이동 평균을 계산하고 선 그래프로 시각화합니다.\n",
        "- **힌트**:\n",
        "    - Total 컬럼에 rolling(window=30)을 적용하고 mean으로 평균을 계산합니다.\n",
        "    - plot 메서드로 선 그래프를 그립니다.\n",
        "\n"
      ]
    },
    {
      "cell_type": "code",
      "execution_count": null,
      "metadata": {
        "id": "wU9n980WQveN"
      },
      "outputs": [],
      "source": []
    },
    {
      "cell_type": "markdown",
      "metadata": {
        "id": "fjvahwiy80Ik"
      },
      "source": [
        "## 3. 날씨 데이터 병합 및 분석\n",
        "\n",
        "SeattleWeather.csv 파일의 날씨 데이터를 읽어와 자전거 통행량 데이터와 병합하여 날씨와 통행량의 관계를 분석합니다."
      ]
    },
    {
      "cell_type": "markdown",
      "metadata": {
        "id": "fmIQcoVV8x2z"
      },
      "source": [
        "\n",
        "### 3.1 날씨 데이터 읽기 및 기본 전처리\n",
        "\n",
        "- **목표**:\n",
        "    - SeattleWeather.csv 파일을 df_weather DataFrame으로 읽습니다. (url: https://raw.githubusercontent.com/jakevdp/bicycle-data/refs/heads/main/SeattleWeather.csv)\n",
        "    - DATE 컬럼을 datetime 형식으로 변환하고 인덱스로 설정합니다.\n",
        "    - PRCP 컬럼의 누락값을 0으로 채웁니다.\n"
      ]
    },
    {
      "cell_type": "code",
      "execution_count": 74,
      "metadata": {
        "id": "_VZBLlP886Zg"
      },
      "outputs": [
        {
          "name": "stdout",
          "output_type": "stream",
          "text": [
            "<class 'pandas.core.frame.DataFrame'>\n",
            "RangeIndex: 3653 entries, 0 to 3652\n",
            "Data columns (total 29 columns):\n",
            " #   Column   Non-Null Count  Dtype  \n",
            "---  ------   --------------  -----  \n",
            " 0   STATION  3653 non-null   object \n",
            " 1   NAME     3653 non-null   object \n",
            " 2   DATE     3653 non-null   object \n",
            " 3   AWND     3653 non-null   float64\n",
            " 4   FMTM     31 non-null     float64\n",
            " 5   PGTM     83 non-null     float64\n",
            " 6   PRCP     3650 non-null   float64\n",
            " 7   SNOW     3653 non-null   float64\n",
            " 8   SNWD     3653 non-null   float64\n",
            " 9   TAVG     3197 non-null   float64\n",
            " 10  TMAX     3653 non-null   int64  \n",
            " 11  TMIN     3653 non-null   int64  \n",
            " 12  WDF2     3653 non-null   int64  \n",
            " 13  WDF5     3615 non-null   float64\n",
            " 14  WSF2     3653 non-null   float64\n",
            " 15  WSF5     3615 non-null   float64\n",
            " 16  WT01     1630 non-null   float64\n",
            " 17  WT02     187 non-null    float64\n",
            " 18  WT03     38 non-null     float64\n",
            " 19  WT04     10 non-null     float64\n",
            " 20  WT05     4 non-null      float64\n",
            " 21  WT08     215 non-null    float64\n",
            " 22  WT09     1 non-null      float64\n",
            " 23  WT13     195 non-null    float64\n",
            " 24  WT14     53 non-null     float64\n",
            " 25  WT16     268 non-null    float64\n",
            " 26  WT17     1 non-null      float64\n",
            " 27  WT18     20 non-null     float64\n",
            " 28  WT22     9 non-null      float64\n",
            "dtypes: float64(23), int64(3), object(3)\n",
            "memory usage: 827.8+ KB\n"
          ]
        },
        {
          "data": {
            "text/plain": [
              "(       STATION                           NAME        DATE   AWND  FMTM  PGTM  \\\n",
              " 0  USW00024233  SEATTLE TACOMA AIRPORT, WA US  2012-01-01  10.51   NaN   NaN   \n",
              " 1  USW00024233  SEATTLE TACOMA AIRPORT, WA US  2012-01-02  10.07   NaN   NaN   \n",
              " 2  USW00024233  SEATTLE TACOMA AIRPORT, WA US  2012-01-03   5.14   NaN   NaN   \n",
              " 3  USW00024233  SEATTLE TACOMA AIRPORT, WA US  2012-01-04  10.51   NaN   NaN   \n",
              " 4  USW00024233  SEATTLE TACOMA AIRPORT, WA US  2012-01-05  13.65   NaN   NaN   \n",
              " \n",
              "    PRCP  SNOW  SNWD  TAVG  ...  WT04  WT05  WT08  WT09  WT13  WT14  WT16  \\\n",
              " 0  0.00   0.0   0.0   NaN  ...   NaN   NaN   NaN   NaN   NaN   1.0   NaN   \n",
              " 1  0.43   0.0   0.0   NaN  ...   NaN   NaN   NaN   NaN   1.0   NaN   1.0   \n",
              " 2  0.03   0.0   0.0   NaN  ...   NaN   NaN   NaN   NaN   NaN   NaN   1.0   \n",
              " 3  0.80   0.0   0.0   NaN  ...   NaN   NaN   NaN   NaN   1.0   NaN   1.0   \n",
              " 4  0.05   0.0   0.0   NaN  ...   NaN   NaN   NaN   NaN   NaN   NaN   1.0   \n",
              " \n",
              "    WT17  WT18  WT22  \n",
              " 0   NaN   NaN   NaN  \n",
              " 1   NaN   NaN   NaN  \n",
              " 2   NaN   NaN   NaN  \n",
              " 3   NaN   NaN   NaN  \n",
              " 4   NaN   NaN   NaN  \n",
              " \n",
              " [5 rows x 29 columns],\n",
              " None)"
            ]
          },
          "execution_count": 74,
          "metadata": {},
          "output_type": "execute_result"
        }
      ],
      "source": [
        "wether_url = 'https://raw.githubusercontent.com/jakevdp/bicycle-data/refs/heads/main/SeattleWeather.csv'\n",
        "wether_df = pd.read_csv(wether_url)\n",
        "wether_df.head(), wether_df.info()"
      ]
    },
    {
      "cell_type": "markdown",
      "metadata": {
        "id": "NzgsE2gZ864w"
      },
      "source": [
        "### 3.2 데이터프레임 병합 (Merge)\n",
        "\n",
        "- **목표**: df_bike와 df_weather를 날짜 인덱스를 기준으로 병합하여 df_merged에 저장합니다.\n",
        "- **힌트**:\n",
        "    - pd.merge 함수에 df_bike, df_weather, left_index=True, right_index=True 옵션을 전달합니다.\n",
        "\n"
      ]
    },
    {
      "cell_type": "code",
      "execution_count": null,
      "metadata": {
        "id": "Q8j14mWhQveS"
      },
      "outputs": [],
      "source": []
    },
    {
      "cell_type": "markdown",
      "metadata": {
        "id": "C9prXIZ48-xH"
      },
      "source": [
        "### 3.3 강수량과 자전거 통행량 관계 분석\n",
        "\n",
        "- **목표**:\n",
        "    - PRCP와 Total 간의 관계를 산점도(scatter plot)로 시각화합니다.\n",
        "    - 두 변수의 상관계수를 계산합니다.\n",
        "- **힌트**:\n",
        "    - df_merged.plot.scatter로 산점도를 그립니다.\n",
        "    - sns.scatterplot 로 산점도를 그립니다.\n",
        "    - df_merged['PRCP'].corr 로 상관계수를 계산합니다.\n",
        "\n"
      ]
    },
    {
      "cell_type": "code",
      "execution_count": null,
      "metadata": {
        "id": "O8IVLRXWQveT"
      },
      "outputs": [],
      "source": []
    },
    {
      "cell_type": "markdown",
      "metadata": {
        "id": "QggCf-fn9BIn"
      },
      "source": [
        "### 3.4 기온과 자전거 통행량 관계 분석\n",
        "\n",
        "- **목표**: TAVG(또는 TMAX, TMIN)와 Total 간의 관계를 산점도 또는 구간별 평균 통행량으로 분석합니다.\n",
        "- **힌트**:\n",
        "    - 산점도는 df_merged.plot.scatter(x='TAVG', y='Total')로 그립니다.\n",
        "    - 구간별 분석은 pd.cut으로 기온을 구간화하고 groupby로 평균을 계산한 후 plot으로 시각화합니다.\n"
      ]
    },
    {
      "cell_type": "code",
      "execution_count": null,
      "metadata": {
        "id": "FMiVYbLb9Cu_"
      },
      "outputs": [],
      "source": []
    },
    {
      "cell_type": "markdown",
      "metadata": {
        "id": "5WsbzMNx9DMv"
      },
      "source": [
        "\n",
        "### 3.5 날씨 조건에 따른 통행량 비교\n",
        "\n",
        "- **목표**: 비가 온 날(PRCP > 0)과 비가 오지 않은 날(PRCP = 0)의 평균 Total 통행량을 비교합니다.\n",
        "- **힌트**:\n",
        "    - 불리언 인덱싱으로 조건 (비가 온 날과 비가 오지 않은 날)을 설정합니다."
      ]
    },
    {
      "cell_type": "code",
      "execution_count": null,
      "metadata": {
        "id": "5DKgb53v9D0z"
      },
      "outputs": [],
      "source": []
    }
  ],
  "metadata": {
    "colab": {
      "provenance": []
    },
    "kernelspec": {
      "display_name": "aip",
      "language": "python",
      "name": "python3"
    },
    "language_info": {
      "codemirror_mode": {
        "name": "ipython",
        "version": 3
      },
      "file_extension": ".py",
      "mimetype": "text/x-python",
      "name": "python",
      "nbconvert_exporter": "python",
      "pygments_lexer": "ipython3",
      "version": "3.9.23"
    }
  },
  "nbformat": 4,
  "nbformat_minor": 0
}
