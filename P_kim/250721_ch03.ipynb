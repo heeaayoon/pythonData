{
 "cells": [
  {
   "cell_type": "code",
   "execution_count": 2,
   "id": "5c56bc94",
   "metadata": {},
   "outputs": [],
   "source": [
    "import pandas as pd"
   ]
  },
  {
   "cell_type": "code",
   "execution_count": 3,
   "id": "912ae50d",
   "metadata": {},
   "outputs": [
    {
     "data": {
      "text/plain": [
       "'2.3.1'"
      ]
     },
     "execution_count": 3,
     "metadata": {},
     "output_type": "execute_result"
    }
   ],
   "source": [
    "pd.__version__"
   ]
  },
  {
   "cell_type": "code",
   "execution_count": 4,
   "id": "167a5f2d",
   "metadata": {},
   "outputs": [],
   "source": [
    "df = pd.read_csv('iris.csv')"
   ]
  },
  {
   "cell_type": "code",
   "execution_count": 5,
   "id": "b4626295",
   "metadata": {},
   "outputs": [
    {
     "data": {
      "text/plain": [
       "pandas.core.frame.DataFrame"
      ]
     },
     "execution_count": 5,
     "metadata": {},
     "output_type": "execute_result"
    }
   ],
   "source": [
    "type(df)"
   ]
  },
  {
   "cell_type": "code",
   "execution_count": null,
   "id": "a2ee053e",
   "metadata": {},
   "outputs": [
    {
     "data": {
      "text/html": [
       "<div>\n",
       "<style scoped>\n",
       "    .dataframe tbody tr th:only-of-type {\n",
       "        vertical-align: middle;\n",
       "    }\n",
       "\n",
       "    .dataframe tbody tr th {\n",
       "        vertical-align: top;\n",
       "    }\n",
       "\n",
       "    .dataframe thead th {\n",
       "        text-align: right;\n",
       "    }\n",
       "</style>\n",
       "<table border=\"1\" class=\"dataframe\">\n",
       "  <thead>\n",
       "    <tr style=\"text-align: right;\">\n",
       "      <th></th>\n",
       "      <th>sepal.length</th>\n",
       "      <th>sepal.width</th>\n",
       "      <th>petal.length</th>\n",
       "      <th>petal.width</th>\n",
       "      <th>variety</th>\n",
       "    </tr>\n",
       "  </thead>\n",
       "  <tbody>\n",
       "    <tr>\n",
       "      <th>0</th>\n",
       "      <td>5.1</td>\n",
       "      <td>3.5</td>\n",
       "      <td>1.4</td>\n",
       "      <td>0.2</td>\n",
       "      <td>Setosa</td>\n",
       "    </tr>\n",
       "    <tr>\n",
       "      <th>1</th>\n",
       "      <td>4.9</td>\n",
       "      <td>3.0</td>\n",
       "      <td>1.4</td>\n",
       "      <td>0.2</td>\n",
       "      <td>Setosa</td>\n",
       "    </tr>\n",
       "    <tr>\n",
       "      <th>2</th>\n",
       "      <td>4.7</td>\n",
       "      <td>3.2</td>\n",
       "      <td>1.3</td>\n",
       "      <td>0.2</td>\n",
       "      <td>Setosa</td>\n",
       "    </tr>\n",
       "    <tr>\n",
       "      <th>3</th>\n",
       "      <td>4.6</td>\n",
       "      <td>3.1</td>\n",
       "      <td>1.5</td>\n",
       "      <td>0.2</td>\n",
       "      <td>Setosa</td>\n",
       "    </tr>\n",
       "    <tr>\n",
       "      <th>4</th>\n",
       "      <td>5.0</td>\n",
       "      <td>3.6</td>\n",
       "      <td>1.4</td>\n",
       "      <td>0.2</td>\n",
       "      <td>Setosa</td>\n",
       "    </tr>\n",
       "  </tbody>\n",
       "</table>\n",
       "</div>"
      ],
      "text/plain": [
       "   sepal.length  sepal.width  petal.length  petal.width variety\n",
       "0           5.1          3.5           1.4          0.2  Setosa\n",
       "1           4.9          3.0           1.4          0.2  Setosa\n",
       "2           4.7          3.2           1.3          0.2  Setosa\n",
       "3           4.6          3.1           1.5          0.2  Setosa\n",
       "4           5.0          3.6           1.4          0.2  Setosa"
      ]
     },
     "execution_count": 6,
     "metadata": {},
     "output_type": "execute_result"
    }
   ],
   "source": [
    "df.head()\n",
    "df.info()\n",
    "df.describe()"
   ]
  },
  {
   "cell_type": "code",
   "execution_count": 8,
   "id": "eaac4653",
   "metadata": {},
   "outputs": [
    {
     "data": {
      "text/plain": [
       "0         Setosa\n",
       "1         Setosa\n",
       "2         Setosa\n",
       "3         Setosa\n",
       "4         Setosa\n",
       "         ...    \n",
       "145    Virginica\n",
       "146    Virginica\n",
       "147    Virginica\n",
       "148    Virginica\n",
       "149    Virginica\n",
       "Name: variety, Length: 150, dtype: object"
      ]
     },
     "execution_count": 8,
     "metadata": {},
     "output_type": "execute_result"
    }
   ],
   "source": [
    "df.iloc[:,-1]"
   ]
  },
  {
   "cell_type": "code",
   "execution_count": 10,
   "id": "eff0e9cc",
   "metadata": {},
   "outputs": [
    {
     "data": {
      "text/plain": [
       "Index(['sepal.length', 'sepal.width', 'petal.length', 'petal.width',\n",
       "       'variety'],\n",
       "      dtype='object')"
      ]
     },
     "execution_count": 10,
     "metadata": {},
     "output_type": "execute_result"
    }
   ],
   "source": [
    "df.columns"
   ]
  },
  {
   "cell_type": "code",
   "execution_count": 11,
   "id": "a1065123",
   "metadata": {},
   "outputs": [
    {
     "data": {
      "text/plain": [
       "((150, 4), numpy.ndarray)"
      ]
     },
     "execution_count": 11,
     "metadata": {},
     "output_type": "execute_result"
    }
   ],
   "source": [
    "data = df.iloc[:,:-1].values\n",
    "data.shape, type(data)"
   ]
  },
  {
   "cell_type": "code",
   "execution_count": 12,
   "id": "4b67f74e",
   "metadata": {},
   "outputs": [],
   "source": [
    "import numpy as np"
   ]
  },
  {
   "cell_type": "code",
   "execution_count": 13,
   "id": "889da7be",
   "metadata": {},
   "outputs": [
    {
     "data": {
      "text/plain": [
       "RangeIndex(start=0, stop=150, step=1)"
      ]
     },
     "execution_count": 13,
     "metadata": {},
     "output_type": "execute_result"
    }
   ],
   "source": [
    "df.index"
   ]
  },
  {
   "cell_type": "code",
   "execution_count": 15,
   "id": "4f531d25",
   "metadata": {},
   "outputs": [
    {
     "data": {
      "text/html": [
       "<div>\n",
       "<style scoped>\n",
       "    .dataframe tbody tr th:only-of-type {\n",
       "        vertical-align: middle;\n",
       "    }\n",
       "\n",
       "    .dataframe tbody tr th {\n",
       "        vertical-align: top;\n",
       "    }\n",
       "\n",
       "    .dataframe thead th {\n",
       "        text-align: right;\n",
       "    }\n",
       "</style>\n",
       "<table border=\"1\" class=\"dataframe\">\n",
       "  <thead>\n",
       "    <tr style=\"text-align: right;\">\n",
       "      <th></th>\n",
       "      <th>sepal.length</th>\n",
       "      <th>sepal.width</th>\n",
       "      <th>petal.length</th>\n",
       "      <th>petal.width</th>\n",
       "      <th>variety</th>\n",
       "      <th>aaa</th>\n",
       "    </tr>\n",
       "  </thead>\n",
       "  <tbody>\n",
       "    <tr>\n",
       "      <th>0</th>\n",
       "      <td>5.1</td>\n",
       "      <td>3.5</td>\n",
       "      <td>1.4</td>\n",
       "      <td>0.2</td>\n",
       "      <td>Setosa</td>\n",
       "      <td>3.7</td>\n",
       "    </tr>\n",
       "    <tr>\n",
       "      <th>1</th>\n",
       "      <td>4.9</td>\n",
       "      <td>3.0</td>\n",
       "      <td>1.4</td>\n",
       "      <td>0.2</td>\n",
       "      <td>Setosa</td>\n",
       "      <td>3.5</td>\n",
       "    </tr>\n",
       "    <tr>\n",
       "      <th>2</th>\n",
       "      <td>4.7</td>\n",
       "      <td>3.2</td>\n",
       "      <td>1.3</td>\n",
       "      <td>0.2</td>\n",
       "      <td>Setosa</td>\n",
       "      <td>3.4</td>\n",
       "    </tr>\n",
       "    <tr>\n",
       "      <th>3</th>\n",
       "      <td>4.6</td>\n",
       "      <td>3.1</td>\n",
       "      <td>1.5</td>\n",
       "      <td>0.2</td>\n",
       "      <td>Setosa</td>\n",
       "      <td>3.1</td>\n",
       "    </tr>\n",
       "    <tr>\n",
       "      <th>4</th>\n",
       "      <td>5.0</td>\n",
       "      <td>3.6</td>\n",
       "      <td>1.4</td>\n",
       "      <td>0.2</td>\n",
       "      <td>Setosa</td>\n",
       "      <td>3.6</td>\n",
       "    </tr>\n",
       "  </tbody>\n",
       "</table>\n",
       "</div>"
      ],
      "text/plain": [
       "   sepal.length  sepal.width  petal.length  petal.width variety  aaa\n",
       "0           5.1          3.5           1.4          0.2  Setosa  3.7\n",
       "1           4.9          3.0           1.4          0.2  Setosa  3.5\n",
       "2           4.7          3.2           1.3          0.2  Setosa  3.4\n",
       "3           4.6          3.1           1.5          0.2  Setosa  3.1\n",
       "4           5.0          3.6           1.4          0.2  Setosa  3.6"
      ]
     },
     "execution_count": 15,
     "metadata": {},
     "output_type": "execute_result"
    }
   ],
   "source": [
    "# col 추가하기\n",
    "df['aaa']=df['sepal.length']-df['petal.length']\n",
    "df.head()"
   ]
  },
  {
   "cell_type": "code",
   "execution_count": 19,
   "id": "4f790850",
   "metadata": {},
   "outputs": [
    {
     "data": {
      "text/html": [
       "<div>\n",
       "<style scoped>\n",
       "    .dataframe tbody tr th:only-of-type {\n",
       "        vertical-align: middle;\n",
       "    }\n",
       "\n",
       "    .dataframe tbody tr th {\n",
       "        vertical-align: top;\n",
       "    }\n",
       "\n",
       "    .dataframe thead th {\n",
       "        text-align: right;\n",
       "    }\n",
       "</style>\n",
       "<table border=\"1\" class=\"dataframe\">\n",
       "  <thead>\n",
       "    <tr style=\"text-align: right;\">\n",
       "      <th></th>\n",
       "      <th>sepal.length</th>\n",
       "      <th>sepal.width</th>\n",
       "      <th>petal.length</th>\n",
       "      <th>petal.width</th>\n",
       "      <th>variety</th>\n",
       "      <th>aaa</th>\n",
       "    </tr>\n",
       "  </thead>\n",
       "  <tbody>\n",
       "    <tr>\n",
       "      <th>50</th>\n",
       "      <td>7.0</td>\n",
       "      <td>3.2</td>\n",
       "      <td>4.7</td>\n",
       "      <td>1.4</td>\n",
       "      <td>Versicolor</td>\n",
       "      <td>2.3</td>\n",
       "    </tr>\n",
       "    <tr>\n",
       "      <th>51</th>\n",
       "      <td>6.4</td>\n",
       "      <td>3.2</td>\n",
       "      <td>4.5</td>\n",
       "      <td>1.5</td>\n",
       "      <td>Versicolor</td>\n",
       "      <td>1.9</td>\n",
       "    </tr>\n",
       "    <tr>\n",
       "      <th>52</th>\n",
       "      <td>6.9</td>\n",
       "      <td>3.1</td>\n",
       "      <td>4.9</td>\n",
       "      <td>1.5</td>\n",
       "      <td>Versicolor</td>\n",
       "      <td>2.0</td>\n",
       "    </tr>\n",
       "    <tr>\n",
       "      <th>54</th>\n",
       "      <td>6.5</td>\n",
       "      <td>2.8</td>\n",
       "      <td>4.6</td>\n",
       "      <td>1.5</td>\n",
       "      <td>Versicolor</td>\n",
       "      <td>1.9</td>\n",
       "    </tr>\n",
       "    <tr>\n",
       "      <th>56</th>\n",
       "      <td>6.3</td>\n",
       "      <td>3.3</td>\n",
       "      <td>4.7</td>\n",
       "      <td>1.6</td>\n",
       "      <td>Versicolor</td>\n",
       "      <td>1.6</td>\n",
       "    </tr>\n",
       "    <tr>\n",
       "      <th>...</th>\n",
       "      <td>...</td>\n",
       "      <td>...</td>\n",
       "      <td>...</td>\n",
       "      <td>...</td>\n",
       "      <td>...</td>\n",
       "      <td>...</td>\n",
       "    </tr>\n",
       "    <tr>\n",
       "      <th>144</th>\n",
       "      <td>6.7</td>\n",
       "      <td>3.3</td>\n",
       "      <td>5.7</td>\n",
       "      <td>2.5</td>\n",
       "      <td>Virginica</td>\n",
       "      <td>1.0</td>\n",
       "    </tr>\n",
       "    <tr>\n",
       "      <th>145</th>\n",
       "      <td>6.7</td>\n",
       "      <td>3.0</td>\n",
       "      <td>5.2</td>\n",
       "      <td>2.3</td>\n",
       "      <td>Virginica</td>\n",
       "      <td>1.5</td>\n",
       "    </tr>\n",
       "    <tr>\n",
       "      <th>146</th>\n",
       "      <td>6.3</td>\n",
       "      <td>2.5</td>\n",
       "      <td>5.0</td>\n",
       "      <td>1.9</td>\n",
       "      <td>Virginica</td>\n",
       "      <td>1.3</td>\n",
       "    </tr>\n",
       "    <tr>\n",
       "      <th>147</th>\n",
       "      <td>6.5</td>\n",
       "      <td>3.0</td>\n",
       "      <td>5.2</td>\n",
       "      <td>2.0</td>\n",
       "      <td>Virginica</td>\n",
       "      <td>1.3</td>\n",
       "    </tr>\n",
       "    <tr>\n",
       "      <th>148</th>\n",
       "      <td>6.2</td>\n",
       "      <td>3.4</td>\n",
       "      <td>5.4</td>\n",
       "      <td>2.3</td>\n",
       "      <td>Virginica</td>\n",
       "      <td>0.8</td>\n",
       "    </tr>\n",
       "  </tbody>\n",
       "</table>\n",
       "<p>61 rows × 6 columns</p>\n",
       "</div>"
      ],
      "text/plain": [
       "     sepal.length  sepal.width  petal.length  petal.width     variety  aaa\n",
       "50            7.0          3.2           4.7          1.4  Versicolor  2.3\n",
       "51            6.4          3.2           4.5          1.5  Versicolor  1.9\n",
       "52            6.9          3.1           4.9          1.5  Versicolor  2.0\n",
       "54            6.5          2.8           4.6          1.5  Versicolor  1.9\n",
       "56            6.3          3.3           4.7          1.6  Versicolor  1.6\n",
       "..            ...          ...           ...          ...         ...  ...\n",
       "144           6.7          3.3           5.7          2.5   Virginica  1.0\n",
       "145           6.7          3.0           5.2          2.3   Virginica  1.5\n",
       "146           6.3          2.5           5.0          1.9   Virginica  1.3\n",
       "147           6.5          3.0           5.2          2.0   Virginica  1.3\n",
       "148           6.2          3.4           5.4          2.3   Virginica  0.8\n",
       "\n",
       "[61 rows x 6 columns]"
      ]
     },
     "execution_count": 19,
     "metadata": {},
     "output_type": "execute_result"
    }
   ],
   "source": [
    "mask = df['sepal.length']>6\n",
    "df[mask]"
   ]
  },
  {
   "cell_type": "code",
   "execution_count": 21,
   "id": "94967d37",
   "metadata": {},
   "outputs": [
    {
     "data": {
      "text/plain": [
       "array([1, None, 2, 3], dtype=object)"
      ]
     },
     "execution_count": 21,
     "metadata": {},
     "output_type": "execute_result"
    }
   ],
   "source": [
    "#p.135 누락된 데이터 처리하기\n",
    "vasls1 = np.array([1,None,2,3])\n",
    "vasls1"
   ]
  },
  {
   "cell_type": "code",
   "execution_count": null,
   "id": "e4f5710b",
   "metadata": {},
   "outputs": [
    {
     "ename": "TypeError",
     "evalue": "unsupported operand type(s) for +: 'int' and 'NoneType'",
     "output_type": "error",
     "traceback": [
      "\u001b[1;31m---------------------------------------------------------------------------\u001b[0m",
      "\u001b[1;31mTypeError\u001b[0m                                 Traceback (most recent call last)",
      "Cell \u001b[1;32mIn[25], line 1\u001b[0m\n\u001b[1;32m----> 1\u001b[0m \u001b[43mvasls1\u001b[49m\u001b[38;5;241;43m.\u001b[39;49m\u001b[43msum\u001b[49m\u001b[43m(\u001b[49m\u001b[43m)\u001b[49m\n",
      "File \u001b[1;32mc:\\Users\\user\\miniconda3\\envs\\aip\\lib\\site-packages\\numpy\\_core\\_methods.py:52\u001b[0m, in \u001b[0;36m_sum\u001b[1;34m(a, axis, dtype, out, keepdims, initial, where)\u001b[0m\n\u001b[0;32m     50\u001b[0m \u001b[38;5;28;01mdef\u001b[39;00m\u001b[38;5;250m \u001b[39m\u001b[38;5;21m_sum\u001b[39m(a, axis\u001b[38;5;241m=\u001b[39m\u001b[38;5;28;01mNone\u001b[39;00m, dtype\u001b[38;5;241m=\u001b[39m\u001b[38;5;28;01mNone\u001b[39;00m, out\u001b[38;5;241m=\u001b[39m\u001b[38;5;28;01mNone\u001b[39;00m, keepdims\u001b[38;5;241m=\u001b[39m\u001b[38;5;28;01mFalse\u001b[39;00m,\n\u001b[0;32m     51\u001b[0m          initial\u001b[38;5;241m=\u001b[39m_NoValue, where\u001b[38;5;241m=\u001b[39m\u001b[38;5;28;01mTrue\u001b[39;00m):\n\u001b[1;32m---> 52\u001b[0m     \u001b[38;5;28;01mreturn\u001b[39;00m \u001b[43mumr_sum\u001b[49m\u001b[43m(\u001b[49m\u001b[43ma\u001b[49m\u001b[43m,\u001b[49m\u001b[43m \u001b[49m\u001b[43maxis\u001b[49m\u001b[43m,\u001b[49m\u001b[43m \u001b[49m\u001b[43mdtype\u001b[49m\u001b[43m,\u001b[49m\u001b[43m \u001b[49m\u001b[43mout\u001b[49m\u001b[43m,\u001b[49m\u001b[43m \u001b[49m\u001b[43mkeepdims\u001b[49m\u001b[43m,\u001b[49m\u001b[43m \u001b[49m\u001b[43minitial\u001b[49m\u001b[43m,\u001b[49m\u001b[43m \u001b[49m\u001b[43mwhere\u001b[49m\u001b[43m)\u001b[49m\n",
      "\u001b[1;31mTypeError\u001b[0m: unsupported operand type(s) for +: 'int' and 'NoneType'"
     ]
    }
   ],
   "source": [
    "vasls1.sum() # 파이썬은 None을 사용한 산술 연산을 지원하지 X"
   ]
  },
  {
   "cell_type": "code",
   "execution_count": 23,
   "id": "72c345dd",
   "metadata": {},
   "outputs": [
    {
     "name": "stdout",
     "output_type": "stream",
     "text": [
      "2.4 ms ± 143 µs per loop (mean ± std. dev. of 7 runs, 100 loops each)\n"
     ]
    }
   ],
   "source": [
    "%timeit np.arange(1E6, dtype= int).sum()"
   ]
  },
  {
   "cell_type": "code",
   "execution_count": 24,
   "id": "46b98248",
   "metadata": {},
   "outputs": [
    {
     "name": "stdout",
     "output_type": "stream",
     "text": [
      "39.6 ms ± 196 µs per loop (mean ± std. dev. of 7 runs, 10 loops each)\n"
     ]
    }
   ],
   "source": [
    "%timeit np.arange(1E6, dtype= object).sum()"
   ]
  },
  {
   "cell_type": "code",
   "execution_count": 26,
   "id": "13201f98",
   "metadata": {},
   "outputs": [
    {
     "data": {
      "text/plain": [
       "dtype('float64')"
      ]
     },
     "execution_count": 26,
     "metadata": {},
     "output_type": "execute_result"
    }
   ],
   "source": [
    "vasls2 = np.array([1,np.nan,3,4])\n",
    "vasls2.dtype"
   ]
  },
  {
   "cell_type": "code",
   "execution_count": 27,
   "id": "65675b5b",
   "metadata": {},
   "outputs": [
    {
     "data": {
      "text/plain": [
       "nan"
      ]
     },
     "execution_count": 27,
     "metadata": {},
     "output_type": "execute_result"
    }
   ],
   "source": [
    "1+np.nan"
   ]
  },
  {
   "cell_type": "code",
   "execution_count": 28,
   "id": "83105910",
   "metadata": {},
   "outputs": [
    {
     "data": {
      "text/plain": [
       "nan"
      ]
     },
     "execution_count": 28,
     "metadata": {},
     "output_type": "execute_result"
    }
   ],
   "source": [
    "0*np.nan"
   ]
  },
  {
   "cell_type": "code",
   "execution_count": 29,
   "id": "2a9db6fc",
   "metadata": {},
   "outputs": [
    {
     "data": {
      "text/plain": [
       "(np.float64(nan), np.float64(nan), np.float64(nan))"
      ]
     },
     "execution_count": 29,
     "metadata": {},
     "output_type": "execute_result"
    }
   ],
   "source": [
    "vasls2.sum(), vasls2.min(),vasls2.max()"
   ]
  },
  {
   "cell_type": "code",
   "execution_count": 30,
   "id": "2863ee30",
   "metadata": {},
   "outputs": [
    {
     "data": {
      "text/plain": [
       "(np.float64(8.0), np.float64(1.0), np.float64(4.0))"
      ]
     },
     "execution_count": 30,
     "metadata": {},
     "output_type": "execute_result"
    }
   ],
   "source": [
    "# 누락된 값을 무시하는 특별한 집계 연산\n",
    "np.nansum(vasls2), np.nanmin(vasls2), np.nanmax(vasls2)"
   ]
  },
  {
   "cell_type": "code",
   "execution_count": 31,
   "id": "f61be639",
   "metadata": {},
   "outputs": [
    {
     "data": {
      "text/plain": [
       "0    1.0\n",
       "1    NaN\n",
       "2    2.0\n",
       "3    NaN\n",
       "dtype: float64"
      ]
     },
     "execution_count": 31,
     "metadata": {},
     "output_type": "execute_result"
    }
   ],
   "source": [
    "pd.Series([1,np.nan, 2,None])"
   ]
  },
  {
   "cell_type": "code",
   "execution_count": 32,
   "id": "6bc8136d",
   "metadata": {},
   "outputs": [
    {
     "data": {
      "text/plain": [
       "0    0\n",
       "1    1\n",
       "dtype: int64"
      ]
     },
     "execution_count": 32,
     "metadata": {},
     "output_type": "execute_result"
    }
   ],
   "source": [
    "x = pd.Series(range(2),dtype=int)\n",
    "x"
   ]
  },
  {
   "cell_type": "code",
   "execution_count": 33,
   "id": "7310e0a3",
   "metadata": {},
   "outputs": [
    {
     "data": {
      "text/plain": [
       "0    NaN\n",
       "1    1.0\n",
       "dtype: float64"
      ]
     },
     "execution_count": 33,
     "metadata": {},
     "output_type": "execute_result"
    }
   ],
   "source": [
    "x[0] = None\n",
    "x"
   ]
  },
  {
   "cell_type": "code",
   "execution_count": 34,
   "id": "15ddf66b",
   "metadata": {},
   "outputs": [
    {
     "data": {
      "text/html": [
       "<div>\n",
       "<style scoped>\n",
       "    .dataframe tbody tr th:only-of-type {\n",
       "        vertical-align: middle;\n",
       "    }\n",
       "\n",
       "    .dataframe tbody tr th {\n",
       "        vertical-align: top;\n",
       "    }\n",
       "\n",
       "    .dataframe thead th {\n",
       "        text-align: right;\n",
       "    }\n",
       "</style>\n",
       "<table border=\"1\" class=\"dataframe\">\n",
       "  <thead>\n",
       "    <tr style=\"text-align: right;\">\n",
       "      <th></th>\n",
       "      <th>sepal.length</th>\n",
       "      <th>sepal.width</th>\n",
       "      <th>petal.length</th>\n",
       "      <th>petal.width</th>\n",
       "      <th>variety</th>\n",
       "    </tr>\n",
       "  </thead>\n",
       "  <tbody>\n",
       "    <tr>\n",
       "      <th>0</th>\n",
       "      <td>5.1</td>\n",
       "      <td>3.5</td>\n",
       "      <td>1.4</td>\n",
       "      <td>0.2</td>\n",
       "      <td>Setosa</td>\n",
       "    </tr>\n",
       "    <tr>\n",
       "      <th>1</th>\n",
       "      <td>4.9</td>\n",
       "      <td>3.0</td>\n",
       "      <td>1.4</td>\n",
       "      <td>0.2</td>\n",
       "      <td>Setosa</td>\n",
       "    </tr>\n",
       "    <tr>\n",
       "      <th>2</th>\n",
       "      <td>4.7</td>\n",
       "      <td>3.2</td>\n",
       "      <td>NaN</td>\n",
       "      <td>0.2</td>\n",
       "      <td>Setosa</td>\n",
       "    </tr>\n",
       "    <tr>\n",
       "      <th>3</th>\n",
       "      <td>NaN</td>\n",
       "      <td>3.1</td>\n",
       "      <td>1.5</td>\n",
       "      <td>0.2</td>\n",
       "      <td>Setosa</td>\n",
       "    </tr>\n",
       "    <tr>\n",
       "      <th>4</th>\n",
       "      <td>5.0</td>\n",
       "      <td>3.6</td>\n",
       "      <td>1.4</td>\n",
       "      <td>0.2</td>\n",
       "      <td>Setosa</td>\n",
       "    </tr>\n",
       "  </tbody>\n",
       "</table>\n",
       "</div>"
      ],
      "text/plain": [
       "   sepal.length  sepal.width  petal.length  petal.width variety\n",
       "0           5.1          3.5           1.4          0.2  Setosa\n",
       "1           4.9          3.0           1.4          0.2  Setosa\n",
       "2           4.7          3.2           NaN          0.2  Setosa\n",
       "3           NaN          3.1           1.5          0.2  Setosa\n",
       "4           5.0          3.6           1.4          0.2  Setosa"
      ]
     },
     "execution_count": 34,
     "metadata": {},
     "output_type": "execute_result"
    }
   ],
   "source": [
    "df2 = pd.read_csv('iris copy.csv')\n",
    "df2.head()"
   ]
  },
  {
   "cell_type": "code",
   "execution_count": 35,
   "id": "cf0c6e4d",
   "metadata": {},
   "outputs": [
    {
     "name": "stdout",
     "output_type": "stream",
     "text": [
      "<class 'pandas.core.frame.DataFrame'>\n",
      "RangeIndex: 150 entries, 0 to 149\n",
      "Data columns (total 5 columns):\n",
      " #   Column        Non-Null Count  Dtype  \n",
      "---  ------        --------------  -----  \n",
      " 0   sepal.length  149 non-null    float64\n",
      " 1   sepal.width   150 non-null    float64\n",
      " 2   petal.length  149 non-null    float64\n",
      " 3   petal.width   150 non-null    float64\n",
      " 4   variety       150 non-null    object \n",
      "dtypes: float64(4), object(1)\n",
      "memory usage: 6.0+ KB\n"
     ]
    }
   ],
   "source": [
    "df2.info()"
   ]
  },
  {
   "cell_type": "code",
   "execution_count": 40,
   "id": "2ec478fc",
   "metadata": {},
   "outputs": [],
   "source": [
    "# p.145 계층적 인덱싱 \n",
    "import yfinance as yf\n"
   ]
  },
  {
   "cell_type": "code",
   "execution_count": 46,
   "id": "37ba8c2c",
   "metadata": {},
   "outputs": [
    {
     "name": "stderr",
     "output_type": "stream",
     "text": [
      "C:\\Users\\user\\AppData\\Local\\Temp\\ipykernel_972\\3579443017.py:1: FutureWarning: YF.download() has changed argument auto_adjust default to True\n",
      "  yf.download(['MSFT','APPL'],period = '1mo')\n",
      "[*********************100%***********************]  2 of 2 completed\n",
      "\n",
      "1 Failed download:\n",
      "['APPL']: YFPricesMissingError('possibly delisted; no price data found  (period=1mo)')\n"
     ]
    },
    {
     "data": {
      "text/html": [
       "<div>\n",
       "<style scoped>\n",
       "    .dataframe tbody tr th:only-of-type {\n",
       "        vertical-align: middle;\n",
       "    }\n",
       "\n",
       "    .dataframe tbody tr th {\n",
       "        vertical-align: top;\n",
       "    }\n",
       "\n",
       "    .dataframe thead tr th {\n",
       "        text-align: left;\n",
       "    }\n",
       "\n",
       "    .dataframe thead tr:last-of-type th {\n",
       "        text-align: right;\n",
       "    }\n",
       "</style>\n",
       "<table border=\"1\" class=\"dataframe\">\n",
       "  <thead>\n",
       "    <tr>\n",
       "      <th>Price</th>\n",
       "      <th>Adj Close</th>\n",
       "      <th colspan=\"2\" halign=\"left\">Close</th>\n",
       "      <th colspan=\"2\" halign=\"left\">High</th>\n",
       "      <th colspan=\"2\" halign=\"left\">Low</th>\n",
       "      <th colspan=\"2\" halign=\"left\">Open</th>\n",
       "      <th colspan=\"2\" halign=\"left\">Volume</th>\n",
       "    </tr>\n",
       "    <tr>\n",
       "      <th>Ticker</th>\n",
       "      <th>APPL</th>\n",
       "      <th>APPL</th>\n",
       "      <th>MSFT</th>\n",
       "      <th>APPL</th>\n",
       "      <th>MSFT</th>\n",
       "      <th>APPL</th>\n",
       "      <th>MSFT</th>\n",
       "      <th>APPL</th>\n",
       "      <th>MSFT</th>\n",
       "      <th>APPL</th>\n",
       "      <th>MSFT</th>\n",
       "    </tr>\n",
       "    <tr>\n",
       "      <th>Date</th>\n",
       "      <th></th>\n",
       "      <th></th>\n",
       "      <th></th>\n",
       "      <th></th>\n",
       "      <th></th>\n",
       "      <th></th>\n",
       "      <th></th>\n",
       "      <th></th>\n",
       "      <th></th>\n",
       "      <th></th>\n",
       "      <th></th>\n",
       "    </tr>\n",
       "  </thead>\n",
       "  <tbody>\n",
       "    <tr>\n",
       "      <th>2025-06-20</th>\n",
       "      <td>NaN</td>\n",
       "      <td>NaN</td>\n",
       "      <td>477.399994</td>\n",
       "      <td>NaN</td>\n",
       "      <td>483.459991</td>\n",
       "      <td>NaN</td>\n",
       "      <td>476.869995</td>\n",
       "      <td>NaN</td>\n",
       "      <td>482.230011</td>\n",
       "      <td>NaN</td>\n",
       "      <td>37576200</td>\n",
       "    </tr>\n",
       "    <tr>\n",
       "      <th>2025-06-23</th>\n",
       "      <td>NaN</td>\n",
       "      <td>NaN</td>\n",
       "      <td>486.000000</td>\n",
       "      <td>NaN</td>\n",
       "      <td>487.750000</td>\n",
       "      <td>NaN</td>\n",
       "      <td>472.510010</td>\n",
       "      <td>NaN</td>\n",
       "      <td>478.209991</td>\n",
       "      <td>NaN</td>\n",
       "      <td>24864000</td>\n",
       "    </tr>\n",
       "    <tr>\n",
       "      <th>2025-06-24</th>\n",
       "      <td>NaN</td>\n",
       "      <td>NaN</td>\n",
       "      <td>490.109985</td>\n",
       "      <td>NaN</td>\n",
       "      <td>491.850006</td>\n",
       "      <td>NaN</td>\n",
       "      <td>486.799988</td>\n",
       "      <td>NaN</td>\n",
       "      <td>488.950012</td>\n",
       "      <td>NaN</td>\n",
       "      <td>22305600</td>\n",
       "    </tr>\n",
       "    <tr>\n",
       "      <th>2025-06-25</th>\n",
       "      <td>NaN</td>\n",
       "      <td>NaN</td>\n",
       "      <td>492.269989</td>\n",
       "      <td>NaN</td>\n",
       "      <td>494.559998</td>\n",
       "      <td>NaN</td>\n",
       "      <td>489.390015</td>\n",
       "      <td>NaN</td>\n",
       "      <td>492.040009</td>\n",
       "      <td>NaN</td>\n",
       "      <td>17495100</td>\n",
       "    </tr>\n",
       "    <tr>\n",
       "      <th>2025-06-26</th>\n",
       "      <td>NaN</td>\n",
       "      <td>NaN</td>\n",
       "      <td>497.450012</td>\n",
       "      <td>NaN</td>\n",
       "      <td>498.040009</td>\n",
       "      <td>NaN</td>\n",
       "      <td>492.809998</td>\n",
       "      <td>NaN</td>\n",
       "      <td>492.980011</td>\n",
       "      <td>NaN</td>\n",
       "      <td>21578900</td>\n",
       "    </tr>\n",
       "    <tr>\n",
       "      <th>2025-06-27</th>\n",
       "      <td>NaN</td>\n",
       "      <td>NaN</td>\n",
       "      <td>495.940002</td>\n",
       "      <td>NaN</td>\n",
       "      <td>499.299988</td>\n",
       "      <td>NaN</td>\n",
       "      <td>493.029999</td>\n",
       "      <td>NaN</td>\n",
       "      <td>497.549988</td>\n",
       "      <td>NaN</td>\n",
       "      <td>34539200</td>\n",
       "    </tr>\n",
       "    <tr>\n",
       "      <th>2025-06-30</th>\n",
       "      <td>NaN</td>\n",
       "      <td>NaN</td>\n",
       "      <td>497.410004</td>\n",
       "      <td>NaN</td>\n",
       "      <td>500.760010</td>\n",
       "      <td>NaN</td>\n",
       "      <td>495.329987</td>\n",
       "      <td>NaN</td>\n",
       "      <td>497.040009</td>\n",
       "      <td>NaN</td>\n",
       "      <td>28369000</td>\n",
       "    </tr>\n",
       "    <tr>\n",
       "      <th>2025-07-01</th>\n",
       "      <td>NaN</td>\n",
       "      <td>NaN</td>\n",
       "      <td>492.049988</td>\n",
       "      <td>NaN</td>\n",
       "      <td>498.049988</td>\n",
       "      <td>NaN</td>\n",
       "      <td>490.980011</td>\n",
       "      <td>NaN</td>\n",
       "      <td>496.470001</td>\n",
       "      <td>NaN</td>\n",
       "      <td>19945400</td>\n",
       "    </tr>\n",
       "    <tr>\n",
       "      <th>2025-07-02</th>\n",
       "      <td>NaN</td>\n",
       "      <td>NaN</td>\n",
       "      <td>491.089996</td>\n",
       "      <td>NaN</td>\n",
       "      <td>493.500000</td>\n",
       "      <td>NaN</td>\n",
       "      <td>488.700012</td>\n",
       "      <td>NaN</td>\n",
       "      <td>489.989990</td>\n",
       "      <td>NaN</td>\n",
       "      <td>16319600</td>\n",
       "    </tr>\n",
       "    <tr>\n",
       "      <th>2025-07-03</th>\n",
       "      <td>NaN</td>\n",
       "      <td>NaN</td>\n",
       "      <td>498.839996</td>\n",
       "      <td>NaN</td>\n",
       "      <td>500.130005</td>\n",
       "      <td>NaN</td>\n",
       "      <td>493.440002</td>\n",
       "      <td>NaN</td>\n",
       "      <td>493.809998</td>\n",
       "      <td>NaN</td>\n",
       "      <td>13984800</td>\n",
       "    </tr>\n",
       "    <tr>\n",
       "      <th>2025-07-07</th>\n",
       "      <td>NaN</td>\n",
       "      <td>NaN</td>\n",
       "      <td>497.720001</td>\n",
       "      <td>NaN</td>\n",
       "      <td>498.750000</td>\n",
       "      <td>NaN</td>\n",
       "      <td>495.230011</td>\n",
       "      <td>NaN</td>\n",
       "      <td>497.380005</td>\n",
       "      <td>NaN</td>\n",
       "      <td>13981600</td>\n",
       "    </tr>\n",
       "    <tr>\n",
       "      <th>2025-07-08</th>\n",
       "      <td>NaN</td>\n",
       "      <td>NaN</td>\n",
       "      <td>496.619995</td>\n",
       "      <td>NaN</td>\n",
       "      <td>498.200012</td>\n",
       "      <td>NaN</td>\n",
       "      <td>494.109985</td>\n",
       "      <td>NaN</td>\n",
       "      <td>497.239990</td>\n",
       "      <td>NaN</td>\n",
       "      <td>11846600</td>\n",
       "    </tr>\n",
       "    <tr>\n",
       "      <th>2025-07-09</th>\n",
       "      <td>NaN</td>\n",
       "      <td>NaN</td>\n",
       "      <td>503.510010</td>\n",
       "      <td>NaN</td>\n",
       "      <td>506.779999</td>\n",
       "      <td>NaN</td>\n",
       "      <td>499.739990</td>\n",
       "      <td>NaN</td>\n",
       "      <td>500.299988</td>\n",
       "      <td>NaN</td>\n",
       "      <td>18659500</td>\n",
       "    </tr>\n",
       "    <tr>\n",
       "      <th>2025-07-10</th>\n",
       "      <td>NaN</td>\n",
       "      <td>NaN</td>\n",
       "      <td>501.480011</td>\n",
       "      <td>NaN</td>\n",
       "      <td>504.440002</td>\n",
       "      <td>NaN</td>\n",
       "      <td>497.750000</td>\n",
       "      <td>NaN</td>\n",
       "      <td>503.049988</td>\n",
       "      <td>NaN</td>\n",
       "      <td>16492100</td>\n",
       "    </tr>\n",
       "    <tr>\n",
       "      <th>2025-07-11</th>\n",
       "      <td>NaN</td>\n",
       "      <td>NaN</td>\n",
       "      <td>503.320007</td>\n",
       "      <td>NaN</td>\n",
       "      <td>505.029999</td>\n",
       "      <td>NaN</td>\n",
       "      <td>497.799988</td>\n",
       "      <td>NaN</td>\n",
       "      <td>498.470001</td>\n",
       "      <td>NaN</td>\n",
       "      <td>16459500</td>\n",
       "    </tr>\n",
       "    <tr>\n",
       "      <th>2025-07-14</th>\n",
       "      <td>NaN</td>\n",
       "      <td>NaN</td>\n",
       "      <td>503.019989</td>\n",
       "      <td>NaN</td>\n",
       "      <td>503.970001</td>\n",
       "      <td>NaN</td>\n",
       "      <td>501.029999</td>\n",
       "      <td>NaN</td>\n",
       "      <td>501.519989</td>\n",
       "      <td>NaN</td>\n",
       "      <td>12058800</td>\n",
       "    </tr>\n",
       "    <tr>\n",
       "      <th>2025-07-15</th>\n",
       "      <td>NaN</td>\n",
       "      <td>NaN</td>\n",
       "      <td>505.820007</td>\n",
       "      <td>NaN</td>\n",
       "      <td>508.299988</td>\n",
       "      <td>NaN</td>\n",
       "      <td>502.790009</td>\n",
       "      <td>NaN</td>\n",
       "      <td>503.019989</td>\n",
       "      <td>NaN</td>\n",
       "      <td>14927200</td>\n",
       "    </tr>\n",
       "    <tr>\n",
       "      <th>2025-07-16</th>\n",
       "      <td>NaN</td>\n",
       "      <td>NaN</td>\n",
       "      <td>505.619995</td>\n",
       "      <td>NaN</td>\n",
       "      <td>506.720001</td>\n",
       "      <td>NaN</td>\n",
       "      <td>501.890015</td>\n",
       "      <td>NaN</td>\n",
       "      <td>505.179993</td>\n",
       "      <td>NaN</td>\n",
       "      <td>15154400</td>\n",
       "    </tr>\n",
       "    <tr>\n",
       "      <th>2025-07-17</th>\n",
       "      <td>NaN</td>\n",
       "      <td>NaN</td>\n",
       "      <td>511.700012</td>\n",
       "      <td>NaN</td>\n",
       "      <td>513.369995</td>\n",
       "      <td>NaN</td>\n",
       "      <td>505.619995</td>\n",
       "      <td>NaN</td>\n",
       "      <td>505.679993</td>\n",
       "      <td>NaN</td>\n",
       "      <td>17503100</td>\n",
       "    </tr>\n",
       "    <tr>\n",
       "      <th>2025-07-18</th>\n",
       "      <td>NaN</td>\n",
       "      <td>NaN</td>\n",
       "      <td>510.049988</td>\n",
       "      <td>NaN</td>\n",
       "      <td>514.640015</td>\n",
       "      <td>NaN</td>\n",
       "      <td>507.429993</td>\n",
       "      <td>NaN</td>\n",
       "      <td>514.479980</td>\n",
       "      <td>NaN</td>\n",
       "      <td>21203400</td>\n",
       "    </tr>\n",
       "  </tbody>\n",
       "</table>\n",
       "</div>"
      ],
      "text/plain": [
       "Price      Adj Close Close             High              Low             Open  \\\n",
       "Ticker          APPL  APPL        MSFT APPL        MSFT APPL        MSFT APPL   \n",
       "Date                                                                            \n",
       "2025-06-20       NaN   NaN  477.399994  NaN  483.459991  NaN  476.869995  NaN   \n",
       "2025-06-23       NaN   NaN  486.000000  NaN  487.750000  NaN  472.510010  NaN   \n",
       "2025-06-24       NaN   NaN  490.109985  NaN  491.850006  NaN  486.799988  NaN   \n",
       "2025-06-25       NaN   NaN  492.269989  NaN  494.559998  NaN  489.390015  NaN   \n",
       "2025-06-26       NaN   NaN  497.450012  NaN  498.040009  NaN  492.809998  NaN   \n",
       "2025-06-27       NaN   NaN  495.940002  NaN  499.299988  NaN  493.029999  NaN   \n",
       "2025-06-30       NaN   NaN  497.410004  NaN  500.760010  NaN  495.329987  NaN   \n",
       "2025-07-01       NaN   NaN  492.049988  NaN  498.049988  NaN  490.980011  NaN   \n",
       "2025-07-02       NaN   NaN  491.089996  NaN  493.500000  NaN  488.700012  NaN   \n",
       "2025-07-03       NaN   NaN  498.839996  NaN  500.130005  NaN  493.440002  NaN   \n",
       "2025-07-07       NaN   NaN  497.720001  NaN  498.750000  NaN  495.230011  NaN   \n",
       "2025-07-08       NaN   NaN  496.619995  NaN  498.200012  NaN  494.109985  NaN   \n",
       "2025-07-09       NaN   NaN  503.510010  NaN  506.779999  NaN  499.739990  NaN   \n",
       "2025-07-10       NaN   NaN  501.480011  NaN  504.440002  NaN  497.750000  NaN   \n",
       "2025-07-11       NaN   NaN  503.320007  NaN  505.029999  NaN  497.799988  NaN   \n",
       "2025-07-14       NaN   NaN  503.019989  NaN  503.970001  NaN  501.029999  NaN   \n",
       "2025-07-15       NaN   NaN  505.820007  NaN  508.299988  NaN  502.790009  NaN   \n",
       "2025-07-16       NaN   NaN  505.619995  NaN  506.720001  NaN  501.890015  NaN   \n",
       "2025-07-17       NaN   NaN  511.700012  NaN  513.369995  NaN  505.619995  NaN   \n",
       "2025-07-18       NaN   NaN  510.049988  NaN  514.640015  NaN  507.429993  NaN   \n",
       "\n",
       "Price                  Volume            \n",
       "Ticker            MSFT   APPL      MSFT  \n",
       "Date                                     \n",
       "2025-06-20  482.230011    NaN  37576200  \n",
       "2025-06-23  478.209991    NaN  24864000  \n",
       "2025-06-24  488.950012    NaN  22305600  \n",
       "2025-06-25  492.040009    NaN  17495100  \n",
       "2025-06-26  492.980011    NaN  21578900  \n",
       "2025-06-27  497.549988    NaN  34539200  \n",
       "2025-06-30  497.040009    NaN  28369000  \n",
       "2025-07-01  496.470001    NaN  19945400  \n",
       "2025-07-02  489.989990    NaN  16319600  \n",
       "2025-07-03  493.809998    NaN  13984800  \n",
       "2025-07-07  497.380005    NaN  13981600  \n",
       "2025-07-08  497.239990    NaN  11846600  \n",
       "2025-07-09  500.299988    NaN  18659500  \n",
       "2025-07-10  503.049988    NaN  16492100  \n",
       "2025-07-11  498.470001    NaN  16459500  \n",
       "2025-07-14  501.519989    NaN  12058800  \n",
       "2025-07-15  503.019989    NaN  14927200  \n",
       "2025-07-16  505.179993    NaN  15154400  \n",
       "2025-07-17  505.679993    NaN  17503100  \n",
       "2025-07-18  514.479980    NaN  21203400  "
      ]
     },
     "execution_count": 46,
     "metadata": {},
     "output_type": "execute_result"
    }
   ],
   "source": [
    "yf.download(['MSFT','APPL'],period = '1mo')"
   ]
  },
  {
   "cell_type": "code",
   "execution_count": null,
   "id": "c4f6666b",
   "metadata": {},
   "outputs": [],
   "source": [
    "df.index.is_monotonic_increasing"
   ]
  },
  {
   "cell_type": "code",
   "execution_count": 44,
   "id": "7c757dd4",
   "metadata": {},
   "outputs": [
    {
     "data": {
      "text/html": [
       "<div>\n",
       "<style scoped>\n",
       "    .dataframe tbody tr th:only-of-type {\n",
       "        vertical-align: middle;\n",
       "    }\n",
       "\n",
       "    .dataframe tbody tr th {\n",
       "        vertical-align: top;\n",
       "    }\n",
       "\n",
       "    .dataframe thead th {\n",
       "        text-align: right;\n",
       "    }\n",
       "</style>\n",
       "<table border=\"1\" class=\"dataframe\">\n",
       "  <thead>\n",
       "    <tr style=\"text-align: right;\">\n",
       "      <th></th>\n",
       "      <th>A</th>\n",
       "      <th>B</th>\n",
       "      <th>C</th>\n",
       "    </tr>\n",
       "  </thead>\n",
       "  <tbody>\n",
       "    <tr>\n",
       "      <th>0</th>\n",
       "      <td>A0</td>\n",
       "      <td>B0</td>\n",
       "      <td>C0</td>\n",
       "    </tr>\n",
       "    <tr>\n",
       "      <th>1</th>\n",
       "      <td>A1</td>\n",
       "      <td>B1</td>\n",
       "      <td>C1</td>\n",
       "    </tr>\n",
       "    <tr>\n",
       "      <th>2</th>\n",
       "      <td>A2</td>\n",
       "      <td>B2</td>\n",
       "      <td>C2</td>\n",
       "    </tr>\n",
       "  </tbody>\n",
       "</table>\n",
       "</div>"
      ],
      "text/plain": [
       "    A   B   C\n",
       "0  A0  B0  C0\n",
       "1  A1  B1  C1\n",
       "2  A2  B2  C2"
      ]
     },
     "execution_count": 44,
     "metadata": {},
     "output_type": "execute_result"
    }
   ],
   "source": [
    "# p.161-167 데이터 세트 결합\n",
    "import pandas as pd\n",
    "import numpy as np\n",
    "\n",
    "def make_df(cols,ind):\n",
    "    data = {c:[str(c)+str(i) for i in ind]\n",
    "            for c in cols}\n",
    "    return pd.DataFrame(data, ind)\n",
    "\n",
    "make_df('ABC', range(3))"
   ]
  },
  {
   "cell_type": "code",
   "execution_count": null,
   "id": "82f465ef",
   "metadata": {},
   "outputs": [
    {
     "data": {
      "text/plain": [
       "array([1, 2, 3, 4, 5, 6, 7, 8, 9])"
      ]
     },
     "execution_count": 45,
     "metadata": {},
     "output_type": "execute_result"
    }
   ],
   "source": [
    "# numpy의 배열 연결\n",
    "x = [1,2,3]\n",
    "y = [4,5,6]\n",
    "z = [7,8,9]\n",
    "np.concatenate([x,y,z])"
   ]
  },
  {
   "cell_type": "code",
   "execution_count": 47,
   "id": "5cba1a76",
   "metadata": {},
   "outputs": [
    {
     "data": {
      "text/plain": [
       "array([[1, 2, 1, 2],\n",
       "       [3, 4, 3, 4]])"
      ]
     },
     "execution_count": 47,
     "metadata": {},
     "output_type": "execute_result"
    }
   ],
   "source": [
    "x = [[1,2],[3,4]]\n",
    "np.concatenate([x,x],axis=1)"
   ]
  },
  {
   "cell_type": "code",
   "execution_count": null,
   "id": "79b10513",
   "metadata": {},
   "outputs": [
    {
     "data": {
      "text/plain": [
       "1    A\n",
       "2    B\n",
       "3    C\n",
       "4    D\n",
       "5    E\n",
       "6    F\n",
       "dtype: object"
      ]
     },
     "execution_count": 48,
     "metadata": {},
     "output_type": "execute_result"
    }
   ],
   "source": [
    "# pd.concat을 이용한 간단한 연결\n",
    "ser1 = pd.Series(['A','B','C'],index=[1,2,3])\n",
    "ser2 = pd.Series(['D','E','F'],index=[4,5,6])\n",
    "pd.concat([ser1,ser2])"
   ]
  },
  {
   "cell_type": "code",
   "execution_count": 51,
   "id": "1c1a14e4",
   "metadata": {},
   "outputs": [
    {
     "name": "stdout",
     "output_type": "stream",
     "text": [
      "    A   B\n",
      "1  A1  B1\n",
      "2  A2  B2\n",
      "    A   B\n",
      "3  A3  B3\n",
      "4  A4  B4\n",
      "    A   B\n",
      "1  A1  B1\n",
      "2  A2  B2\n",
      "3  A3  B3\n",
      "4  A4  B4\n"
     ]
    },
    {
     "data": {
      "text/plain": [
       "(None, None, None)"
      ]
     },
     "execution_count": 51,
     "metadata": {},
     "output_type": "execute_result"
    }
   ],
   "source": [
    "df1 = make_df('AB',[1,2])\n",
    "df2 = make_df('AB',[3,4])\n",
    "print(df1), print(df2), print(pd.concat([df1,df2]))"
   ]
  },
  {
   "cell_type": "code",
   "execution_count": 52,
   "id": "47993feb",
   "metadata": {},
   "outputs": [
    {
     "name": "stdout",
     "output_type": "stream",
     "text": [
      "    A   B\n",
      "0  A0  B0\n",
      "1  A1  B1\n",
      "    C   D\n",
      "0  C0  D0\n",
      "1  C1  D1\n",
      "    A   B   C   D\n",
      "0  A0  B0  C0  D0\n",
      "1  A1  B1  C1  D1\n"
     ]
    },
    {
     "data": {
      "text/plain": [
       "(None, None, None)"
      ]
     },
     "execution_count": 52,
     "metadata": {},
     "output_type": "execute_result"
    }
   ],
   "source": [
    "df3 = make_df('AB',[0,1])\n",
    "df4 = make_df('CD',[0,1])\n",
    "print(df3), print(df4), print(pd.concat([df3,df4], axis=1))"
   ]
  },
  {
   "cell_type": "code",
   "execution_count": 53,
   "id": "470bfc20",
   "metadata": {},
   "outputs": [
    {
     "ename": "SyntaxError",
     "evalue": "invalid syntax (1466275882.py, line 2)",
     "output_type": "error",
     "traceback": [
      "\u001b[1;36m  Cell \u001b[1;32mIn[53], line 2\u001b[1;36m\u001b[0m\n\u001b[1;33m    df1 = df.loc(:,['sepal.width', 'sepal.length'])\u001b[0m\n\u001b[1;37m                 ^\u001b[0m\n\u001b[1;31mSyntaxError\u001b[0m\u001b[1;31m:\u001b[0m invalid syntax\n"
     ]
    }
   ],
   "source": [
    "df = pd.read_csv('iris.csv')\n",
    "df1 = df.loc(:,['sepal.width', 'sepal.length'])"
   ]
  },
  {
   "cell_type": "code",
   "execution_count": 60,
   "id": "b05fffb4",
   "metadata": {},
   "outputs": [
    {
     "data": {
      "text/plain": [
       "(        state abbreviation\n",
       " 0     Alabama           AL\n",
       " 1      Alaska           AK\n",
       " 2     Arizona           AZ\n",
       " 3    Arkansas           AR\n",
       " 4  California           CA,\n",
       " (51, 2))"
      ]
     },
     "execution_count": 60,
     "metadata": {},
     "output_type": "execute_result"
    }
   ],
   "source": [
    "db_state = pd.read_csv('./data/state-abbrevs.csv')\n",
    "db_state.head(), db_state.shape"
   ]
  },
  {
   "cell_type": "code",
   "execution_count": 59,
   "id": "f662eece",
   "metadata": {},
   "outputs": [
    {
     "data": {
      "text/plain": [
       "(        state  area (sq. mi)\n",
       " 0     Alabama          52423\n",
       " 1      Alaska         656425\n",
       " 2     Arizona         114006\n",
       " 3    Arkansas          53182\n",
       " 4  California         163707,\n",
       " (52, 2))"
      ]
     },
     "execution_count": 59,
     "metadata": {},
     "output_type": "execute_result"
    }
   ],
   "source": [
    "db_area = pd.read_csv('./data/state-areas.csv')\n",
    "db_area.head(), db_area.shape"
   ]
  },
  {
   "cell_type": "code",
   "execution_count": 58,
   "id": "26a81d65",
   "metadata": {},
   "outputs": [
    {
     "data": {
      "text/plain": [
       "(  state/region     ages  year  population\n",
       " 0           AL  under18  2012   1117489.0\n",
       " 1           AL    total  2012   4817528.0\n",
       " 2           AL  under18  2010   1130966.0\n",
       " 3           AL    total  2010   4785570.0\n",
       " 4           AL  under18  2011   1125763.0,\n",
       " (2544, 4))"
      ]
     },
     "execution_count": 58,
     "metadata": {},
     "output_type": "execute_result"
    }
   ],
   "source": [
    "db_pop = pd.read_csv('./data/state-population.csv')\n",
    "db_pop.head(), db_pop.shape"
   ]
  },
  {
   "cell_type": "code",
   "execution_count": 63,
   "id": "21255fd6",
   "metadata": {},
   "outputs": [
    {
     "name": "stdout",
     "output_type": "stream",
     "text": [
      "<class 'pandas.core.frame.DataFrame'>\n",
      "RangeIndex: 51 entries, 0 to 50\n",
      "Data columns (total 2 columns):\n",
      " #   Column        Non-Null Count  Dtype \n",
      "---  ------        --------------  ----- \n",
      " 0   state         51 non-null     object\n",
      " 1   abbreviation  51 non-null     object\n",
      "dtypes: object(2)\n",
      "memory usage: 944.0+ bytes\n",
      "<class 'pandas.core.frame.DataFrame'>\n",
      "RangeIndex: 52 entries, 0 to 51\n",
      "Data columns (total 2 columns):\n",
      " #   Column         Non-Null Count  Dtype \n",
      "---  ------         --------------  ----- \n",
      " 0   state          52 non-null     object\n",
      " 1   area (sq. mi)  52 non-null     int64 \n",
      "dtypes: int64(1), object(1)\n",
      "memory usage: 960.0+ bytes\n",
      "<class 'pandas.core.frame.DataFrame'>\n",
      "RangeIndex: 2544 entries, 0 to 2543\n",
      "Data columns (total 4 columns):\n",
      " #   Column        Non-Null Count  Dtype  \n",
      "---  ------        --------------  -----  \n",
      " 0   state/region  2544 non-null   object \n",
      " 1   ages          2544 non-null   object \n",
      " 2   year          2544 non-null   int64  \n",
      " 3   population    2524 non-null   float64\n",
      "dtypes: float64(1), int64(1), object(2)\n",
      "memory usage: 79.6+ KB\n"
     ]
    },
    {
     "data": {
      "text/plain": [
       "(None, None, None)"
      ]
     },
     "execution_count": 63,
     "metadata": {},
     "output_type": "execute_result"
    }
   ],
   "source": [
    "db_state.info(), db_area.info(), db_pop.info()"
   ]
  },
  {
   "cell_type": "code",
   "execution_count": null,
   "id": "3495f0ab",
   "metadata": {},
   "outputs": [],
   "source": [
    "# select s.state, s.abbreviation, a.area (sq. mi), p.population\n",
    "# from state s, area a, population p \n",
    "# where s.state = a.state \n",
    "#         and s.abbreviation = p. state/region"
   ]
  },
  {
   "cell_type": "code",
   "execution_count": null,
   "id": "d816489a",
   "metadata": {},
   "outputs": [],
   "source": [
    "# pandas에서의 join 역할 -> merge() 이용하기\n",
    "pd.merge()"
   ]
  },
  {
   "cell_type": "code",
   "execution_count": 69,
   "id": "9d6e8263",
   "metadata": {},
   "outputs": [
    {
     "data": {
      "text/html": [
       "<div>\n",
       "<style scoped>\n",
       "    .dataframe tbody tr th:only-of-type {\n",
       "        vertical-align: middle;\n",
       "    }\n",
       "\n",
       "    .dataframe tbody tr th {\n",
       "        vertical-align: top;\n",
       "    }\n",
       "\n",
       "    .dataframe thead th {\n",
       "        text-align: right;\n",
       "    }\n",
       "</style>\n",
       "<table border=\"1\" class=\"dataframe\">\n",
       "  <thead>\n",
       "    <tr style=\"text-align: right;\">\n",
       "      <th></th>\n",
       "      <th>state</th>\n",
       "      <th>abbreviation</th>\n",
       "      <th>area (sq. mi)</th>\n",
       "    </tr>\n",
       "  </thead>\n",
       "  <tbody>\n",
       "    <tr>\n",
       "      <th>0</th>\n",
       "      <td>Alabama</td>\n",
       "      <td>AL</td>\n",
       "      <td>52423</td>\n",
       "    </tr>\n",
       "    <tr>\n",
       "      <th>1</th>\n",
       "      <td>Alaska</td>\n",
       "      <td>AK</td>\n",
       "      <td>656425</td>\n",
       "    </tr>\n",
       "    <tr>\n",
       "      <th>2</th>\n",
       "      <td>Arizona</td>\n",
       "      <td>AZ</td>\n",
       "      <td>114006</td>\n",
       "    </tr>\n",
       "    <tr>\n",
       "      <th>3</th>\n",
       "      <td>Arkansas</td>\n",
       "      <td>AR</td>\n",
       "      <td>53182</td>\n",
       "    </tr>\n",
       "    <tr>\n",
       "      <th>4</th>\n",
       "      <td>California</td>\n",
       "      <td>CA</td>\n",
       "      <td>163707</td>\n",
       "    </tr>\n",
       "    <tr>\n",
       "      <th>5</th>\n",
       "      <td>Colorado</td>\n",
       "      <td>CO</td>\n",
       "      <td>104100</td>\n",
       "    </tr>\n",
       "    <tr>\n",
       "      <th>6</th>\n",
       "      <td>Connecticut</td>\n",
       "      <td>CT</td>\n",
       "      <td>5544</td>\n",
       "    </tr>\n",
       "    <tr>\n",
       "      <th>7</th>\n",
       "      <td>Delaware</td>\n",
       "      <td>DE</td>\n",
       "      <td>1954</td>\n",
       "    </tr>\n",
       "    <tr>\n",
       "      <th>8</th>\n",
       "      <td>District of Columbia</td>\n",
       "      <td>DC</td>\n",
       "      <td>68</td>\n",
       "    </tr>\n",
       "    <tr>\n",
       "      <th>9</th>\n",
       "      <td>Florida</td>\n",
       "      <td>FL</td>\n",
       "      <td>65758</td>\n",
       "    </tr>\n",
       "    <tr>\n",
       "      <th>10</th>\n",
       "      <td>Georgia</td>\n",
       "      <td>GA</td>\n",
       "      <td>59441</td>\n",
       "    </tr>\n",
       "    <tr>\n",
       "      <th>11</th>\n",
       "      <td>Hawaii</td>\n",
       "      <td>HI</td>\n",
       "      <td>10932</td>\n",
       "    </tr>\n",
       "    <tr>\n",
       "      <th>12</th>\n",
       "      <td>Idaho</td>\n",
       "      <td>ID</td>\n",
       "      <td>83574</td>\n",
       "    </tr>\n",
       "    <tr>\n",
       "      <th>13</th>\n",
       "      <td>Illinois</td>\n",
       "      <td>IL</td>\n",
       "      <td>57918</td>\n",
       "    </tr>\n",
       "    <tr>\n",
       "      <th>14</th>\n",
       "      <td>Indiana</td>\n",
       "      <td>IN</td>\n",
       "      <td>36420</td>\n",
       "    </tr>\n",
       "    <tr>\n",
       "      <th>15</th>\n",
       "      <td>Iowa</td>\n",
       "      <td>IA</td>\n",
       "      <td>56276</td>\n",
       "    </tr>\n",
       "    <tr>\n",
       "      <th>16</th>\n",
       "      <td>Kansas</td>\n",
       "      <td>KS</td>\n",
       "      <td>82282</td>\n",
       "    </tr>\n",
       "    <tr>\n",
       "      <th>17</th>\n",
       "      <td>Kentucky</td>\n",
       "      <td>KY</td>\n",
       "      <td>40411</td>\n",
       "    </tr>\n",
       "    <tr>\n",
       "      <th>18</th>\n",
       "      <td>Louisiana</td>\n",
       "      <td>LA</td>\n",
       "      <td>51843</td>\n",
       "    </tr>\n",
       "    <tr>\n",
       "      <th>19</th>\n",
       "      <td>Maine</td>\n",
       "      <td>ME</td>\n",
       "      <td>35387</td>\n",
       "    </tr>\n",
       "    <tr>\n",
       "      <th>20</th>\n",
       "      <td>Montana</td>\n",
       "      <td>MT</td>\n",
       "      <td>147046</td>\n",
       "    </tr>\n",
       "    <tr>\n",
       "      <th>21</th>\n",
       "      <td>Nebraska</td>\n",
       "      <td>NE</td>\n",
       "      <td>77358</td>\n",
       "    </tr>\n",
       "    <tr>\n",
       "      <th>22</th>\n",
       "      <td>Nevada</td>\n",
       "      <td>NV</td>\n",
       "      <td>110567</td>\n",
       "    </tr>\n",
       "    <tr>\n",
       "      <th>23</th>\n",
       "      <td>New Hampshire</td>\n",
       "      <td>NH</td>\n",
       "      <td>9351</td>\n",
       "    </tr>\n",
       "    <tr>\n",
       "      <th>24</th>\n",
       "      <td>New Jersey</td>\n",
       "      <td>NJ</td>\n",
       "      <td>8722</td>\n",
       "    </tr>\n",
       "    <tr>\n",
       "      <th>25</th>\n",
       "      <td>New Mexico</td>\n",
       "      <td>NM</td>\n",
       "      <td>121593</td>\n",
       "    </tr>\n",
       "    <tr>\n",
       "      <th>26</th>\n",
       "      <td>New York</td>\n",
       "      <td>NY</td>\n",
       "      <td>54475</td>\n",
       "    </tr>\n",
       "    <tr>\n",
       "      <th>27</th>\n",
       "      <td>North Carolina</td>\n",
       "      <td>NC</td>\n",
       "      <td>53821</td>\n",
       "    </tr>\n",
       "    <tr>\n",
       "      <th>28</th>\n",
       "      <td>North Dakota</td>\n",
       "      <td>ND</td>\n",
       "      <td>70704</td>\n",
       "    </tr>\n",
       "    <tr>\n",
       "      <th>29</th>\n",
       "      <td>Ohio</td>\n",
       "      <td>OH</td>\n",
       "      <td>44828</td>\n",
       "    </tr>\n",
       "    <tr>\n",
       "      <th>30</th>\n",
       "      <td>Oklahoma</td>\n",
       "      <td>OK</td>\n",
       "      <td>69903</td>\n",
       "    </tr>\n",
       "    <tr>\n",
       "      <th>31</th>\n",
       "      <td>Oregon</td>\n",
       "      <td>OR</td>\n",
       "      <td>98386</td>\n",
       "    </tr>\n",
       "    <tr>\n",
       "      <th>32</th>\n",
       "      <td>Maryland</td>\n",
       "      <td>MD</td>\n",
       "      <td>12407</td>\n",
       "    </tr>\n",
       "    <tr>\n",
       "      <th>33</th>\n",
       "      <td>Massachusetts</td>\n",
       "      <td>MA</td>\n",
       "      <td>10555</td>\n",
       "    </tr>\n",
       "    <tr>\n",
       "      <th>34</th>\n",
       "      <td>Michigan</td>\n",
       "      <td>MI</td>\n",
       "      <td>96810</td>\n",
       "    </tr>\n",
       "    <tr>\n",
       "      <th>35</th>\n",
       "      <td>Minnesota</td>\n",
       "      <td>MN</td>\n",
       "      <td>86943</td>\n",
       "    </tr>\n",
       "    <tr>\n",
       "      <th>36</th>\n",
       "      <td>Mississippi</td>\n",
       "      <td>MS</td>\n",
       "      <td>48434</td>\n",
       "    </tr>\n",
       "    <tr>\n",
       "      <th>37</th>\n",
       "      <td>Missouri</td>\n",
       "      <td>MO</td>\n",
       "      <td>69709</td>\n",
       "    </tr>\n",
       "    <tr>\n",
       "      <th>38</th>\n",
       "      <td>Pennsylvania</td>\n",
       "      <td>PA</td>\n",
       "      <td>46058</td>\n",
       "    </tr>\n",
       "    <tr>\n",
       "      <th>39</th>\n",
       "      <td>Rhode Island</td>\n",
       "      <td>RI</td>\n",
       "      <td>1545</td>\n",
       "    </tr>\n",
       "    <tr>\n",
       "      <th>40</th>\n",
       "      <td>South Carolina</td>\n",
       "      <td>SC</td>\n",
       "      <td>32007</td>\n",
       "    </tr>\n",
       "    <tr>\n",
       "      <th>41</th>\n",
       "      <td>South Dakota</td>\n",
       "      <td>SD</td>\n",
       "      <td>77121</td>\n",
       "    </tr>\n",
       "    <tr>\n",
       "      <th>42</th>\n",
       "      <td>Tennessee</td>\n",
       "      <td>TN</td>\n",
       "      <td>42146</td>\n",
       "    </tr>\n",
       "    <tr>\n",
       "      <th>43</th>\n",
       "      <td>Texas</td>\n",
       "      <td>TX</td>\n",
       "      <td>268601</td>\n",
       "    </tr>\n",
       "    <tr>\n",
       "      <th>44</th>\n",
       "      <td>Utah</td>\n",
       "      <td>UT</td>\n",
       "      <td>84904</td>\n",
       "    </tr>\n",
       "    <tr>\n",
       "      <th>45</th>\n",
       "      <td>Vermont</td>\n",
       "      <td>VT</td>\n",
       "      <td>9615</td>\n",
       "    </tr>\n",
       "    <tr>\n",
       "      <th>46</th>\n",
       "      <td>Virginia</td>\n",
       "      <td>VA</td>\n",
       "      <td>42769</td>\n",
       "    </tr>\n",
       "    <tr>\n",
       "      <th>47</th>\n",
       "      <td>Washington</td>\n",
       "      <td>WA</td>\n",
       "      <td>71303</td>\n",
       "    </tr>\n",
       "    <tr>\n",
       "      <th>48</th>\n",
       "      <td>West Virginia</td>\n",
       "      <td>WV</td>\n",
       "      <td>24231</td>\n",
       "    </tr>\n",
       "    <tr>\n",
       "      <th>49</th>\n",
       "      <td>Wisconsin</td>\n",
       "      <td>WI</td>\n",
       "      <td>65503</td>\n",
       "    </tr>\n",
       "    <tr>\n",
       "      <th>50</th>\n",
       "      <td>Wyoming</td>\n",
       "      <td>WY</td>\n",
       "      <td>97818</td>\n",
       "    </tr>\n",
       "  </tbody>\n",
       "</table>\n",
       "</div>"
      ],
      "text/plain": [
       "                   state abbreviation  area (sq. mi)\n",
       "0                Alabama           AL          52423\n",
       "1                 Alaska           AK         656425\n",
       "2                Arizona           AZ         114006\n",
       "3               Arkansas           AR          53182\n",
       "4             California           CA         163707\n",
       "5               Colorado           CO         104100\n",
       "6            Connecticut           CT           5544\n",
       "7               Delaware           DE           1954\n",
       "8   District of Columbia           DC             68\n",
       "9                Florida           FL          65758\n",
       "10               Georgia           GA          59441\n",
       "11                Hawaii           HI          10932\n",
       "12                 Idaho           ID          83574\n",
       "13              Illinois           IL          57918\n",
       "14               Indiana           IN          36420\n",
       "15                  Iowa           IA          56276\n",
       "16                Kansas           KS          82282\n",
       "17              Kentucky           KY          40411\n",
       "18             Louisiana           LA          51843\n",
       "19                 Maine           ME          35387\n",
       "20               Montana           MT         147046\n",
       "21              Nebraska           NE          77358\n",
       "22                Nevada           NV         110567\n",
       "23         New Hampshire           NH           9351\n",
       "24            New Jersey           NJ           8722\n",
       "25            New Mexico           NM         121593\n",
       "26              New York           NY          54475\n",
       "27        North Carolina           NC          53821\n",
       "28          North Dakota           ND          70704\n",
       "29                  Ohio           OH          44828\n",
       "30              Oklahoma           OK          69903\n",
       "31                Oregon           OR          98386\n",
       "32              Maryland           MD          12407\n",
       "33         Massachusetts           MA          10555\n",
       "34              Michigan           MI          96810\n",
       "35             Minnesota           MN          86943\n",
       "36           Mississippi           MS          48434\n",
       "37              Missouri           MO          69709\n",
       "38          Pennsylvania           PA          46058\n",
       "39          Rhode Island           RI           1545\n",
       "40        South Carolina           SC          32007\n",
       "41          South Dakota           SD          77121\n",
       "42             Tennessee           TN          42146\n",
       "43                 Texas           TX         268601\n",
       "44                  Utah           UT          84904\n",
       "45               Vermont           VT           9615\n",
       "46              Virginia           VA          42769\n",
       "47            Washington           WA          71303\n",
       "48         West Virginia           WV          24231\n",
       "49             Wisconsin           WI          65503\n",
       "50               Wyoming           WY          97818"
      ]
     },
     "execution_count": 69,
     "metadata": {},
     "output_type": "execute_result"
    }
   ],
   "source": [
    "# p.169\n",
    "m_df = pd.merge(db_state, db_area, how='inner', left_on='state', right_on='state')\n",
    "m_df"
   ]
  },
  {
   "cell_type": "code",
   "execution_count": 70,
   "id": "c94143f4",
   "metadata": {},
   "outputs": [
    {
     "data": {
      "text/html": [
       "<div>\n",
       "<style scoped>\n",
       "    .dataframe tbody tr th:only-of-type {\n",
       "        vertical-align: middle;\n",
       "    }\n",
       "\n",
       "    .dataframe tbody tr th {\n",
       "        vertical-align: top;\n",
       "    }\n",
       "\n",
       "    .dataframe thead th {\n",
       "        text-align: right;\n",
       "    }\n",
       "</style>\n",
       "<table border=\"1\" class=\"dataframe\">\n",
       "  <thead>\n",
       "    <tr style=\"text-align: right;\">\n",
       "      <th></th>\n",
       "      <th>state/region</th>\n",
       "      <th>ages</th>\n",
       "      <th>year</th>\n",
       "      <th>population</th>\n",
       "      <th>state</th>\n",
       "      <th>abbreviation</th>\n",
       "      <th>area (sq. mi)</th>\n",
       "    </tr>\n",
       "  </thead>\n",
       "  <tbody>\n",
       "    <tr>\n",
       "      <th>0</th>\n",
       "      <td>AL</td>\n",
       "      <td>under18</td>\n",
       "      <td>2012</td>\n",
       "      <td>1117489.0</td>\n",
       "      <td>Alabama</td>\n",
       "      <td>AL</td>\n",
       "      <td>52423</td>\n",
       "    </tr>\n",
       "    <tr>\n",
       "      <th>1</th>\n",
       "      <td>AL</td>\n",
       "      <td>total</td>\n",
       "      <td>2012</td>\n",
       "      <td>4817528.0</td>\n",
       "      <td>Alabama</td>\n",
       "      <td>AL</td>\n",
       "      <td>52423</td>\n",
       "    </tr>\n",
       "    <tr>\n",
       "      <th>2</th>\n",
       "      <td>AL</td>\n",
       "      <td>under18</td>\n",
       "      <td>2010</td>\n",
       "      <td>1130966.0</td>\n",
       "      <td>Alabama</td>\n",
       "      <td>AL</td>\n",
       "      <td>52423</td>\n",
       "    </tr>\n",
       "    <tr>\n",
       "      <th>3</th>\n",
       "      <td>AL</td>\n",
       "      <td>total</td>\n",
       "      <td>2010</td>\n",
       "      <td>4785570.0</td>\n",
       "      <td>Alabama</td>\n",
       "      <td>AL</td>\n",
       "      <td>52423</td>\n",
       "    </tr>\n",
       "    <tr>\n",
       "      <th>4</th>\n",
       "      <td>AL</td>\n",
       "      <td>under18</td>\n",
       "      <td>2011</td>\n",
       "      <td>1125763.0</td>\n",
       "      <td>Alabama</td>\n",
       "      <td>AL</td>\n",
       "      <td>52423</td>\n",
       "    </tr>\n",
       "    <tr>\n",
       "      <th>...</th>\n",
       "      <td>...</td>\n",
       "      <td>...</td>\n",
       "      <td>...</td>\n",
       "      <td>...</td>\n",
       "      <td>...</td>\n",
       "      <td>...</td>\n",
       "      <td>...</td>\n",
       "    </tr>\n",
       "    <tr>\n",
       "      <th>2443</th>\n",
       "      <td>WY</td>\n",
       "      <td>under18</td>\n",
       "      <td>1993</td>\n",
       "      <td>137458.0</td>\n",
       "      <td>Wyoming</td>\n",
       "      <td>WY</td>\n",
       "      <td>97818</td>\n",
       "    </tr>\n",
       "    <tr>\n",
       "      <th>2444</th>\n",
       "      <td>WY</td>\n",
       "      <td>total</td>\n",
       "      <td>1991</td>\n",
       "      <td>459260.0</td>\n",
       "      <td>Wyoming</td>\n",
       "      <td>WY</td>\n",
       "      <td>97818</td>\n",
       "    </tr>\n",
       "    <tr>\n",
       "      <th>2445</th>\n",
       "      <td>WY</td>\n",
       "      <td>under18</td>\n",
       "      <td>1991</td>\n",
       "      <td>136720.0</td>\n",
       "      <td>Wyoming</td>\n",
       "      <td>WY</td>\n",
       "      <td>97818</td>\n",
       "    </tr>\n",
       "    <tr>\n",
       "      <th>2446</th>\n",
       "      <td>WY</td>\n",
       "      <td>under18</td>\n",
       "      <td>1990</td>\n",
       "      <td>136078.0</td>\n",
       "      <td>Wyoming</td>\n",
       "      <td>WY</td>\n",
       "      <td>97818</td>\n",
       "    </tr>\n",
       "    <tr>\n",
       "      <th>2447</th>\n",
       "      <td>WY</td>\n",
       "      <td>total</td>\n",
       "      <td>1990</td>\n",
       "      <td>453690.0</td>\n",
       "      <td>Wyoming</td>\n",
       "      <td>WY</td>\n",
       "      <td>97818</td>\n",
       "    </tr>\n",
       "  </tbody>\n",
       "</table>\n",
       "<p>2448 rows × 7 columns</p>\n",
       "</div>"
      ],
      "text/plain": [
       "     state/region     ages  year  population    state abbreviation  \\\n",
       "0              AL  under18  2012   1117489.0  Alabama           AL   \n",
       "1              AL    total  2012   4817528.0  Alabama           AL   \n",
       "2              AL  under18  2010   1130966.0  Alabama           AL   \n",
       "3              AL    total  2010   4785570.0  Alabama           AL   \n",
       "4              AL  under18  2011   1125763.0  Alabama           AL   \n",
       "...           ...      ...   ...         ...      ...          ...   \n",
       "2443           WY  under18  1993    137458.0  Wyoming           WY   \n",
       "2444           WY    total  1991    459260.0  Wyoming           WY   \n",
       "2445           WY  under18  1991    136720.0  Wyoming           WY   \n",
       "2446           WY  under18  1990    136078.0  Wyoming           WY   \n",
       "2447           WY    total  1990    453690.0  Wyoming           WY   \n",
       "\n",
       "      area (sq. mi)  \n",
       "0             52423  \n",
       "1             52423  \n",
       "2             52423  \n",
       "3             52423  \n",
       "4             52423  \n",
       "...             ...  \n",
       "2443          97818  \n",
       "2444          97818  \n",
       "2445          97818  \n",
       "2446          97818  \n",
       "2447          97818  \n",
       "\n",
       "[2448 rows x 7 columns]"
      ]
     },
     "execution_count": 70,
     "metadata": {},
     "output_type": "execute_result"
    }
   ],
   "source": [
    "s_df = pd.merge( db_pop, m_df, left_on='state/region', right_on='abbreviation')\n",
    "s_df"
   ]
  },
  {
   "cell_type": "code",
   "execution_count": null,
   "id": "fd278726",
   "metadata": {},
   "outputs": [],
   "source": [
    "# select s.state, s.abbreviation, a.area (sq. mi), p.population\n",
    "# from population p left out join state s on s.abbreviation = p. state/region\n",
    "#           and state s inner join area a on s.state = a.state "
   ]
  },
  {
   "cell_type": "code",
   "execution_count": 71,
   "id": "798ba1fa",
   "metadata": {},
   "outputs": [
    {
     "data": {
      "text/html": [
       "<div>\n",
       "<style scoped>\n",
       "    .dataframe tbody tr th:only-of-type {\n",
       "        vertical-align: middle;\n",
       "    }\n",
       "\n",
       "    .dataframe tbody tr th {\n",
       "        vertical-align: top;\n",
       "    }\n",
       "\n",
       "    .dataframe thead th {\n",
       "        text-align: right;\n",
       "    }\n",
       "</style>\n",
       "<table border=\"1\" class=\"dataframe\">\n",
       "  <thead>\n",
       "    <tr style=\"text-align: right;\">\n",
       "      <th></th>\n",
       "      <th>state/region</th>\n",
       "      <th>ages</th>\n",
       "      <th>year</th>\n",
       "      <th>population</th>\n",
       "      <th>state</th>\n",
       "      <th>abbreviation</th>\n",
       "      <th>area (sq. mi)</th>\n",
       "    </tr>\n",
       "  </thead>\n",
       "  <tbody>\n",
       "    <tr>\n",
       "      <th>0</th>\n",
       "      <td>AL</td>\n",
       "      <td>under18</td>\n",
       "      <td>2012</td>\n",
       "      <td>1117489.0</td>\n",
       "      <td>Alabama</td>\n",
       "      <td>AL</td>\n",
       "      <td>52423.0</td>\n",
       "    </tr>\n",
       "    <tr>\n",
       "      <th>1</th>\n",
       "      <td>AL</td>\n",
       "      <td>total</td>\n",
       "      <td>2012</td>\n",
       "      <td>4817528.0</td>\n",
       "      <td>Alabama</td>\n",
       "      <td>AL</td>\n",
       "      <td>52423.0</td>\n",
       "    </tr>\n",
       "    <tr>\n",
       "      <th>2</th>\n",
       "      <td>AL</td>\n",
       "      <td>under18</td>\n",
       "      <td>2010</td>\n",
       "      <td>1130966.0</td>\n",
       "      <td>Alabama</td>\n",
       "      <td>AL</td>\n",
       "      <td>52423.0</td>\n",
       "    </tr>\n",
       "    <tr>\n",
       "      <th>3</th>\n",
       "      <td>AL</td>\n",
       "      <td>total</td>\n",
       "      <td>2010</td>\n",
       "      <td>4785570.0</td>\n",
       "      <td>Alabama</td>\n",
       "      <td>AL</td>\n",
       "      <td>52423.0</td>\n",
       "    </tr>\n",
       "    <tr>\n",
       "      <th>4</th>\n",
       "      <td>AL</td>\n",
       "      <td>under18</td>\n",
       "      <td>2011</td>\n",
       "      <td>1125763.0</td>\n",
       "      <td>Alabama</td>\n",
       "      <td>AL</td>\n",
       "      <td>52423.0</td>\n",
       "    </tr>\n",
       "    <tr>\n",
       "      <th>...</th>\n",
       "      <td>...</td>\n",
       "      <td>...</td>\n",
       "      <td>...</td>\n",
       "      <td>...</td>\n",
       "      <td>...</td>\n",
       "      <td>...</td>\n",
       "      <td>...</td>\n",
       "    </tr>\n",
       "    <tr>\n",
       "      <th>2539</th>\n",
       "      <td>USA</td>\n",
       "      <td>total</td>\n",
       "      <td>2010</td>\n",
       "      <td>309326295.0</td>\n",
       "      <td>NaN</td>\n",
       "      <td>NaN</td>\n",
       "      <td>NaN</td>\n",
       "    </tr>\n",
       "    <tr>\n",
       "      <th>2540</th>\n",
       "      <td>USA</td>\n",
       "      <td>under18</td>\n",
       "      <td>2011</td>\n",
       "      <td>73902222.0</td>\n",
       "      <td>NaN</td>\n",
       "      <td>NaN</td>\n",
       "      <td>NaN</td>\n",
       "    </tr>\n",
       "    <tr>\n",
       "      <th>2541</th>\n",
       "      <td>USA</td>\n",
       "      <td>total</td>\n",
       "      <td>2011</td>\n",
       "      <td>311582564.0</td>\n",
       "      <td>NaN</td>\n",
       "      <td>NaN</td>\n",
       "      <td>NaN</td>\n",
       "    </tr>\n",
       "    <tr>\n",
       "      <th>2542</th>\n",
       "      <td>USA</td>\n",
       "      <td>under18</td>\n",
       "      <td>2012</td>\n",
       "      <td>73708179.0</td>\n",
       "      <td>NaN</td>\n",
       "      <td>NaN</td>\n",
       "      <td>NaN</td>\n",
       "    </tr>\n",
       "    <tr>\n",
       "      <th>2543</th>\n",
       "      <td>USA</td>\n",
       "      <td>total</td>\n",
       "      <td>2012</td>\n",
       "      <td>313873685.0</td>\n",
       "      <td>NaN</td>\n",
       "      <td>NaN</td>\n",
       "      <td>NaN</td>\n",
       "    </tr>\n",
       "  </tbody>\n",
       "</table>\n",
       "<p>2544 rows × 7 columns</p>\n",
       "</div>"
      ],
      "text/plain": [
       "     state/region     ages  year   population    state abbreviation  \\\n",
       "0              AL  under18  2012    1117489.0  Alabama           AL   \n",
       "1              AL    total  2012    4817528.0  Alabama           AL   \n",
       "2              AL  under18  2010    1130966.0  Alabama           AL   \n",
       "3              AL    total  2010    4785570.0  Alabama           AL   \n",
       "4              AL  under18  2011    1125763.0  Alabama           AL   \n",
       "...           ...      ...   ...          ...      ...          ...   \n",
       "2539          USA    total  2010  309326295.0      NaN          NaN   \n",
       "2540          USA  under18  2011   73902222.0      NaN          NaN   \n",
       "2541          USA    total  2011  311582564.0      NaN          NaN   \n",
       "2542          USA  under18  2012   73708179.0      NaN          NaN   \n",
       "2543          USA    total  2012  313873685.0      NaN          NaN   \n",
       "\n",
       "      area (sq. mi)  \n",
       "0           52423.0  \n",
       "1           52423.0  \n",
       "2           52423.0  \n",
       "3           52423.0  \n",
       "4           52423.0  \n",
       "...             ...  \n",
       "2539            NaN  \n",
       "2540            NaN  \n",
       "2541            NaN  \n",
       "2542            NaN  \n",
       "2543            NaN  \n",
       "\n",
       "[2544 rows x 7 columns]"
      ]
     },
     "execution_count": 71,
     "metadata": {},
     "output_type": "execute_result"
    }
   ],
   "source": [
    "s_df = pd.merge( db_pop, m_df, how='left' ,left_on='state/region', right_on='abbreviation')\n",
    "s_df"
   ]
  }
 ],
 "metadata": {
  "kernelspec": {
   "display_name": "aip",
   "language": "python",
   "name": "python3"
  },
  "language_info": {
   "codemirror_mode": {
    "name": "ipython",
    "version": 3
   },
   "file_extension": ".py",
   "mimetype": "text/x-python",
   "name": "python",
   "nbconvert_exporter": "python",
   "pygments_lexer": "ipython3",
   "version": "3.9.23"
  }
 },
 "nbformat": 4,
 "nbformat_minor": 5
}
