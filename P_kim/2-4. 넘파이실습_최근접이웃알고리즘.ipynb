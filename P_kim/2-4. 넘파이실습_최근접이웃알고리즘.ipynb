{
 "cells": [
  {
   "cell_type": "markdown",
   "metadata": {},
   "source": [
    "# 과제: 100개의 임의 점 좌표에 대해 5-최근접 이웃 구하기 및 시각화 (p.100)\n",
    "\n",
    "## 과제 설명\n",
    "\n",
    "### 1. 목표: 100개의 임의의 2차원 좌표에 대해 각 점의 5-최근접 이웃을 찾아 시각화하는 프로그램을 작성.\n",
    "\n",
    "### 2. 조건:\n",
    "거리: 유클리드 거리 제곱을 사용하여 각 점 간의 거리를 계산.\n",
    "\n",
    "출력: 각 점에 대해 가장 가까운 5개의 이웃 좌표를 출력.\n",
    "\n",
    "시각화: 각 좌표와 해당 좌표에 가까운 5개의 이웃을 스캐터 플롯으로 시각화. (점마다 이웃 관계를 선으로 연결하여 표시)\n",
    "\n",
    "\n"
   ]
  },
  {
   "cell_type": "markdown",
   "metadata": {},
   "source": [
    "3. 단계별 요구 사항\n",
    "\n",
    "3.1 난수 좌표 생성: [0, 1) 범위에서 100개의 2차원 좌표를 생성."
   ]
  },
  {
   "cell_type": "code",
   "execution_count": null,
   "metadata": {},
   "outputs": [
    {
     "data": {
      "text/plain": [
       "((100,),\n",
       " (100,),\n",
       " array([0.09335266, 0.74686311, 0.36438317, 0.40299646, 0.14961152,\n",
       "        0.2425021 , 0.76113151, 0.22040647, 0.45916063, 0.02004468,\n",
       "        0.31033693, 0.71730629, 0.59751174, 0.69602983, 0.57716191,\n",
       "        0.95657379, 0.46349143, 0.85091155, 0.79137328, 0.91158851,\n",
       "        0.84442352, 0.44813379, 0.97402756, 0.67949056, 0.16538029,\n",
       "        0.50926679, 0.87954637, 0.27357044, 0.44957983, 0.40094353,\n",
       "        0.74257448, 0.65287188, 0.13269926, 0.87280923, 0.12822909,\n",
       "        0.442076  , 0.23320536, 0.01097639, 0.27783849, 0.14853114,\n",
       "        0.78691274, 0.00107476, 0.15974319, 0.8518092 , 0.26903432,\n",
       "        0.74820924, 0.41391361, 0.94881366, 0.00400599, 0.90659161,\n",
       "        0.06722332, 0.64409654, 0.91319124, 0.28220518, 0.18486425,\n",
       "        0.56766314, 0.21679932, 0.10316522, 0.69234308, 0.6341867 ,\n",
       "        0.28238409, 0.19249632, 0.57989559, 0.3032014 , 0.1763906 ,\n",
       "        0.40090382, 0.04035685, 0.37289762, 0.48621846, 0.23158875,\n",
       "        0.68363179, 0.55597724, 0.51160096, 0.00505167, 0.88009244,\n",
       "        0.11933035, 0.7341386 , 0.87122443, 0.68926601, 0.16695995,\n",
       "        0.55242757, 0.93390856, 0.39125459, 0.42380803, 0.76157932,\n",
       "        0.99726309, 0.6686754 , 0.43518316, 0.65248731, 0.42428202,\n",
       "        0.23076862, 0.5441634 , 0.36489661, 0.04495242, 0.77181602,\n",
       "        0.21725704, 0.72097193, 0.96876649, 0.05466562, 0.9621685 ]),\n",
       " array([0.86823857, 0.32360388, 0.4100154 , 0.4222615 , 0.74128897,\n",
       "        0.87548031, 0.45289847, 0.72681582, 0.17839955, 0.24502395,\n",
       "        0.0234644 , 0.86053445, 0.16250553, 0.0043522 , 0.1771825 ,\n",
       "        0.87412337, 0.02799737, 0.22570699, 0.22893945, 0.77638798,\n",
       "        0.48666362, 0.34272811, 0.79891275, 0.14884184, 0.31750403,\n",
       "        0.48006825, 0.55302121, 0.88045248, 0.24048197, 0.91452627,\n",
       "        0.990434  , 0.66111244, 0.36865656, 0.53710156, 0.90428961,\n",
       "        0.31013221, 0.98762159, 0.61144452, 0.10876789, 0.82847484,\n",
       "        0.7564931 , 0.2084881 , 0.94591138, 0.18600252, 0.26446705,\n",
       "        0.93055146, 0.43695159, 0.68174969, 0.45449369, 0.59756516,\n",
       "        0.62731038, 0.05501319, 0.8085683 , 0.52196449, 0.10747206,\n",
       "        0.09171663, 0.1719001 , 0.22448276, 0.28245924, 0.90129515,\n",
       "        0.05442568, 0.11734623, 0.75735528, 0.26801743, 0.01930627,\n",
       "        0.45899903, 0.93522984, 0.74165274, 0.8238307 , 0.00341645,\n",
       "        0.24274898, 0.13516036, 0.39058237, 0.93415863, 0.54536467,\n",
       "        0.70434405, 0.30273928, 0.07090149, 0.01673711, 0.78049635,\n",
       "        0.21298543, 0.78038265, 0.2730742 , 0.62737818, 0.96926668,\n",
       "        0.01812782, 0.22973551, 0.94200238, 0.77849093, 0.07729621,\n",
       "        0.00211787, 0.76961818, 0.51241415, 0.46442422, 0.20484482,\n",
       "        0.37103765, 0.66698334, 0.04174437, 0.37623646, 0.87811625]))"
      ]
     },
     "execution_count": 17,
     "metadata": {},
     "output_type": "execute_result"
    }
   ],
   "source": [
    "import numpy as np\n",
    "x = np.random.rand(100) # x좌표 랜덤 생성\n",
    "y = np.random.rand(100) # y좌표 랜덤 생성\n",
    "\n",
    "x.shape, y.shape, x,y"
   ]
  },
  {
   "cell_type": "code",
   "execution_count": null,
   "metadata": {},
   "outputs": [
    {
     "data": {
      "text/plain": [
       "[(np.float64(0.4339309160203201), np.float64(0.22378648714986993)),\n",
       " (np.float64(0.19418724472693194), np.float64(0.06666359891270479)),\n",
       " (np.float64(0.30884472581959077), np.float64(0.48584040385563254)),\n",
       " (np.float64(0.5031408392865564), np.float64(0.47461821769085943)),\n",
       " (np.float64(0.5168174178574524), np.float64(0.7600600328308131)),\n",
       " (np.float64(0.06029858920631148), np.float64(0.7619795461363175)),\n",
       " (np.float64(0.7680958277609946), np.float64(0.6413739335601655)),\n",
       " (np.float64(0.335047077468419), np.float64(0.49516469955488907)),\n",
       " (np.float64(0.9330486297333332), np.float64(0.03748824228741321)),\n",
       " (np.float64(0.10838307248398227), np.float64(0.8785652678372183)),\n",
       " (np.float64(0.7583099393100023), np.float64(0.657689097593208)),\n",
       " (np.float64(0.6643619635261392), np.float64(0.48984628640711236)),\n",
       " (np.float64(0.7059841292535421), np.float64(0.20288238703022232)),\n",
       " (np.float64(0.5945743357810389), np.float64(0.8360728101116958)),\n",
       " (np.float64(0.19777527073173473), np.float64(0.1248270402121281)),\n",
       " (np.float64(0.7024645969488464), np.float64(0.4761781318545064)),\n",
       " (np.float64(0.16378803866670666), np.float64(0.756223308846134)),\n",
       " (np.float64(0.010605683118450449), np.float64(0.9201922710977601)),\n",
       " (np.float64(0.28664090212704607), np.float64(0.8940294260098545)),\n",
       " (np.float64(0.19875846467323088), np.float64(0.5515003977045377)),\n",
       " (np.float64(0.29550588759615504), np.float64(0.34638040184391894)),\n",
       " (np.float64(0.6701615715394039), np.float64(0.14752166614996098)),\n",
       " (np.float64(0.2934178685282146), np.float64(0.3764477696801404)),\n",
       " (np.float64(0.29788528516438106), np.float64(0.90631788797187)),\n",
       " (np.float64(0.05578313138632607), np.float64(0.49501828234244905)),\n",
       " (np.float64(0.05513156616972115), np.float64(0.5763090289696717)),\n",
       " (np.float64(0.44925188966363017), np.float64(0.8856243541128765)),\n",
       " (np.float64(0.9576991854738306), np.float64(0.3788562135701574)),\n",
       " (np.float64(0.5582941412322212), np.float64(0.4624739258940337)),\n",
       " (np.float64(0.3077252141741741), np.float64(0.2824582457752973)),\n",
       " (np.float64(0.3143564613920854), np.float64(0.9200472316666486)),\n",
       " (np.float64(0.1626809948473773), np.float64(0.7797648111430084)),\n",
       " (np.float64(0.46676630133089736), np.float64(0.325954353219053)),\n",
       " (np.float64(0.3011848692446504), np.float64(0.3387896957597525)),\n",
       " (np.float64(0.2957892907435543), np.float64(0.7094160650111166)),\n",
       " (np.float64(0.4511932241515828), np.float64(0.8513683879659826)),\n",
       " (np.float64(0.41475979725030265), np.float64(0.39374073250480046)),\n",
       " (np.float64(0.1446413676667997), np.float64(0.9905800086095033)),\n",
       " (np.float64(0.6870843124105616), np.float64(0.03420045420640894)),\n",
       " (np.float64(0.3157050515678216), np.float64(0.4213626349211149)),\n",
       " (np.float64(0.9367804660021584), np.float64(0.042549323889621515)),\n",
       " (np.float64(0.5025802086771616), np.float64(0.12469770829547477)),\n",
       " (np.float64(0.7647591291280172), np.float64(0.6075054468185219)),\n",
       " (np.float64(0.37832491103540256), np.float64(0.5758849248605906)),\n",
       " (np.float64(0.28654718689065517), np.float64(0.34302505917763326)),\n",
       " (np.float64(0.44757805275727647), np.float64(0.7556537378155014)),\n",
       " (np.float64(0.23734792224598478), np.float64(0.04404035300997189)),\n",
       " (np.float64(0.5228867913279219), np.float64(0.9828199001719896)),\n",
       " (np.float64(0.5381272941639533), np.float64(0.7035843367642322)),\n",
       " (np.float64(0.044407093007678644), np.float64(0.044157129359907565)),\n",
       " (np.float64(0.2269148888272141), np.float64(0.7466148320117258)),\n",
       " (np.float64(0.8236007564352866), np.float64(0.1297774928460117)),\n",
       " (np.float64(0.15096017755799374), np.float64(0.24517378041634608)),\n",
       " (np.float64(0.4894605102313869), np.float64(0.7768172130535099)),\n",
       " (np.float64(0.32346552892724767), np.float64(0.7414397058152812)),\n",
       " (np.float64(0.3211939329266492), np.float64(0.6933379123505116)),\n",
       " (np.float64(0.8684528378086867), np.float64(0.49321176023837265)),\n",
       " (np.float64(0.13655484601134626), np.float64(0.5392337279793009)),\n",
       " (np.float64(0.8288692845897935), np.float64(0.7113423743500256)),\n",
       " (np.float64(0.5044901840023877), np.float64(0.4988584931887562)),\n",
       " (np.float64(0.8197057748395712), np.float64(0.8051125467941989)),\n",
       " (np.float64(0.20914378391845279), np.float64(0.12969969581568652)),\n",
       " (np.float64(0.5773220203021541), np.float64(0.9421763817876854)),\n",
       " (np.float64(0.20122351387978887), np.float64(0.8548815918254962)),\n",
       " (np.float64(0.7445113381502745), np.float64(0.5399318730228514)),\n",
       " (np.float64(0.9091058714939185), np.float64(0.0832782269705814)),\n",
       " (np.float64(0.20379129853396838), np.float64(0.34139971601087116)),\n",
       " (np.float64(0.18878639476678294), np.float64(0.5526318660372562)),\n",
       " (np.float64(0.7339203079327883), np.float64(0.7730037145822314)),\n",
       " (np.float64(0.9675657354487367), np.float64(0.9632649341742201)),\n",
       " (np.float64(0.18505950213590416), np.float64(0.6870795856368782)),\n",
       " (np.float64(0.705200768923404), np.float64(0.5061314726519777)),\n",
       " (np.float64(0.7389377277851417), np.float64(0.8020981612027192)),\n",
       " (np.float64(0.706981655718771), np.float64(0.8186862307944707)),\n",
       " (np.float64(0.36448182166888177), np.float64(0.4281482901432302)),\n",
       " (np.float64(0.9369798222165892), np.float64(0.9026978022945565)),\n",
       " (np.float64(0.22944320043806488), np.float64(0.18577732497140265)),\n",
       " (np.float64(0.6085709963730981), np.float64(0.414706531189861)),\n",
       " (np.float64(0.2822399556434545), np.float64(0.7603398497523844)),\n",
       " (np.float64(0.294596795069059), np.float64(0.7429240872303171)),\n",
       " (np.float64(0.43862145407004927), np.float64(0.5939693690967967)),\n",
       " (np.float64(0.8325046128232192), np.float64(0.820415976653798)),\n",
       " (np.float64(0.9138863642475219), np.float64(0.23085983132002053)),\n",
       " (np.float64(0.5583850650490382), np.float64(0.9057534771559943)),\n",
       " (np.float64(0.7021045272628264), np.float64(0.26770604168290846)),\n",
       " (np.float64(0.7650266652290777), np.float64(0.9815150786938819)),\n",
       " (np.float64(0.26175903162776903), np.float64(0.24034243688604107)),\n",
       " (np.float64(0.5475485804428277), np.float64(0.4730579794519889)),\n",
       " (np.float64(0.9097633228696124), np.float64(0.5919818629418094)),\n",
       " (np.float64(0.7896173937381138), np.float64(0.9486454673560645)),\n",
       " (np.float64(0.763642619171245), np.float64(0.9845639842949983)),\n",
       " (np.float64(0.1985949622629305), np.float64(0.739237718566174)),\n",
       " (np.float64(0.37511910824226324), np.float64(0.7488742898085734)),\n",
       " (np.float64(0.1785741219219763), np.float64(0.49047808905902923)),\n",
       " (np.float64(0.8865028193320567), np.float64(0.46260603529771405)),\n",
       " (np.float64(0.7905475165380805), np.float64(0.33210382577314645)),\n",
       " (np.float64(0.800601569525528), np.float64(0.49510999113645693)),\n",
       " (np.float64(0.6506409785722889), np.float64(0.854913193423069)),\n",
       " (np.float64(0.4290111874128967), np.float64(0.5800228463991388)),\n",
       " (np.float64(0.4807241007652835), np.float64(0.44126452264495075))]"
      ]
     },
     "execution_count": 3,
     "metadata": {},
     "output_type": "execute_result"
    }
   ],
   "source": [
    "#NumPy를 쓰지 않음\n",
    "points = list(zip(x, y))\n",
    "points"
   ]
  },
  {
   "cell_type": "code",
   "execution_count": 4,
   "metadata": {},
   "outputs": [
    {
     "data": {
      "text/plain": [
       "(100, 2)"
      ]
     },
     "execution_count": 4,
     "metadata": {},
     "output_type": "execute_result"
    }
   ],
   "source": [
    "points = np.concatenate([x[:,None], y[:, None]], axis=1)\n",
    "points.shape"
   ]
  },
  {
   "cell_type": "code",
   "execution_count": 5,
   "metadata": {},
   "outputs": [
    {
     "data": {
      "text/plain": [
       "(100, 2)"
      ]
     },
     "execution_count": 5,
     "metadata": {},
     "output_type": "execute_result"
    }
   ],
   "source": [
    "import numpy as np\n",
    "\n",
    "np.random.rand(100, 2).shape"
   ]
  },
  {
   "cell_type": "code",
   "execution_count": 6,
   "metadata": {},
   "outputs": [
    {
     "data": {
      "text/plain": [
       "((3,), array([1, 2, 3]))"
      ]
     },
     "execution_count": 6,
     "metadata": {},
     "output_type": "execute_result"
    }
   ],
   "source": [
    "A = np.arange(1, 4)\n",
    "A.shape, A"
   ]
  },
  {
   "cell_type": "code",
   "execution_count": 7,
   "metadata": {},
   "outputs": [
    {
     "data": {
      "text/plain": [
       "((3, 1),\n",
       " array([[1],\n",
       "        [2],\n",
       "        [3]]))"
      ]
     },
     "execution_count": 7,
     "metadata": {},
     "output_type": "execute_result"
    }
   ],
   "source": [
    "B = np.arange(1, 4)[:, None]\n",
    "B.shape, B"
   ]
  },
  {
   "cell_type": "code",
   "execution_count": 8,
   "metadata": {},
   "outputs": [
    {
     "data": {
      "text/plain": [
       "array([[ 0,  1,  2],\n",
       "       [-1,  0,  1],\n",
       "       [-2, -1,  0]])"
      ]
     },
     "execution_count": 8,
     "metadata": {},
     "output_type": "execute_result"
    }
   ],
   "source": [
    "# A = (1, 3)\n",
    "# B = (3, 1)\n",
    "\n",
    "A - B"
   ]
  },
  {
   "cell_type": "code",
   "execution_count": 9,
   "metadata": {},
   "outputs": [
    {
     "data": {
      "text/plain": [
       "(100,)"
      ]
     },
     "execution_count": 9,
     "metadata": {},
     "output_type": "execute_result"
    }
   ],
   "source": [
    "x = np.random.rand(100)\n",
    "x.shape"
   ]
  },
  {
   "cell_type": "code",
   "execution_count": 10,
   "metadata": {},
   "outputs": [
    {
     "data": {
      "text/plain": [
       "(100, 1)"
      ]
     },
     "execution_count": 10,
     "metadata": {},
     "output_type": "execute_result"
    }
   ],
   "source": [
    "y = np.random.rand(100).reshape(100, 1)\n",
    "y.shape"
   ]
  },
  {
   "cell_type": "code",
   "execution_count": 11,
   "metadata": {},
   "outputs": [],
   "source": [
    "def f(x, y):\n",
    "    return np.sqrt((x - y)**2)"
   ]
  },
  {
   "cell_type": "code",
   "execution_count": 12,
   "metadata": {},
   "outputs": [
    {
     "data": {
      "text/plain": [
       "array([[1, 2, 3],\n",
       "       [1, 2, 3],\n",
       "       [1, 2, 3]])"
      ]
     },
     "execution_count": 12,
     "metadata": {},
     "output_type": "execute_result"
    }
   ],
   "source": [
    "np.broadcast_to(A, (3, 3))"
   ]
  },
  {
   "cell_type": "code",
   "execution_count": 13,
   "metadata": {},
   "outputs": [
    {
     "data": {
      "text/plain": [
       "array([[1, 1, 1],\n",
       "       [2, 2, 2],\n",
       "       [3, 3, 3]])"
      ]
     },
     "execution_count": 13,
     "metadata": {},
     "output_type": "execute_result"
    }
   ],
   "source": [
    "np.broadcast_to(B, (3, 3))"
   ]
  },
  {
   "cell_type": "code",
   "execution_count": 14,
   "metadata": {},
   "outputs": [],
   "source": [
    "points = np.random.rand(10, 2)"
   ]
  },
  {
   "cell_type": "code",
   "execution_count": 15,
   "metadata": {},
   "outputs": [
    {
     "data": {
      "text/plain": [
       "<matplotlib.collections.PathCollection at 0x23db8096820>"
      ]
     },
     "execution_count": 15,
     "metadata": {},
     "output_type": "execute_result"
    },
    {
     "data": {
      "image/png": "[encoded data removed]",
      "text/plain": [
       "<Figure size 640x480 with 1 Axes>"
      ]
     },
     "metadata": {},
     "output_type": "display_data"
    }
   ],
   "source": [
    "import matplotlib.pyplot as plt\n",
    "\n",
    "plt.scatter(points[:,0], points[:,1])"
   ]
  },
  {
   "cell_type": "markdown",
   "metadata": {},
   "source": [
    "3.2 거리 행렬 계산:\n",
    "\n",
    "각 점 간의 유클리드 거리 제곱을 계산하여 100x100 크기의 거리 행렬을 생성."
   ]
  },
  {
   "cell_type": "code",
   "execution_count": 38,
   "metadata": {},
   "outputs": [
    {
     "data": {
      "text/plain": [
       "((1, 10, 2), (10, 1, 2))"
      ]
     },
     "execution_count": 38,
     "metadata": {},
     "output_type": "execute_result"
    }
   ],
   "source": [
    "points = np.random.rand(10, 2)\n",
    "points[None, :, :].shape, points[:, None, :].shape"
   ]
  },
  {
   "cell_type": "code",
   "execution_count": 53,
   "metadata": {},
   "outputs": [
    {
     "data": {
      "text/plain": [
       "((10, 2), (10, 1, 2))"
      ]
     },
     "execution_count": 53,
     "metadata": {},
     "output_type": "execute_result"
    }
   ],
   "source": [
    "points = np.random.rand(10, 2)\n",
    "points.shape, points[:, None, :].shape"
   ]
  },
  {
   "cell_type": "code",
   "execution_count": 54,
   "metadata": {},
   "outputs": [
    {
     "data": {
      "text/plain": [
       "(10, 10, 2)"
      ]
     },
     "execution_count": 54,
     "metadata": {},
     "output_type": "execute_result"
    }
   ],
   "source": [
    "d = points - points[:, None, :]\n",
    "d.shape"
   ]
  },
  {
   "cell_type": "code",
   "execution_count": 55,
   "metadata": {},
   "outputs": [
    {
     "data": {
      "text/plain": [
       "(10, 10, 2)"
      ]
     },
     "execution_count": 55,
     "metadata": {},
     "output_type": "execute_result"
    }
   ],
   "source": [
    "d = (points - points[:, None, :])\n",
    "d.shape"
   ]
  },
  {
   "cell_type": "code",
   "execution_count": 59,
   "metadata": {},
   "outputs": [
    {
     "data": {
      "text/plain": [
       "array([[0.        , 0.75316332, 0.2765868 , 0.39186239, 0.87784314,\n",
       "        0.81765984, 0.31911266, 0.42075669, 0.50957857, 0.47028307],\n",
       "       [0.75316332, 0.        , 0.50045135, 0.58289796, 0.14077547,\n",
       "        0.31163876, 0.43902595, 1.1037008 , 0.54752868, 0.3557191 ],\n",
       "       [0.2765868 , 0.50045135, 0.        , 0.20818768, 0.63485951,\n",
       "        0.63810783, 0.07338973, 0.68469371, 0.29296156, 0.19396288],\n",
       "       [0.39186239, 0.58289796, 0.20818768, 0.        , 0.72366142,\n",
       "        0.79132781, 0.2641626 , 0.810551  , 0.12027908, 0.22825243],\n",
       "       [0.87784314, 0.14077547, 0.63485951, 0.72366142, 0.        ,\n",
       "        0.26890745, 0.57015167, 1.2077931 , 0.68563871, 0.49643626],\n",
       "       [0.81765984, 0.31163876, 0.63810783, 0.79132781, 0.26890745,\n",
       "        0.        , 0.56477692, 1.07101464, 0.79373336, 0.57433529],\n",
       "       [0.31911266, 0.43902595, 0.07338973, 0.2641626 , 0.57015167,\n",
       "        0.56477692, 0.        , 0.70834278, 0.32934045, 0.17534787],\n",
       "       [0.42075669, 1.1037008 , 0.68469371, 0.810551  , 1.2077931 ,\n",
       "        1.07101464, 0.70834278, 0.        , 0.92945251, 0.87653987],\n",
       "       [0.50957857, 0.54752868, 0.29296156, 0.12027908, 0.68563871,\n",
       "        0.79373336, 0.32934045, 0.92945251, 0.        , 0.22166193],\n",
       "       [0.47028307, 0.3557191 , 0.19396288, 0.22825243, 0.49643626,\n",
       "        0.57433529, 0.17534787, 0.87653987, 0.22166193, 0.        ]])"
      ]
     },
     "execution_count": 59,
     "metadata": {},
     "output_type": "execute_result"
    }
   ],
   "source": [
    "d = np.sqrt(np.sum((points - points[:, None, :])**2, axis=2))\n",
    "d"
   ]
  },
  {
   "cell_type": "code",
   "execution_count": 58,
   "metadata": {},
   "outputs": [
    {
     "data": {
      "text/plain": [
       "array([[0.        , 0.75316332, 0.2765868 , 0.39186239, 0.87784314,\n",
       "        0.81765984, 0.31911266, 0.42075669, 0.50957857, 0.47028307],\n",
       "       [0.75316332, 0.        , 0.50045135, 0.58289796, 0.14077547,\n",
       "        0.31163876, 0.43902595, 1.1037008 , 0.54752868, 0.3557191 ],\n",
       "       [0.2765868 , 0.50045135, 0.        , 0.20818768, 0.63485951,\n",
       "        0.63810783, 0.07338973, 0.68469371, 0.29296156, 0.19396288],\n",
       "       [0.39186239, 0.58289796, 0.20818768, 0.        , 0.72366142,\n",
       "        0.79132781, 0.2641626 , 0.810551  , 0.12027908, 0.22825243],\n",
       "       [0.87784314, 0.14077547, 0.63485951, 0.72366142, 0.        ,\n",
       "        0.26890745, 0.57015167, 1.2077931 , 0.68563871, 0.49643626],\n",
       "       [0.81765984, 0.31163876, 0.63810783, 0.79132781, 0.26890745,\n",
       "        0.        , 0.56477692, 1.07101464, 0.79373336, 0.57433529],\n",
       "       [0.31911266, 0.43902595, 0.07338973, 0.2641626 , 0.57015167,\n",
       "        0.56477692, 0.        , 0.70834278, 0.32934045, 0.17534787],\n",
       "       [0.42075669, 1.1037008 , 0.68469371, 0.810551  , 1.2077931 ,\n",
       "        1.07101464, 0.70834278, 0.        , 0.92945251, 0.87653987],\n",
       "       [0.50957857, 0.54752868, 0.29296156, 0.12027908, 0.68563871,\n",
       "        0.79373336, 0.32934045, 0.92945251, 0.        , 0.22166193],\n",
       "       [0.47028307, 0.3557191 , 0.19396288, 0.22825243, 0.49643626,\n",
       "        0.57433529, 0.17534787, 0.87653987, 0.22166193, 0.        ]])"
      ]
     },
     "execution_count": 58,
     "metadata": {},
     "output_type": "execute_result"
    }
   ],
   "source": [
    "from sklearn.metrics import pairwise_distances\n",
    "\n",
    "points = np.random.rand(10, 2)\n",
    "pairwise_distances(points)"
   ]
  },
  {
   "cell_type": "code",
   "execution_count": 52,
   "metadata": {},
   "outputs": [
    {
     "data": {
      "text/plain": [
       "array([[0, 5, 4, 1, 7, 6, 8, 9, 2, 3],\n",
       "       [1, 5, 0, 8, 6, 4, 7, 3, 2, 9],\n",
       "       [2, 9, 8, 1, 7, 3, 0, 5, 6, 4],\n",
       "       [3, 8, 6, 1, 5, 2, 0, 9, 7, 4],\n",
       "       [4, 0, 5, 7, 1, 9, 6, 8, 2, 3],\n",
       "       [5, 0, 1, 4, 6, 7, 8, 3, 9, 2],\n",
       "       [6, 3, 8, 5, 1, 0, 4, 2, 7, 9],\n",
       "       [7, 9, 0, 4, 1, 5, 2, 8, 6, 3],\n",
       "       [8, 3, 1, 6, 2, 5, 0, 9, 7, 4],\n",
       "       [9, 2, 7, 1, 0, 8, 4, 5, 3, 6]], dtype=int64)"
      ]
     },
     "execution_count": 52,
     "metadata": {},
     "output_type": "execute_result"
    }
   ],
   "source": [
    "np.argsort(d)"
   ]
  },
  {
   "cell_type": "code",
   "execution_count": 50,
   "metadata": {},
   "outputs": [
    {
     "data": {
      "text/plain": [
       "array([0.10747072, 0.53482865, 0.48899658, 0.73044657, 0.09488453,\n",
       "       0.30155786, 0.50093485, 0.96834425, 0.77651748, 0.26665473])"
      ]
     },
     "execution_count": 50,
     "metadata": {},
     "output_type": "execute_result"
    }
   ],
   "source": [
    "data = np.random.rand(10)\n",
    "data"
   ]
  },
  {
   "cell_type": "code",
   "execution_count": 51,
   "metadata": {},
   "outputs": [
    {
     "data": {
      "text/plain": [
       "array([4, 0, 9, 5, 2, 6, 1, 3, 8, 7], dtype=int64)"
      ]
     },
     "execution_count": 51,
     "metadata": {},
     "output_type": "execute_result"
    }
   ],
   "source": [
    "np.argsort(data)"
   ]
  },
  {
   "cell_type": "markdown",
   "metadata": {},
   "source": [
    "3.3 5-최근접 이웃 찾기:\n",
    "각 점에 대해 가장 가까운 5개의 점을 거리 순으로 정렬.\n",
    "자기 자신을 제외하고 가장 가까운 5개의 이웃."
   ]
  },
  {
   "cell_type": "code",
   "execution_count": null,
   "metadata": {},
   "outputs": [],
   "source": []
  },
  {
   "cell_type": "markdown",
   "metadata": {},
   "source": [
    "3.4 결과 출력:\n",
    "각 점에 대해 가장 가까운 5개의 이웃의 좌표와 거리 제곱을 출력.\n",
    "\n"
   ]
  },
  {
   "cell_type": "code",
   "execution_count": null,
   "metadata": {},
   "outputs": [],
   "source": []
  },
  {
   "cell_type": "markdown",
   "metadata": {},
   "source": [
    "3.5 시각화:\n",
    "matplotlib를 사용하여 각 점과 해당 점의 5-최근접 이웃을 플롯.\n",
    "각 점은 scatter로 표시하고, 가까운 이웃과 연결하는 선을 추가하여 관계를 시각적으로 표현."
   ]
  },
  {
   "cell_type": "code",
   "execution_count": null,
   "metadata": {},
   "outputs": [],
   "source": []
  },
  {
   "cell_type": "code",
   "execution_count": null,
   "metadata": {},
   "outputs": [
    {
     "data": {
      "text/plain": [
       "array([[7, 5],\n",
       "       [6, 2],\n",
       "       [2, 3],\n",
       "       [4, 7],\n",
       "       [8, 5]], dtype=int32)"
      ]
     },
     "execution_count": 40,
     "metadata": {},
     "output_type": "execute_result"
    }
   ],
   "source": [
    "#p.100 -> 나중에 수정하기\n",
    "import numpy as np\n",
    "data = np.random.randint(0,10,(5,2))\n",
    "data"
   ]
  },
  {
   "cell_type": "code",
   "execution_count": 21,
   "metadata": {},
   "outputs": [
    {
     "data": {
      "text/plain": [
       "<matplotlib.collections.PathCollection at 0x23db8187bb0>"
      ]
     },
     "execution_count": 21,
     "metadata": {},
     "output_type": "execute_result"
    },
    {
     "data": {
      "image/png": "[encoded data removed]",
      "text/plain": [
       "<Figure size 640x480 with 1 Axes>"
      ]
     },
     "metadata": {},
     "output_type": "display_data"
    }
   ],
   "source": [
    "import matplotlib.pyplot as plt\n",
    "plt.scatter(data[:,0],data[:,1])"
   ]
  },
  {
   "cell_type": "code",
   "execution_count": 22,
   "metadata": {},
   "outputs": [
    {
     "data": {
      "text/plain": [
       "(5, 2)"
      ]
     },
     "execution_count": 22,
     "metadata": {},
     "output_type": "execute_result"
    }
   ],
   "source": [
    "data.shape"
   ]
  },
  {
   "cell_type": "code",
   "execution_count": 24,
   "metadata": {},
   "outputs": [
    {
     "data": {
      "text/plain": [
       "((5, 1, 2), (1, 5, 2))"
      ]
     },
     "execution_count": 24,
     "metadata": {},
     "output_type": "execute_result"
    }
   ],
   "source": [
    "data[:,None,:].shape, data[None,:,:].shape"
   ]
  },
  {
   "cell_type": "code",
   "execution_count": null,
   "metadata": {},
   "outputs": [
    {
     "data": {
      "text/plain": [
       "(5, 5, 2)"
      ]
     },
     "execution_count": 27,
     "metadata": {},
     "output_type": "execute_result"
    }
   ],
   "source": [
    "# 5*5 크기로 브로드캐스팅 -> 사이즈 만들고, 각 좌표끼리 뺄셈까지 상황\n",
    "(data[:,None,:]-data[None,:,:]).shape"
   ]
  },
  {
   "cell_type": "code",
   "execution_count": null,
   "metadata": {},
   "outputs": [
    {
     "data": {
      "text/plain": [
       "(2,)"
      ]
     },
     "execution_count": 32,
     "metadata": {},
     "output_type": "execute_result"
    }
   ],
   "source": [
    "# 거리 연산\n",
    "np.sqrt((np.array([1,4])-np.array([2,2]))**2)"
   ]
  },
  {
   "cell_type": "code",
   "execution_count": 37,
   "metadata": {},
   "outputs": [
    {
     "data": {
      "text/plain": [
       "(5, 5, 2)"
      ]
     },
     "execution_count": 37,
     "metadata": {},
     "output_type": "execute_result"
    }
   ],
   "source": [
    "# 거리 연산식을 적용\n",
    "np.sqrt((data[:,None,:]-data[None,:,:])**2).shape"
   ]
  },
  {
   "cell_type": "code",
   "execution_count": 35,
   "metadata": {},
   "outputs": [
    {
     "data": {
      "text/plain": [
       "array([[ 0.,  9.,  3.,  6.,  7.],\n",
       "       [ 9.,  0.,  8.,  3.,  8.],\n",
       "       [ 3.,  8.,  0.,  9., 10.],\n",
       "       [ 6.,  3.,  9.,  0.,  5.],\n",
       "       [ 7.,  8., 10.,  5.,  0.]])"
      ]
     },
     "execution_count": 35,
     "metadata": {},
     "output_type": "execute_result"
    }
   ],
   "source": [
    "np.sum((np.sqrt((data[:,None,:]-data[None,:,:])**2)),axis=2)"
   ]
  },
  {
   "cell_type": "code",
   "execution_count": 38,
   "metadata": {},
   "outputs": [
    {
     "data": {
      "text/plain": [
       "array([[ 0.,  3.,  6.,  7.,  9.],\n",
       "       [ 0.,  3.,  8.,  8.,  9.],\n",
       "       [ 0.,  3.,  8.,  9., 10.],\n",
       "       [ 0.,  3.,  5.,  6.,  9.],\n",
       "       [ 0.,  5.,  7.,  8., 10.]])"
      ]
     },
     "execution_count": 38,
     "metadata": {},
     "output_type": "execute_result"
    }
   ],
   "source": [
    "# 정렬\n",
    "dist = np.sum((np.sqrt((data[:,None,:]-data[None,:,:])**2)),axis=2)\n",
    "np.sort(dist)"
   ]
  }
 ],
 "metadata": {
  "kernelspec": {
   "display_name": "aip",
   "language": "python",
   "name": "python3"
  },
  "language_info": {
   "codemirror_mode": {
    "name": "ipython",
    "version": 3
   },
   "file_extension": ".py",
   "mimetype": "text/x-python",
   "name": "python",
   "nbconvert_exporter": "python",
   "pygments_lexer": "ipython3",
   "version": "3.9.23"
  }
 },
 "nbformat": 4,
 "nbformat_minor": 2
}
