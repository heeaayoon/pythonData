{
 "cells": [
  {
   "cell_type": "code",
   "execution_count": 1,
   "id": "d7cb58a3",
   "metadata": {},
   "outputs": [
    {
     "data": {
      "text/html": [
       "<div>\n",
       "<style scoped>\n",
       "    .dataframe tbody tr th:only-of-type {\n",
       "        vertical-align: middle;\n",
       "    }\n",
       "\n",
       "    .dataframe tbody tr th {\n",
       "        vertical-align: top;\n",
       "    }\n",
       "\n",
       "    .dataframe thead th {\n",
       "        text-align: right;\n",
       "    }\n",
       "</style>\n",
       "<table border=\"1\" class=\"dataframe\">\n",
       "  <thead>\n",
       "    <tr style=\"text-align: right;\">\n",
       "      <th></th>\n",
       "      <th>sepal.length</th>\n",
       "      <th>sepal.width</th>\n",
       "      <th>petal.length</th>\n",
       "      <th>petal.width</th>\n",
       "      <th>variety</th>\n",
       "    </tr>\n",
       "  </thead>\n",
       "  <tbody>\n",
       "    <tr>\n",
       "      <th>0</th>\n",
       "      <td>5.1</td>\n",
       "      <td>3.5</td>\n",
       "      <td>1.4</td>\n",
       "      <td>0.2</td>\n",
       "      <td>Setosa</td>\n",
       "    </tr>\n",
       "    <tr>\n",
       "      <th>1</th>\n",
       "      <td>4.9</td>\n",
       "      <td>3.0</td>\n",
       "      <td>1.4</td>\n",
       "      <td>0.2</td>\n",
       "      <td>Setosa</td>\n",
       "    </tr>\n",
       "    <tr>\n",
       "      <th>2</th>\n",
       "      <td>4.7</td>\n",
       "      <td>3.2</td>\n",
       "      <td>1.3</td>\n",
       "      <td>0.2</td>\n",
       "      <td>Setosa</td>\n",
       "    </tr>\n",
       "    <tr>\n",
       "      <th>3</th>\n",
       "      <td>4.6</td>\n",
       "      <td>3.1</td>\n",
       "      <td>1.5</td>\n",
       "      <td>0.2</td>\n",
       "      <td>Setosa</td>\n",
       "    </tr>\n",
       "    <tr>\n",
       "      <th>4</th>\n",
       "      <td>5.0</td>\n",
       "      <td>3.6</td>\n",
       "      <td>1.4</td>\n",
       "      <td>0.2</td>\n",
       "      <td>Setosa</td>\n",
       "    </tr>\n",
       "  </tbody>\n",
       "</table>\n",
       "</div>"
      ],
      "text/plain": [
       "   sepal.length  sepal.width  petal.length  petal.width variety\n",
       "0           5.1          3.5           1.4          0.2  Setosa\n",
       "1           4.9          3.0           1.4          0.2  Setosa\n",
       "2           4.7          3.2           1.3          0.2  Setosa\n",
       "3           4.6          3.1           1.5          0.2  Setosa\n",
       "4           5.0          3.6           1.4          0.2  Setosa"
      ]
     },
     "execution_count": 1,
     "metadata": {},
     "output_type": "execute_result"
    }
   ],
   "source": [
    "import pandas as pd\n",
    "df = pd.read_csv('iris.csv')\n",
    "df.head()"
   ]
  },
  {
   "cell_type": "code",
   "execution_count": 4,
   "id": "f68fe5d5",
   "metadata": {},
   "outputs": [],
   "source": [
    "col1 = df['sepal.length']"
   ]
  },
  {
   "cell_type": "code",
   "execution_count": 3,
   "id": "6f80c673",
   "metadata": {},
   "outputs": [],
   "source": [
    "col2 = df.loc[:, 'sepal.length']"
   ]
  },
  {
   "cell_type": "code",
   "execution_count": 5,
   "id": "b3cf1594",
   "metadata": {},
   "outputs": [
    {
     "data": {
      "text/plain": [
       "(pandas.core.series.Series, pandas.core.series.Series)"
      ]
     },
     "execution_count": 5,
     "metadata": {},
     "output_type": "execute_result"
    }
   ],
   "source": [
    "type(col1), type(col2)"
   ]
  },
  {
   "cell_type": "code",
   "execution_count": 6,
   "id": "51b85a92",
   "metadata": {},
   "outputs": [
    {
     "data": {
      "text/plain": [
       "(np.float64(876.5), np.float64(5.843333333333334))"
      ]
     },
     "execution_count": 6,
     "metadata": {},
     "output_type": "execute_result"
    }
   ],
   "source": [
    "col1.sum(), col1.mean()"
   ]
  },
  {
   "cell_type": "code",
   "execution_count": 7,
   "id": "f2009204",
   "metadata": {},
   "outputs": [],
   "source": [
    "col = ['sepal.length', 'sepal.width']\n",
    "col3 = df[col]"
   ]
  },
  {
   "cell_type": "code",
   "execution_count": 8,
   "id": "988a10dc",
   "metadata": {},
   "outputs": [],
   "source": [
    "col4 = df.loc[:,col]"
   ]
  },
  {
   "cell_type": "code",
   "execution_count": 9,
   "id": "f4df3cd7",
   "metadata": {},
   "outputs": [
    {
     "data": {
      "text/plain": [
       "(pandas.core.frame.DataFrame, pandas.core.frame.DataFrame)"
      ]
     },
     "execution_count": 9,
     "metadata": {},
     "output_type": "execute_result"
    }
   ],
   "source": [
    "type(col3), type(col4)"
   ]
  },
  {
   "cell_type": "code",
   "execution_count": 11,
   "id": "dfec4b0a",
   "metadata": {},
   "outputs": [
    {
     "data": {
      "text/plain": [
       "(sepal.length    876.5\n",
       " sepal.width     458.6\n",
       " dtype: float64,\n",
       " sepal.length    5.843333\n",
       " sepal.width     3.057333\n",
       " dtype: float64)"
      ]
     },
     "execution_count": 11,
     "metadata": {},
     "output_type": "execute_result"
    }
   ],
   "source": [
    "col3.sum(),col3.mean()"
   ]
  },
  {
   "cell_type": "code",
   "execution_count": 12,
   "id": "5daa33f6",
   "metadata": {},
   "outputs": [
    {
     "data": {
      "text/html": [
       "<div>\n",
       "<style scoped>\n",
       "    .dataframe tbody tr th:only-of-type {\n",
       "        vertical-align: middle;\n",
       "    }\n",
       "\n",
       "    .dataframe tbody tr th {\n",
       "        vertical-align: top;\n",
       "    }\n",
       "\n",
       "    .dataframe thead th {\n",
       "        text-align: right;\n",
       "    }\n",
       "</style>\n",
       "<table border=\"1\" class=\"dataframe\">\n",
       "  <thead>\n",
       "    <tr style=\"text-align: right;\">\n",
       "      <th></th>\n",
       "      <th>count</th>\n",
       "      <th>mean</th>\n",
       "      <th>std</th>\n",
       "      <th>min</th>\n",
       "      <th>25%</th>\n",
       "      <th>50%</th>\n",
       "      <th>75%</th>\n",
       "      <th>max</th>\n",
       "    </tr>\n",
       "  </thead>\n",
       "  <tbody>\n",
       "    <tr>\n",
       "      <th>sepal.length</th>\n",
       "      <td>150.0</td>\n",
       "      <td>5.843333</td>\n",
       "      <td>0.828066</td>\n",
       "      <td>4.3</td>\n",
       "      <td>5.1</td>\n",
       "      <td>5.8</td>\n",
       "      <td>6.4</td>\n",
       "      <td>7.9</td>\n",
       "    </tr>\n",
       "    <tr>\n",
       "      <th>sepal.width</th>\n",
       "      <td>150.0</td>\n",
       "      <td>3.057333</td>\n",
       "      <td>0.435866</td>\n",
       "      <td>2.0</td>\n",
       "      <td>2.8</td>\n",
       "      <td>3.0</td>\n",
       "      <td>3.3</td>\n",
       "      <td>4.4</td>\n",
       "    </tr>\n",
       "  </tbody>\n",
       "</table>\n",
       "</div>"
      ],
      "text/plain": [
       "              count      mean       std  min  25%  50%  75%  max\n",
       "sepal.length  150.0  5.843333  0.828066  4.3  5.1  5.8  6.4  7.9\n",
       "sepal.width   150.0  3.057333  0.435866  2.0  2.8  3.0  3.3  4.4"
      ]
     },
     "execution_count": 12,
     "metadata": {},
     "output_type": "execute_result"
    }
   ],
   "source": [
    "col3.describe().T"
   ]
  },
  {
   "cell_type": "code",
   "execution_count": 13,
   "id": "0c47e5d5",
   "metadata": {},
   "outputs": [
    {
     "data": {
      "text/plain": [
       "['1', '2', '3', '4', '5']"
      ]
     },
     "execution_count": 13,
     "metadata": {},
     "output_type": "execute_result"
    }
   ],
   "source": [
    "list('12345')"
   ]
  },
  {
   "cell_type": "code",
   "execution_count": null,
   "id": "34f5d729",
   "metadata": {},
   "outputs": [
    {
     "ename": "TypeError",
     "evalue": "unsupported operand type(s) for +: 'int' and 'str'",
     "output_type": "error",
     "traceback": [
      "\u001b[1;31m---------------------------------------------------------------------------\u001b[0m",
      "\u001b[1;31mTypeError\u001b[0m                                 Traceback (most recent call last)",
      "Cell \u001b[1;32mIn[14], line 1\u001b[0m\n\u001b[1;32m----> 1\u001b[0m \u001b[38;5;28;43msum\u001b[39;49m\u001b[43m(\u001b[49m\u001b[38;5;28;43mlist\u001b[39;49m\u001b[43m(\u001b[49m\u001b[38;5;124;43m'\u001b[39;49m\u001b[38;5;124;43m12345\u001b[39;49m\u001b[38;5;124;43m'\u001b[39;49m\u001b[43m)\u001b[49m\u001b[43m)\u001b[49m\n",
      "\u001b[1;31mTypeError\u001b[0m: unsupported operand type(s) for +: 'int' and 'str'"
     ]
    }
   ],
   "source": [
    "sum(list('12345')) # Str이므로 덧셈이 안됨"
   ]
  },
  {
   "cell_type": "code",
   "execution_count": null,
   "id": "79013162",
   "metadata": {},
   "outputs": [
    {
     "data": {
      "text/plain": [
       "[1, 2, 3, 4, 5]"
      ]
     },
     "execution_count": 15,
     "metadata": {},
     "output_type": "execute_result"
    }
   ],
   "source": [
    "list(map(int,list('12345'))) # map으로 타입 바꾸기"
   ]
  },
  {
   "cell_type": "code",
   "execution_count": 16,
   "id": "a0ac6675",
   "metadata": {},
   "outputs": [
    {
     "data": {
      "text/plain": [
       "15"
      ]
     },
     "execution_count": 16,
     "metadata": {},
     "output_type": "execute_result"
    }
   ],
   "source": [
    "sum(list(map(int,list('12345'))))"
   ]
  },
  {
   "cell_type": "markdown",
   "id": "bc5e49e8",
   "metadata": {},
   "source": [
    "### GroupBy"
   ]
  },
  {
   "cell_type": "code",
   "execution_count": null,
   "id": "b800103a",
   "metadata": {},
   "outputs": [],
   "source": [
    "#select 'variety', mean('sepal.length'), mean('sepal.width'), mean('petal.length'), mean('petal.width')\n",
    "#from iris\n",
    "#group by 'variety'"
   ]
  },
  {
   "cell_type": "code",
   "execution_count": 17,
   "id": "968b4731",
   "metadata": {},
   "outputs": [
    {
     "data": {
      "text/html": [
       "<div>\n",
       "<style scoped>\n",
       "    .dataframe tbody tr th:only-of-type {\n",
       "        vertical-align: middle;\n",
       "    }\n",
       "\n",
       "    .dataframe tbody tr th {\n",
       "        vertical-align: top;\n",
       "    }\n",
       "\n",
       "    .dataframe thead th {\n",
       "        text-align: right;\n",
       "    }\n",
       "</style>\n",
       "<table border=\"1\" class=\"dataframe\">\n",
       "  <thead>\n",
       "    <tr style=\"text-align: right;\">\n",
       "      <th></th>\n",
       "      <th>sepal.length</th>\n",
       "      <th>sepal.width</th>\n",
       "      <th>petal.length</th>\n",
       "      <th>petal.width</th>\n",
       "    </tr>\n",
       "    <tr>\n",
       "      <th>variety</th>\n",
       "      <th></th>\n",
       "      <th></th>\n",
       "      <th></th>\n",
       "      <th></th>\n",
       "    </tr>\n",
       "  </thead>\n",
       "  <tbody>\n",
       "    <tr>\n",
       "      <th>Setosa</th>\n",
       "      <td>5.006</td>\n",
       "      <td>3.428</td>\n",
       "      <td>1.462</td>\n",
       "      <td>0.246</td>\n",
       "    </tr>\n",
       "    <tr>\n",
       "      <th>Versicolor</th>\n",
       "      <td>5.936</td>\n",
       "      <td>2.770</td>\n",
       "      <td>4.260</td>\n",
       "      <td>1.326</td>\n",
       "    </tr>\n",
       "    <tr>\n",
       "      <th>Virginica</th>\n",
       "      <td>6.588</td>\n",
       "      <td>2.974</td>\n",
       "      <td>5.552</td>\n",
       "      <td>2.026</td>\n",
       "    </tr>\n",
       "  </tbody>\n",
       "</table>\n",
       "</div>"
      ],
      "text/plain": [
       "            sepal.length  sepal.width  petal.length  petal.width\n",
       "variety                                                         \n",
       "Setosa             5.006        3.428         1.462        0.246\n",
       "Versicolor         5.936        2.770         4.260        1.326\n",
       "Virginica          6.588        2.974         5.552        2.026"
      ]
     },
     "execution_count": 17,
     "metadata": {},
     "output_type": "execute_result"
    }
   ],
   "source": [
    "df.groupby('variety').mean()"
   ]
  },
  {
   "cell_type": "code",
   "execution_count": null,
   "id": "b99ea911",
   "metadata": {},
   "outputs": [],
   "source": [
    "#select 'variety', mean('sepal.length'), mean('sepal.width')\n",
    "#from iris\n",
    "#group by 'variety'"
   ]
  },
  {
   "cell_type": "code",
   "execution_count": null,
   "id": "1e304d74",
   "metadata": {},
   "outputs": [
    {
     "data": {
      "text/html": [
       "<div>\n",
       "<style scoped>\n",
       "    .dataframe tbody tr th:only-of-type {\n",
       "        vertical-align: middle;\n",
       "    }\n",
       "\n",
       "    .dataframe tbody tr th {\n",
       "        vertical-align: top;\n",
       "    }\n",
       "\n",
       "    .dataframe thead th {\n",
       "        text-align: right;\n",
       "    }\n",
       "</style>\n",
       "<table border=\"1\" class=\"dataframe\">\n",
       "  <thead>\n",
       "    <tr style=\"text-align: right;\">\n",
       "      <th></th>\n",
       "      <th>sepal.length</th>\n",
       "      <th>sepal.width</th>\n",
       "    </tr>\n",
       "    <tr>\n",
       "      <th>variety</th>\n",
       "      <th></th>\n",
       "      <th></th>\n",
       "    </tr>\n",
       "  </thead>\n",
       "  <tbody>\n",
       "    <tr>\n",
       "      <th>Setosa</th>\n",
       "      <td>5.006</td>\n",
       "      <td>3.428</td>\n",
       "    </tr>\n",
       "    <tr>\n",
       "      <th>Versicolor</th>\n",
       "      <td>5.936</td>\n",
       "      <td>2.770</td>\n",
       "    </tr>\n",
       "    <tr>\n",
       "      <th>Virginica</th>\n",
       "      <td>6.588</td>\n",
       "      <td>2.974</td>\n",
       "    </tr>\n",
       "  </tbody>\n",
       "</table>\n",
       "</div>"
      ],
      "text/plain": [
       "            sepal.length  sepal.width\n",
       "variety                              \n",
       "Setosa             5.006        3.428\n",
       "Versicolor         5.936        2.770\n",
       "Virginica          6.588        2.974"
      ]
     },
     "execution_count": 18,
     "metadata": {},
     "output_type": "execute_result"
    }
   ],
   "source": [
    "df.groupby('variety')[['sepal.length','sepal.width']].mean()"
   ]
  },
  {
   "cell_type": "code",
   "execution_count": null,
   "id": "2a35788c",
   "metadata": {},
   "outputs": [],
   "source": [
    "#select 'variety', mean('sepal.length'), mean('sepal.width')\n",
    "#from iris\n",
    "#group by 'variety'\n",
    "#having mean('sepal.length')>6"
   ]
  },
  {
   "cell_type": "code",
   "execution_count": null,
   "id": "aa567361",
   "metadata": {},
   "outputs": [
    {
     "ename": "TypeError",
     "evalue": "Must provide 'func' or tuples of '(column, aggfunc).",
     "output_type": "error",
     "traceback": [
      "\u001b[1;31m---------------------------------------------------------------------------\u001b[0m",
      "\u001b[1;31mTypeError\u001b[0m                                 Traceback (most recent call last)",
      "Cell \u001b[1;32mIn[27], line 1\u001b[0m\n\u001b[1;32m----> 1\u001b[0m \u001b[43mdf\u001b[49m\u001b[38;5;241;43m.\u001b[39;49m\u001b[43mgroupby\u001b[49m\u001b[43m(\u001b[49m\u001b[38;5;124;43m'\u001b[39;49m\u001b[38;5;124;43mvariety\u001b[39;49m\u001b[38;5;124;43m'\u001b[39;49m\u001b[43m)\u001b[49m\u001b[38;5;241;43m.\u001b[39;49m\u001b[43magg\u001b[49m\u001b[43m(\u001b[49m\u001b[43m)\u001b[49m\u001b[38;5;241m.\u001b[39mfilter(\u001b[38;5;28;01mlambda\u001b[39;00m x : x[\u001b[38;5;124m'\u001b[39m\u001b[38;5;124msepal.length\u001b[39m\u001b[38;5;124m'\u001b[39m]\u001b[38;5;241m.\u001b[39mmean()\u001b[38;5;241m>\u001b[39m\u001b[38;5;241m6\u001b[39m) \u001b[38;5;241m-\u001b[39m\u001b[38;5;241m-\u001b[39m\u001b[38;5;241m-\u001b[39m\u001b[38;5;241m-\u001b[39m수정하기\n",
      "File \u001b[1;32mc:\\Users\\user\\miniconda3\\envs\\aip\\lib\\site-packages\\pandas\\core\\groupby\\generic.py:1422\u001b[0m, in \u001b[0;36mDataFrameGroupBy.aggregate\u001b[1;34m(self, func, engine, engine_kwargs, *args, **kwargs)\u001b[0m\n\u001b[0;32m   1420\u001b[0m \u001b[38;5;129m@doc\u001b[39m(_agg_template_frame, examples\u001b[38;5;241m=\u001b[39m_agg_examples_doc, klass\u001b[38;5;241m=\u001b[39m\u001b[38;5;124m\"\u001b[39m\u001b[38;5;124mDataFrame\u001b[39m\u001b[38;5;124m\"\u001b[39m)\n\u001b[0;32m   1421\u001b[0m \u001b[38;5;28;01mdef\u001b[39;00m\u001b[38;5;250m \u001b[39m\u001b[38;5;21maggregate\u001b[39m(\u001b[38;5;28mself\u001b[39m, func\u001b[38;5;241m=\u001b[39m\u001b[38;5;28;01mNone\u001b[39;00m, \u001b[38;5;241m*\u001b[39margs, engine\u001b[38;5;241m=\u001b[39m\u001b[38;5;28;01mNone\u001b[39;00m, engine_kwargs\u001b[38;5;241m=\u001b[39m\u001b[38;5;28;01mNone\u001b[39;00m, \u001b[38;5;241m*\u001b[39m\u001b[38;5;241m*\u001b[39mkwargs):\n\u001b[1;32m-> 1422\u001b[0m     relabeling, func, columns, order \u001b[38;5;241m=\u001b[39m reconstruct_func(func, \u001b[38;5;241m*\u001b[39m\u001b[38;5;241m*\u001b[39mkwargs)\n\u001b[0;32m   1423\u001b[0m     func \u001b[38;5;241m=\u001b[39m maybe_mangle_lambdas(func)\n\u001b[0;32m   1425\u001b[0m     \u001b[38;5;28;01mif\u001b[39;00m maybe_use_numba(engine):\n\u001b[0;32m   1426\u001b[0m         \u001b[38;5;66;03m# Not all agg functions support numba, only propagate numba kwargs\u001b[39;00m\n\u001b[0;32m   1427\u001b[0m         \u001b[38;5;66;03m# if user asks for numba\u001b[39;00m\n",
      "File \u001b[1;32mc:\\Users\\user\\miniconda3\\envs\\aip\\lib\\site-packages\\pandas\\core\\apply.py:1691\u001b[0m, in \u001b[0;36mreconstruct_func\u001b[1;34m(func, **kwargs)\u001b[0m\n\u001b[0;32m   1685\u001b[0m         \u001b[38;5;28;01mraise\u001b[39;00m SpecificationError(\n\u001b[0;32m   1686\u001b[0m             \u001b[38;5;124m\"\u001b[39m\u001b[38;5;124mFunction names must be unique if there is no new column names \u001b[39m\u001b[38;5;124m\"\u001b[39m\n\u001b[0;32m   1687\u001b[0m             \u001b[38;5;124m\"\u001b[39m\u001b[38;5;124massigned\u001b[39m\u001b[38;5;124m\"\u001b[39m\n\u001b[0;32m   1688\u001b[0m         )\n\u001b[0;32m   1689\u001b[0m     \u001b[38;5;28;01mif\u001b[39;00m func \u001b[38;5;129;01mis\u001b[39;00m \u001b[38;5;28;01mNone\u001b[39;00m:\n\u001b[0;32m   1690\u001b[0m         \u001b[38;5;66;03m# nicer error message\u001b[39;00m\n\u001b[1;32m-> 1691\u001b[0m         \u001b[38;5;28;01mraise\u001b[39;00m \u001b[38;5;167;01mTypeError\u001b[39;00m(\u001b[38;5;124m\"\u001b[39m\u001b[38;5;124mMust provide \u001b[39m\u001b[38;5;124m'\u001b[39m\u001b[38;5;124mfunc\u001b[39m\u001b[38;5;124m'\u001b[39m\u001b[38;5;124m or tuples of \u001b[39m\u001b[38;5;124m'\u001b[39m\u001b[38;5;124m(column, aggfunc).\u001b[39m\u001b[38;5;124m\"\u001b[39m)\n\u001b[0;32m   1693\u001b[0m \u001b[38;5;28;01mif\u001b[39;00m relabeling:\n\u001b[0;32m   1694\u001b[0m     \u001b[38;5;66;03m# error: Incompatible types in assignment (expression has type\u001b[39;00m\n\u001b[0;32m   1695\u001b[0m     \u001b[38;5;66;03m# \"MutableMapping[Hashable, list[Callable[..., Any] | str]]\", variable has type\u001b[39;00m\n\u001b[0;32m   1696\u001b[0m     \u001b[38;5;66;03m# \"Callable[..., Any] | str | list[Callable[..., Any] | str] |\u001b[39;00m\n\u001b[0;32m   1697\u001b[0m     \u001b[38;5;66;03m# MutableMapping[Hashable, Callable[..., Any] | str | list[Callable[..., Any] |\u001b[39;00m\n\u001b[0;32m   1698\u001b[0m     \u001b[38;5;66;03m# str]] | None\")\u001b[39;00m\n\u001b[0;32m   1699\u001b[0m     func, columns, order \u001b[38;5;241m=\u001b[39m normalize_keyword_aggregation(  \u001b[38;5;66;03m# type: ignore[assignment]\u001b[39;00m\n\u001b[0;32m   1700\u001b[0m         kwargs\n\u001b[0;32m   1701\u001b[0m     )\n",
      "\u001b[1;31mTypeError\u001b[0m: Must provide 'func' or tuples of '(column, aggfunc)."
     ]
    }
   ],
   "source": [
    "# filter 함수는 그룹 단위로 조건을 평가한 뒤, 조건이 참(True)인 그룹의 원본 데이터를 그대로 반환\n",
    "# 집계를 하는 것이 아니라 필터링이 주 목적\n",
    "# --> 집계된 값에 조건을 걸어 집계된 결과를 보고 싶을 때 : agg() + 필터링\n",
    "df.groupby('variety').filter(lambda x : x['sepal.length'].mean()>6) "
   ]
  },
  {
   "cell_type": "code",
   "execution_count": null,
   "id": "ebcba991",
   "metadata": {},
   "outputs": [],
   "source": [
    "#select 'variety', mean('sepal.length'), sum('sepal.width'), count('petal.length'), mean('petal.width')\n",
    "#from iris\n",
    "#group by 'variety'"
   ]
  },
  {
   "cell_type": "code",
   "execution_count": null,
   "id": "2ea8938d",
   "metadata": {},
   "outputs": [
    {
     "data": {
      "text/html": [
       "<div>\n",
       "<style scoped>\n",
       "    .dataframe tbody tr th:only-of-type {\n",
       "        vertical-align: middle;\n",
       "    }\n",
       "\n",
       "    .dataframe tbody tr th {\n",
       "        vertical-align: top;\n",
       "    }\n",
       "\n",
       "    .dataframe thead tr th {\n",
       "        text-align: left;\n",
       "    }\n",
       "\n",
       "    .dataframe thead tr:last-of-type th {\n",
       "        text-align: right;\n",
       "    }\n",
       "</style>\n",
       "<table border=\"1\" class=\"dataframe\">\n",
       "  <thead>\n",
       "    <tr>\n",
       "      <th></th>\n",
       "      <th colspan=\"3\" halign=\"left\">sepal.length</th>\n",
       "      <th colspan=\"3\" halign=\"left\">sepal.width</th>\n",
       "      <th colspan=\"3\" halign=\"left\">petal.length</th>\n",
       "      <th colspan=\"3\" halign=\"left\">petal.width</th>\n",
       "    </tr>\n",
       "    <tr>\n",
       "      <th></th>\n",
       "      <th>mean</th>\n",
       "      <th>sum</th>\n",
       "      <th>count</th>\n",
       "      <th>mean</th>\n",
       "      <th>sum</th>\n",
       "      <th>count</th>\n",
       "      <th>mean</th>\n",
       "      <th>sum</th>\n",
       "      <th>count</th>\n",
       "      <th>mean</th>\n",
       "      <th>sum</th>\n",
       "      <th>count</th>\n",
       "    </tr>\n",
       "    <tr>\n",
       "      <th>variety</th>\n",
       "      <th></th>\n",
       "      <th></th>\n",
       "      <th></th>\n",
       "      <th></th>\n",
       "      <th></th>\n",
       "      <th></th>\n",
       "      <th></th>\n",
       "      <th></th>\n",
       "      <th></th>\n",
       "      <th></th>\n",
       "      <th></th>\n",
       "      <th></th>\n",
       "    </tr>\n",
       "  </thead>\n",
       "  <tbody>\n",
       "    <tr>\n",
       "      <th>Setosa</th>\n",
       "      <td>5.006</td>\n",
       "      <td>250.3</td>\n",
       "      <td>50</td>\n",
       "      <td>3.428</td>\n",
       "      <td>171.4</td>\n",
       "      <td>50</td>\n",
       "      <td>1.462</td>\n",
       "      <td>73.1</td>\n",
       "      <td>50</td>\n",
       "      <td>0.246</td>\n",
       "      <td>12.3</td>\n",
       "      <td>50</td>\n",
       "    </tr>\n",
       "    <tr>\n",
       "      <th>Versicolor</th>\n",
       "      <td>5.936</td>\n",
       "      <td>296.8</td>\n",
       "      <td>50</td>\n",
       "      <td>2.770</td>\n",
       "      <td>138.5</td>\n",
       "      <td>50</td>\n",
       "      <td>4.260</td>\n",
       "      <td>213.0</td>\n",
       "      <td>50</td>\n",
       "      <td>1.326</td>\n",
       "      <td>66.3</td>\n",
       "      <td>50</td>\n",
       "    </tr>\n",
       "    <tr>\n",
       "      <th>Virginica</th>\n",
       "      <td>6.588</td>\n",
       "      <td>329.4</td>\n",
       "      <td>50</td>\n",
       "      <td>2.974</td>\n",
       "      <td>148.7</td>\n",
       "      <td>50</td>\n",
       "      <td>5.552</td>\n",
       "      <td>277.6</td>\n",
       "      <td>50</td>\n",
       "      <td>2.026</td>\n",
       "      <td>101.3</td>\n",
       "      <td>50</td>\n",
       "    </tr>\n",
       "  </tbody>\n",
       "</table>\n",
       "</div>"
      ],
      "text/plain": [
       "           sepal.length              sepal.width              petal.length  \\\n",
       "                   mean    sum count        mean    sum count         mean   \n",
       "variety                                                                      \n",
       "Setosa            5.006  250.3    50       3.428  171.4    50        1.462   \n",
       "Versicolor        5.936  296.8    50       2.770  138.5    50        4.260   \n",
       "Virginica         6.588  329.4    50       2.974  148.7    50        5.552   \n",
       "\n",
       "                        petal.width               \n",
       "              sum count        mean    sum count  \n",
       "variety                                           \n",
       "Setosa       73.1    50       0.246   12.3    50  \n",
       "Versicolor  213.0    50       1.326   66.3    50  \n",
       "Virginica   277.6    50       2.026  101.3    50  "
      ]
     },
     "execution_count": 21,
     "metadata": {},
     "output_type": "execute_result"
    }
   ],
   "source": [
    "# 집계 : aggregation()\n",
    "df_group = df.groupby('variety').aggregate(['mean','sum','count'])\n",
    "df_group"
   ]
  },
  {
   "cell_type": "code",
   "execution_count": 22,
   "id": "46f9f1e0",
   "metadata": {},
   "outputs": [
    {
     "data": {
      "text/plain": [
       "variety\n",
       "Setosa        5.006\n",
       "Versicolor    5.936\n",
       "Virginica     6.588\n",
       "Name: (sepal.length, mean), dtype: float64"
      ]
     },
     "execution_count": 22,
     "metadata": {},
     "output_type": "execute_result"
    }
   ],
   "source": [
    "df_group.loc[:,('sepal.length', 'mean')]"
   ]
  },
  {
   "cell_type": "code",
   "execution_count": null,
   "id": "fb507849",
   "metadata": {},
   "outputs": [],
   "source": [
    "#select 'variety', mean('sepal.length'), sum('sepal.length'), count('sepal.length'), mean('sepal.length')\n",
    "#from iris\n",
    "#group by 'variety'"
   ]
  },
  {
   "cell_type": "code",
   "execution_count": 23,
   "id": "8bd93679",
   "metadata": {},
   "outputs": [
    {
     "data": {
      "text/html": [
       "<div>\n",
       "<style scoped>\n",
       "    .dataframe tbody tr th:only-of-type {\n",
       "        vertical-align: middle;\n",
       "    }\n",
       "\n",
       "    .dataframe tbody tr th {\n",
       "        vertical-align: top;\n",
       "    }\n",
       "\n",
       "    .dataframe thead th {\n",
       "        text-align: right;\n",
       "    }\n",
       "</style>\n",
       "<table border=\"1\" class=\"dataframe\">\n",
       "  <thead>\n",
       "    <tr style=\"text-align: right;\">\n",
       "      <th></th>\n",
       "      <th>mean</th>\n",
       "      <th>sum</th>\n",
       "      <th>count</th>\n",
       "    </tr>\n",
       "    <tr>\n",
       "      <th>variety</th>\n",
       "      <th></th>\n",
       "      <th></th>\n",
       "      <th></th>\n",
       "    </tr>\n",
       "  </thead>\n",
       "  <tbody>\n",
       "    <tr>\n",
       "      <th>Setosa</th>\n",
       "      <td>5.006</td>\n",
       "      <td>250.3</td>\n",
       "      <td>50</td>\n",
       "    </tr>\n",
       "    <tr>\n",
       "      <th>Versicolor</th>\n",
       "      <td>5.936</td>\n",
       "      <td>296.8</td>\n",
       "      <td>50</td>\n",
       "    </tr>\n",
       "    <tr>\n",
       "      <th>Virginica</th>\n",
       "      <td>6.588</td>\n",
       "      <td>329.4</td>\n",
       "      <td>50</td>\n",
       "    </tr>\n",
       "  </tbody>\n",
       "</table>\n",
       "</div>"
      ],
      "text/plain": [
       "             mean    sum  count\n",
       "variety                        \n",
       "Setosa      5.006  250.3     50\n",
       "Versicolor  5.936  296.8     50\n",
       "Virginica   6.588  329.4     50"
      ]
     },
     "execution_count": 23,
     "metadata": {},
     "output_type": "execute_result"
    }
   ],
   "source": [
    "df.groupby('variety')['sepal.length'].aggregate(['mean','sum','count'])"
   ]
  },
  {
   "cell_type": "code",
   "execution_count": 24,
   "id": "16b5664c",
   "metadata": {},
   "outputs": [
    {
     "data": {
      "text/html": [
       "<div>\n",
       "<style scoped>\n",
       "    .dataframe tbody tr th:only-of-type {\n",
       "        vertical-align: middle;\n",
       "    }\n",
       "\n",
       "    .dataframe tbody tr th {\n",
       "        vertical-align: top;\n",
       "    }\n",
       "\n",
       "    .dataframe thead th {\n",
       "        text-align: right;\n",
       "    }\n",
       "</style>\n",
       "<table border=\"1\" class=\"dataframe\">\n",
       "  <thead>\n",
       "    <tr style=\"text-align: right;\">\n",
       "      <th></th>\n",
       "      <th>sepal.length</th>\n",
       "      <th>sepal.width</th>\n",
       "      <th>petal.length</th>\n",
       "      <th>petal.width</th>\n",
       "    </tr>\n",
       "    <tr>\n",
       "      <th>variety</th>\n",
       "      <th></th>\n",
       "      <th></th>\n",
       "      <th></th>\n",
       "      <th></th>\n",
       "    </tr>\n",
       "  </thead>\n",
       "  <tbody>\n",
       "    <tr>\n",
       "      <th>Setosa</th>\n",
       "      <td>5.006</td>\n",
       "      <td>3.428</td>\n",
       "      <td>1.462</td>\n",
       "      <td>0.246</td>\n",
       "    </tr>\n",
       "    <tr>\n",
       "      <th>Versicolor</th>\n",
       "      <td>5.936</td>\n",
       "      <td>2.770</td>\n",
       "      <td>4.260</td>\n",
       "      <td>1.326</td>\n",
       "    </tr>\n",
       "    <tr>\n",
       "      <th>Virginica</th>\n",
       "      <td>6.588</td>\n",
       "      <td>2.974</td>\n",
       "      <td>5.552</td>\n",
       "      <td>2.026</td>\n",
       "    </tr>\n",
       "  </tbody>\n",
       "</table>\n",
       "</div>"
      ],
      "text/plain": [
       "            sepal.length  sepal.width  petal.length  petal.width\n",
       "variety                                                         \n",
       "Setosa             5.006        3.428         1.462        0.246\n",
       "Versicolor         5.936        2.770         4.260        1.326\n",
       "Virginica          6.588        2.974         5.552        2.026"
      ]
     },
     "execution_count": 24,
     "metadata": {},
     "output_type": "execute_result"
    }
   ],
   "source": [
    "group_df = df.groupby('variety').mean()\n",
    "group_df"
   ]
  },
  {
   "cell_type": "code",
   "execution_count": 25,
   "id": "318ecd58",
   "metadata": {},
   "outputs": [
    {
     "name": "stdout",
     "output_type": "stream",
     "text": [
      "<class 'pandas.core.frame.DataFrame'>\n",
      "    sepal.length  sepal.width  petal.length  petal.width variety\n",
      "0            5.1          3.5           1.4          0.2  Setosa\n",
      "1            4.9          3.0           1.4          0.2  Setosa\n",
      "2            4.7          3.2           1.3          0.2  Setosa\n",
      "3            4.6          3.1           1.5          0.2  Setosa\n",
      "4            5.0          3.6           1.4          0.2  Setosa\n",
      "5            5.4          3.9           1.7          0.4  Setosa\n",
      "6            4.6          3.4           1.4          0.3  Setosa\n",
      "7            5.0          3.4           1.5          0.2  Setosa\n",
      "8            4.4          2.9           1.4          0.2  Setosa\n",
      "9            4.9          3.1           1.5          0.1  Setosa\n",
      "10           5.4          3.7           1.5          0.2  Setosa\n",
      "11           4.8          3.4           1.6          0.2  Setosa\n",
      "12           4.8          3.0           1.4          0.1  Setosa\n",
      "13           4.3          3.0           1.1          0.1  Setosa\n",
      "14           5.8          4.0           1.2          0.2  Setosa\n",
      "15           5.7          4.4           1.5          0.4  Setosa\n",
      "16           5.4          3.9           1.3          0.4  Setosa\n",
      "17           5.1          3.5           1.4          0.3  Setosa\n",
      "18           5.7          3.8           1.7          0.3  Setosa\n",
      "19           5.1          3.8           1.5          0.3  Setosa\n",
      "20           5.4          3.4           1.7          0.2  Setosa\n",
      "21           5.1          3.7           1.5          0.4  Setosa\n",
      "22           4.6          3.6           1.0          0.2  Setosa\n",
      "23           5.1          3.3           1.7          0.5  Setosa\n",
      "24           4.8          3.4           1.9          0.2  Setosa\n",
      "25           5.0          3.0           1.6          0.2  Setosa\n",
      "26           5.0          3.4           1.6          0.4  Setosa\n",
      "27           5.2          3.5           1.5          0.2  Setosa\n",
      "28           5.2          3.4           1.4          0.2  Setosa\n",
      "29           4.7          3.2           1.6          0.2  Setosa\n",
      "30           4.8          3.1           1.6          0.2  Setosa\n",
      "31           5.4          3.4           1.5          0.4  Setosa\n",
      "32           5.2          4.1           1.5          0.1  Setosa\n",
      "33           5.5          4.2           1.4          0.2  Setosa\n",
      "34           4.9          3.1           1.5          0.2  Setosa\n",
      "35           5.0          3.2           1.2          0.2  Setosa\n",
      "36           5.5          3.5           1.3          0.2  Setosa\n",
      "37           4.9          3.6           1.4          0.1  Setosa\n",
      "38           4.4          3.0           1.3          0.2  Setosa\n",
      "39           5.1          3.4           1.5          0.2  Setosa\n",
      "40           5.0          3.5           1.3          0.3  Setosa\n",
      "41           4.5          2.3           1.3          0.3  Setosa\n",
      "42           4.4          3.2           1.3          0.2  Setosa\n",
      "43           5.0          3.5           1.6          0.6  Setosa\n",
      "44           5.1          3.8           1.9          0.4  Setosa\n",
      "45           4.8          3.0           1.4          0.3  Setosa\n",
      "46           5.1          3.8           1.6          0.2  Setosa\n",
      "47           4.6          3.2           1.4          0.2  Setosa\n",
      "48           5.3          3.7           1.5          0.2  Setosa\n",
      "49           5.0          3.3           1.4          0.2  Setosa\n",
      "<class 'pandas.core.frame.DataFrame'>\n",
      "    sepal.length  sepal.width  petal.length  petal.width     variety\n",
      "50           7.0          3.2           4.7          1.4  Versicolor\n",
      "51           6.4          3.2           4.5          1.5  Versicolor\n",
      "52           6.9          3.1           4.9          1.5  Versicolor\n",
      "53           5.5          2.3           4.0          1.3  Versicolor\n",
      "54           6.5          2.8           4.6          1.5  Versicolor\n",
      "55           5.7          2.8           4.5          1.3  Versicolor\n",
      "56           6.3          3.3           4.7          1.6  Versicolor\n",
      "57           4.9          2.4           3.3          1.0  Versicolor\n",
      "58           6.6          2.9           4.6          1.3  Versicolor\n",
      "59           5.2          2.7           3.9          1.4  Versicolor\n",
      "60           5.0          2.0           3.5          1.0  Versicolor\n",
      "61           5.9          3.0           4.2          1.5  Versicolor\n",
      "62           6.0          2.2           4.0          1.0  Versicolor\n",
      "63           6.1          2.9           4.7          1.4  Versicolor\n",
      "64           5.6          2.9           3.6          1.3  Versicolor\n",
      "65           6.7          3.1           4.4          1.4  Versicolor\n",
      "66           5.6          3.0           4.5          1.5  Versicolor\n",
      "67           5.8          2.7           4.1          1.0  Versicolor\n",
      "68           6.2          2.2           4.5          1.5  Versicolor\n",
      "69           5.6          2.5           3.9          1.1  Versicolor\n",
      "70           5.9          3.2           4.8          1.8  Versicolor\n",
      "71           6.1          2.8           4.0          1.3  Versicolor\n",
      "72           6.3          2.5           4.9          1.5  Versicolor\n",
      "73           6.1          2.8           4.7          1.2  Versicolor\n",
      "74           6.4          2.9           4.3          1.3  Versicolor\n",
      "75           6.6          3.0           4.4          1.4  Versicolor\n",
      "76           6.8          2.8           4.8          1.4  Versicolor\n",
      "77           6.7          3.0           5.0          1.7  Versicolor\n",
      "78           6.0          2.9           4.5          1.5  Versicolor\n",
      "79           5.7          2.6           3.5          1.0  Versicolor\n",
      "80           5.5          2.4           3.8          1.1  Versicolor\n",
      "81           5.5          2.4           3.7          1.0  Versicolor\n",
      "82           5.8          2.7           3.9          1.2  Versicolor\n",
      "83           6.0          2.7           5.1          1.6  Versicolor\n",
      "84           5.4          3.0           4.5          1.5  Versicolor\n",
      "85           6.0          3.4           4.5          1.6  Versicolor\n",
      "86           6.7          3.1           4.7          1.5  Versicolor\n",
      "87           6.3          2.3           4.4          1.3  Versicolor\n",
      "88           5.6          3.0           4.1          1.3  Versicolor\n",
      "89           5.5          2.5           4.0          1.3  Versicolor\n",
      "90           5.5          2.6           4.4          1.2  Versicolor\n",
      "91           6.1          3.0           4.6          1.4  Versicolor\n",
      "92           5.8          2.6           4.0          1.2  Versicolor\n",
      "93           5.0          2.3           3.3          1.0  Versicolor\n",
      "94           5.6          2.7           4.2          1.3  Versicolor\n",
      "95           5.7          3.0           4.2          1.2  Versicolor\n",
      "96           5.7          2.9           4.2          1.3  Versicolor\n",
      "97           6.2          2.9           4.3          1.3  Versicolor\n",
      "98           5.1          2.5           3.0          1.1  Versicolor\n",
      "99           5.7          2.8           4.1          1.3  Versicolor\n",
      "<class 'pandas.core.frame.DataFrame'>\n",
      "     sepal.length  sepal.width  petal.length  petal.width    variety\n",
      "100           6.3          3.3           6.0          2.5  Virginica\n",
      "101           5.8          2.7           5.1          1.9  Virginica\n",
      "102           7.1          3.0           5.9          2.1  Virginica\n",
      "103           6.3          2.9           5.6          1.8  Virginica\n",
      "104           6.5          3.0           5.8          2.2  Virginica\n",
      "105           7.6          3.0           6.6          2.1  Virginica\n",
      "106           4.9          2.5           4.5          1.7  Virginica\n",
      "107           7.3          2.9           6.3          1.8  Virginica\n",
      "108           6.7          2.5           5.8          1.8  Virginica\n",
      "109           7.2          3.6           6.1          2.5  Virginica\n",
      "110           6.5          3.2           5.1          2.0  Virginica\n",
      "111           6.4          2.7           5.3          1.9  Virginica\n",
      "112           6.8          3.0           5.5          2.1  Virginica\n",
      "113           5.7          2.5           5.0          2.0  Virginica\n",
      "114           5.8          2.8           5.1          2.4  Virginica\n",
      "115           6.4          3.2           5.3          2.3  Virginica\n",
      "116           6.5          3.0           5.5          1.8  Virginica\n",
      "117           7.7          3.8           6.7          2.2  Virginica\n",
      "118           7.7          2.6           6.9          2.3  Virginica\n",
      "119           6.0          2.2           5.0          1.5  Virginica\n",
      "120           6.9          3.2           5.7          2.3  Virginica\n",
      "121           5.6          2.8           4.9          2.0  Virginica\n",
      "122           7.7          2.8           6.7          2.0  Virginica\n",
      "123           6.3          2.7           4.9          1.8  Virginica\n",
      "124           6.7          3.3           5.7          2.1  Virginica\n",
      "125           7.2          3.2           6.0          1.8  Virginica\n",
      "126           6.2          2.8           4.8          1.8  Virginica\n",
      "127           6.1          3.0           4.9          1.8  Virginica\n",
      "128           6.4          2.8           5.6          2.1  Virginica\n",
      "129           7.2          3.0           5.8          1.6  Virginica\n",
      "130           7.4          2.8           6.1          1.9  Virginica\n",
      "131           7.9          3.8           6.4          2.0  Virginica\n",
      "132           6.4          2.8           5.6          2.2  Virginica\n",
      "133           6.3          2.8           5.1          1.5  Virginica\n",
      "134           6.1          2.6           5.6          1.4  Virginica\n",
      "135           7.7          3.0           6.1          2.3  Virginica\n",
      "136           6.3          3.4           5.6          2.4  Virginica\n",
      "137           6.4          3.1           5.5          1.8  Virginica\n",
      "138           6.0          3.0           4.8          1.8  Virginica\n",
      "139           6.9          3.1           5.4          2.1  Virginica\n",
      "140           6.7          3.1           5.6          2.4  Virginica\n",
      "141           6.9          3.1           5.1          2.3  Virginica\n",
      "142           5.8          2.7           5.1          1.9  Virginica\n",
      "143           6.8          3.2           5.9          2.3  Virginica\n",
      "144           6.7          3.3           5.7          2.5  Virginica\n",
      "145           6.7          3.0           5.2          2.3  Virginica\n",
      "146           6.3          2.5           5.0          1.9  Virginica\n",
      "147           6.5          3.0           5.2          2.0  Virginica\n",
      "148           6.2          3.4           5.4          2.3  Virginica\n",
      "149           5.9          3.0           5.1          1.8  Virginica\n"
     ]
    },
    {
     "name": "stderr",
     "output_type": "stream",
     "text": [
      "C:\\Users\\user\\AppData\\Local\\Temp\\ipykernel_8396\\564304249.py:5: FutureWarning: DataFrameGroupBy.apply operated on the grouping columns. This behavior is deprecated, and in a future version of pandas the grouping columns will be excluded from the operation. Either pass `include_groups=False` to exclude the groupings or explicitly select the grouping columns after groupby to silence this warning.\n",
      "  df.groupby('variety').apply(f)\n"
     ]
    },
    {
     "data": {
      "text/html": [
       "<div>\n",
       "<style scoped>\n",
       "    .dataframe tbody tr th:only-of-type {\n",
       "        vertical-align: middle;\n",
       "    }\n",
       "\n",
       "    .dataframe tbody tr th {\n",
       "        vertical-align: top;\n",
       "    }\n",
       "\n",
       "    .dataframe thead th {\n",
       "        text-align: right;\n",
       "    }\n",
       "</style>\n",
       "<table border=\"1\" class=\"dataframe\">\n",
       "  <thead>\n",
       "    <tr style=\"text-align: right;\">\n",
       "      <th></th>\n",
       "    </tr>\n",
       "  </thead>\n",
       "  <tbody>\n",
       "  </tbody>\n",
       "</table>\n",
       "</div>"
      ],
      "text/plain": [
       "Empty DataFrame\n",
       "Columns: []\n",
       "Index: []"
      ]
     },
     "execution_count": 25,
     "metadata": {},
     "output_type": "execute_result"
    }
   ],
   "source": [
    "def f(x):\n",
    "    print(type(x))\n",
    "    print(x)\n",
    "\n",
    "df.groupby('variety').apply(f)"
   ]
  },
  {
   "cell_type": "code",
   "execution_count": 26,
   "id": "99e849aa",
   "metadata": {},
   "outputs": [
    {
     "name": "stdout",
     "output_type": "stream",
     "text": [
      "<class 'pandas.core.series.Series'>\n",
      "0     5.1\n",
      "1     4.9\n",
      "2     4.7\n",
      "3     4.6\n",
      "4     5.0\n",
      "5     5.4\n",
      "6     4.6\n",
      "7     5.0\n",
      "8     4.4\n",
      "9     4.9\n",
      "10    5.4\n",
      "11    4.8\n",
      "12    4.8\n",
      "13    4.3\n",
      "14    5.8\n",
      "15    5.7\n",
      "16    5.4\n",
      "17    5.1\n",
      "18    5.7\n",
      "19    5.1\n",
      "20    5.4\n",
      "21    5.1\n",
      "22    4.6\n",
      "23    5.1\n",
      "24    4.8\n",
      "25    5.0\n",
      "26    5.0\n",
      "27    5.2\n",
      "28    5.2\n",
      "29    4.7\n",
      "30    4.8\n",
      "31    5.4\n",
      "32    5.2\n",
      "33    5.5\n",
      "34    4.9\n",
      "35    5.0\n",
      "36    5.5\n",
      "37    4.9\n",
      "38    4.4\n",
      "39    5.1\n",
      "40    5.0\n",
      "41    4.5\n",
      "42    4.4\n",
      "43    5.0\n",
      "44    5.1\n",
      "45    4.8\n",
      "46    5.1\n",
      "47    4.6\n",
      "48    5.3\n",
      "49    5.0\n",
      "Name: sepal.length, dtype: float64\n",
      "<class 'pandas.core.series.Series'>\n",
      "0     3.5\n",
      "1     3.0\n",
      "2     3.2\n",
      "3     3.1\n",
      "4     3.6\n",
      "5     3.9\n",
      "6     3.4\n",
      "7     3.4\n",
      "8     2.9\n",
      "9     3.1\n",
      "10    3.7\n",
      "11    3.4\n",
      "12    3.0\n",
      "13    3.0\n",
      "14    4.0\n",
      "15    4.4\n",
      "16    3.9\n",
      "17    3.5\n",
      "18    3.8\n",
      "19    3.8\n",
      "20    3.4\n",
      "21    3.7\n",
      "22    3.6\n",
      "23    3.3\n",
      "24    3.4\n",
      "25    3.0\n",
      "26    3.4\n",
      "27    3.5\n",
      "28    3.4\n",
      "29    3.2\n",
      "30    3.1\n",
      "31    3.4\n",
      "32    4.1\n",
      "33    4.2\n",
      "34    3.1\n",
      "35    3.2\n",
      "36    3.5\n",
      "37    3.6\n",
      "38    3.0\n",
      "39    3.4\n",
      "40    3.5\n",
      "41    2.3\n",
      "42    3.2\n",
      "43    3.5\n",
      "44    3.8\n",
      "45    3.0\n",
      "46    3.8\n",
      "47    3.2\n",
      "48    3.7\n",
      "49    3.3\n",
      "Name: sepal.width, dtype: float64\n",
      "<class 'pandas.core.series.Series'>\n",
      "0     1.4\n",
      "1     1.4\n",
      "2     1.3\n",
      "3     1.5\n",
      "4     1.4\n",
      "5     1.7\n",
      "6     1.4\n",
      "7     1.5\n",
      "8     1.4\n",
      "9     1.5\n",
      "10    1.5\n",
      "11    1.6\n",
      "12    1.4\n",
      "13    1.1\n",
      "14    1.2\n",
      "15    1.5\n",
      "16    1.3\n",
      "17    1.4\n",
      "18    1.7\n",
      "19    1.5\n",
      "20    1.7\n",
      "21    1.5\n",
      "22    1.0\n",
      "23    1.7\n",
      "24    1.9\n",
      "25    1.6\n",
      "26    1.6\n",
      "27    1.5\n",
      "28    1.4\n",
      "29    1.6\n",
      "30    1.6\n",
      "31    1.5\n",
      "32    1.5\n",
      "33    1.4\n",
      "34    1.5\n",
      "35    1.2\n",
      "36    1.3\n",
      "37    1.4\n",
      "38    1.3\n",
      "39    1.5\n",
      "40    1.3\n",
      "41    1.3\n",
      "42    1.3\n",
      "43    1.6\n",
      "44    1.9\n",
      "45    1.4\n",
      "46    1.6\n",
      "47    1.4\n",
      "48    1.5\n",
      "49    1.4\n",
      "Name: petal.length, dtype: float64\n",
      "<class 'pandas.core.series.Series'>\n",
      "0     0.2\n",
      "1     0.2\n",
      "2     0.2\n",
      "3     0.2\n",
      "4     0.2\n",
      "5     0.4\n",
      "6     0.3\n",
      "7     0.2\n",
      "8     0.2\n",
      "9     0.1\n",
      "10    0.2\n",
      "11    0.2\n",
      "12    0.1\n",
      "13    0.1\n",
      "14    0.2\n",
      "15    0.4\n",
      "16    0.4\n",
      "17    0.3\n",
      "18    0.3\n",
      "19    0.3\n",
      "20    0.2\n",
      "21    0.4\n",
      "22    0.2\n",
      "23    0.5\n",
      "24    0.2\n",
      "25    0.2\n",
      "26    0.4\n",
      "27    0.2\n",
      "28    0.2\n",
      "29    0.2\n",
      "30    0.2\n",
      "31    0.4\n",
      "32    0.1\n",
      "33    0.2\n",
      "34    0.2\n",
      "35    0.2\n",
      "36    0.2\n",
      "37    0.1\n",
      "38    0.2\n",
      "39    0.2\n",
      "40    0.3\n",
      "41    0.3\n",
      "42    0.2\n",
      "43    0.6\n",
      "44    0.4\n",
      "45    0.3\n",
      "46    0.2\n",
      "47    0.2\n",
      "48    0.2\n",
      "49    0.2\n",
      "Name: petal.width, dtype: float64\n",
      "<class 'pandas.core.frame.DataFrame'>\n",
      "    sepal.length  sepal.width  petal.length  petal.width\n",
      "0            5.1          3.5           1.4          0.2\n",
      "1            4.9          3.0           1.4          0.2\n",
      "2            4.7          3.2           1.3          0.2\n",
      "3            4.6          3.1           1.5          0.2\n",
      "4            5.0          3.6           1.4          0.2\n",
      "5            5.4          3.9           1.7          0.4\n",
      "6            4.6          3.4           1.4          0.3\n",
      "7            5.0          3.4           1.5          0.2\n",
      "8            4.4          2.9           1.4          0.2\n",
      "9            4.9          3.1           1.5          0.1\n",
      "10           5.4          3.7           1.5          0.2\n",
      "11           4.8          3.4           1.6          0.2\n",
      "12           4.8          3.0           1.4          0.1\n",
      "13           4.3          3.0           1.1          0.1\n",
      "14           5.8          4.0           1.2          0.2\n",
      "15           5.7          4.4           1.5          0.4\n",
      "16           5.4          3.9           1.3          0.4\n",
      "17           5.1          3.5           1.4          0.3\n",
      "18           5.7          3.8           1.7          0.3\n",
      "19           5.1          3.8           1.5          0.3\n",
      "20           5.4          3.4           1.7          0.2\n",
      "21           5.1          3.7           1.5          0.4\n",
      "22           4.6          3.6           1.0          0.2\n",
      "23           5.1          3.3           1.7          0.5\n",
      "24           4.8          3.4           1.9          0.2\n",
      "25           5.0          3.0           1.6          0.2\n",
      "26           5.0          3.4           1.6          0.4\n",
      "27           5.2          3.5           1.5          0.2\n",
      "28           5.2          3.4           1.4          0.2\n",
      "29           4.7          3.2           1.6          0.2\n",
      "30           4.8          3.1           1.6          0.2\n",
      "31           5.4          3.4           1.5          0.4\n",
      "32           5.2          4.1           1.5          0.1\n",
      "33           5.5          4.2           1.4          0.2\n",
      "34           4.9          3.1           1.5          0.2\n",
      "35           5.0          3.2           1.2          0.2\n",
      "36           5.5          3.5           1.3          0.2\n",
      "37           4.9          3.6           1.4          0.1\n",
      "38           4.4          3.0           1.3          0.2\n",
      "39           5.1          3.4           1.5          0.2\n",
      "40           5.0          3.5           1.3          0.3\n",
      "41           4.5          2.3           1.3          0.3\n",
      "42           4.4          3.2           1.3          0.2\n",
      "43           5.0          3.5           1.6          0.6\n",
      "44           5.1          3.8           1.9          0.4\n",
      "45           4.8          3.0           1.4          0.3\n",
      "46           5.1          3.8           1.6          0.2\n",
      "47           4.6          3.2           1.4          0.2\n",
      "48           5.3          3.7           1.5          0.2\n",
      "49           5.0          3.3           1.4          0.2\n",
      "<class 'pandas.core.series.Series'>\n",
      "50    7.0\n",
      "51    6.4\n",
      "52    6.9\n",
      "53    5.5\n",
      "54    6.5\n",
      "55    5.7\n",
      "56    6.3\n",
      "57    4.9\n",
      "58    6.6\n",
      "59    5.2\n",
      "60    5.0\n",
      "61    5.9\n",
      "62    6.0\n",
      "63    6.1\n",
      "64    5.6\n",
      "65    6.7\n",
      "66    5.6\n",
      "67    5.8\n",
      "68    6.2\n",
      "69    5.6\n",
      "70    5.9\n",
      "71    6.1\n",
      "72    6.3\n",
      "73    6.1\n",
      "74    6.4\n",
      "75    6.6\n",
      "76    6.8\n",
      "77    6.7\n",
      "78    6.0\n",
      "79    5.7\n",
      "80    5.5\n",
      "81    5.5\n",
      "82    5.8\n",
      "83    6.0\n",
      "84    5.4\n",
      "85    6.0\n",
      "86    6.7\n",
      "87    6.3\n",
      "88    5.6\n",
      "89    5.5\n",
      "90    5.5\n",
      "91    6.1\n",
      "92    5.8\n",
      "93    5.0\n",
      "94    5.6\n",
      "95    5.7\n",
      "96    5.7\n",
      "97    6.2\n",
      "98    5.1\n",
      "99    5.7\n",
      "Name: sepal.length, dtype: float64\n",
      "<class 'pandas.core.series.Series'>\n",
      "50    3.2\n",
      "51    3.2\n",
      "52    3.1\n",
      "53    2.3\n",
      "54    2.8\n",
      "55    2.8\n",
      "56    3.3\n",
      "57    2.4\n",
      "58    2.9\n",
      "59    2.7\n",
      "60    2.0\n",
      "61    3.0\n",
      "62    2.2\n",
      "63    2.9\n",
      "64    2.9\n",
      "65    3.1\n",
      "66    3.0\n",
      "67    2.7\n",
      "68    2.2\n",
      "69    2.5\n",
      "70    3.2\n",
      "71    2.8\n",
      "72    2.5\n",
      "73    2.8\n",
      "74    2.9\n",
      "75    3.0\n",
      "76    2.8\n",
      "77    3.0\n",
      "78    2.9\n",
      "79    2.6\n",
      "80    2.4\n",
      "81    2.4\n",
      "82    2.7\n",
      "83    2.7\n",
      "84    3.0\n",
      "85    3.4\n",
      "86    3.1\n",
      "87    2.3\n",
      "88    3.0\n",
      "89    2.5\n",
      "90    2.6\n",
      "91    3.0\n",
      "92    2.6\n",
      "93    2.3\n",
      "94    2.7\n",
      "95    3.0\n",
      "96    2.9\n",
      "97    2.9\n",
      "98    2.5\n",
      "99    2.8\n",
      "Name: sepal.width, dtype: float64\n",
      "<class 'pandas.core.series.Series'>\n",
      "50    4.7\n",
      "51    4.5\n",
      "52    4.9\n",
      "53    4.0\n",
      "54    4.6\n",
      "55    4.5\n",
      "56    4.7\n",
      "57    3.3\n",
      "58    4.6\n",
      "59    3.9\n",
      "60    3.5\n",
      "61    4.2\n",
      "62    4.0\n",
      "63    4.7\n",
      "64    3.6\n",
      "65    4.4\n",
      "66    4.5\n",
      "67    4.1\n",
      "68    4.5\n",
      "69    3.9\n",
      "70    4.8\n",
      "71    4.0\n",
      "72    4.9\n",
      "73    4.7\n",
      "74    4.3\n",
      "75    4.4\n",
      "76    4.8\n",
      "77    5.0\n",
      "78    4.5\n",
      "79    3.5\n",
      "80    3.8\n",
      "81    3.7\n",
      "82    3.9\n",
      "83    5.1\n",
      "84    4.5\n",
      "85    4.5\n",
      "86    4.7\n",
      "87    4.4\n",
      "88    4.1\n",
      "89    4.0\n",
      "90    4.4\n",
      "91    4.6\n",
      "92    4.0\n",
      "93    3.3\n",
      "94    4.2\n",
      "95    4.2\n",
      "96    4.2\n",
      "97    4.3\n",
      "98    3.0\n",
      "99    4.1\n",
      "Name: petal.length, dtype: float64\n",
      "<class 'pandas.core.series.Series'>\n",
      "50    1.4\n",
      "51    1.5\n",
      "52    1.5\n",
      "53    1.3\n",
      "54    1.5\n",
      "55    1.3\n",
      "56    1.6\n",
      "57    1.0\n",
      "58    1.3\n",
      "59    1.4\n",
      "60    1.0\n",
      "61    1.5\n",
      "62    1.0\n",
      "63    1.4\n",
      "64    1.3\n",
      "65    1.4\n",
      "66    1.5\n",
      "67    1.0\n",
      "68    1.5\n",
      "69    1.1\n",
      "70    1.8\n",
      "71    1.3\n",
      "72    1.5\n",
      "73    1.2\n",
      "74    1.3\n",
      "75    1.4\n",
      "76    1.4\n",
      "77    1.7\n",
      "78    1.5\n",
      "79    1.0\n",
      "80    1.1\n",
      "81    1.0\n",
      "82    1.2\n",
      "83    1.6\n",
      "84    1.5\n",
      "85    1.6\n",
      "86    1.5\n",
      "87    1.3\n",
      "88    1.3\n",
      "89    1.3\n",
      "90    1.2\n",
      "91    1.4\n",
      "92    1.2\n",
      "93    1.0\n",
      "94    1.3\n",
      "95    1.2\n",
      "96    1.3\n",
      "97    1.3\n",
      "98    1.1\n",
      "99    1.3\n",
      "Name: petal.width, dtype: float64\n",
      "<class 'pandas.core.series.Series'>\n",
      "100    6.3\n",
      "101    5.8\n",
      "102    7.1\n",
      "103    6.3\n",
      "104    6.5\n",
      "105    7.6\n",
      "106    4.9\n",
      "107    7.3\n",
      "108    6.7\n",
      "109    7.2\n",
      "110    6.5\n",
      "111    6.4\n",
      "112    6.8\n",
      "113    5.7\n",
      "114    5.8\n",
      "115    6.4\n",
      "116    6.5\n",
      "117    7.7\n",
      "118    7.7\n",
      "119    6.0\n",
      "120    6.9\n",
      "121    5.6\n",
      "122    7.7\n",
      "123    6.3\n",
      "124    6.7\n",
      "125    7.2\n",
      "126    6.2\n",
      "127    6.1\n",
      "128    6.4\n",
      "129    7.2\n",
      "130    7.4\n",
      "131    7.9\n",
      "132    6.4\n",
      "133    6.3\n",
      "134    6.1\n",
      "135    7.7\n",
      "136    6.3\n",
      "137    6.4\n",
      "138    6.0\n",
      "139    6.9\n",
      "140    6.7\n",
      "141    6.9\n",
      "142    5.8\n",
      "143    6.8\n",
      "144    6.7\n",
      "145    6.7\n",
      "146    6.3\n",
      "147    6.5\n",
      "148    6.2\n",
      "149    5.9\n",
      "Name: sepal.length, dtype: float64\n",
      "<class 'pandas.core.series.Series'>\n",
      "100    3.3\n",
      "101    2.7\n",
      "102    3.0\n",
      "103    2.9\n",
      "104    3.0\n",
      "105    3.0\n",
      "106    2.5\n",
      "107    2.9\n",
      "108    2.5\n",
      "109    3.6\n",
      "110    3.2\n",
      "111    2.7\n",
      "112    3.0\n",
      "113    2.5\n",
      "114    2.8\n",
      "115    3.2\n",
      "116    3.0\n",
      "117    3.8\n",
      "118    2.6\n",
      "119    2.2\n",
      "120    3.2\n",
      "121    2.8\n",
      "122    2.8\n",
      "123    2.7\n",
      "124    3.3\n",
      "125    3.2\n",
      "126    2.8\n",
      "127    3.0\n",
      "128    2.8\n",
      "129    3.0\n",
      "130    2.8\n",
      "131    3.8\n",
      "132    2.8\n",
      "133    2.8\n",
      "134    2.6\n",
      "135    3.0\n",
      "136    3.4\n",
      "137    3.1\n",
      "138    3.0\n",
      "139    3.1\n",
      "140    3.1\n",
      "141    3.1\n",
      "142    2.7\n",
      "143    3.2\n",
      "144    3.3\n",
      "145    3.0\n",
      "146    2.5\n",
      "147    3.0\n",
      "148    3.4\n",
      "149    3.0\n",
      "Name: sepal.width, dtype: float64\n",
      "<class 'pandas.core.series.Series'>\n",
      "100    6.0\n",
      "101    5.1\n",
      "102    5.9\n",
      "103    5.6\n",
      "104    5.8\n",
      "105    6.6\n",
      "106    4.5\n",
      "107    6.3\n",
      "108    5.8\n",
      "109    6.1\n",
      "110    5.1\n",
      "111    5.3\n",
      "112    5.5\n",
      "113    5.0\n",
      "114    5.1\n",
      "115    5.3\n",
      "116    5.5\n",
      "117    6.7\n",
      "118    6.9\n",
      "119    5.0\n",
      "120    5.7\n",
      "121    4.9\n",
      "122    6.7\n",
      "123    4.9\n",
      "124    5.7\n",
      "125    6.0\n",
      "126    4.8\n",
      "127    4.9\n",
      "128    5.6\n",
      "129    5.8\n",
      "130    6.1\n",
      "131    6.4\n",
      "132    5.6\n",
      "133    5.1\n",
      "134    5.6\n",
      "135    6.1\n",
      "136    5.6\n",
      "137    5.5\n",
      "138    4.8\n",
      "139    5.4\n",
      "140    5.6\n",
      "141    5.1\n",
      "142    5.1\n",
      "143    5.9\n",
      "144    5.7\n",
      "145    5.2\n",
      "146    5.0\n",
      "147    5.2\n",
      "148    5.4\n",
      "149    5.1\n",
      "Name: petal.length, dtype: float64\n",
      "<class 'pandas.core.series.Series'>\n",
      "100    2.5\n",
      "101    1.9\n",
      "102    2.1\n",
      "103    1.8\n",
      "104    2.2\n",
      "105    2.1\n",
      "106    1.7\n",
      "107    1.8\n",
      "108    1.8\n",
      "109    2.5\n",
      "110    2.0\n",
      "111    1.9\n",
      "112    2.1\n",
      "113    2.0\n",
      "114    2.4\n",
      "115    2.3\n",
      "116    1.8\n",
      "117    2.2\n",
      "118    2.3\n",
      "119    1.5\n",
      "120    2.3\n",
      "121    2.0\n",
      "122    2.0\n",
      "123    1.8\n",
      "124    2.1\n",
      "125    1.8\n",
      "126    1.8\n",
      "127    1.8\n",
      "128    2.1\n",
      "129    1.6\n",
      "130    1.9\n",
      "131    2.0\n",
      "132    2.2\n",
      "133    1.5\n",
      "134    1.4\n",
      "135    2.3\n",
      "136    2.4\n",
      "137    1.8\n",
      "138    1.8\n",
      "139    2.1\n",
      "140    2.4\n",
      "141    2.3\n",
      "142    1.9\n",
      "143    2.3\n",
      "144    2.5\n",
      "145    2.3\n",
      "146    1.9\n",
      "147    2.0\n",
      "148    2.3\n",
      "149    1.8\n",
      "Name: petal.width, dtype: float64\n"
     ]
    },
    {
     "data": {
      "text/html": [
       "<div>\n",
       "<style scoped>\n",
       "    .dataframe tbody tr th:only-of-type {\n",
       "        vertical-align: middle;\n",
       "    }\n",
       "\n",
       "    .dataframe tbody tr th {\n",
       "        vertical-align: top;\n",
       "    }\n",
       "\n",
       "    .dataframe thead th {\n",
       "        text-align: right;\n",
       "    }\n",
       "</style>\n",
       "<table border=\"1\" class=\"dataframe\">\n",
       "  <thead>\n",
       "    <tr style=\"text-align: right;\">\n",
       "      <th></th>\n",
       "      <th>sepal.length</th>\n",
       "      <th>sepal.width</th>\n",
       "      <th>petal.length</th>\n",
       "      <th>petal.width</th>\n",
       "    </tr>\n",
       "  </thead>\n",
       "  <tbody>\n",
       "    <tr>\n",
       "      <th>0</th>\n",
       "      <td>None</td>\n",
       "      <td>None</td>\n",
       "      <td>None</td>\n",
       "      <td>None</td>\n",
       "    </tr>\n",
       "    <tr>\n",
       "      <th>1</th>\n",
       "      <td>None</td>\n",
       "      <td>None</td>\n",
       "      <td>None</td>\n",
       "      <td>None</td>\n",
       "    </tr>\n",
       "    <tr>\n",
       "      <th>2</th>\n",
       "      <td>None</td>\n",
       "      <td>None</td>\n",
       "      <td>None</td>\n",
       "      <td>None</td>\n",
       "    </tr>\n",
       "    <tr>\n",
       "      <th>3</th>\n",
       "      <td>None</td>\n",
       "      <td>None</td>\n",
       "      <td>None</td>\n",
       "      <td>None</td>\n",
       "    </tr>\n",
       "    <tr>\n",
       "      <th>4</th>\n",
       "      <td>None</td>\n",
       "      <td>None</td>\n",
       "      <td>None</td>\n",
       "      <td>None</td>\n",
       "    </tr>\n",
       "    <tr>\n",
       "      <th>...</th>\n",
       "      <td>...</td>\n",
       "      <td>...</td>\n",
       "      <td>...</td>\n",
       "      <td>...</td>\n",
       "    </tr>\n",
       "    <tr>\n",
       "      <th>145</th>\n",
       "      <td>None</td>\n",
       "      <td>None</td>\n",
       "      <td>None</td>\n",
       "      <td>None</td>\n",
       "    </tr>\n",
       "    <tr>\n",
       "      <th>146</th>\n",
       "      <td>None</td>\n",
       "      <td>None</td>\n",
       "      <td>None</td>\n",
       "      <td>None</td>\n",
       "    </tr>\n",
       "    <tr>\n",
       "      <th>147</th>\n",
       "      <td>None</td>\n",
       "      <td>None</td>\n",
       "      <td>None</td>\n",
       "      <td>None</td>\n",
       "    </tr>\n",
       "    <tr>\n",
       "      <th>148</th>\n",
       "      <td>None</td>\n",
       "      <td>None</td>\n",
       "      <td>None</td>\n",
       "      <td>None</td>\n",
       "    </tr>\n",
       "    <tr>\n",
       "      <th>149</th>\n",
       "      <td>None</td>\n",
       "      <td>None</td>\n",
       "      <td>None</td>\n",
       "      <td>None</td>\n",
       "    </tr>\n",
       "  </tbody>\n",
       "</table>\n",
       "<p>150 rows × 4 columns</p>\n",
       "</div>"
      ],
      "text/plain": [
       "    sepal.length sepal.width petal.length petal.width\n",
       "0           None        None         None        None\n",
       "1           None        None         None        None\n",
       "2           None        None         None        None\n",
       "3           None        None         None        None\n",
       "4           None        None         None        None\n",
       "..           ...         ...          ...         ...\n",
       "145         None        None         None        None\n",
       "146         None        None         None        None\n",
       "147         None        None         None        None\n",
       "148         None        None         None        None\n",
       "149         None        None         None        None\n",
       "\n",
       "[150 rows x 4 columns]"
      ]
     },
     "execution_count": 26,
     "metadata": {},
     "output_type": "execute_result"
    }
   ],
   "source": [
    "def f(x):\n",
    "    print(type(x))\n",
    "    print(x)\n",
    "\n",
    "df.groupby('variety').transform(f)"
   ]
  },
  {
   "cell_type": "code",
   "execution_count": 29,
   "id": "6891a3a3",
   "metadata": {},
   "outputs": [
    {
     "name": "stdout",
     "output_type": "stream",
     "text": [
      "Collecting seaborn\n",
      "  Downloading seaborn-0.13.2-py3-none-any.whl.metadata (5.4 kB)\n",
      "Requirement already satisfied: numpy!=1.24.0,>=1.20 in c:\\users\\user\\miniconda3\\envs\\aip\\lib\\site-packages (from seaborn) (2.0.1)\n",
      "Requirement already satisfied: pandas>=1.2 in c:\\users\\user\\miniconda3\\envs\\aip\\lib\\site-packages (from seaborn) (2.3.1)\n",
      "Requirement already satisfied: matplotlib!=3.6.1,>=3.4 in c:\\users\\user\\miniconda3\\envs\\aip\\lib\\site-packages (from seaborn) (3.9.2)\n",
      "Requirement already satisfied: contourpy>=1.0.1 in c:\\users\\user\\miniconda3\\envs\\aip\\lib\\site-packages (from matplotlib!=3.6.1,>=3.4->seaborn) (1.2.1)\n",
      "Requirement already satisfied: cycler>=0.10 in c:\\users\\user\\miniconda3\\envs\\aip\\lib\\site-packages (from matplotlib!=3.6.1,>=3.4->seaborn) (0.11.0)\n",
      "Requirement already satisfied: fonttools>=4.22.0 in c:\\users\\user\\miniconda3\\envs\\aip\\lib\\site-packages (from matplotlib!=3.6.1,>=3.4->seaborn) (4.55.3)\n",
      "Requirement already satisfied: kiwisolver>=1.3.1 in c:\\users\\user\\miniconda3\\envs\\aip\\lib\\site-packages (from matplotlib!=3.6.1,>=3.4->seaborn) (1.4.4)\n",
      "Requirement already satisfied: packaging>=20.0 in c:\\users\\user\\appdata\\roaming\\python\\python39\\site-packages (from matplotlib!=3.6.1,>=3.4->seaborn) (25.0)\n",
      "Requirement already satisfied: pillow>=8 in c:\\users\\user\\miniconda3\\envs\\aip\\lib\\site-packages (from matplotlib!=3.6.1,>=3.4->seaborn) (11.1.0)\n",
      "Requirement already satisfied: pyparsing>=2.3.1 in c:\\users\\user\\miniconda3\\envs\\aip\\lib\\site-packages (from matplotlib!=3.6.1,>=3.4->seaborn) (3.2.0)\n",
      "Requirement already satisfied: python-dateutil>=2.7 in c:\\users\\user\\appdata\\roaming\\python\\python39\\site-packages (from matplotlib!=3.6.1,>=3.4->seaborn) (2.9.0.post0)\n",
      "Requirement already satisfied: importlib-resources>=3.2.0 in c:\\users\\user\\miniconda3\\envs\\aip\\lib\\site-packages (from matplotlib!=3.6.1,>=3.4->seaborn) (6.4.0)\n",
      "Requirement already satisfied: zipp>=3.1.0 in c:\\users\\user\\appdata\\roaming\\python\\python39\\site-packages (from importlib-resources>=3.2.0->matplotlib!=3.6.1,>=3.4->seaborn) (3.23.0)\n",
      "Requirement already satisfied: pytz>=2020.1 in c:\\users\\user\\miniconda3\\envs\\aip\\lib\\site-packages (from pandas>=1.2->seaborn) (2025.2)\n",
      "Requirement already satisfied: tzdata>=2022.7 in c:\\users\\user\\miniconda3\\envs\\aip\\lib\\site-packages (from pandas>=1.2->seaborn) (2025.2)\n",
      "Requirement already satisfied: six>=1.5 in c:\\users\\user\\appdata\\roaming\\python\\python39\\site-packages (from python-dateutil>=2.7->matplotlib!=3.6.1,>=3.4->seaborn) (1.17.0)\n",
      "Downloading seaborn-0.13.2-py3-none-any.whl (294 kB)\n",
      "Installing collected packages: seaborn\n",
      "Successfully installed seaborn-0.13.2\n"
     ]
    }
   ],
   "source": [
    "!pip install seaborn"
   ]
  },
  {
   "cell_type": "code",
   "execution_count": 31,
   "id": "cbbd6123",
   "metadata": {},
   "outputs": [
    {
     "data": {
      "text/html": [
       "<div>\n",
       "<style scoped>\n",
       "    .dataframe tbody tr th:only-of-type {\n",
       "        vertical-align: middle;\n",
       "    }\n",
       "\n",
       "    .dataframe tbody tr th {\n",
       "        vertical-align: top;\n",
       "    }\n",
       "\n",
       "    .dataframe thead th {\n",
       "        text-align: right;\n",
       "    }\n",
       "</style>\n",
       "<table border=\"1\" class=\"dataframe\">\n",
       "  <thead>\n",
       "    <tr style=\"text-align: right;\">\n",
       "      <th></th>\n",
       "      <th>survived</th>\n",
       "      <th>pclass</th>\n",
       "      <th>sex</th>\n",
       "      <th>age</th>\n",
       "      <th>sibsp</th>\n",
       "      <th>parch</th>\n",
       "      <th>fare</th>\n",
       "      <th>embarked</th>\n",
       "      <th>class</th>\n",
       "      <th>who</th>\n",
       "      <th>adult_male</th>\n",
       "      <th>deck</th>\n",
       "      <th>embark_town</th>\n",
       "      <th>alive</th>\n",
       "      <th>alone</th>\n",
       "    </tr>\n",
       "  </thead>\n",
       "  <tbody>\n",
       "    <tr>\n",
       "      <th>0</th>\n",
       "      <td>0</td>\n",
       "      <td>3</td>\n",
       "      <td>male</td>\n",
       "      <td>22.0</td>\n",
       "      <td>1</td>\n",
       "      <td>0</td>\n",
       "      <td>7.2500</td>\n",
       "      <td>S</td>\n",
       "      <td>Third</td>\n",
       "      <td>man</td>\n",
       "      <td>True</td>\n",
       "      <td>NaN</td>\n",
       "      <td>Southampton</td>\n",
       "      <td>no</td>\n",
       "      <td>False</td>\n",
       "    </tr>\n",
       "    <tr>\n",
       "      <th>1</th>\n",
       "      <td>1</td>\n",
       "      <td>1</td>\n",
       "      <td>female</td>\n",
       "      <td>38.0</td>\n",
       "      <td>1</td>\n",
       "      <td>0</td>\n",
       "      <td>71.2833</td>\n",
       "      <td>C</td>\n",
       "      <td>First</td>\n",
       "      <td>woman</td>\n",
       "      <td>False</td>\n",
       "      <td>C</td>\n",
       "      <td>Cherbourg</td>\n",
       "      <td>yes</td>\n",
       "      <td>False</td>\n",
       "    </tr>\n",
       "    <tr>\n",
       "      <th>2</th>\n",
       "      <td>1</td>\n",
       "      <td>3</td>\n",
       "      <td>female</td>\n",
       "      <td>26.0</td>\n",
       "      <td>0</td>\n",
       "      <td>0</td>\n",
       "      <td>7.9250</td>\n",
       "      <td>S</td>\n",
       "      <td>Third</td>\n",
       "      <td>woman</td>\n",
       "      <td>False</td>\n",
       "      <td>NaN</td>\n",
       "      <td>Southampton</td>\n",
       "      <td>yes</td>\n",
       "      <td>True</td>\n",
       "    </tr>\n",
       "    <tr>\n",
       "      <th>3</th>\n",
       "      <td>1</td>\n",
       "      <td>1</td>\n",
       "      <td>female</td>\n",
       "      <td>35.0</td>\n",
       "      <td>1</td>\n",
       "      <td>0</td>\n",
       "      <td>53.1000</td>\n",
       "      <td>S</td>\n",
       "      <td>First</td>\n",
       "      <td>woman</td>\n",
       "      <td>False</td>\n",
       "      <td>C</td>\n",
       "      <td>Southampton</td>\n",
       "      <td>yes</td>\n",
       "      <td>False</td>\n",
       "    </tr>\n",
       "    <tr>\n",
       "      <th>4</th>\n",
       "      <td>0</td>\n",
       "      <td>3</td>\n",
       "      <td>male</td>\n",
       "      <td>35.0</td>\n",
       "      <td>0</td>\n",
       "      <td>0</td>\n",
       "      <td>8.0500</td>\n",
       "      <td>S</td>\n",
       "      <td>Third</td>\n",
       "      <td>man</td>\n",
       "      <td>True</td>\n",
       "      <td>NaN</td>\n",
       "      <td>Southampton</td>\n",
       "      <td>no</td>\n",
       "      <td>True</td>\n",
       "    </tr>\n",
       "  </tbody>\n",
       "</table>\n",
       "</div>"
      ],
      "text/plain": [
       "   survived  pclass     sex   age  sibsp  parch     fare embarked  class  \\\n",
       "0         0       3    male  22.0      1      0   7.2500        S  Third   \n",
       "1         1       1  female  38.0      1      0  71.2833        C  First   \n",
       "2         1       3  female  26.0      0      0   7.9250        S  Third   \n",
       "3         1       1  female  35.0      1      0  53.1000        S  First   \n",
       "4         0       3    male  35.0      0      0   8.0500        S  Third   \n",
       "\n",
       "     who  adult_male deck  embark_town alive  alone  \n",
       "0    man        True  NaN  Southampton    no  False  \n",
       "1  woman       False    C    Cherbourg   yes  False  \n",
       "2  woman       False  NaN  Southampton   yes   True  \n",
       "3  woman       False    C  Southampton   yes  False  \n",
       "4    man        True  NaN  Southampton    no   True  "
      ]
     },
     "execution_count": 31,
     "metadata": {},
     "output_type": "execute_result"
    }
   ],
   "source": [
    "# p.197~ 피벗 테이블\n",
    "import numpy as np\n",
    "import pandas as pd\n",
    "import seaborn as sns\n",
    "titanic = sns.load_dataset('titanic')\n",
    "titanic.head()\n"
   ]
  },
  {
   "cell_type": "code",
   "execution_count": null,
   "id": "38118db0",
   "metadata": {},
   "outputs": [],
   "source": [
    "#select sex, mean(survived)\n",
    "#from titanic\n",
    "#groupby sex"
   ]
  },
  {
   "cell_type": "code",
   "execution_count": null,
   "id": "e757b71e",
   "metadata": {},
   "outputs": [
    {
     "data": {
      "text/html": [
       "<div>\n",
       "<style scoped>\n",
       "    .dataframe tbody tr th:only-of-type {\n",
       "        vertical-align: middle;\n",
       "    }\n",
       "\n",
       "    .dataframe tbody tr th {\n",
       "        vertical-align: top;\n",
       "    }\n",
       "\n",
       "    .dataframe thead th {\n",
       "        text-align: right;\n",
       "    }\n",
       "</style>\n",
       "<table border=\"1\" class=\"dataframe\">\n",
       "  <thead>\n",
       "    <tr style=\"text-align: right;\">\n",
       "      <th></th>\n",
       "      <th>survived</th>\n",
       "    </tr>\n",
       "    <tr>\n",
       "      <th>sex</th>\n",
       "      <th></th>\n",
       "    </tr>\n",
       "  </thead>\n",
       "  <tbody>\n",
       "    <tr>\n",
       "      <th>female</th>\n",
       "      <td>0.742038</td>\n",
       "    </tr>\n",
       "    <tr>\n",
       "      <th>male</th>\n",
       "      <td>0.188908</td>\n",
       "    </tr>\n",
       "  </tbody>\n",
       "</table>\n",
       "</div>"
      ],
      "text/plain": [
       "        survived\n",
       "sex             \n",
       "female  0.742038\n",
       "male    0.188908"
      ]
     },
     "execution_count": 32,
     "metadata": {},
     "output_type": "execute_result"
    }
   ],
   "source": [
    "# 성별별 생존률\n",
    "titanic.groupby('sex')[['survived']].mean()"
   ]
  },
  {
   "cell_type": "code",
   "execution_count": null,
   "id": "6d369f8d",
   "metadata": {},
   "outputs": [],
   "source": [
    "#select sex, mean(survived)\n",
    "#from titanic\n",
    "#groupby sex, class"
   ]
  },
  {
   "cell_type": "code",
   "execution_count": 40,
   "id": "e7c6a839",
   "metadata": {},
   "outputs": [
    {
     "name": "stderr",
     "output_type": "stream",
     "text": [
      "C:\\Users\\user\\AppData\\Local\\Temp\\ipykernel_8396\\60503751.py:1: FutureWarning: The default of observed=False is deprecated and will be changed to True in a future version of pandas. Pass observed=False to retain current behavior or observed=True to adopt the future default and silence this warning.\n",
      "  titanic.groupby(['sex', 'class'])['survived'].aggregate('mean')\n"
     ]
    },
    {
     "data": {
      "text/plain": [
       "sex     class \n",
       "female  First     0.968085\n",
       "        Second    0.921053\n",
       "        Third     0.500000\n",
       "male    First     0.368852\n",
       "        Second    0.157407\n",
       "        Third     0.135447\n",
       "Name: survived, dtype: float64"
      ]
     },
     "execution_count": 40,
     "metadata": {},
     "output_type": "execute_result"
    }
   ],
   "source": [
    "titanic.groupby(['sex', 'class'])['survived'].aggregate('mean')"
   ]
  },
  {
   "cell_type": "code",
   "execution_count": null,
   "id": "a9cbae9c",
   "metadata": {},
   "outputs": [
    {
     "name": "stderr",
     "output_type": "stream",
     "text": [
      "C:\\Users\\user\\AppData\\Local\\Temp\\ipykernel_8396\\4259562261.py:2: FutureWarning: The default of observed=False is deprecated and will be changed to True in a future version of pandas. Pass observed=False to retain current behavior or observed=True to adopt the future default and silence this warning.\n",
      "  titanic.groupby(['sex', 'class'])['survived'].aggregate('mean').unstack()\n"
     ]
    },
    {
     "data": {
      "text/html": [
       "<div>\n",
       "<style scoped>\n",
       "    .dataframe tbody tr th:only-of-type {\n",
       "        vertical-align: middle;\n",
       "    }\n",
       "\n",
       "    .dataframe tbody tr th {\n",
       "        vertical-align: top;\n",
       "    }\n",
       "\n",
       "    .dataframe thead th {\n",
       "        text-align: right;\n",
       "    }\n",
       "</style>\n",
       "<table border=\"1\" class=\"dataframe\">\n",
       "  <thead>\n",
       "    <tr style=\"text-align: right;\">\n",
       "      <th>class</th>\n",
       "      <th>First</th>\n",
       "      <th>Second</th>\n",
       "      <th>Third</th>\n",
       "    </tr>\n",
       "    <tr>\n",
       "      <th>sex</th>\n",
       "      <th></th>\n",
       "      <th></th>\n",
       "      <th></th>\n",
       "    </tr>\n",
       "  </thead>\n",
       "  <tbody>\n",
       "    <tr>\n",
       "      <th>female</th>\n",
       "      <td>0.968085</td>\n",
       "      <td>0.921053</td>\n",
       "      <td>0.500000</td>\n",
       "    </tr>\n",
       "    <tr>\n",
       "      <th>male</th>\n",
       "      <td>0.368852</td>\n",
       "      <td>0.157407</td>\n",
       "      <td>0.135447</td>\n",
       "    </tr>\n",
       "  </tbody>\n",
       "</table>\n",
       "</div>"
      ],
      "text/plain": [
       "class      First    Second     Third\n",
       "sex                                 \n",
       "female  0.968085  0.921053  0.500000\n",
       "male    0.368852  0.157407  0.135447"
      ]
     },
     "execution_count": 38,
     "metadata": {},
     "output_type": "execute_result"
    }
   ],
   "source": [
    "# 성별과 좌석등급별 생존률\n",
    "# unstack() : 용도!!!\n",
    "titanic.groupby(['sex', 'class'])['survived'].aggregate('mean').unstack()"
   ]
  },
  {
   "cell_type": "code",
   "execution_count": 41,
   "id": "dd327a05",
   "metadata": {},
   "outputs": [
    {
     "data": {
      "text/plain": [
       "array(['male', 'female'], dtype=object)"
      ]
     },
     "execution_count": 41,
     "metadata": {},
     "output_type": "execute_result"
    }
   ],
   "source": [
    "titanic.loc[:,'sex'].unique()"
   ]
  },
  {
   "cell_type": "code",
   "execution_count": 42,
   "id": "768aff60",
   "metadata": {},
   "outputs": [
    {
     "data": {
      "text/plain": [
       "['Third', 'First', 'Second']\n",
       "Categories (3, object): ['First', 'Second', 'Third']"
      ]
     },
     "execution_count": 42,
     "metadata": {},
     "output_type": "execute_result"
    }
   ],
   "source": [
    "titanic.loc[:,'class'].unique()"
   ]
  },
  {
   "cell_type": "code",
   "execution_count": null,
   "id": "1ba62b8a",
   "metadata": {},
   "outputs": [
    {
     "name": "stderr",
     "output_type": "stream",
     "text": [
      "C:\\Users\\user\\AppData\\Local\\Temp\\ipykernel_8396\\4290070003.py:2: FutureWarning: The default value of observed=False is deprecated and will change to observed=True in a future version of pandas. Specify observed=False to silence this warning and retain the current behavior\n",
      "  titanic.pivot_table('survived', index='sex', columns='class')\n"
     ]
    },
    {
     "data": {
      "text/html": [
       "<div>\n",
       "<style scoped>\n",
       "    .dataframe tbody tr th:only-of-type {\n",
       "        vertical-align: middle;\n",
       "    }\n",
       "\n",
       "    .dataframe tbody tr th {\n",
       "        vertical-align: top;\n",
       "    }\n",
       "\n",
       "    .dataframe thead th {\n",
       "        text-align: right;\n",
       "    }\n",
       "</style>\n",
       "<table border=\"1\" class=\"dataframe\">\n",
       "  <thead>\n",
       "    <tr style=\"text-align: right;\">\n",
       "      <th>class</th>\n",
       "      <th>First</th>\n",
       "      <th>Second</th>\n",
       "      <th>Third</th>\n",
       "    </tr>\n",
       "    <tr>\n",
       "      <th>sex</th>\n",
       "      <th></th>\n",
       "      <th></th>\n",
       "      <th></th>\n",
       "    </tr>\n",
       "  </thead>\n",
       "  <tbody>\n",
       "    <tr>\n",
       "      <th>female</th>\n",
       "      <td>0.968085</td>\n",
       "      <td>0.921053</td>\n",
       "      <td>0.500000</td>\n",
       "    </tr>\n",
       "    <tr>\n",
       "      <th>male</th>\n",
       "      <td>0.368852</td>\n",
       "      <td>0.157407</td>\n",
       "      <td>0.135447</td>\n",
       "    </tr>\n",
       "  </tbody>\n",
       "</table>\n",
       "</div>"
      ],
      "text/plain": [
       "class      First    Second     Third\n",
       "sex                                 \n",
       "female  0.968085  0.921053  0.500000\n",
       "male    0.368852  0.157407  0.135447"
      ]
     },
     "execution_count": 34,
     "metadata": {},
     "output_type": "execute_result"
    }
   ],
   "source": [
    "# 피벗테이블 구문을 이용한 성별과 좌석등급별 생존률\n",
    "# index=row 로 보기\n",
    "titanic.pivot_table('survived', index='sex', columns='class')"
   ]
  },
  {
   "cell_type": "code",
   "execution_count": 36,
   "id": "9dc261e1",
   "metadata": {},
   "outputs": [
    {
     "name": "stderr",
     "output_type": "stream",
     "text": [
      "C:\\Users\\user\\AppData\\Local\\Temp\\ipykernel_8396\\1029059086.py:3: FutureWarning: The default value of observed=False is deprecated and will change to observed=True in a future version of pandas. Specify observed=False to silence this warning and retain the current behavior\n",
      "  titanic.pivot_table('survived',['sex',age],'class')\n"
     ]
    },
    {
     "data": {
      "text/html": [
       "<div>\n",
       "<style scoped>\n",
       "    .dataframe tbody tr th:only-of-type {\n",
       "        vertical-align: middle;\n",
       "    }\n",
       "\n",
       "    .dataframe tbody tr th {\n",
       "        vertical-align: top;\n",
       "    }\n",
       "\n",
       "    .dataframe thead th {\n",
       "        text-align: right;\n",
       "    }\n",
       "</style>\n",
       "<table border=\"1\" class=\"dataframe\">\n",
       "  <thead>\n",
       "    <tr style=\"text-align: right;\">\n",
       "      <th></th>\n",
       "      <th>class</th>\n",
       "      <th>First</th>\n",
       "      <th>Second</th>\n",
       "      <th>Third</th>\n",
       "    </tr>\n",
       "    <tr>\n",
       "      <th>sex</th>\n",
       "      <th>age</th>\n",
       "      <th></th>\n",
       "      <th></th>\n",
       "      <th></th>\n",
       "    </tr>\n",
       "  </thead>\n",
       "  <tbody>\n",
       "    <tr>\n",
       "      <th rowspan=\"2\" valign=\"top\">female</th>\n",
       "      <th>(0, 18]</th>\n",
       "      <td>0.909091</td>\n",
       "      <td>1.000000</td>\n",
       "      <td>0.511628</td>\n",
       "    </tr>\n",
       "    <tr>\n",
       "      <th>(18, 80]</th>\n",
       "      <td>0.972973</td>\n",
       "      <td>0.900000</td>\n",
       "      <td>0.423729</td>\n",
       "    </tr>\n",
       "    <tr>\n",
       "      <th rowspan=\"2\" valign=\"top\">male</th>\n",
       "      <th>(0, 18]</th>\n",
       "      <td>0.800000</td>\n",
       "      <td>0.600000</td>\n",
       "      <td>0.215686</td>\n",
       "    </tr>\n",
       "    <tr>\n",
       "      <th>(18, 80]</th>\n",
       "      <td>0.375000</td>\n",
       "      <td>0.071429</td>\n",
       "      <td>0.133663</td>\n",
       "    </tr>\n",
       "  </tbody>\n",
       "</table>\n",
       "</div>"
      ],
      "text/plain": [
       "class               First    Second     Third\n",
       "sex    age                                   \n",
       "female (0, 18]   0.909091  1.000000  0.511628\n",
       "       (18, 80]  0.972973  0.900000  0.423729\n",
       "male   (0, 18]   0.800000  0.600000  0.215686\n",
       "       (18, 80]  0.375000  0.071429  0.133663"
      ]
     },
     "execution_count": 36,
     "metadata": {},
     "output_type": "execute_result"
    }
   ],
   "source": [
    "# 다단계 피벗 테이블\n",
    "age = pd.cut(titanic['age'],[0,18,80])\n",
    "titanic.pivot_table('survived',['sex',age],'class')"
   ]
  },
  {
   "cell_type": "code",
   "execution_count": 43,
   "id": "581245c5",
   "metadata": {},
   "outputs": [
    {
     "data": {
      "text/html": [
       "<div>\n",
       "<style scoped>\n",
       "    .dataframe tbody tr th:only-of-type {\n",
       "        vertical-align: middle;\n",
       "    }\n",
       "\n",
       "    .dataframe tbody tr th {\n",
       "        vertical-align: top;\n",
       "    }\n",
       "\n",
       "    .dataframe thead th {\n",
       "        text-align: right;\n",
       "    }\n",
       "</style>\n",
       "<table border=\"1\" class=\"dataframe\">\n",
       "  <thead>\n",
       "    <tr style=\"text-align: right;\">\n",
       "      <th></th>\n",
       "      <th>year</th>\n",
       "      <th>month</th>\n",
       "      <th>day</th>\n",
       "      <th>gender</th>\n",
       "      <th>births</th>\n",
       "    </tr>\n",
       "  </thead>\n",
       "  <tbody>\n",
       "    <tr>\n",
       "      <th>0</th>\n",
       "      <td>1969</td>\n",
       "      <td>1</td>\n",
       "      <td>1.0</td>\n",
       "      <td>F</td>\n",
       "      <td>4046</td>\n",
       "    </tr>\n",
       "    <tr>\n",
       "      <th>1</th>\n",
       "      <td>1969</td>\n",
       "      <td>1</td>\n",
       "      <td>1.0</td>\n",
       "      <td>M</td>\n",
       "      <td>4440</td>\n",
       "    </tr>\n",
       "    <tr>\n",
       "      <th>2</th>\n",
       "      <td>1969</td>\n",
       "      <td>1</td>\n",
       "      <td>2.0</td>\n",
       "      <td>F</td>\n",
       "      <td>4454</td>\n",
       "    </tr>\n",
       "    <tr>\n",
       "      <th>3</th>\n",
       "      <td>1969</td>\n",
       "      <td>1</td>\n",
       "      <td>2.0</td>\n",
       "      <td>M</td>\n",
       "      <td>4548</td>\n",
       "    </tr>\n",
       "    <tr>\n",
       "      <th>4</th>\n",
       "      <td>1969</td>\n",
       "      <td>1</td>\n",
       "      <td>3.0</td>\n",
       "      <td>F</td>\n",
       "      <td>4548</td>\n",
       "    </tr>\n",
       "  </tbody>\n",
       "</table>\n",
       "</div>"
      ],
      "text/plain": [
       "   year  month  day gender  births\n",
       "0  1969      1  1.0      F    4046\n",
       "1  1969      1  1.0      M    4440\n",
       "2  1969      1  2.0      F    4454\n",
       "3  1969      1  2.0      M    4548\n",
       "4  1969      1  3.0      F    4548"
      ]
     },
     "execution_count": 43,
     "metadata": {},
     "output_type": "execute_result"
    }
   ],
   "source": [
    "# p.202 피벗 테이블 예제\n",
    "births =  pd.read_csv('./data/births.csv')\n",
    "births.head()"
   ]
  },
  {
   "cell_type": "code",
   "execution_count": null,
   "id": "39fd5a76",
   "metadata": {},
   "outputs": [
    {
     "data": {
      "text/html": [
       "<div>\n",
       "<style scoped>\n",
       "    .dataframe tbody tr th:only-of-type {\n",
       "        vertical-align: middle;\n",
       "    }\n",
       "\n",
       "    .dataframe tbody tr th {\n",
       "        vertical-align: top;\n",
       "    }\n",
       "\n",
       "    .dataframe thead th {\n",
       "        text-align: right;\n",
       "    }\n",
       "</style>\n",
       "<table border=\"1\" class=\"dataframe\">\n",
       "  <thead>\n",
       "    <tr style=\"text-align: right;\">\n",
       "      <th>gender</th>\n",
       "      <th>F</th>\n",
       "      <th>M</th>\n",
       "    </tr>\n",
       "    <tr>\n",
       "      <th>decade</th>\n",
       "      <th></th>\n",
       "      <th></th>\n",
       "    </tr>\n",
       "  </thead>\n",
       "  <tbody>\n",
       "    <tr>\n",
       "      <th>1960</th>\n",
       "      <td>1753634</td>\n",
       "      <td>1846572</td>\n",
       "    </tr>\n",
       "    <tr>\n",
       "      <th>1970</th>\n",
       "      <td>16263075</td>\n",
       "      <td>17121550</td>\n",
       "    </tr>\n",
       "    <tr>\n",
       "      <th>1980</th>\n",
       "      <td>18310351</td>\n",
       "      <td>19243452</td>\n",
       "    </tr>\n",
       "    <tr>\n",
       "      <th>1990</th>\n",
       "      <td>19479454</td>\n",
       "      <td>20420553</td>\n",
       "    </tr>\n",
       "    <tr>\n",
       "      <th>2000</th>\n",
       "      <td>18229309</td>\n",
       "      <td>19106428</td>\n",
       "    </tr>\n",
       "  </tbody>\n",
       "</table>\n",
       "</div>"
      ],
      "text/plain": [
       "gender         F         M\n",
       "decade                    \n",
       "1960     1753634   1846572\n",
       "1970    16263075  17121550\n",
       "1980    18310351  19243452\n",
       "1990    19479454  20420553\n",
       "2000    18229309  19106428"
      ]
     },
     "execution_count": 44,
     "metadata": {},
     "output_type": "execute_result"
    }
   ],
   "source": [
    "# 연대별 남녀 출생률수\n",
    "births['decade'] = 10*(births['year']//10) # col에 연도를 추가\n",
    "births.pivot_table('births', index='decade', columns='gender', aggfunc='sum')"
   ]
  },
  {
   "cell_type": "code",
   "execution_count": null,
   "id": "e250edc8",
   "metadata": {},
   "outputs": [
    {
     "data": {
      "text/plain": [
       "Text(0, 0.5, 'total birth per year')"
      ]
     },
     "execution_count": 47,
     "metadata": {},
     "output_type": "execute_result"
    },
    {
     "data": {
      "image/png": "[encoded data removed]",
      "text/plain": [
       "<Figure size 640x480 with 1 Axes>"
      ]
     },
     "metadata": {},
     "output_type": "display_data"
    }
   ],
   "source": [
    "# 연도별 남녀 출생률\n",
    "%matplotlib inline\n",
    "import matplotlib.pyplot as plt\n",
    "sns.set()\n",
    "births.pivot_table('births', index='year', columns='gender', aggfunc='sum').plot()\n",
    "plt.ylabel('total birth per year')"
   ]
  },
  {
   "cell_type": "code",
   "execution_count": 74,
   "id": "cb8274c7",
   "metadata": {},
   "outputs": [
    {
     "name": "stdout",
     "output_type": "stream",
     "text": [
      "<class 'pandas.core.frame.DataFrame'>\n",
      "DatetimeIndex: 14610 entries, 1969-01-01 to 1988-12-31\n",
      "Data columns (total 7 columns):\n",
      " #   Column     Non-Null Count  Dtype  \n",
      "---  ------     --------------  -----  \n",
      " 0   year       14610 non-null  int64  \n",
      " 1   month      14610 non-null  int64  \n",
      " 2   day        14610 non-null  float64\n",
      " 3   gender     14610 non-null  object \n",
      " 4   births     14610 non-null  int64  \n",
      " 5   decade     14610 non-null  int64  \n",
      " 6   dayofweek  14610 non-null  int32  \n",
      "dtypes: float64(1), int32(1), int64(4), object(1)\n",
      "memory usage: 856.1+ KB\n"
     ]
    }
   ],
   "source": [
    "births.info()"
   ]
  },
  {
   "cell_type": "code",
   "execution_count": 75,
   "id": "769b71e9",
   "metadata": {},
   "outputs": [
    {
     "data": {
      "text/html": [
       "<div>\n",
       "<style scoped>\n",
       "    .dataframe tbody tr th:only-of-type {\n",
       "        vertical-align: middle;\n",
       "    }\n",
       "\n",
       "    .dataframe tbody tr th {\n",
       "        vertical-align: top;\n",
       "    }\n",
       "\n",
       "    .dataframe thead th {\n",
       "        text-align: right;\n",
       "    }\n",
       "</style>\n",
       "<table border=\"1\" class=\"dataframe\">\n",
       "  <thead>\n",
       "    <tr style=\"text-align: right;\">\n",
       "      <th></th>\n",
       "      <th>year</th>\n",
       "      <th>month</th>\n",
       "      <th>day</th>\n",
       "      <th>births</th>\n",
       "      <th>decade</th>\n",
       "      <th>dayofweek</th>\n",
       "    </tr>\n",
       "  </thead>\n",
       "  <tbody>\n",
       "    <tr>\n",
       "      <th>count</th>\n",
       "      <td>14610.000000</td>\n",
       "      <td>14610.000000</td>\n",
       "      <td>14610.000000</td>\n",
       "      <td>14610.000000</td>\n",
       "      <td>14610.000000</td>\n",
       "      <td>14610.000000</td>\n",
       "    </tr>\n",
       "    <tr>\n",
       "      <th>mean</th>\n",
       "      <td>1978.501027</td>\n",
       "      <td>6.522930</td>\n",
       "      <td>15.729637</td>\n",
       "      <td>4824.470089</td>\n",
       "      <td>1974.001369</td>\n",
       "      <td>3.000274</td>\n",
       "    </tr>\n",
       "    <tr>\n",
       "      <th>std</th>\n",
       "      <td>5.766538</td>\n",
       "      <td>3.448821</td>\n",
       "      <td>8.800393</td>\n",
       "      <td>579.996983</td>\n",
       "      <td>5.830799</td>\n",
       "      <td>1.999726</td>\n",
       "    </tr>\n",
       "    <tr>\n",
       "      <th>min</th>\n",
       "      <td>1969.000000</td>\n",
       "      <td>1.000000</td>\n",
       "      <td>1.000000</td>\n",
       "      <td>3249.000000</td>\n",
       "      <td>1960.000000</td>\n",
       "      <td>0.000000</td>\n",
       "    </tr>\n",
       "    <tr>\n",
       "      <th>25%</th>\n",
       "      <td>1974.000000</td>\n",
       "      <td>4.000000</td>\n",
       "      <td>8.000000</td>\n",
       "      <td>4383.000000</td>\n",
       "      <td>1970.000000</td>\n",
       "      <td>1.000000</td>\n",
       "    </tr>\n",
       "    <tr>\n",
       "      <th>50%</th>\n",
       "      <td>1979.000000</td>\n",
       "      <td>7.000000</td>\n",
       "      <td>16.000000</td>\n",
       "      <td>4812.000000</td>\n",
       "      <td>1970.000000</td>\n",
       "      <td>3.000000</td>\n",
       "    </tr>\n",
       "    <tr>\n",
       "      <th>75%</th>\n",
       "      <td>1984.000000</td>\n",
       "      <td>10.000000</td>\n",
       "      <td>23.000000</td>\n",
       "      <td>5259.000000</td>\n",
       "      <td>1980.000000</td>\n",
       "      <td>5.000000</td>\n",
       "    </tr>\n",
       "    <tr>\n",
       "      <th>max</th>\n",
       "      <td>1988.000000</td>\n",
       "      <td>12.000000</td>\n",
       "      <td>31.000000</td>\n",
       "      <td>6527.000000</td>\n",
       "      <td>1980.000000</td>\n",
       "      <td>6.000000</td>\n",
       "    </tr>\n",
       "  </tbody>\n",
       "</table>\n",
       "</div>"
      ],
      "text/plain": [
       "               year         month           day        births        decade  \\\n",
       "count  14610.000000  14610.000000  14610.000000  14610.000000  14610.000000   \n",
       "mean    1978.501027      6.522930     15.729637   4824.470089   1974.001369   \n",
       "std        5.766538      3.448821      8.800393    579.996983      5.830799   \n",
       "min     1969.000000      1.000000      1.000000   3249.000000   1960.000000   \n",
       "25%     1974.000000      4.000000      8.000000   4383.000000   1970.000000   \n",
       "50%     1979.000000      7.000000     16.000000   4812.000000   1970.000000   \n",
       "75%     1984.000000     10.000000     23.000000   5259.000000   1980.000000   \n",
       "max     1988.000000     12.000000     31.000000   6527.000000   1980.000000   \n",
       "\n",
       "          dayofweek  \n",
       "count  14610.000000  \n",
       "mean       3.000274  \n",
       "std        1.999726  \n",
       "min        0.000000  \n",
       "25%        1.000000  \n",
       "50%        3.000000  \n",
       "75%        5.000000  \n",
       "max        6.000000  "
      ]
     },
     "execution_count": 75,
     "metadata": {},
     "output_type": "execute_result"
    }
   ],
   "source": [
    "births.describe()"
   ]
  },
  {
   "cell_type": "code",
   "execution_count": 76,
   "id": "bf071ddd",
   "metadata": {},
   "outputs": [],
   "source": [
    "# mask를 통해 이상한 데이터를 제거\n",
    "mask = (births['month']<=12 ) & (births['day']<=31)\n",
    "new_df = births.loc[mask,:]"
   ]
  },
  {
   "cell_type": "code",
   "execution_count": 71,
   "id": "d69ffe54",
   "metadata": {},
   "outputs": [
    {
     "data": {
      "text/plain": [
       "datetime.datetime(2025, 7, 22, 0, 0)"
      ]
     },
     "execution_count": 71,
     "metadata": {},
     "output_type": "execute_result"
    }
   ],
   "source": [
    "import datetime as dt\n",
    "dt.datetime(2025,7,22)"
   ]
  },
  {
   "cell_type": "code",
   "execution_count": 72,
   "id": "5e40f8f0",
   "metadata": {},
   "outputs": [
    {
     "data": {
      "text/plain": [
       "1969-01-01    19690101.0\n",
       "1969-01-01    19690101.0\n",
       "1969-01-02    19690102.0\n",
       "1969-01-02    19690102.0\n",
       "1969-01-03    19690103.0\n",
       "                 ...    \n",
       "1988-12-29    19881229.0\n",
       "1988-12-30    19881230.0\n",
       "1988-12-30    19881230.0\n",
       "1988-12-31    19881231.0\n",
       "1988-12-31    19881231.0\n",
       "Length: 14610, dtype: float64"
      ]
     },
     "execution_count": 72,
     "metadata": {},
     "output_type": "execute_result"
    }
   ],
   "source": [
    "10000*births.year+100*births.month+births.day"
   ]
  },
  {
   "cell_type": "code",
   "execution_count": 77,
   "id": "48fe824f",
   "metadata": {},
   "outputs": [],
   "source": [
    "#년, 월, 일로부터 Date 인덱스 생성\n",
    "births.index = pd.to_datetime(births[['year', 'month', 'day']])"
   ]
  },
  {
   "cell_type": "code",
   "execution_count": null,
   "id": "89bb677f",
   "metadata": {},
   "outputs": [],
   "source": [
    "new_df['dayofweek'] = new_df.index.dayofweek"
   ]
  },
  {
   "cell_type": "code",
   "execution_count": 73,
   "id": "6593cd0e",
   "metadata": {},
   "outputs": [
    {
     "data": {
      "text/plain": [
       "<Axes: xlabel='dayofweek'>"
      ]
     },
     "execution_count": 73,
     "metadata": {},
     "output_type": "execute_result"
    },
    {
     "data": {
      "image/png": "[encoded data removed]",
      "text/plain": [
       "<Figure size 640x480 with 1 Axes>"
      ]
     },
     "metadata": {},
     "output_type": "display_data"
    }
   ],
   "source": [
    "import matplotlib.pyplot as plt\n",
    "import matplotlib as mlp\n",
    "\n",
    "births.pivot_table('births', index='dayofweek', columns='decade', aggfunc='mean').plot()\n",
    "# plt.gca().set_xticklabels(['M','T','W','T','F','S','S'])\n",
    "# plt.ylabel('mean birth by day')"
   ]
  },
  {
   "cell_type": "code",
   "execution_count": null,
   "id": "3d4a4130",
   "metadata": {},
   "outputs": [
    {
     "data": {
      "text/html": [
       "<div>\n",
       "<style scoped>\n",
       "    .dataframe tbody tr th:only-of-type {\n",
       "        vertical-align: middle;\n",
       "    }\n",
       "\n",
       "    .dataframe tbody tr th {\n",
       "        vertical-align: top;\n",
       "    }\n",
       "\n",
       "    .dataframe thead th {\n",
       "        text-align: right;\n",
       "    }\n",
       "</style>\n",
       "<table border=\"1\" class=\"dataframe\">\n",
       "  <thead>\n",
       "    <tr style=\"text-align: right;\">\n",
       "      <th></th>\n",
       "      <th></th>\n",
       "      <th>births</th>\n",
       "    </tr>\n",
       "  </thead>\n",
       "  <tbody>\n",
       "    <tr>\n",
       "      <th rowspan=\"5\" valign=\"top\">1</th>\n",
       "      <th>1</th>\n",
       "      <td>4009.225</td>\n",
       "    </tr>\n",
       "    <tr>\n",
       "      <th>2</th>\n",
       "      <td>4247.400</td>\n",
       "    </tr>\n",
       "    <tr>\n",
       "      <th>3</th>\n",
       "      <td>4500.900</td>\n",
       "    </tr>\n",
       "    <tr>\n",
       "      <th>4</th>\n",
       "      <td>4571.350</td>\n",
       "    </tr>\n",
       "    <tr>\n",
       "      <th>5</th>\n",
       "      <td>4603.625</td>\n",
       "    </tr>\n",
       "  </tbody>\n",
       "</table>\n",
       "</div>"
      ],
      "text/plain": [
       "       births\n",
       "1 1  4009.225\n",
       "  2  4247.400\n",
       "  3  4500.900\n",
       "  4  4571.350\n",
       "  5  4603.625"
      ]
     },
     "execution_count": 57,
     "metadata": {},
     "output_type": "execute_result"
    }
   ],
   "source": [
    "# 월과 일별 출생수 -> 다중인덱스로 추출됨\n",
    "births_by_date = births.pivot_table('births',[births.index.month, births.index.day])\n",
    "births_by_date.head()"
   ]
  },
  {
   "cell_type": "code",
   "execution_count": null,
   "id": "bbccd6f8",
   "metadata": {},
   "outputs": [
    {
     "data": {
      "text/html": [
       "<div>\n",
       "<style scoped>\n",
       "    .dataframe tbody tr th:only-of-type {\n",
       "        vertical-align: middle;\n",
       "    }\n",
       "\n",
       "    .dataframe tbody tr th {\n",
       "        vertical-align: top;\n",
       "    }\n",
       "\n",
       "    .dataframe thead th {\n",
       "        text-align: right;\n",
       "    }\n",
       "</style>\n",
       "<table border=\"1\" class=\"dataframe\">\n",
       "  <thead>\n",
       "    <tr style=\"text-align: right;\">\n",
       "      <th></th>\n",
       "      <th>births</th>\n",
       "    </tr>\n",
       "  </thead>\n",
       "  <tbody>\n",
       "    <tr>\n",
       "      <th>2012-01-01</th>\n",
       "      <td>4009.225</td>\n",
       "    </tr>\n",
       "    <tr>\n",
       "      <th>2012-01-02</th>\n",
       "      <td>4247.400</td>\n",
       "    </tr>\n",
       "    <tr>\n",
       "      <th>2012-01-03</th>\n",
       "      <td>4500.900</td>\n",
       "    </tr>\n",
       "    <tr>\n",
       "      <th>2012-01-04</th>\n",
       "      <td>4571.350</td>\n",
       "    </tr>\n",
       "    <tr>\n",
       "      <th>2012-01-05</th>\n",
       "      <td>4603.625</td>\n",
       "    </tr>\n",
       "  </tbody>\n",
       "</table>\n",
       "</div>"
      ],
      "text/plain": [
       "              births\n",
       "2012-01-01  4009.225\n",
       "2012-01-02  4247.400\n",
       "2012-01-03  4500.900\n",
       "2012-01-04  4571.350\n",
       "2012-01-05  4603.625"
      ]
     },
     "execution_count": 62,
     "metadata": {},
     "output_type": "execute_result"
    }
   ],
   "source": [
    "# 년-월-일 날짜로 변환\n",
    "# 1. 인덱스에서 month와 day 정보를 추출합니다.\n",
    "# 인덱스 레벨에 이름이 없다면 get_level_values(0), get_level_values(1) 사용\n",
    "months = births_by_date.index.get_level_values(0) \n",
    "days = births_by_date.index.get_level_values(1)\n",
    "\n",
    "# 2. pd.to_datetime을 사용하여 한번에 DatetimeIndex를 생성합니다.\n",
    "births_by_date.index = pd.to_datetime({\n",
    "    'year': 2012,\n",
    "    'month': months,\n",
    "    'day': days\n",
    "})\n",
    "\n",
    "# 결과 확인\n",
    "births_by_date.head()"
   ]
  },
  {
   "cell_type": "code",
   "execution_count": 63,
   "id": "b62a90f5",
   "metadata": {},
   "outputs": [
    {
     "data": {
      "text/plain": [
       "<Axes: >"
      ]
     },
     "execution_count": 63,
     "metadata": {},
     "output_type": "execute_result"
    },
    {
     "data": {
      "image/png": "[encoded data removed]",
      "text/plain": [
       "<Figure size 1200x400 with 1 Axes>"
      ]
     },
     "metadata": {},
     "output_type": "display_data"
    }
   ],
   "source": [
    "fig,ax = plt.subplots(figsize=(12,4))\n",
    "births_by_date.plot(ax =ax)"
   ]
  },
  {
   "cell_type": "code",
   "execution_count": 78,
   "id": "94cc4456",
   "metadata": {},
   "outputs": [
    {
     "data": {
      "text/plain": [
       "array([ 4,  6, 10, 14, 22, 26])"
      ]
     },
     "execution_count": 78,
     "metadata": {},
     "output_type": "execute_result"
    }
   ],
   "source": [
    "# p.207\n",
    "import numpy as np\n",
    "x = np.array([2,3,5,7,11,13])\n",
    "x*2"
   ]
  },
  {
   "cell_type": "code",
   "execution_count": 79,
   "id": "b769acce",
   "metadata": {},
   "outputs": [
    {
     "data": {
      "text/plain": [
       "['P', 'Pa', 'M', 'G']"
      ]
     },
     "execution_count": 79,
     "metadata": {},
     "output_type": "execute_result"
    }
   ],
   "source": [
    "data = ['p','pa','M','g']\n",
    "[s.capitalize() for s in data]"
   ]
  },
  {
   "cell_type": "code",
   "execution_count": 88,
   "id": "b331b161",
   "metadata": {},
   "outputs": [],
   "source": [
    "monte = pd.Series(['pa sd','aswpa','sda gM','Gf dg','dfgsp','pagfff','Mgds','gxzc'])"
   ]
  },
  {
   "cell_type": "code",
   "execution_count": 89,
   "id": "7c2692c9",
   "metadata": {},
   "outputs": [
    {
     "data": {
      "text/plain": [
       "0     pa sd\n",
       "1     aswpa\n",
       "2    sda gm\n",
       "3     gf dg\n",
       "4     dfgsp\n",
       "5    pagfff\n",
       "6      mgds\n",
       "7      gxzc\n",
       "dtype: object"
      ]
     },
     "execution_count": 89,
     "metadata": {},
     "output_type": "execute_result"
    }
   ],
   "source": [
    "monte.str.lower()"
   ]
  },
  {
   "cell_type": "code",
   "execution_count": 90,
   "id": "f931a1c0",
   "metadata": {},
   "outputs": [
    {
     "data": {
      "text/plain": [
       "0    5\n",
       "1    5\n",
       "2    6\n",
       "3    5\n",
       "4    5\n",
       "5    6\n",
       "6    4\n",
       "7    4\n",
       "dtype: int64"
      ]
     },
     "execution_count": 90,
     "metadata": {},
     "output_type": "execute_result"
    }
   ],
   "source": [
    "monte.str.len()"
   ]
  },
  {
   "cell_type": "code",
   "execution_count": 91,
   "id": "8ff5673a",
   "metadata": {},
   "outputs": [
    {
     "data": {
      "text/plain": [
       "0    False\n",
       "1    False\n",
       "2    False\n",
       "3    False\n",
       "4    False\n",
       "5    False\n",
       "6    False\n",
       "7     True\n",
       "dtype: bool"
      ]
     },
     "execution_count": 91,
     "metadata": {},
     "output_type": "execute_result"
    }
   ],
   "source": [
    "monte.str.startswith('g')"
   ]
  },
  {
   "cell_type": "code",
   "execution_count": 92,
   "id": "84d924ab",
   "metadata": {},
   "outputs": [
    {
     "data": {
      "text/plain": [
       "0     [pa, sd]\n",
       "1      [aswpa]\n",
       "2    [sda, gM]\n",
       "3     [Gf, dg]\n",
       "4      [dfgsp]\n",
       "5     [pagfff]\n",
       "6       [Mgds]\n",
       "7       [gxzc]\n",
       "dtype: object"
      ]
     },
     "execution_count": 92,
     "metadata": {},
     "output_type": "execute_result"
    }
   ],
   "source": [
    "monte.str.split()"
   ]
  },
  {
   "cell_type": "code",
   "execution_count": null,
   "id": "f20bf10a",
   "metadata": {},
   "outputs": [
    {
     "name": "stderr",
     "output_type": "stream",
     "text": [
      "C:\\Users\\user\\AppData\\Local\\Temp\\ipykernel_8396\\880415099.py:3: FutureWarning: Passing literal json to 'read_json' is deprecated and will be removed in a future version. To read from a literal string, wrap it in a 'StringIO' object.\n",
      "  pd.read_json(line).shape\n"
     ]
    },
    {
     "data": {
      "text/plain": [
       "(2, 12)"
      ]
     },
     "execution_count": 94,
     "metadata": {},
     "output_type": "execute_result"
    }
   ],
   "source": [
    "#p.214 pandas 문자열 메서드 활용 예제\n",
    "with open('./data/recipeitems.json') as f:\n",
    "    line = f.readline()\n",
    "pd.read_json(line).shape"
   ]
  },
  {
   "cell_type": "code",
   "execution_count": 95,
   "id": "e98135b6",
   "metadata": {},
   "outputs": [
    {
     "name": "stderr",
     "output_type": "stream",
     "text": [
      "C:\\Users\\user\\AppData\\Local\\Temp\\ipykernel_8396\\3502830841.py:6: FutureWarning: Passing literal json to 'read_json' is deprecated and will be removed in a future version. To read from a literal string, wrap it in a 'StringIO' object.\n",
      "  recipes = pd.read_json(data_json)\n"
     ]
    },
    {
     "data": {
      "text/plain": [
       "(173278, 17)"
      ]
     },
     "execution_count": 95,
     "metadata": {},
     "output_type": "execute_result"
    }
   ],
   "source": [
    "with open('./data/recipeitems.json' , 'r') as f:\n",
    "    # 각 줄을 추출\n",
    "    data = (line.strip() for line in f)\n",
    "    # 각 줄이 리스트의 요소가 되도록 포맷을 재구성\n",
    "    data_json = \"[{0}]\".format(','.join(data))\n",
    "recipes = pd.read_json(data_json)\n",
    "\n",
    "recipes.shape"
   ]
  },
  {
   "cell_type": "code",
   "execution_count": null,
   "id": "18fbfb5e",
   "metadata": {},
   "outputs": [
    {
     "data": {
      "text/plain": [
       "_id                                {'$oid': '5160756b96cc62079cc2db15'}\n",
       "name                                    Drop Biscuits and Sausage Gravy\n",
       "ingredients           Biscuits\\n3 cups All-purpose Flour\\n2 Tablespo...\n",
       "url                   http://thepioneerwoman.com/cooking/2013/03/dro...\n",
       "image                 http://static.thepioneerwoman.com/cooking/file...\n",
       "ts                                             {'$date': 1365276011104}\n",
       "cookTime                                                          PT30M\n",
       "source                                                  thepioneerwoman\n",
       "recipeYield                                                          12\n",
       "datePublished                                                2013-03-11\n",
       "prepTime                                                          PT10M\n",
       "description           Late Saturday afternoon, after Marlboro Man ha...\n",
       "totalTime                                                           NaN\n",
       "creator                                                             NaN\n",
       "recipeCategory                                                      NaN\n",
       "dateModified                                                        NaN\n",
       "recipeInstructions                                                  NaN\n",
       "Name: 0, dtype: object"
      ]
     },
     "execution_count": 96,
     "metadata": {},
     "output_type": "execute_result"
    }
   ],
   "source": [
    "# 한 행만 보기\n",
    "recipes.iloc[0]"
   ]
  },
  {
   "cell_type": "code",
   "execution_count": 97,
   "id": "269a0a97",
   "metadata": {},
   "outputs": [
    {
     "data": {
      "text/plain": [
       "count    173278.000000\n",
       "mean        244.617926\n",
       "std         146.705285\n",
       "min           0.000000\n",
       "25%         147.000000\n",
       "50%         221.000000\n",
       "75%         314.000000\n",
       "max        9067.000000\n",
       "Name: ingredients, dtype: float64"
      ]
     },
     "execution_count": 97,
     "metadata": {},
     "output_type": "execute_result"
    }
   ],
   "source": [
    "# ingredients 에 대한 정보보기\n",
    "recipes.ingredients.str.len().describe()"
   ]
  },
  {
   "cell_type": "code",
   "execution_count": null,
   "id": "dd65545c",
   "metadata": {},
   "outputs": [],
   "source": [
    "# ingredients 가 가장 긴 조리법 찾기"
   ]
  },
  {
   "cell_type": "code",
   "execution_count": null,
   "id": "89ac4e57",
   "metadata": {},
   "outputs": [
    {
     "data": {
      "text/plain": [
       "3524"
      ]
     },
     "execution_count": 99,
     "metadata": {},
     "output_type": "execute_result"
    }
   ],
   "source": [
    "# description : 아침식사가 포함된 정보보기\n",
    "recipes.description.str.contains('[Bb]reakfast').sum()"
   ]
  },
  {
   "cell_type": "code",
   "execution_count": 100,
   "id": "8cec7d32",
   "metadata": {},
   "outputs": [
    {
     "data": {
      "text/plain": [
       "np.int64(10526)"
      ]
     },
     "execution_count": 100,
     "metadata": {},
     "output_type": "execute_result"
    }
   ],
   "source": [
    "# ingredients : 시나몬이 포함된 정보보기\n",
    "recipes.ingredients.str.contains('[Cc]innamon').sum()"
   ]
  },
  {
   "cell_type": "code",
   "execution_count": null,
   "id": "856dfaa2",
   "metadata": {},
   "outputs": [
    {
     "data": {
      "text/html": [
       "<div>\n",
       "<style scoped>\n",
       "    .dataframe tbody tr th:only-of-type {\n",
       "        vertical-align: middle;\n",
       "    }\n",
       "\n",
       "    .dataframe tbody tr th {\n",
       "        vertical-align: top;\n",
       "    }\n",
       "\n",
       "    .dataframe thead th {\n",
       "        text-align: right;\n",
       "    }\n",
       "</style>\n",
       "<table border=\"1\" class=\"dataframe\">\n",
       "  <thead>\n",
       "    <tr style=\"text-align: right;\">\n",
       "      <th></th>\n",
       "      <th>salt</th>\n",
       "      <th>pepeer</th>\n",
       "      <th>oregano</th>\n",
       "      <th>sage</th>\n",
       "      <th>parsley</th>\n",
       "      <th>rosemary</th>\n",
       "      <th>thyme</th>\n",
       "      <th>cumin</th>\n",
       "    </tr>\n",
       "  </thead>\n",
       "  <tbody>\n",
       "    <tr>\n",
       "      <th>0</th>\n",
       "      <td>False</td>\n",
       "      <td>False</td>\n",
       "      <td>False</td>\n",
       "      <td>True</td>\n",
       "      <td>False</td>\n",
       "      <td>False</td>\n",
       "      <td>False</td>\n",
       "      <td>False</td>\n",
       "    </tr>\n",
       "    <tr>\n",
       "      <th>1</th>\n",
       "      <td>False</td>\n",
       "      <td>False</td>\n",
       "      <td>False</td>\n",
       "      <td>False</td>\n",
       "      <td>False</td>\n",
       "      <td>False</td>\n",
       "      <td>False</td>\n",
       "      <td>False</td>\n",
       "    </tr>\n",
       "    <tr>\n",
       "      <th>2</th>\n",
       "      <td>True</td>\n",
       "      <td>False</td>\n",
       "      <td>False</td>\n",
       "      <td>False</td>\n",
       "      <td>False</td>\n",
       "      <td>False</td>\n",
       "      <td>False</td>\n",
       "      <td>True</td>\n",
       "    </tr>\n",
       "    <tr>\n",
       "      <th>3</th>\n",
       "      <td>False</td>\n",
       "      <td>False</td>\n",
       "      <td>False</td>\n",
       "      <td>False</td>\n",
       "      <td>False</td>\n",
       "      <td>False</td>\n",
       "      <td>False</td>\n",
       "      <td>False</td>\n",
       "    </tr>\n",
       "    <tr>\n",
       "      <th>4</th>\n",
       "      <td>False</td>\n",
       "      <td>False</td>\n",
       "      <td>False</td>\n",
       "      <td>False</td>\n",
       "      <td>False</td>\n",
       "      <td>False</td>\n",
       "      <td>False</td>\n",
       "      <td>False</td>\n",
       "    </tr>\n",
       "  </tbody>\n",
       "</table>\n",
       "</div>"
      ],
      "text/plain": [
       "    salt  pepeer  oregano   sage  parsley  rosemary  thyme  cumin\n",
       "0  False   False    False   True    False     False  False  False\n",
       "1  False   False    False  False    False     False  False  False\n",
       "2   True   False    False  False    False     False  False   True\n",
       "3  False   False    False  False    False     False  False  False\n",
       "4  False   False    False  False    False     False  False  False"
      ]
     },
     "execution_count": 108,
     "metadata": {},
     "output_type": "execute_result"
    }
   ],
   "source": [
    "# 재료 목록이 주어졌을 때, 그 재료를 모두 사용하는 조리법을 찾아내는 시스템 고안하기\n",
    "spice_list = ['salt','pepeer','oregano','sage','parsley','rosemary','thyme','cumin']\n",
    "import re\n",
    "spice_df = pd.DataFrame(dict((spice,recipes.ingredients.str.contains(spice, re.IGNORECASE))for spice in spice_list))\n",
    "spice_df.head()"
   ]
  },
  {
   "cell_type": "code",
   "execution_count": 105,
   "id": "ca7bf9ce",
   "metadata": {},
   "outputs": [
    {
     "data": {
      "text/plain": [
       "17"
      ]
     },
     "execution_count": 105,
     "metadata": {},
     "output_type": "execute_result"
    }
   ],
   "source": [
    "selection = spice_df.query('oregano&sage&parsley&rosemary')\n",
    "len(selection)"
   ]
  },
  {
   "cell_type": "code",
   "execution_count": 109,
   "id": "75cbd360",
   "metadata": {},
   "outputs": [],
   "source": [
    "#mask 이용해서 필터링 해보기\n",
    "mask = (spice_df['oregano'])&(spice_df['rosemary'])&(spice_df['parsley'])\n",
    "idx = spice_df.loc[mask,:]"
   ]
  },
  {
   "cell_type": "code",
   "execution_count": 107,
   "id": "d88c97ef",
   "metadata": {},
   "outputs": [
    {
     "data": {
      "text/plain": [
       "2319                                 Comfort Mac and Cheese\n",
       "14003     Rib-Eye, T-Bone, and Strip Steaks Cut Over One...\n",
       "80247                                           Ratatouille\n",
       "84317     Baked aubergine stuffed with roast pumpkin, fe...\n",
       "87197           Lamb Chops with Olive-and-Herb Crust Recipe\n",
       "90502                                Baked Rosa Maria Fries\n",
       "101729                              Dianne's Fish Seasoning\n",
       "109883                              Italian Sausage Lasagna\n",
       "110416                              Italian Mashed Potatoes\n",
       "124448          Slow Cooker Rosemary and Red Pepper Chicken\n",
       "131901                                World's Best Marinara\n",
       "134036                       Hearty Lentil and Sausage Soup\n",
       "134514                       Hearty Lentil and Sausage Soup\n",
       "136120                                 Roast chicken recipe\n",
       "137280                                  Cider-Brined Turkey\n",
       "142515                                       Focaccia Bread\n",
       "168108       Lamb Chops with an Olive-and-Herb Crust Recipe\n",
       "Name: name, dtype: object"
      ]
     },
     "execution_count": 107,
     "metadata": {},
     "output_type": "execute_result"
    }
   ],
   "source": [
    "recipes.name[selection.index]"
   ]
  },
  {
   "cell_type": "code",
   "execution_count": null,
   "id": "62a63f9a",
   "metadata": {},
   "outputs": [
    {
     "data": {
      "text/plain": [
       "datetime.datetime(2025, 10, 30, 0, 0)"
      ]
     },
     "execution_count": 111,
     "metadata": {},
     "output_type": "execute_result"
    }
   ],
   "source": [
    "#p.219 중요\n",
    "import datetime as dt \n",
    "dt.datetime(2025,7,22)+dt.timedelta(100) # datetime.timedelta() : 두 날자의 차이를 계산할 때 쓰는 함수"
   ]
  },
  {
   "cell_type": "code",
   "execution_count": 128,
   "id": "1d10b668",
   "metadata": {},
   "outputs": [
    {
     "data": {
      "text/html": [
       "<div>\n",
       "<style scoped>\n",
       "    .dataframe tbody tr th:only-of-type {\n",
       "        vertical-align: middle;\n",
       "    }\n",
       "\n",
       "    .dataframe tbody tr th {\n",
       "        vertical-align: top;\n",
       "    }\n",
       "\n",
       "    .dataframe thead th {\n",
       "        text-align: right;\n",
       "    }\n",
       "</style>\n",
       "<table border=\"1\" class=\"dataframe\">\n",
       "  <thead>\n",
       "    <tr style=\"text-align: right;\">\n",
       "      <th></th>\n",
       "      <th>year</th>\n",
       "      <th>month</th>\n",
       "      <th>day</th>\n",
       "      <th>gender</th>\n",
       "      <th>births</th>\n",
       "    </tr>\n",
       "  </thead>\n",
       "  <tbody>\n",
       "    <tr>\n",
       "      <th>0</th>\n",
       "      <td>1969</td>\n",
       "      <td>1</td>\n",
       "      <td>1.0</td>\n",
       "      <td>F</td>\n",
       "      <td>4046</td>\n",
       "    </tr>\n",
       "    <tr>\n",
       "      <th>1</th>\n",
       "      <td>1969</td>\n",
       "      <td>1</td>\n",
       "      <td>1.0</td>\n",
       "      <td>M</td>\n",
       "      <td>4440</td>\n",
       "    </tr>\n",
       "    <tr>\n",
       "      <th>2</th>\n",
       "      <td>1969</td>\n",
       "      <td>1</td>\n",
       "      <td>2.0</td>\n",
       "      <td>F</td>\n",
       "      <td>4454</td>\n",
       "    </tr>\n",
       "    <tr>\n",
       "      <th>3</th>\n",
       "      <td>1969</td>\n",
       "      <td>1</td>\n",
       "      <td>2.0</td>\n",
       "      <td>M</td>\n",
       "      <td>4548</td>\n",
       "    </tr>\n",
       "    <tr>\n",
       "      <th>4</th>\n",
       "      <td>1969</td>\n",
       "      <td>1</td>\n",
       "      <td>3.0</td>\n",
       "      <td>F</td>\n",
       "      <td>4548</td>\n",
       "    </tr>\n",
       "  </tbody>\n",
       "</table>\n",
       "</div>"
      ],
      "text/plain": [
       "   year  month  day gender  births\n",
       "0  1969      1  1.0      F    4046\n",
       "1  1969      1  1.0      M    4440\n",
       "2  1969      1  2.0      F    4454\n",
       "3  1969      1  2.0      M    4548\n",
       "4  1969      1  3.0      F    4548"
      ]
     },
     "execution_count": 128,
     "metadata": {},
     "output_type": "execute_result"
    }
   ],
   "source": [
    "df =  pd.read_csv('./data/births.csv')\n",
    "df.head()"
   ]
  },
  {
   "cell_type": "code",
   "execution_count": 130,
   "id": "54bd1ba4",
   "metadata": {},
   "outputs": [],
   "source": [
    "new_df.loc[:,'day']=new_df.loc[:,'day'].astype('int')"
   ]
  },
  {
   "cell_type": "code",
   "execution_count": null,
   "id": "709b5ee8",
   "metadata": {},
   "outputs": [
    {
     "data": {
      "text/plain": [
       "0        19690101.0\n",
       "1        19690101.0\n",
       "2        19690102.0\n",
       "3        19690102.0\n",
       "4        19690103.0\n",
       "            ...    \n",
       "15542           NaN\n",
       "15543           NaN\n",
       "15544           NaN\n",
       "15545           NaN\n",
       "15546           NaN\n",
       "Length: 15547, dtype: float64"
      ]
     },
     "execution_count": 129,
     "metadata": {},
     "output_type": "execute_result"
    }
   ],
   "source": [
    "new_df['date'] = pd.to_datetime((new_df.year*10000+100*df.month+df.day))"
   ]
  },
  {
   "cell_type": "code",
   "execution_count": null,
   "id": "87d48cc2",
   "metadata": {},
   "outputs": [
    {
     "name": "stderr",
     "output_type": "stream",
     "text": [
      "C:\\Users\\user\\AppData\\Local\\Temp\\ipykernel_8396\\2690680689.py:1: UserWarning: Could not infer format, so each element will be parsed individually, falling back to `dateutil`. To ensure parsing is consistent and as-expected, please specify a format.\n",
      "  df['dateT'] = pd.to_datetime(df['year']+'-'+df['month']+'-'+df['day'], errors='raise')\n"
     ]
    },
    {
     "ename": "DateParseError",
     "evalue": "Unknown datetime string format, unable to parse: 1969-1-1.0, at position 0",
     "output_type": "error",
     "traceback": [
      "\u001b[1;31m---------------------------------------------------------------------------\u001b[0m",
      "\u001b[1;31mDateParseError\u001b[0m                            Traceback (most recent call last)",
      "Cell \u001b[1;32mIn[122], line 1\u001b[0m\n\u001b[1;32m----> 1\u001b[0m df[\u001b[38;5;124m'\u001b[39m\u001b[38;5;124mdateT\u001b[39m\u001b[38;5;124m'\u001b[39m] \u001b[38;5;241m=\u001b[39m \u001b[43mpd\u001b[49m\u001b[38;5;241;43m.\u001b[39;49m\u001b[43mto_datetime\u001b[49m\u001b[43m(\u001b[49m\u001b[43mdf\u001b[49m\u001b[43m[\u001b[49m\u001b[38;5;124;43m'\u001b[39;49m\u001b[38;5;124;43myear\u001b[39;49m\u001b[38;5;124;43m'\u001b[39;49m\u001b[43m]\u001b[49m\u001b[38;5;241;43m+\u001b[39;49m\u001b[38;5;124;43m'\u001b[39;49m\u001b[38;5;124;43m-\u001b[39;49m\u001b[38;5;124;43m'\u001b[39;49m\u001b[38;5;241;43m+\u001b[39;49m\u001b[43mdf\u001b[49m\u001b[43m[\u001b[49m\u001b[38;5;124;43m'\u001b[39;49m\u001b[38;5;124;43mmonth\u001b[39;49m\u001b[38;5;124;43m'\u001b[39;49m\u001b[43m]\u001b[49m\u001b[38;5;241;43m+\u001b[39;49m\u001b[38;5;124;43m'\u001b[39;49m\u001b[38;5;124;43m-\u001b[39;49m\u001b[38;5;124;43m'\u001b[39;49m\u001b[38;5;241;43m+\u001b[39;49m\u001b[43mdf\u001b[49m\u001b[43m[\u001b[49m\u001b[38;5;124;43m'\u001b[39;49m\u001b[38;5;124;43mday\u001b[39;49m\u001b[38;5;124;43m'\u001b[39;49m\u001b[43m]\u001b[49m\u001b[43m,\u001b[49m\u001b[43m \u001b[49m\u001b[43merrors\u001b[49m\u001b[38;5;241;43m=\u001b[39;49m\u001b[38;5;124;43m'\u001b[39;49m\u001b[38;5;124;43mraise\u001b[39;49m\u001b[38;5;124;43m'\u001b[39;49m\u001b[43m)\u001b[49m\n\u001b[0;32m      2\u001b[0m df\u001b[38;5;241m.\u001b[39mhead()\n",
      "File \u001b[1;32mc:\\Users\\user\\miniconda3\\envs\\aip\\lib\\site-packages\\pandas\\core\\tools\\datetimes.py:1068\u001b[0m, in \u001b[0;36mto_datetime\u001b[1;34m(arg, errors, dayfirst, yearfirst, utc, format, exact, unit, infer_datetime_format, origin, cache)\u001b[0m\n\u001b[0;32m   1066\u001b[0m             result \u001b[38;5;241m=\u001b[39m arg\u001b[38;5;241m.\u001b[39mtz_localize(\u001b[38;5;124m\"\u001b[39m\u001b[38;5;124mutc\u001b[39m\u001b[38;5;124m\"\u001b[39m)\n\u001b[0;32m   1067\u001b[0m \u001b[38;5;28;01melif\u001b[39;00m \u001b[38;5;28misinstance\u001b[39m(arg, ABCSeries):\n\u001b[1;32m-> 1068\u001b[0m     cache_array \u001b[38;5;241m=\u001b[39m \u001b[43m_maybe_cache\u001b[49m\u001b[43m(\u001b[49m\u001b[43marg\u001b[49m\u001b[43m,\u001b[49m\u001b[43m \u001b[49m\u001b[38;5;28;43mformat\u001b[39;49m\u001b[43m,\u001b[49m\u001b[43m \u001b[49m\u001b[43mcache\u001b[49m\u001b[43m,\u001b[49m\u001b[43m \u001b[49m\u001b[43mconvert_listlike\u001b[49m\u001b[43m)\u001b[49m\n\u001b[0;32m   1069\u001b[0m     \u001b[38;5;28;01mif\u001b[39;00m \u001b[38;5;129;01mnot\u001b[39;00m cache_array\u001b[38;5;241m.\u001b[39mempty:\n\u001b[0;32m   1070\u001b[0m         result \u001b[38;5;241m=\u001b[39m arg\u001b[38;5;241m.\u001b[39mmap(cache_array)\n",
      "File \u001b[1;32mc:\\Users\\user\\miniconda3\\envs\\aip\\lib\\site-packages\\pandas\\core\\tools\\datetimes.py:249\u001b[0m, in \u001b[0;36m_maybe_cache\u001b[1;34m(arg, format, cache, convert_listlike)\u001b[0m\n\u001b[0;32m    247\u001b[0m unique_dates \u001b[38;5;241m=\u001b[39m unique(arg)\n\u001b[0;32m    248\u001b[0m \u001b[38;5;28;01mif\u001b[39;00m \u001b[38;5;28mlen\u001b[39m(unique_dates) \u001b[38;5;241m<\u001b[39m \u001b[38;5;28mlen\u001b[39m(arg):\n\u001b[1;32m--> 249\u001b[0m     cache_dates \u001b[38;5;241m=\u001b[39m \u001b[43mconvert_listlike\u001b[49m\u001b[43m(\u001b[49m\u001b[43munique_dates\u001b[49m\u001b[43m,\u001b[49m\u001b[43m \u001b[49m\u001b[38;5;28;43mformat\u001b[39;49m\u001b[43m)\u001b[49m\n\u001b[0;32m    250\u001b[0m     \u001b[38;5;66;03m# GH#45319\u001b[39;00m\n\u001b[0;32m    251\u001b[0m     \u001b[38;5;28;01mtry\u001b[39;00m:\n",
      "File \u001b[1;32mc:\\Users\\user\\miniconda3\\envs\\aip\\lib\\site-packages\\pandas\\core\\tools\\datetimes.py:437\u001b[0m, in \u001b[0;36m_convert_listlike_datetimes\u001b[1;34m(arg, format, name, utc, unit, errors, dayfirst, yearfirst, exact)\u001b[0m\n\u001b[0;32m    434\u001b[0m \u001b[38;5;28;01mif\u001b[39;00m \u001b[38;5;28mformat\u001b[39m \u001b[38;5;129;01mis\u001b[39;00m \u001b[38;5;129;01mnot\u001b[39;00m \u001b[38;5;28;01mNone\u001b[39;00m \u001b[38;5;129;01mand\u001b[39;00m \u001b[38;5;28mformat\u001b[39m \u001b[38;5;241m!=\u001b[39m \u001b[38;5;124m\"\u001b[39m\u001b[38;5;124mmixed\u001b[39m\u001b[38;5;124m\"\u001b[39m:\n\u001b[0;32m    435\u001b[0m     \u001b[38;5;28;01mreturn\u001b[39;00m _array_strptime_with_fallback(arg, name, utc, \u001b[38;5;28mformat\u001b[39m, exact, errors)\n\u001b[1;32m--> 437\u001b[0m result, tz_parsed \u001b[38;5;241m=\u001b[39m \u001b[43mobjects_to_datetime64\u001b[49m\u001b[43m(\u001b[49m\n\u001b[0;32m    438\u001b[0m \u001b[43m    \u001b[49m\u001b[43marg\u001b[49m\u001b[43m,\u001b[49m\n\u001b[0;32m    439\u001b[0m \u001b[43m    \u001b[49m\u001b[43mdayfirst\u001b[49m\u001b[38;5;241;43m=\u001b[39;49m\u001b[43mdayfirst\u001b[49m\u001b[43m,\u001b[49m\n\u001b[0;32m    440\u001b[0m \u001b[43m    \u001b[49m\u001b[43myearfirst\u001b[49m\u001b[38;5;241;43m=\u001b[39;49m\u001b[43myearfirst\u001b[49m\u001b[43m,\u001b[49m\n\u001b[0;32m    441\u001b[0m \u001b[43m    \u001b[49m\u001b[43mutc\u001b[49m\u001b[38;5;241;43m=\u001b[39;49m\u001b[43mutc\u001b[49m\u001b[43m,\u001b[49m\n\u001b[0;32m    442\u001b[0m \u001b[43m    \u001b[49m\u001b[43merrors\u001b[49m\u001b[38;5;241;43m=\u001b[39;49m\u001b[43merrors\u001b[49m\u001b[43m,\u001b[49m\n\u001b[0;32m    443\u001b[0m \u001b[43m    \u001b[49m\u001b[43mallow_object\u001b[49m\u001b[38;5;241;43m=\u001b[39;49m\u001b[38;5;28;43;01mTrue\u001b[39;49;00m\u001b[43m,\u001b[49m\n\u001b[0;32m    444\u001b[0m \u001b[43m\u001b[49m\u001b[43m)\u001b[49m\n\u001b[0;32m    446\u001b[0m \u001b[38;5;28;01mif\u001b[39;00m tz_parsed \u001b[38;5;129;01mis\u001b[39;00m \u001b[38;5;129;01mnot\u001b[39;00m \u001b[38;5;28;01mNone\u001b[39;00m:\n\u001b[0;32m    447\u001b[0m     \u001b[38;5;66;03m# We can take a shortcut since the datetime64 numpy array\u001b[39;00m\n\u001b[0;32m    448\u001b[0m     \u001b[38;5;66;03m# is in UTC\u001b[39;00m\n\u001b[0;32m    449\u001b[0m     out_unit \u001b[38;5;241m=\u001b[39m np\u001b[38;5;241m.\u001b[39mdatetime_data(result\u001b[38;5;241m.\u001b[39mdtype)[\u001b[38;5;241m0\u001b[39m]\n",
      "File \u001b[1;32mc:\\Users\\user\\miniconda3\\envs\\aip\\lib\\site-packages\\pandas\\core\\arrays\\datetimes.py:2415\u001b[0m, in \u001b[0;36mobjects_to_datetime64\u001b[1;34m(data, dayfirst, yearfirst, utc, errors, allow_object, out_unit)\u001b[0m\n\u001b[0;32m   2412\u001b[0m \u001b[38;5;66;03m# if str-dtype, convert\u001b[39;00m\n\u001b[0;32m   2413\u001b[0m data \u001b[38;5;241m=\u001b[39m np\u001b[38;5;241m.\u001b[39masarray(data, dtype\u001b[38;5;241m=\u001b[39mnp\u001b[38;5;241m.\u001b[39mobject_)\n\u001b[1;32m-> 2415\u001b[0m result, tz_parsed \u001b[38;5;241m=\u001b[39m \u001b[43mtslib\u001b[49m\u001b[38;5;241;43m.\u001b[39;49m\u001b[43marray_to_datetime\u001b[49m\u001b[43m(\u001b[49m\n\u001b[0;32m   2416\u001b[0m \u001b[43m    \u001b[49m\u001b[43mdata\u001b[49m\u001b[43m,\u001b[49m\n\u001b[0;32m   2417\u001b[0m \u001b[43m    \u001b[49m\u001b[43merrors\u001b[49m\u001b[38;5;241;43m=\u001b[39;49m\u001b[43merrors\u001b[49m\u001b[43m,\u001b[49m\n\u001b[0;32m   2418\u001b[0m \u001b[43m    \u001b[49m\u001b[43mutc\u001b[49m\u001b[38;5;241;43m=\u001b[39;49m\u001b[43mutc\u001b[49m\u001b[43m,\u001b[49m\n\u001b[0;32m   2419\u001b[0m \u001b[43m    \u001b[49m\u001b[43mdayfirst\u001b[49m\u001b[38;5;241;43m=\u001b[39;49m\u001b[43mdayfirst\u001b[49m\u001b[43m,\u001b[49m\n\u001b[0;32m   2420\u001b[0m \u001b[43m    \u001b[49m\u001b[43myearfirst\u001b[49m\u001b[38;5;241;43m=\u001b[39;49m\u001b[43myearfirst\u001b[49m\u001b[43m,\u001b[49m\n\u001b[0;32m   2421\u001b[0m \u001b[43m    \u001b[49m\u001b[43mcreso\u001b[49m\u001b[38;5;241;43m=\u001b[39;49m\u001b[43mabbrev_to_npy_unit\u001b[49m\u001b[43m(\u001b[49m\u001b[43mout_unit\u001b[49m\u001b[43m)\u001b[49m\u001b[43m,\u001b[49m\n\u001b[0;32m   2422\u001b[0m \u001b[43m\u001b[49m\u001b[43m)\u001b[49m\n\u001b[0;32m   2424\u001b[0m \u001b[38;5;28;01mif\u001b[39;00m tz_parsed \u001b[38;5;129;01mis\u001b[39;00m \u001b[38;5;129;01mnot\u001b[39;00m \u001b[38;5;28;01mNone\u001b[39;00m:\n\u001b[0;32m   2425\u001b[0m     \u001b[38;5;66;03m# We can take a shortcut since the datetime64 numpy array\u001b[39;00m\n\u001b[0;32m   2426\u001b[0m     \u001b[38;5;66;03m#  is in UTC\u001b[39;00m\n\u001b[0;32m   2427\u001b[0m     \u001b[38;5;28;01mreturn\u001b[39;00m result, tz_parsed\n",
      "File \u001b[1;32mpandas/_libs/tslib.pyx:412\u001b[0m, in \u001b[0;36mpandas._libs.tslib.array_to_datetime\u001b[1;34m()\u001b[0m\n",
      "File \u001b[1;32mpandas/_libs/tslib.pyx:596\u001b[0m, in \u001b[0;36mpandas._libs.tslib.array_to_datetime\u001b[1;34m()\u001b[0m\n",
      "File \u001b[1;32mpandas/_libs/tslib.pyx:553\u001b[0m, in \u001b[0;36mpandas._libs.tslib.array_to_datetime\u001b[1;34m()\u001b[0m\n",
      "File \u001b[1;32mpandas/_libs/tslibs/conversion.pyx:641\u001b[0m, in \u001b[0;36mpandas._libs.tslibs.conversion.convert_str_to_tsobject\u001b[1;34m()\u001b[0m\n",
      "File \u001b[1;32mpandas/_libs/tslibs/parsing.pyx:336\u001b[0m, in \u001b[0;36mpandas._libs.tslibs.parsing.parse_datetime_string\u001b[1;34m()\u001b[0m\n",
      "File \u001b[1;32mpandas/_libs/tslibs/parsing.pyx:666\u001b[0m, in \u001b[0;36mpandas._libs.tslibs.parsing.dateutil_parse\u001b[1;34m()\u001b[0m\n",
      "\u001b[1;31mDateParseError\u001b[0m: Unknown datetime string format, unable to parse: 1969-1-1.0, at position 0"
     ]
    }
   ],
   "source": []
  }
 ],
 "metadata": {
  "kernelspec": {
   "display_name": "aip",
   "language": "python",
   "name": "python3"
  },
  "language_info": {
   "codemirror_mode": {
    "name": "ipython",
    "version": 3
   },
   "file_extension": ".py",
   "mimetype": "text/x-python",
   "name": "python",
   "nbconvert_exporter": "python",
   "pygments_lexer": "ipython3",
   "version": "3.9.23"
  }
 },
 "nbformat": 4,
 "nbformat_minor": 5
}
