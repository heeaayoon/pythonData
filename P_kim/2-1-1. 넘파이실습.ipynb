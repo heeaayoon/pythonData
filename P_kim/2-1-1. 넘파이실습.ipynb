{
 "cells": [
  {
   "cell_type": "code",
   "execution_count": 1,
   "metadata": {},
   "outputs": [],
   "source": [
    "import numpy as np"
   ]
  },
  {
   "cell_type": "markdown",
   "metadata": {},
   "source": [
    "\n",
    "# 실습 과제1: NumPy를 활용한 행렬 변형 실습\n",
    "\n",
    "## 문제 1: 난수 행렬 생성\n",
    "N = 6과 M = 5로 설정하고, 0과 1 사이의 난수를 사용하여 (N, M) 형태의 행렬 A를 생성하세요.\n",
    "힌트: np.random.rand() 함수를 사용하세요.\n"
   ]
  },
  {
   "cell_type": "code",
   "execution_count": 14,
   "metadata": {},
   "outputs": [
    {
     "data": {
      "text/plain": [
       "array([[0.82938411, 0.07422311, 0.81313836, 0.34110034, 0.16689479],\n",
       "       [0.69040108, 0.16496371, 0.07213877, 0.93737029, 0.24336809],\n",
       "       [0.74781602, 0.92997049, 0.57722681, 0.75434484, 0.21302744],\n",
       "       [0.90059962, 0.84016624, 0.42156753, 0.30447651, 0.38406622],\n",
       "       [0.29630077, 0.81466079, 0.94524311, 0.850456  , 0.81328852],\n",
       "       [0.5387934 , 0.65363535, 0.02618508, 0.91764746, 0.33072852]])"
      ]
     },
     "execution_count": 14,
     "metadata": {},
     "output_type": "execute_result"
    }
   ],
   "source": [
    "A = np.random.rand(6,5)\n",
    "A"
   ]
  },
  {
   "cell_type": "markdown",
   "metadata": {},
   "source": [
    "## 문제 2: 새로운 축 추가\n",
    "\n",
    "행렬 A에 np.newaxis를 사용하여 새로운 축을 추가하고, 결과를 B에 저장하세요. B의 형태는 (N, 1, M)이 되어야 합니다."
   ]
  },
  {
   "cell_type": "code",
   "execution_count": 15,
   "metadata": {},
   "outputs": [
    {
     "data": {
      "text/plain": [
       "(6, 1, 5)"
      ]
     },
     "execution_count": 15,
     "metadata": {},
     "output_type": "execute_result"
    }
   ],
   "source": [
    "B = A[:,np.newaxis]\n",
    "B.shape"
   ]
  },
  {
   "cell_type": "code",
   "execution_count": 12,
   "metadata": {},
   "outputs": [],
   "source": [
    "B = A[:,None,:]\n",
    "# 동일한 결과"
   ]
  },
  {
   "cell_type": "markdown",
   "metadata": {},
   "source": [
    "문제 3: 슬라이싱을 이용한 특정 요소 변경\n",
    "행렬 B에서 세 번째 행의 모든 열을 슬라이싱하여 값을 0.3으로 변경하세요."
   ]
  },
  {
   "cell_type": "code",
   "execution_count": 16,
   "metadata": {},
   "outputs": [
    {
     "data": {
      "text/plain": [
       "array([[[0.82938411, 0.07422311, 0.81313836, 0.34110034, 0.16689479]],\n",
       "\n",
       "       [[0.69040108, 0.16496371, 0.07213877, 0.93737029, 0.24336809]],\n",
       "\n",
       "       [[0.3       , 0.3       , 0.3       , 0.3       , 0.3       ]],\n",
       "\n",
       "       [[0.90059962, 0.84016624, 0.42156753, 0.30447651, 0.38406622]],\n",
       "\n",
       "       [[0.29630077, 0.81466079, 0.94524311, 0.850456  , 0.81328852]],\n",
       "\n",
       "       [[0.5387934 , 0.65363535, 0.02618508, 0.91764746, 0.33072852]]])"
      ]
     },
     "execution_count": 16,
     "metadata": {},
     "output_type": "execute_result"
    }
   ],
   "source": [
    "B[2,:, :] = 0.3\n",
    "B"
   ]
  },
  {
   "cell_type": "markdown",
   "metadata": {},
   "source": [
    "\n",
    "문제 4: 축 위치를 다르게 설정하여 새로운 행렬 생성\n",
    "np.newaxis를 사용하여 A의 형태를 (1, N, M)로 변형한 결과를 C에 저장하고, (N, M, 1)로 변형한 결과를 D에 저장하세요. 각 행렬의 형태를 출력하여 확인하세요."
   ]
  },
  {
   "cell_type": "code",
   "execution_count": 17,
   "metadata": {},
   "outputs": [
    {
     "data": {
      "text/plain": [
       "((1, 6, 5), (6, 5, 1))"
      ]
     },
     "execution_count": 17,
     "metadata": {},
     "output_type": "execute_result"
    }
   ],
   "source": [
    "C = A[None,:,:]\n",
    "D = A[:,:,None]\n",
    "C.shape, D.shape"
   ]
  },
  {
   "cell_type": "markdown",
   "metadata": {},
   "source": [
    "\n",
    "문제 5: 슬라이싱을 통해 부분 행렬 변경\n",
    "행렬 D에서 마지막 세 행의 모든 요소를 0.8로 변경하세요."
   ]
  },
  {
   "cell_type": "code",
   "execution_count": null,
   "metadata": {},
   "outputs": [],
   "source": [
    "D[-3,:,:]=0.8"
   ]
  },
  {
   "cell_type": "code",
   "execution_count": 25,
   "metadata": {},
   "outputs": [
    {
     "data": {
      "text/plain": [
       "((6, 5), (6, 5, 1))"
      ]
     },
     "execution_count": 25,
     "metadata": {},
     "output_type": "execute_result"
    }
   ],
   "source": [
    "A = np.random.rand(6,5)\n",
    "D = A[:,:,None]\n",
    "A.shape, D.shape"
   ]
  },
  {
   "cell_type": "code",
   "execution_count": 26,
   "metadata": {},
   "outputs": [],
   "source": [
    "D[-3:,:,:]=0.8"
   ]
  },
  {
   "cell_type": "code",
   "execution_count": null,
   "metadata": {},
   "outputs": [
    {
     "data": {
      "text/plain": [
       "(array([[0.51454461, 0.36827856, 0.35168702, 0.51300553, 0.68849447],\n",
       "        [0.70390321, 0.0516209 , 0.94134229, 0.30468609, 0.43126094],\n",
       "        [0.78646421, 0.17015832, 0.35415196, 0.77985885, 0.81125328],\n",
       "        [0.8       , 0.8       , 0.8       , 0.8       , 0.8       ],\n",
       "        [0.8       , 0.8       , 0.8       , 0.8       , 0.8       ],\n",
       "        [0.8       , 0.8       , 0.8       , 0.8       , 0.8       ]]),\n",
       " array([[[0.51454461],\n",
       "         [0.36827856],\n",
       "         [0.35168702],\n",
       "         [0.51300553],\n",
       "         [0.68849447]],\n",
       " \n",
       "        [[0.70390321],\n",
       "         [0.0516209 ],\n",
       "         [0.94134229],\n",
       "         [0.30468609],\n",
       "         [0.43126094]],\n",
       " \n",
       "        [[0.78646421],\n",
       "         [0.17015832],\n",
       "         [0.35415196],\n",
       "         [0.77985885],\n",
       "         [0.81125328]],\n",
       " \n",
       "        [[0.8       ],\n",
       "         [0.8       ],\n",
       "         [0.8       ],\n",
       "         [0.8       ],\n",
       "         [0.8       ]],\n",
       " \n",
       "        [[0.8       ],\n",
       "         [0.8       ],\n",
       "         [0.8       ],\n",
       "         [0.8       ],\n",
       "         [0.8       ]],\n",
       " \n",
       "        [[0.8       ],\n",
       "         [0.8       ],\n",
       "         [0.8       ],\n",
       "         [0.8       ],\n",
       "         [0.8       ]]]))"
      ]
     },
     "execution_count": 27,
     "metadata": {},
     "output_type": "execute_result"
    }
   ],
   "source": [
    "A,D # 왜 A도 수정된건지? D는 A의 뷰이므로 뷰를 수정하면 원본도 같이 수정됨"
   ]
  }
 ],
 "metadata": {
  "kernelspec": {
   "display_name": "aip",
   "language": "python",
   "name": "python3"
  },
  "language_info": {
   "codemirror_mode": {
    "name": "ipython",
    "version": 3
   },
   "file_extension": ".py",
   "mimetype": "text/x-python",
   "name": "python",
   "nbconvert_exporter": "python",
   "pygments_lexer": "ipython3",
   "version": "3.9.23"
  }
 },
 "nbformat": 4,
 "nbformat_minor": 2
}
