{
 "cells": [
  {
   "cell_type": "code",
   "execution_count": 3,
   "id": "690f32f4",
   "metadata": {},
   "outputs": [],
   "source": [
    "import matplotlib.pyplot as plt\n",
    "import numpy as np"
   ]
  },
  {
   "cell_type": "code",
   "execution_count": 4,
   "id": "c622810a",
   "metadata": {},
   "outputs": [
    {
     "data": {
      "text/plain": [
       "(150, 4)"
      ]
     },
     "execution_count": 4,
     "metadata": {},
     "output_type": "execute_result"
    }
   ],
   "source": [
    "data = np.random.normal(0,1,(150,4))\n",
    "data.shape"
   ]
  },
  {
   "cell_type": "code",
   "execution_count": 7,
   "id": "c884c078",
   "metadata": {},
   "outputs": [
    {
     "data": {
      "text/plain": [
       "(150,)"
      ]
     },
     "execution_count": 7,
     "metadata": {},
     "output_type": "execute_result"
    }
   ],
   "source": [
    "mask = data[:,0]>=0\n",
    "mask.shape"
   ]
  },
  {
   "cell_type": "code",
   "execution_count": 8,
   "id": "2cb16c8a",
   "metadata": {},
   "outputs": [
    {
     "data": {
      "text/plain": [
       "array([[ 0.74069505,  0.54581983, -0.43324478, -0.0438738 ],\n",
       "       [ 0.27790595,  0.62356073, -0.76812758,  0.68330634],\n",
       "       [ 1.51312766,  0.24232238, -1.08393577,  1.35006456],\n",
       "       [ 1.15307189,  0.64751707, -0.70350983,  1.09223023],\n",
       "       [ 1.59573274, -2.05961055, -0.66769814, -0.15893955],\n",
       "       [ 0.80356034,  1.34619792, -0.41651817, -0.53248483],\n",
       "       [ 0.38858232,  0.07432531, -1.17963486, -1.34503655],\n",
       "       [ 0.02152967, -0.16854418,  1.85246148,  0.95475804],\n",
       "       [ 0.05443941, -0.25852059,  0.36534721,  1.84665788],\n",
       "       [ 0.63471689,  0.03479683,  1.55222333, -0.93429379],\n",
       "       [ 1.50333183,  1.35325313,  2.03587095,  0.35550693],\n",
       "       [ 0.95415765, -0.88233426,  0.09938576, -0.59225504],\n",
       "       [ 0.26947944,  0.61508859, -0.67364341, -2.43803533],\n",
       "       [ 0.54939209,  1.28511202,  0.07073764, -0.25737565],\n",
       "       [ 0.42986586,  1.26001376,  1.61850965,  0.00466293],\n",
       "       [ 1.06417109, -1.4054172 , -0.83758356, -1.57904588],\n",
       "       [ 0.83905882,  1.08336549,  0.9270041 , -1.06091693],\n",
       "       [ 0.75387562, -0.81252375,  1.49322743,  1.05409613],\n",
       "       [ 0.6294147 ,  1.15081161,  0.89459452, -0.10382542],\n",
       "       [ 1.74044081, -0.43800425, -0.05177459, -0.48052876],\n",
       "       [ 0.1988412 ,  0.85859413,  0.99747408,  1.54095932],\n",
       "       [ 1.796456  ,  1.70929891,  1.71880243,  1.22533899],\n",
       "       [ 0.41482502,  0.05768357,  0.24243845,  1.13400317],\n",
       "       [ 1.50701382,  0.70791468,  0.46037722,  0.18755797],\n",
       "       [ 0.5497411 , -0.16329701,  0.4245052 , -1.15384077],\n",
       "       [ 0.49728928,  0.49150298,  0.58698164,  0.54949202],\n",
       "       [ 0.89058313,  0.45532569,  0.96332697,  0.19407136],\n",
       "       [ 0.60479072,  0.40163036, -0.50000751, -1.036663  ],\n",
       "       [ 0.10363669,  0.38318657, -0.14182135,  1.37317922],\n",
       "       [ 1.6933735 ,  1.09977007, -1.73073069,  1.70145089],\n",
       "       [ 0.64579668, -0.36167652, -0.01503525, -0.50677306],\n",
       "       [ 1.02096856, -2.36471222, -0.0505412 ,  0.63717839],\n",
       "       [ 1.43833643, -1.02654116,  0.24485671,  1.56007366],\n",
       "       [ 0.99410295, -0.53080316, -1.42259364, -0.18350368],\n",
       "       [ 0.15105268,  0.82426307,  0.36728029, -0.37447319],\n",
       "       [ 0.66962922, -0.44244921,  0.04112701, -1.2210517 ],\n",
       "       [ 1.2784238 ,  1.08265889, -0.4746923 ,  0.53262535],\n",
       "       [ 0.9189707 , -0.01033244, -0.66359456, -0.54697483],\n",
       "       [ 0.66341769, -1.33188242, -1.44519035, -0.23254586],\n",
       "       [ 0.17819135, -0.35099112,  0.41294226, -0.45904194],\n",
       "       [ 0.540711  ,  0.21613199, -0.16139431,  0.47753378],\n",
       "       [ 0.7503787 ,  0.95814999, -0.50548566,  0.46406878],\n",
       "       [ 0.35112504,  0.01042478, -0.64710326,  0.65595949],\n",
       "       [ 0.10919809, -1.05237001, -0.59690968,  0.31974458],\n",
       "       [ 0.15014894, -0.02997319, -0.59514474, -1.00822336],\n",
       "       [ 0.30836754,  1.44524432, -2.56997157,  0.10819259],\n",
       "       [ 0.56896492,  0.59940843,  0.20586972,  0.45688654],\n",
       "       [ 0.06687496,  0.78545723, -0.84331295, -0.77838792],\n",
       "       [ 1.94482817,  0.67279511, -0.66317203, -0.20021695],\n",
       "       [ 0.2624695 , -1.50329823, -2.84092522, -0.30877065],\n",
       "       [ 0.63159173,  0.5790723 , -0.19708309, -0.69596956],\n",
       "       [ 1.64740183, -0.20617761,  0.50807652, -0.39147576],\n",
       "       [ 0.18545261,  1.11993401, -0.20398576,  0.57809905],\n",
       "       [ 0.84133855, -0.90641056,  0.16221111, -0.26352154],\n",
       "       [ 0.07909563,  0.98029841, -1.69228077,  0.04950637],\n",
       "       [ 0.42287096, -0.91316541,  0.29108945,  0.49835199],\n",
       "       [ 1.36556087, -1.86335145, -0.62152698,  1.65685801],\n",
       "       [ 0.646446  ,  1.79475288,  0.68210484,  0.43175513],\n",
       "       [ 1.26439719, -0.0800019 , -1.11673098,  0.23547429],\n",
       "       [ 0.28194337,  1.42534184, -1.61251057,  0.09949055],\n",
       "       [ 0.3692247 ,  1.37787145, -1.1129082 , -1.39097442],\n",
       "       [ 0.61657417,  0.19859929, -0.16225128,  0.41308403],\n",
       "       [ 1.38334681, -1.49002472,  0.04453397, -0.74145833],\n",
       "       [ 0.3291398 , -0.36263756, -1.18558997,  2.20555444],\n",
       "       [ 0.78440235, -0.32197346, -0.53383334, -0.27447958],\n",
       "       [ 0.78616376, -0.06336486,  2.05988605, -0.54205173],\n",
       "       [ 0.37022856, -1.13569951,  0.07071795,  0.91320204],\n",
       "       [ 0.56007593, -0.81063007,  1.56724363,  0.13505842],\n",
       "       [ 2.17186543, -0.98518938,  0.53781895,  0.36558729],\n",
       "       [ 0.31365348, -2.52698475,  0.82208747,  0.7586494 ],\n",
       "       [ 1.42853505,  1.44559923, -1.81908521,  1.47749377],\n",
       "       [ 0.46630355, -0.36725419, -0.51213784, -1.60657382],\n",
       "       [ 1.70455463,  0.2515043 ,  2.27896559,  0.29657699],\n",
       "       [ 0.86053779,  0.47059073,  0.14419297, -1.04325901],\n",
       "       [ 0.19517332, -0.24688082,  0.15594287,  0.37272382],\n",
       "       [ 0.30133231, -0.03734177, -0.72800894,  0.4442554 ],\n",
       "       [ 0.58728735, -1.11957335, -2.21859662,  0.68129177],\n",
       "       [ 1.6121041 ,  0.66975289, -0.3225048 ,  0.57317416],\n",
       "       [ 0.30511745, -0.66647615, -0.12423184, -0.70908196],\n",
       "       [ 0.64955793, -0.72133135,  0.48581564,  1.19822417],\n",
       "       [ 0.63506952, -1.76814252,  0.22291548, -1.10181593]])"
      ]
     },
     "execution_count": 8,
     "metadata": {},
     "output_type": "execute_result"
    }
   ],
   "source": [
    "data[mask]"
   ]
  },
  {
   "cell_type": "code",
   "execution_count": 4,
   "id": "371e55d5",
   "metadata": {},
   "outputs": [
    {
     "data": {
      "text/html": [
       "<div>\n",
       "<style scoped>\n",
       "    .dataframe tbody tr th:only-of-type {\n",
       "        vertical-align: middle;\n",
       "    }\n",
       "\n",
       "    .dataframe tbody tr th {\n",
       "        vertical-align: top;\n",
       "    }\n",
       "\n",
       "    .dataframe thead th {\n",
       "        text-align: right;\n",
       "    }\n",
       "</style>\n",
       "<table border=\"1\" class=\"dataframe\">\n",
       "  <thead>\n",
       "    <tr style=\"text-align: right;\">\n",
       "      <th></th>\n",
       "      <th>survived</th>\n",
       "      <th>pclass</th>\n",
       "      <th>sex</th>\n",
       "      <th>age</th>\n",
       "      <th>sibsp</th>\n",
       "      <th>parch</th>\n",
       "      <th>fare</th>\n",
       "      <th>embarked</th>\n",
       "      <th>class</th>\n",
       "      <th>who</th>\n",
       "      <th>adult_male</th>\n",
       "      <th>deck</th>\n",
       "      <th>embark_town</th>\n",
       "      <th>alive</th>\n",
       "      <th>alone</th>\n",
       "    </tr>\n",
       "  </thead>\n",
       "  <tbody>\n",
       "    <tr>\n",
       "      <th>0</th>\n",
       "      <td>0</td>\n",
       "      <td>3</td>\n",
       "      <td>male</td>\n",
       "      <td>22.0</td>\n",
       "      <td>1</td>\n",
       "      <td>0</td>\n",
       "      <td>7.2500</td>\n",
       "      <td>S</td>\n",
       "      <td>Third</td>\n",
       "      <td>man</td>\n",
       "      <td>True</td>\n",
       "      <td>NaN</td>\n",
       "      <td>Southampton</td>\n",
       "      <td>no</td>\n",
       "      <td>False</td>\n",
       "    </tr>\n",
       "    <tr>\n",
       "      <th>1</th>\n",
       "      <td>1</td>\n",
       "      <td>1</td>\n",
       "      <td>female</td>\n",
       "      <td>38.0</td>\n",
       "      <td>1</td>\n",
       "      <td>0</td>\n",
       "      <td>71.2833</td>\n",
       "      <td>C</td>\n",
       "      <td>First</td>\n",
       "      <td>woman</td>\n",
       "      <td>False</td>\n",
       "      <td>C</td>\n",
       "      <td>Cherbourg</td>\n",
       "      <td>yes</td>\n",
       "      <td>False</td>\n",
       "    </tr>\n",
       "    <tr>\n",
       "      <th>2</th>\n",
       "      <td>1</td>\n",
       "      <td>3</td>\n",
       "      <td>female</td>\n",
       "      <td>26.0</td>\n",
       "      <td>0</td>\n",
       "      <td>0</td>\n",
       "      <td>7.9250</td>\n",
       "      <td>S</td>\n",
       "      <td>Third</td>\n",
       "      <td>woman</td>\n",
       "      <td>False</td>\n",
       "      <td>NaN</td>\n",
       "      <td>Southampton</td>\n",
       "      <td>yes</td>\n",
       "      <td>True</td>\n",
       "    </tr>\n",
       "    <tr>\n",
       "      <th>3</th>\n",
       "      <td>1</td>\n",
       "      <td>1</td>\n",
       "      <td>female</td>\n",
       "      <td>35.0</td>\n",
       "      <td>1</td>\n",
       "      <td>0</td>\n",
       "      <td>53.1000</td>\n",
       "      <td>S</td>\n",
       "      <td>First</td>\n",
       "      <td>woman</td>\n",
       "      <td>False</td>\n",
       "      <td>C</td>\n",
       "      <td>Southampton</td>\n",
       "      <td>yes</td>\n",
       "      <td>False</td>\n",
       "    </tr>\n",
       "    <tr>\n",
       "      <th>4</th>\n",
       "      <td>0</td>\n",
       "      <td>3</td>\n",
       "      <td>male</td>\n",
       "      <td>35.0</td>\n",
       "      <td>0</td>\n",
       "      <td>0</td>\n",
       "      <td>8.0500</td>\n",
       "      <td>S</td>\n",
       "      <td>Third</td>\n",
       "      <td>man</td>\n",
       "      <td>True</td>\n",
       "      <td>NaN</td>\n",
       "      <td>Southampton</td>\n",
       "      <td>no</td>\n",
       "      <td>True</td>\n",
       "    </tr>\n",
       "  </tbody>\n",
       "</table>\n",
       "</div>"
      ],
      "text/plain": [
       "   survived  pclass     sex   age  sibsp  parch     fare embarked  class  \\\n",
       "0         0       3    male  22.0      1      0   7.2500        S  Third   \n",
       "1         1       1  female  38.0      1      0  71.2833        C  First   \n",
       "2         1       3  female  26.0      0      0   7.9250        S  Third   \n",
       "3         1       1  female  35.0      1      0  53.1000        S  First   \n",
       "4         0       3    male  35.0      0      0   8.0500        S  Third   \n",
       "\n",
       "     who  adult_male deck  embark_town alive  alone  \n",
       "0    man        True  NaN  Southampton    no  False  \n",
       "1  woman       False    C    Cherbourg   yes  False  \n",
       "2  woman       False  NaN  Southampton   yes   True  \n",
       "3  woman       False    C  Southampton   yes  False  \n",
       "4    man        True  NaN  Southampton    no   True  "
      ]
     },
     "execution_count": 4,
     "metadata": {},
     "output_type": "execute_result"
    }
   ],
   "source": [
    "import numpy as np\n",
    "import pandas as pd\n",
    "import seaborn as sns\n",
    "df = sns.load_dataset('titanic')\n",
    "df.head()"
   ]
  },
  {
   "cell_type": "code",
   "execution_count": 5,
   "id": "7dd063aa",
   "metadata": {},
   "outputs": [
    {
     "name": "stdout",
     "output_type": "stream",
     "text": [
      "<class 'pandas.core.frame.DataFrame'>\n",
      "RangeIndex: 891 entries, 0 to 890\n",
      "Data columns (total 15 columns):\n",
      " #   Column       Non-Null Count  Dtype   \n",
      "---  ------       --------------  -----   \n",
      " 0   survived     891 non-null    int64   \n",
      " 1   pclass       891 non-null    int64   \n",
      " 2   sex          891 non-null    object  \n",
      " 3   age          714 non-null    float64 \n",
      " 4   sibsp        891 non-null    int64   \n",
      " 5   parch        891 non-null    int64   \n",
      " 6   fare         891 non-null    float64 \n",
      " 7   embarked     889 non-null    object  \n",
      " 8   class        891 non-null    category\n",
      " 9   who          891 non-null    object  \n",
      " 10  adult_male   891 non-null    bool    \n",
      " 11  deck         203 non-null    category\n",
      " 12  embark_town  889 non-null    object  \n",
      " 13  alive        891 non-null    object  \n",
      " 14  alone        891 non-null    bool    \n",
      "dtypes: bool(2), category(2), float64(2), int64(4), object(5)\n",
      "memory usage: 80.7+ KB\n"
     ]
    }
   ],
   "source": [
    "df.info()"
   ]
  },
  {
   "cell_type": "code",
   "execution_count": 7,
   "id": "4aec9dc6",
   "metadata": {},
   "outputs": [],
   "source": [
    "#df['sex'].apply(lambda x: 0 if x==\"male\" else 1)\n",
    "def f(x):\n",
    "    if x ==\"male\" : return 0\n",
    "    return 1\n",
    "df.loc[:,'sex'] = df['sex'].apply(f)\n",
    "df.loc[:,'sex'] = df['sex'].astype('int')"
   ]
  },
  {
   "cell_type": "code",
   "execution_count": 8,
   "id": "4eaca2ee",
   "metadata": {},
   "outputs": [
    {
     "name": "stdout",
     "output_type": "stream",
     "text": [
      "<class 'pandas.core.frame.DataFrame'>\n",
      "RangeIndex: 891 entries, 0 to 890\n",
      "Data columns (total 15 columns):\n",
      " #   Column       Non-Null Count  Dtype   \n",
      "---  ------       --------------  -----   \n",
      " 0   survived     891 non-null    int64   \n",
      " 1   pclass       891 non-null    int64   \n",
      " 2   sex          891 non-null    object  \n",
      " 3   age          714 non-null    float64 \n",
      " 4   sibsp        891 non-null    int64   \n",
      " 5   parch        891 non-null    int64   \n",
      " 6   fare         891 non-null    float64 \n",
      " 7   embarked     889 non-null    object  \n",
      " 8   class        891 non-null    category\n",
      " 9   who          891 non-null    object  \n",
      " 10  adult_male   891 non-null    bool    \n",
      " 11  deck         203 non-null    category\n",
      " 12  embark_town  889 non-null    object  \n",
      " 13  alive        891 non-null    object  \n",
      " 14  alone        891 non-null    bool    \n",
      "dtypes: bool(2), category(2), float64(2), int64(4), object(5)\n",
      "memory usage: 80.7+ KB\n"
     ]
    }
   ],
   "source": [
    "df.info()"
   ]
  },
  {
   "cell_type": "code",
   "execution_count": 9,
   "id": "e3e86c24",
   "metadata": {},
   "outputs": [
    {
     "data": {
      "text/plain": [
       "array(['S', 'C', 'Q', nan], dtype=object)"
      ]
     },
     "execution_count": 9,
     "metadata": {},
     "output_type": "execute_result"
    }
   ],
   "source": [
    "df['embarked'].unique()"
   ]
  },
  {
   "cell_type": "code",
   "execution_count": 16,
   "id": "fc057988",
   "metadata": {},
   "outputs": [],
   "source": [
    "mask = df['embarked'].isna()\n",
    "df['embarked'].fillna(\"S\", inplace=True)"
   ]
  },
  {
   "cell_type": "code",
   "execution_count": 17,
   "id": "6d09b162",
   "metadata": {},
   "outputs": [],
   "source": [
    "df.loc[:, 'embarked'] = pd.Categorical(df['embarked'])"
   ]
  },
  {
   "cell_type": "code",
   "execution_count": 19,
   "id": "47127a22",
   "metadata": {},
   "outputs": [
    {
     "name": "stdout",
     "output_type": "stream",
     "text": [
      "<class 'pandas.core.frame.DataFrame'>\n",
      "RangeIndex: 891 entries, 0 to 890\n",
      "Data columns (total 15 columns):\n",
      " #   Column       Non-Null Count  Dtype   \n",
      "---  ------       --------------  -----   \n",
      " 0   survived     891 non-null    int64   \n",
      " 1   pclass       891 non-null    int64   \n",
      " 2   sex          891 non-null    object  \n",
      " 3   age          714 non-null    float64 \n",
      " 4   sibsp        891 non-null    int64   \n",
      " 5   parch        891 non-null    int64   \n",
      " 6   fare         891 non-null    float64 \n",
      " 7   embarked     891 non-null    object  \n",
      " 8   class        891 non-null    category\n",
      " 9   who          891 non-null    object  \n",
      " 10  adult_male   891 non-null    bool    \n",
      " 11  deck         203 non-null    category\n",
      " 12  embark_town  889 non-null    object  \n",
      " 13  alive        891 non-null    object  \n",
      " 14  alone        891 non-null    bool    \n",
      "dtypes: bool(2), category(2), float64(2), int64(4), object(5)\n",
      "memory usage: 80.7+ KB\n"
     ]
    }
   ],
   "source": [
    "df.info()"
   ]
  },
  {
   "cell_type": "code",
   "execution_count": 20,
   "id": "e7d81e61",
   "metadata": {},
   "outputs": [
    {
     "data": {
      "text/plain": [
       "array(['Southampton', 'Cherbourg', 'Queenstown', nan], dtype=object)"
      ]
     },
     "execution_count": 20,
     "metadata": {},
     "output_type": "execute_result"
    }
   ],
   "source": [
    "df['embark_town'].unique()"
   ]
  },
  {
   "cell_type": "code",
   "execution_count": 21,
   "id": "c9e4835d",
   "metadata": {},
   "outputs": [
    {
     "name": "stderr",
     "output_type": "stream",
     "text": [
      "C:\\Users\\user\\AppData\\Local\\Temp\\ipykernel_7636\\2978088390.py:1: FutureWarning: A value is trying to be set on a copy of a DataFrame or Series through chained assignment using an inplace method.\n",
      "The behavior will change in pandas 3.0. This inplace method will never work because the intermediate object on which we are setting values always behaves as a copy.\n",
      "\n",
      "For example, when doing 'df[col].method(value, inplace=True)', try using 'df.method({col: value}, inplace=True)' or df[col] = df[col].method(value) instead, to perform the operation inplace on the original object.\n",
      "\n",
      "\n",
      "  df['embark_town'].fillna(\"Southampton\", inplace=True)\n"
     ]
    }
   ],
   "source": [
    "df['embark_town'].fillna(\"Southampton\", inplace=True)"
   ]
  }
 ],
 "metadata": {
  "kernelspec": {
   "display_name": "aip",
   "language": "python",
   "name": "python3"
  },
  "language_info": {
   "codemirror_mode": {
    "name": "ipython",
    "version": 3
   },
   "file_extension": ".py",
   "mimetype": "text/x-python",
   "name": "python",
   "nbconvert_exporter": "python",
   "pygments_lexer": "ipython3",
   "version": "3.9.23"
  }
 },
 "nbformat": 4,
 "nbformat_minor": 5
}
