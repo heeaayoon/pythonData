{
 "cells": [
  {
   "cell_type": "code",
   "execution_count": 2,
   "id": "89bbc671",
   "metadata": {},
   "outputs": [
    {
     "name": "stdout",
     "output_type": "stream",
     "text": [
      "Python 3.9.23\n"
     ]
    }
   ],
   "source": [
    "!python --version"
   ]
  },
  {
   "cell_type": "code",
   "execution_count": 3,
   "id": "ddeaf878",
   "metadata": {},
   "outputs": [
    {
     "data": {
      "text/plain": [
       "[<matplotlib.lines.Line2D at 0x1b9c5cbae50>]"
      ]
     },
     "execution_count": 3,
     "metadata": {},
     "output_type": "execute_result"
    },
    {
     "data": {
      "image/png": "[encoded data removed]",
      "text/plain": [
       "<Figure size 640x480 with 1 Axes>"
      ]
     },
     "metadata": {},
     "output_type": "display_data"
    }
   ],
   "source": [
    "import numpy as np\n",
    "import matplotlib.pyplot as plt\n",
    "def f(x):\n",
    "    return 2*x+1\n",
    "\n",
    "x = np.arange(-5,5)\n",
    "y = f(x)\n",
    "plt.plot(x,y)"
   ]
  },
  {
   "cell_type": "code",
   "execution_count": 14,
   "id": "2be7594b",
   "metadata": {},
   "outputs": [],
   "source": [
    "class Integer:\n",
    "    def __init__(self,x):\n",
    "        self.x = x\n",
    "    \n",
    "    def __add__(self,other):\n",
    "        return self.x+other.x\n",
    "    \n",
    "    @staticmethod\n",
    "    def add(left,right):\n",
    "        return left.x+right.x\n",
    "    \n",
    "def add(a,b):\n",
    "    return a+b"
   ]
  },
  {
   "cell_type": "code",
   "execution_count": 15,
   "id": "29fb684b",
   "metadata": {},
   "outputs": [
    {
     "data": {
      "text/plain": [
       "(3, 3, 3)"
      ]
     },
     "execution_count": 15,
     "metadata": {},
     "output_type": "execute_result"
    }
   ],
   "source": [
    "n1 = Integer(1)\n",
    "n2 = Integer(2)\n",
    "\n",
    "n1+n2, Integer.add(n1,n2), add(n1,n2)"
   ]
  },
  {
   "cell_type": "code",
   "execution_count": 8,
   "id": "a908f9a3",
   "metadata": {},
   "outputs": [
    {
     "data": {
      "text/plain": [
       "np.int64(3)"
      ]
     },
     "execution_count": 8,
     "metadata": {},
     "output_type": "execute_result"
    }
   ],
   "source": [
    "n1 = np.array(1)\n",
    "n2 = np.array(2)\n",
    "n1+n2"
   ]
  },
  {
   "cell_type": "code",
   "execution_count": 17,
   "id": "e87d7f6e",
   "metadata": {},
   "outputs": [
    {
     "data": {
      "text/plain": [
       "np.int64(55)"
      ]
     },
     "execution_count": 17,
     "metadata": {},
     "output_type": "execute_result"
    }
   ],
   "source": [
    "x = np.arange(1,11)\n",
    "np.sum(x)"
   ]
  },
  {
   "cell_type": "code",
   "execution_count": null,
   "id": "ccef21f9",
   "metadata": {},
   "outputs": [
    {
     "data": {
      "text/plain": [
       "((10,), (10,))"
      ]
     },
     "execution_count": 21,
     "metadata": {},
     "output_type": "execute_result"
    }
   ],
   "source": [
    "#cumsum() : 누적합계\n",
    "x = np.arange(1,11)\n",
    "out = np.cumsum(x)\n",
    "x.shape, out.shape # 배열의 값을 변환하여(누적합) 새로운 배열을 만들지만, 배열의 모양은 변하지 않음"
   ]
  },
  {
   "cell_type": "code",
   "execution_count": null,
   "id": "cc312e4a",
   "metadata": {},
   "outputs": [
    {
     "data": {
      "text/plain": [
       "(150, 4)"
      ]
     },
     "execution_count": 23,
     "metadata": {},
     "output_type": "execute_result"
    }
   ],
   "source": [
    "#다차원 집계 p.68\n",
    "x = np.random.random((150,4))\n",
    "x.shape"
   ]
  },
  {
   "cell_type": "code",
   "execution_count": null,
   "id": "daa9e11c",
   "metadata": {},
   "outputs": [
    {
     "data": {
      "text/plain": [
       "np.float64(295.7051984229208)"
      ]
     },
     "execution_count": 24,
     "metadata": {},
     "output_type": "execute_result"
    }
   ],
   "source": [
    "np.sum(x) #차원? -> 행방향 덧셈인지, 열방향 덧셈인지?"
   ]
  },
  {
   "cell_type": "code",
   "execution_count": null,
   "id": "1cf6595b",
   "metadata": {},
   "outputs": [
    {
     "data": {
      "text/plain": [
       "(array([70.75254079, 78.00601463, 70.24055094, 76.70609207]),\n",
       " array([1.99768266, 1.73188923, 2.06538729, 1.13743716, 1.74643989,\n",
       "        2.36159354, 2.263551  , 2.26902991, 2.87594361, 0.71325663,\n",
       "        1.01843774, 1.94030076, 0.63994007, 1.10970207, 1.42629973,\n",
       "        0.97671359, 1.74321112, 2.04797302, 1.54108878, 2.18489884,\n",
       "        2.24683542, 2.39497677, 2.61900864, 2.98619813, 0.94143485,\n",
       "        2.67834416, 2.11177237, 1.53778549, 2.13006848, 2.26494663,\n",
       "        2.87874636, 1.44702945, 2.06066939, 2.52732521, 2.10613631,\n",
       "        2.60198911, 2.33205767, 1.40635297, 1.10111665, 1.70728125,\n",
       "        2.02081142, 2.18848887, 1.21296648, 1.88281036, 2.37404648,\n",
       "        1.22454847, 2.14602193, 1.82220077, 2.31653776, 1.83857619,\n",
       "        2.21174256, 2.06041539, 2.15235185, 1.86761728, 1.43573191,\n",
       "        2.55383326, 2.51241752, 2.23616741, 1.72530636, 1.46033328,\n",
       "        2.1015462 , 1.50679816, 1.71303976, 1.32809054, 1.92701551,\n",
       "        2.97826061, 0.94556662, 1.62402454, 1.92242657, 2.35969191,\n",
       "        1.6190068 , 1.50927046, 2.37144235, 1.56991737, 2.51462751,\n",
       "        1.34674765, 1.44128492, 2.27941239, 1.86710852, 2.02058628,\n",
       "        2.46483509, 2.27453789, 2.57851482, 1.74406074, 1.692123  ,\n",
       "        2.18338155, 2.16718723, 1.61972551, 1.54076449, 2.38181319,\n",
       "        2.0975848 , 1.80993888, 2.36612733, 1.29088105, 2.21940483,\n",
       "        2.75646405, 2.51407452, 1.43807472, 2.04323054, 2.52347311,\n",
       "        1.5964575 , 3.04772567, 1.98596378, 1.30195803, 0.85283808,\n",
       "        2.01828341, 2.45502789, 2.51157635, 2.34044405, 1.92304702,\n",
       "        1.52796056, 2.06083083, 2.02458984, 1.87242647, 2.46183852,\n",
       "        1.79703933, 1.49356251, 1.6848601 , 1.22637166, 1.99550098,\n",
       "        2.22782538, 1.76287531, 2.67282065, 3.17096138, 1.57654921,\n",
       "        1.43666322, 2.66290865, 2.62608913, 2.24381899, 2.22601525,\n",
       "        1.73336903, 2.10471005, 3.09593872, 2.46849246, 2.53331661,\n",
       "        2.22913767, 1.71625328, 2.23926506, 1.84938652, 1.39184734,\n",
       "        2.90503594, 1.58062087, 1.66853025, 1.12306963, 1.15966037,\n",
       "        2.93197159, 2.47519174, 1.82378343, 1.92155405, 2.20339459]))"
      ]
     },
     "execution_count": 26,
     "metadata": {},
     "output_type": "execute_result"
    }
   ],
   "source": [
    "np.sum(x, axis=0) # 열별로 더하기 ->(4,)\n",
    "np.sum(x, axis=1) # 행별로 더하기 ->(150,)"
   ]
  },
  {
   "cell_type": "code",
   "execution_count": 36,
   "id": "5e98c8f2",
   "metadata": {},
   "outputs": [
    {
     "data": {
      "text/plain": [
       "np.int64(1)"
      ]
     },
     "execution_count": 36,
     "metadata": {},
     "output_type": "execute_result"
    }
   ],
   "source": [
    "#최댓값의 인덱스 찾기\n",
    "p = np.array([0.2,0.7,0.1])\n",
    "np.argmax(p)"
   ]
  },
  {
   "cell_type": "code",
   "execution_count": 37,
   "id": "c6396a09",
   "metadata": {},
   "outputs": [
    {
     "data": {
      "text/plain": [
       "'Versicolor'"
      ]
     },
     "execution_count": 37,
     "metadata": {},
     "output_type": "execute_result"
    }
   ],
   "source": [
    "labels = ['Setosa', 'Versicolor', 'Virginica']\n",
    "labels[np.argmax(p)]"
   ]
  },
  {
   "cell_type": "code",
   "execution_count": null,
   "id": "66873c51",
   "metadata": {},
   "outputs": [
    {
     "data": {
      "text/plain": [
       "(array([ 1,  2,  3,  4,  5,  6,  7,  8,  9, 10]),\n",
       " np.float64(3.6999999999999997),\n",
       " np.float64(5.5),\n",
       " np.float64(9.1))"
      ]
     },
     "execution_count": 43,
     "metadata": {},
     "output_type": "execute_result"
    }
   ],
   "source": [
    "#데이터를 크기 순으로 정렬했을때 해당 퍼센트에 해당하는 값\n",
    "x = np.arange(1,11)\n",
    "x, np.percentile(x,30), np.percentile(x,50), np.percentile(x,90)"
   ]
  },
  {
   "cell_type": "code",
   "execution_count": 46,
   "id": "b75a4618",
   "metadata": {},
   "outputs": [
    {
     "name": "stdout",
     "output_type": "stream",
     "text": [
      "Collecting pandas\n",
      "  Downloading pandas-2.3.1-cp39-cp39-win_amd64.whl.metadata (19 kB)\n",
      "Requirement already satisfied: numpy>=1.22.4 in c:\\users\\user\\miniconda3\\envs\\aip\\lib\\site-packages (from pandas) (2.0.1)\n",
      "Requirement already satisfied: python-dateutil>=2.8.2 in c:\\users\\user\\appdata\\roaming\\python\\python39\\site-packages (from pandas) (2.9.0.post0)\n",
      "Collecting pytz>=2020.1 (from pandas)\n",
      "  Downloading pytz-2025.2-py2.py3-none-any.whl.metadata (22 kB)\n",
      "Collecting tzdata>=2022.7 (from pandas)\n",
      "  Downloading tzdata-2025.2-py2.py3-none-any.whl.metadata (1.4 kB)\n",
      "Requirement already satisfied: six>=1.5 in c:\\users\\user\\appdata\\roaming\\python\\python39\\site-packages (from python-dateutil>=2.8.2->pandas) (1.17.0)\n",
      "Downloading pandas-2.3.1-cp39-cp39-win_amd64.whl (11.4 MB)\n",
      "   ---------------------------------------- 0.0/11.4 MB ? eta -:--:--\n",
      "   ----------- ---------------------------- 3.1/11.4 MB 16.8 MB/s eta 0:00:01\n",
      "   ---------------------------------------- 11.4/11.4 MB 33.8 MB/s eta 0:00:00\n",
      "Downloading pytz-2025.2-py2.py3-none-any.whl (509 kB)\n",
      "Downloading tzdata-2025.2-py2.py3-none-any.whl (347 kB)\n",
      "Installing collected packages: pytz, tzdata, pandas\n",
      "\n",
      "   ---------------------------------------- 0/3 [pytz]\n",
      "   ------------- -------------------------- 1/3 [tzdata]\n",
      "   ------------- -------------------------- 1/3 [tzdata]\n",
      "   -------------------------- ------------- 2/3 [pandas]\n",
      "   -------------------------- ------------- 2/3 [pandas]\n",
      "   -------------------------- ------------- 2/3 [pandas]\n",
      "   -------------------------- ------------- 2/3 [pandas]\n",
      "   -------------------------- ------------- 2/3 [pandas]\n",
      "   -------------------------- ------------- 2/3 [pandas]\n",
      "   -------------------------- ------------- 2/3 [pandas]\n",
      "   -------------------------- ------------- 2/3 [pandas]\n",
      "   -------------------------- ------------- 2/3 [pandas]\n",
      "   -------------------------- ------------- 2/3 [pandas]\n",
      "   -------------------------- ------------- 2/3 [pandas]\n",
      "   -------------------------- ------------- 2/3 [pandas]\n",
      "   -------------------------- ------------- 2/3 [pandas]\n",
      "   -------------------------- ------------- 2/3 [pandas]\n",
      "   -------------------------- ------------- 2/3 [pandas]\n",
      "   -------------------------- ------------- 2/3 [pandas]\n",
      "   -------------------------- ------------- 2/3 [pandas]\n",
      "   -------------------------- ------------- 2/3 [pandas]\n",
      "   -------------------------- ------------- 2/3 [pandas]\n",
      "   -------------------------- ------------- 2/3 [pandas]\n",
      "   -------------------------- ------------- 2/3 [pandas]\n",
      "   -------------------------- ------------- 2/3 [pandas]\n",
      "   -------------------------- ------------- 2/3 [pandas]\n",
      "   -------------------------- ------------- 2/3 [pandas]\n",
      "   -------------------------- ------------- 2/3 [pandas]\n",
      "   -------------------------- ------------- 2/3 [pandas]\n",
      "   -------------------------- ------------- 2/3 [pandas]\n",
      "   -------------------------- ------------- 2/3 [pandas]\n",
      "   -------------------------- ------------- 2/3 [pandas]\n",
      "   -------------------------- ------------- 2/3 [pandas]\n",
      "   -------------------------- ------------- 2/3 [pandas]\n",
      "   -------------------------- ------------- 2/3 [pandas]\n",
      "   -------------------------- ------------- 2/3 [pandas]\n",
      "   -------------------------- ------------- 2/3 [pandas]\n",
      "   ---------------------------------------- 3/3 [pandas]\n",
      "\n",
      "Successfully installed pandas-2.3.1 pytz-2025.2 tzdata-2025.2\n",
      "Note: you may need to restart the kernel to use updated packages.\n"
     ]
    }
   ],
   "source": [
    "pip install pandas"
   ]
  },
  {
   "cell_type": "code",
   "execution_count": 13,
   "id": "467027aa",
   "metadata": {},
   "outputs": [
    {
     "name": "stdout",
     "output_type": "stream",
     "text": [
      "[189 170 189 163 183 171 185 168 173 183 173 173 175 178 183 193 178 173\n",
      " 174 183 183 168 170 178 182 180 183 178 182 188 175 179 183 193 182 183\n",
      " 177 185 188 188 182 185 191 182]\n",
      "Mean height :  180.04545454545453\n",
      "std :  6.983599441335736\n",
      "max height :  193\n",
      "min height :  163\n",
      "25percentile :  174.75\n",
      "75percentile :  183.5\n",
      "median height :  182.0\n"
     ]
    },
    {
     "data": {
      "text/plain": [
       "(array([ 1.,  2.,  3.,  5.,  3.,  6., 13.,  3.,  5.,  3.]),\n",
       " array([163., 166., 169., 172., 175., 178., 181., 184., 187., 190., 193.]),\n",
       " <BarContainer object of 10 artists>)"
      ]
     },
     "execution_count": 13,
     "metadata": {},
     "output_type": "execute_result"
    },
    {
     "data": {
      "image/png": "[encoded data removed]",
      "text/plain": [
       "<Figure size 640x480 with 1 Axes>"
      ]
     },
     "metadata": {},
     "output_type": "display_data"
    }
   ],
   "source": [
    "# p.70\n",
    "import pandas as pd\n",
    "import numpy as np\n",
    "import matplotlib.pyplot as plt\n",
    "data = pd.read_csv('data/president_heights.csv')\n",
    "heights = np.array(data['height(cm)'])\n",
    "print(heights)\n",
    "print(\"Mean height : \", heights.mean())\n",
    "print(\"std : \", heights.std())\n",
    "print(\"max height : \", heights.max())\n",
    "print(\"min height : \", heights.min())\n",
    "print(\"25percentile : \", np.percentile(heights,25))\n",
    "print(\"75percentile : \", np.percentile(heights,75))\n",
    "print(\"median height : \", np.median(heights))\n",
    "plt.hist(heights)"
   ]
  },
  {
   "cell_type": "markdown",
   "id": "c0ab7aca",
   "metadata": {},
   "source": [
    "1. 브로드캐스팅\n",
    "2. 마스크\n",
    "3. 팬시 인덱스"
   ]
  },
  {
   "cell_type": "markdown",
   "id": "a6e75e69",
   "metadata": {},
   "source": [
    "1. 브로드캐스팅"
   ]
  },
  {
   "cell_type": "code",
   "execution_count": 25,
   "id": "c18d8d9c",
   "metadata": {},
   "outputs": [
    {
     "data": {
      "text/plain": [
       "(2, 1, (15, 4))"
      ]
     },
     "execution_count": 25,
     "metadata": {},
     "output_type": "execute_result"
    }
   ],
   "source": [
    "x = np.random.rand(15,4)\n",
    "y = np.array([1])\n",
    "x.ndim, y.ndim, (x+y).shape"
   ]
  },
  {
   "cell_type": "code",
   "execution_count": null,
   "id": "280a48c8",
   "metadata": {},
   "outputs": [
    {
     "data": {
      "text/plain": [
       "(1, 1)"
      ]
     },
     "execution_count": 28,
     "metadata": {},
     "output_type": "execute_result"
    }
   ],
   "source": [
    "# 차원 맞추기\n",
    "y.reshape(1,1).shape\n",
    "# 또는\n",
    "y[None,:].shape"
   ]
  },
  {
   "cell_type": "code",
   "execution_count": 29,
   "id": "ad8126ed",
   "metadata": {},
   "outputs": [],
   "source": [
    "new_y = y.reshape(1,1)"
   ]
  },
  {
   "cell_type": "code",
   "execution_count": 30,
   "id": "433b8383",
   "metadata": {},
   "outputs": [
    {
     "data": {
      "text/plain": [
       "(2, 2)"
      ]
     },
     "execution_count": 30,
     "metadata": {},
     "output_type": "execute_result"
    }
   ],
   "source": [
    "x.ndim, new_y.ndim"
   ]
  },
  {
   "cell_type": "code",
   "execution_count": 31,
   "id": "058b6609",
   "metadata": {},
   "outputs": [
    {
     "data": {
      "text/plain": [
       "((15, 4), (1, 1))"
      ]
     },
     "execution_count": 31,
     "metadata": {},
     "output_type": "execute_result"
    }
   ],
   "source": [
    "x.shape,new_y.shape"
   ]
  },
  {
   "cell_type": "code",
   "execution_count": null,
   "id": "8faf8c73",
   "metadata": {},
   "outputs": [
    {
     "data": {
      "text/plain": [
       "array([[1, 1, 1, 1],\n",
       "       [1, 1, 1, 1],\n",
       "       [1, 1, 1, 1],\n",
       "       [1, 1, 1, 1],\n",
       "       [1, 1, 1, 1],\n",
       "       [1, 1, 1, 1],\n",
       "       [1, 1, 1, 1],\n",
       "       [1, 1, 1, 1],\n",
       "       [1, 1, 1, 1],\n",
       "       [1, 1, 1, 1],\n",
       "       [1, 1, 1, 1],\n",
       "       [1, 1, 1, 1],\n",
       "       [1, 1, 1, 1],\n",
       "       [1, 1, 1, 1],\n",
       "       [1, 1, 1, 1]])"
      ]
     },
     "execution_count": 32,
     "metadata": {},
     "output_type": "execute_result"
    }
   ],
   "source": [
    "# 브로드캐스팅이 일어나면 자동변환\n",
    "np.full((15,4),1)"
   ]
  },
  {
   "cell_type": "code",
   "execution_count": null,
   "id": "cb656e8b",
   "metadata": {},
   "outputs": [
    {
     "data": {
      "text/plain": [
       "(array([[1., 1., 1.],\n",
       "        [1., 1., 1.]]),\n",
       " array([0, 1, 2]),\n",
       " (2, 3),\n",
       " (3,),\n",
       " array([[1., 2., 3.],\n",
       "        [1., 2., 3.]]))"
      ]
     },
     "execution_count": 36,
     "metadata": {},
     "output_type": "execute_result"
    }
   ],
   "source": [
    "#p.74 브로드캐스팅 예제1\n",
    "M = np.ones((2,3))\n",
    "a = np.arange(3)\n",
    "M,a,M.shape, a.shape, M+a"
   ]
  },
  {
   "cell_type": "code",
   "execution_count": 41,
   "id": "f02fea91",
   "metadata": {},
   "outputs": [
    {
     "data": {
      "text/plain": [
       "(array([[0],\n",
       "        [1],\n",
       "        [2]]),\n",
       " array([0, 1, 2]),\n",
       " array([[0, 1, 2],\n",
       "        [1, 2, 3],\n",
       "        [2, 3, 4]]))"
      ]
     },
     "execution_count": 41,
     "metadata": {},
     "output_type": "execute_result"
    }
   ],
   "source": [
    "#p.75 브로드캐스팅 예제2\n",
    "a = np.arange(3).reshape((3,1))\n",
    "b = np.arange(3)\n",
    "a,b,a+b"
   ]
  },
  {
   "cell_type": "code",
   "execution_count": 43,
   "id": "3b0f3161",
   "metadata": {},
   "outputs": [
    {
     "ename": "ValueError",
     "evalue": "operands could not be broadcast together with shapes (3,2) (3,) ",
     "output_type": "error",
     "traceback": [
      "\u001b[1;31m---------------------------------------------------------------------------\u001b[0m",
      "\u001b[1;31mValueError\u001b[0m                                Traceback (most recent call last)",
      "Cell \u001b[1;32mIn[43], line 4\u001b[0m\n\u001b[0;32m      2\u001b[0m M \u001b[38;5;241m=\u001b[39m np\u001b[38;5;241m.\u001b[39mones((\u001b[38;5;241m3\u001b[39m,\u001b[38;5;241m2\u001b[39m))\n\u001b[0;32m      3\u001b[0m a \u001b[38;5;241m=\u001b[39m np\u001b[38;5;241m.\u001b[39marange(\u001b[38;5;241m3\u001b[39m)\n\u001b[1;32m----> 4\u001b[0m M,a,\u001b[43mM\u001b[49m\u001b[38;5;241;43m+\u001b[39;49m\u001b[43ma\u001b[49m\n",
      "\u001b[1;31mValueError\u001b[0m: operands could not be broadcast together with shapes (3,2) (3,) "
     ]
    }
   ],
   "source": [
    "#p.76 브로드캐스팅 예제3\n",
    "M = np.ones((3,2))\n",
    "a = np.arange(3)\n",
    "M,a,M+a"
   ]
  },
  {
   "cell_type": "code",
   "execution_count": 48,
   "id": "3b1c4f80",
   "metadata": {},
   "outputs": [
    {
     "data": {
      "text/plain": [
       "array([0.526511  , 0.49149353, 0.4517465 ])"
      ]
     },
     "execution_count": 48,
     "metadata": {},
     "output_type": "execute_result"
    }
   ],
   "source": [
    "#배열을 중앙정렬하기\n",
    "X = np.random.random((10,3))\n",
    "np.mean(X,axis=0)\n"
   ]
  },
  {
   "cell_type": "code",
   "execution_count": 60,
   "id": "ff7c6645",
   "metadata": {},
   "outputs": [
    {
     "data": {
      "text/plain": [
       "array([[ 0.28126626,  0.16767908, -0.33566378],\n",
       "       [-0.3305701 ,  0.41842687, -0.2679478 ],\n",
       "       [ 0.41708817,  0.30545375, -0.34885477],\n",
       "       [ 0.09243426, -0.36995211,  0.29245974],\n",
       "       [ 0.16060247, -0.44575823, -0.01065183],\n",
       "       [ 0.08505519,  0.17769339, -0.06628862],\n",
       "       [-0.32237162, -0.19959182, -0.0180065 ],\n",
       "       [-0.16920476,  0.21428256,  0.09861799],\n",
       "       [-0.09423729, -0.37268154,  0.42945853],\n",
       "       [-0.12006259,  0.10444806,  0.22687704]])"
      ]
     },
     "execution_count": 60,
     "metadata": {},
     "output_type": "execute_result"
    }
   ],
   "source": [
    "X-np.mean(X,axis=0)"
   ]
  },
  {
   "cell_type": "code",
   "execution_count": null,
   "id": "07b8ca6e",
   "metadata": {},
   "outputs": [
    {
     "data": {
      "text/plain": [
       "((50,), (50,))"
      ]
     },
     "execution_count": 50,
     "metadata": {},
     "output_type": "execute_result"
    }
   ],
   "source": [
    "#p.78 2차원 함수 플로팅하기\n",
    "x = np.linspace(0,5,50)\n",
    "y = np.linspace(0,5,50)\n",
    "x.shape,y.shape"
   ]
  },
  {
   "cell_type": "code",
   "execution_count": null,
   "id": "185b10f1",
   "metadata": {},
   "outputs": [
    {
     "data": {
      "text/plain": [
       "(50, 1)"
      ]
     },
     "execution_count": 51,
     "metadata": {},
     "output_type": "execute_result"
    }
   ],
   "source": [
    "new_y = y[:,None] #1차원 -> 2차원\n",
    "new_y.shape"
   ]
  },
  {
   "cell_type": "code",
   "execution_count": 54,
   "id": "4e72b401",
   "metadata": {},
   "outputs": [
    {
     "data": {
      "text/plain": [
       "(50,)"
      ]
     },
     "execution_count": 54,
     "metadata": {},
     "output_type": "execute_result"
    }
   ],
   "source": [
    "(np.sin(x)**10).shape"
   ]
  },
  {
   "cell_type": "code",
   "execution_count": 55,
   "id": "c86259e6",
   "metadata": {},
   "outputs": [
    {
     "data": {
      "text/plain": [
       "(50, 50)"
      ]
     },
     "execution_count": 55,
     "metadata": {},
     "output_type": "execute_result"
    }
   ],
   "source": [
    "(new_y*x).shape"
   ]
  },
  {
   "cell_type": "code",
   "execution_count": 58,
   "id": "458ce286",
   "metadata": {},
   "outputs": [
    {
     "data": {
      "text/plain": [
       "(50, 50)"
      ]
     },
     "execution_count": 58,
     "metadata": {},
     "output_type": "execute_result"
    }
   ],
   "source": [
    "(10+new_y*x).shape"
   ]
  },
  {
   "cell_type": "code",
   "execution_count": 59,
   "id": "34583db4",
   "metadata": {},
   "outputs": [
    {
     "data": {
      "text/plain": [
       "(50, 50)"
      ]
     },
     "execution_count": 59,
     "metadata": {},
     "output_type": "execute_result"
    }
   ],
   "source": [
    "np.cos(10+new_y*x).shape"
   ]
  },
  {
   "cell_type": "code",
   "execution_count": 57,
   "id": "ac84208f",
   "metadata": {},
   "outputs": [
    {
     "data": {
      "text/plain": [
       "(50, 50)"
      ]
     },
     "execution_count": 57,
     "metadata": {},
     "output_type": "execute_result"
    }
   ],
   "source": [
    "z = np.sin(x)**10+np.cos(10+new_y*x)*np.cos(x)\n",
    "z.shape"
   ]
  },
  {
   "cell_type": "markdown",
   "id": "87689ffd",
   "metadata": {},
   "source": [
    "2. 마스크"
   ]
  },
  {
   "cell_type": "code",
   "execution_count": 66,
   "id": "798209cf",
   "metadata": {},
   "outputs": [
    {
     "data": {
      "text/plain": [
       "array([ 1,  2,  3,  4,  5,  6,  7,  8,  9, 10, 11, 12, 13, 14, 15, 16, 17,\n",
       "       18, 19, 20])"
      ]
     },
     "execution_count": 66,
     "metadata": {},
     "output_type": "execute_result"
    }
   ],
   "source": [
    "x = np.arange(1,21)\n",
    "x"
   ]
  },
  {
   "cell_type": "code",
   "execution_count": 67,
   "id": "78a18b2e",
   "metadata": {},
   "outputs": [
    {
     "data": {
      "text/plain": [
       "array([1, 2, 3, 4, 5])"
      ]
     },
     "execution_count": 67,
     "metadata": {},
     "output_type": "execute_result"
    }
   ],
   "source": [
    "mask = x < 6\n",
    "x[mask]"
   ]
  },
  {
   "cell_type": "code",
   "execution_count": 68,
   "id": "46af7359",
   "metadata": {},
   "outputs": [
    {
     "data": {
      "text/plain": [
       "np.int64(5)"
      ]
     },
     "execution_count": 68,
     "metadata": {},
     "output_type": "execute_result"
    }
   ],
   "source": [
    "np.sum(mask) #True는 1"
   ]
  },
  {
   "cell_type": "code",
   "execution_count": 70,
   "id": "fb2d747a",
   "metadata": {},
   "outputs": [
    {
     "data": {
      "text/plain": [
       "array([ 1,  2,  3,  4,  5,  6,  7,  8,  9, 10, 11, 12, 13, 14, 15, 16, 17,\n",
       "       18, 19, 20])"
      ]
     },
     "execution_count": 70,
     "metadata": {},
     "output_type": "execute_result"
    }
   ],
   "source": [
    "x = np.arange(1,21)\n",
    "x"
   ]
  },
  {
   "cell_type": "code",
   "execution_count": 74,
   "id": "4b1a0cfc",
   "metadata": {},
   "outputs": [
    {
     "data": {
      "text/plain": [
       "array([7, 8, 9])"
      ]
     },
     "execution_count": 74,
     "metadata": {},
     "output_type": "execute_result"
    }
   ],
   "source": [
    "mask = (6<x) & (x<10)\n",
    "x[mask]"
   ]
  },
  {
   "cell_type": "code",
   "execution_count": 75,
   "id": "d6d3ff73",
   "metadata": {},
   "outputs": [
    {
     "data": {
      "text/plain": [
       "array([[ 1,  2,  3,  4,  5],\n",
       "       [ 6,  7,  8,  9, 10],\n",
       "       [11, 12, 13, 14, 15],\n",
       "       [16, 17, 18, 19, 20]])"
      ]
     },
     "execution_count": 75,
     "metadata": {},
     "output_type": "execute_result"
    }
   ],
   "source": [
    "x = np.arange(1,21).reshape(4,5)\n",
    "x"
   ]
  },
  {
   "cell_type": "code",
   "execution_count": 77,
   "id": "512066ba",
   "metadata": {},
   "outputs": [
    {
     "data": {
      "text/plain": [
       "array([[False, False, False, False, False],\n",
       "       [False,  True,  True,  True, False],\n",
       "       [False, False, False, False, False],\n",
       "       [False, False, False, False, False]])"
      ]
     },
     "execution_count": 77,
     "metadata": {},
     "output_type": "execute_result"
    }
   ],
   "source": [
    "mask = (6<x) & (x<10)\n",
    "mask"
   ]
  },
  {
   "cell_type": "code",
   "execution_count": 78,
   "id": "aafe39cb",
   "metadata": {},
   "outputs": [
    {
     "data": {
      "text/plain": [
       "array([7, 8, 9])"
      ]
     },
     "execution_count": 78,
     "metadata": {},
     "output_type": "execute_result"
    }
   ],
   "source": [
    "x[mask]"
   ]
  },
  {
   "cell_type": "markdown",
   "id": "ecf5cd2d",
   "metadata": {},
   "source": [
    "3. 팬시 인덱스\n",
    ": 한 번에 여러 배열 요소에 접근하기 위해 인덱스의 배열을 전달함"
   ]
  },
  {
   "cell_type": "code",
   "execution_count": 79,
   "id": "d065872e",
   "metadata": {},
   "outputs": [
    {
     "data": {
      "text/plain": [
       "array([ 1,  2,  3,  4,  5,  6,  7,  8,  9, 10])"
      ]
     },
     "execution_count": 79,
     "metadata": {},
     "output_type": "execute_result"
    }
   ],
   "source": [
    "#p.89\n",
    "x = np.arange(1,11)\n",
    "x"
   ]
  },
  {
   "cell_type": "code",
   "execution_count": 80,
   "id": "9cf7b222",
   "metadata": {},
   "outputs": [
    {
     "data": {
      "text/plain": [
       "array([3, 6, 8])"
      ]
     },
     "execution_count": 80,
     "metadata": {},
     "output_type": "execute_result"
    }
   ],
   "source": [
    "index = [2,5,7]\n",
    "x[index]"
   ]
  }
 ],
 "metadata": {
  "kernelspec": {
   "display_name": "aip",
   "language": "python",
   "name": "python3"
  },
  "language_info": {
   "codemirror_mode": {
    "name": "ipython",
    "version": 3
   },
   "file_extension": ".py",
   "mimetype": "text/x-python",
   "name": "python",
   "nbconvert_exporter": "python",
   "pygments_lexer": "ipython3",
   "version": "3.9.23"
  }
 },
 "nbformat": 4,
 "nbformat_minor": 5
}
