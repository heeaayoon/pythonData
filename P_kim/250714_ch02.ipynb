{
 "cells": [
  {
   "cell_type": "code",
   "execution_count": null,
   "id": "5f4d900c",
   "metadata": {},
   "outputs": [
    {
     "name": "stdout",
     "output_type": "stream",
     "text": [
      "Channels:\n",
      " - defaults\n",
      "Platform: win-64\n",
      "Collecting package metadata (repodata.json): done\n",
      "Solving environment: done\n",
      "\n",
      "## Package Plan ##\n",
      "\n",
      "  environment location: C:\\Users\\user\\miniconda3\\envs\\aip\n",
      "\n",
      "  added / updated specs:\n",
      "    - numpy\n",
      "\n",
      "\n",
      "The following packages will be downloaded:\n",
      "\n",
      "    package                    |            build\n",
      "    ---------------------------|-----------------\n",
      "    mkl-service-2.4.0          |   py39h827c3e9_2          66 KB\n",
      "    mkl_fft-1.3.11             |   py39h827c3e9_0         167 KB\n",
      "    mkl_random-1.2.8           |   py39hc64d2fc_0         257 KB\n",
      "    numpy-2.0.1                |   py39h055cbcc_1          11 KB\n",
      "    numpy-base-2.0.1           |   py39h65a83cf_1         9.0 MB\n",
      "    ------------------------------------------------------------\n",
      "                                           Total:         9.5 MB\n",
      "\n",
      "The following NEW packages will be INSTALLED:\n",
      "\n",
      "  blas               pkgs/main/win-64::blas-1.0-mkl \n",
      "  intel-openmp       pkgs/main/win-64::intel-openmp-2023.1.0-h59b6b97_46320 \n",
      "  mkl                pkgs/main/win-64::mkl-2023.1.0-h6b88ed4_46358 \n",
      "  mkl-service        pkgs/main/win-64::mkl-service-2.4.0-py39h827c3e9_2 \n",
      "  mkl_fft            pkgs/main/win-64::mkl_fft-1.3.11-py39h827c3e9_0 \n",
      "  mkl_random         pkgs/main/win-64::mkl_random-1.2.8-py39hc64d2fc_0 \n",
      "  numpy              pkgs/main/win-64::numpy-2.0.1-py39h055cbcc_1 \n",
      "  numpy-base         pkgs/main/win-64::numpy-base-2.0.1-py39h65a83cf_1 \n",
      "  tbb                pkgs/main/win-64::tbb-2021.8.0-h59b6b97_0 \n",
      "\n",
      "\n",
      "\n",
      "Downloading and Extracting Packages: ...working...\n",
      "numpy-base-2.0.1     | 9.0 MB    |            |   0% \n",
      "\n",
      "mkl_random-1.2.8     | 257 KB    |            |   0% \u001b[A\n",
      "\n",
      "\n",
      "mkl_fft-1.3.11       | 167 KB    |            |   0% \u001b[A\u001b[A\n",
      "\n",
      "\n",
      "\n",
      "mkl-service-2.4.0    | 66 KB     |            |   0% \u001b[A\u001b[A\u001b[A\n",
      "\n",
      "\n",
      "\n",
      "\n",
      "numpy-2.0.1          | 11 KB     |            |   0% \u001b[A\u001b[A\u001b[A\u001b[A\n",
      "\n",
      "\n",
      "mkl_fft-1.3.11       | 167 KB    | ########## | 100% \u001b[A\u001b[A\n",
      "\n",
      "mkl_random-1.2.8     | 257 KB    | ########## | 100% \u001b[A\n",
      "\n",
      "\n",
      "\n",
      "mkl-service-2.4.0    | 66 KB     | ########## | 100% \u001b[A\u001b[A\u001b[A\n",
      "\n",
      "\n",
      "\n",
      "\n",
      "numpy-2.0.1          | 11 KB     | ########## | 100% \u001b[A\u001b[A\u001b[A\u001b[A\n",
      "numpy-base-2.0.1     | 9.0 MB    | 1          |   1% \n",
      "\n",
      "\n",
      "\n",
      "mkl-service-2.4.0    | 66 KB     | ########## | 100% \u001b[A\u001b[A\u001b[A\n",
      "\n",
      "\n",
      "\n",
      "mkl-service-2.4.0    | 66 KB     | ########## | 100% \u001b[A\u001b[A\u001b[A\n",
      "\n",
      "mkl_random-1.2.8     | 257 KB    | ########## | 100% \u001b[A\n",
      "\n",
      "mkl_random-1.2.8     | 257 KB    | ########## | 100% \u001b[A\n",
      "\n",
      "\n",
      "mkl_fft-1.3.11       | 167 KB    | ########## | 100% \u001b[A\u001b[A\n",
      "\n",
      "\n",
      "mkl_fft-1.3.11       | 167 KB    | ########## | 100% \u001b[A\u001b[A\n",
      "\n",
      "\n",
      "\n",
      "\n",
      "numpy-2.0.1          | 11 KB     | ########## | 100% \u001b[A\u001b[A\u001b[A\u001b[A\n",
      "\n",
      "\n",
      "\n",
      "\n",
      "numpy-2.0.1          | 11 KB     | ########## | 100% \u001b[A\u001b[A\u001b[A\u001b[A\n",
      "numpy-base-2.0.1     | 9.0 MB    | ######7    |  67% \n",
      "numpy-base-2.0.1     | 9.0 MB    | ########## | 100% \n",
      "numpy-base-2.0.1     | 9.0 MB    | ########## | 100% \n",
      "                                                     \n",
      "\n",
      "\n",
      "                                                     \u001b[A\n",
      "\n",
      "\n",
      "                                                     \u001b[A\u001b[A\n",
      "\n",
      "\n",
      "\n",
      "                                                     \u001b[A\u001b[A\u001b[A\n",
      "\n",
      "\n",
      "\n",
      "\n",
      "                                                     \u001b[A\u001b[A\u001b[A\u001b[A done\n",
      "Preparing transaction: done\n",
      "Verifying transaction: done\n",
      "Executing transaction: done\n"
     ]
    }
   ],
   "source": [
    "# 새로운 환경 설정\n",
    "!conda install -y numpy"
   ]
  },
  {
   "cell_type": "code",
   "execution_count": 3,
   "id": "4d5fc30a",
   "metadata": {},
   "outputs": [],
   "source": [
    "import numpy as np"
   ]
  },
  {
   "cell_type": "code",
   "execution_count": 4,
   "id": "9e23bff7",
   "metadata": {},
   "outputs": [
    {
     "data": {
      "text/plain": [
       "'2.0.1'"
      ]
     },
     "execution_count": 4,
     "metadata": {},
     "output_type": "execute_result"
    }
   ],
   "source": [
    "np.__version__"
   ]
  },
  {
   "cell_type": "code",
   "execution_count": 5,
   "id": "42fd3f7d",
   "metadata": {},
   "outputs": [
    {
     "name": "stdout",
     "output_type": "stream",
     "text": [
      "Python 3.9.23\n"
     ]
    }
   ],
   "source": [
    "!python --version"
   ]
  },
  {
   "cell_type": "code",
   "execution_count": 9,
   "id": "1eb49741",
   "metadata": {},
   "outputs": [
    {
     "data": {
      "text/plain": [
       "[np.float64(-5.0),\n",
       " np.float64(-4.888888888888889),\n",
       " np.float64(-4.777777777777778),\n",
       " np.float64(-4.666666666666667),\n",
       " np.float64(-4.555555555555555),\n",
       " np.float64(-4.444444444444445),\n",
       " np.float64(-4.333333333333333),\n",
       " np.float64(-4.222222222222222),\n",
       " np.float64(-4.111111111111111),\n",
       " np.float64(-4.0),\n",
       " np.float64(-3.888888888888889),\n",
       " np.float64(-3.7777777777777777),\n",
       " np.float64(-3.666666666666667),\n",
       " np.float64(-3.5555555555555554),\n",
       " np.float64(-3.4444444444444446),\n",
       " np.float64(-3.3333333333333335),\n",
       " np.float64(-3.2222222222222223),\n",
       " np.float64(-3.111111111111111),\n",
       " np.float64(-3.0),\n",
       " np.float64(-2.888888888888889),\n",
       " np.float64(-2.7777777777777777),\n",
       " np.float64(-2.666666666666667),\n",
       " np.float64(-2.555555555555556),\n",
       " np.float64(-2.4444444444444446),\n",
       " np.float64(-2.3333333333333335),\n",
       " np.float64(-2.2222222222222223),\n",
       " np.float64(-2.111111111111111),\n",
       " np.float64(-2.0),\n",
       " np.float64(-1.8888888888888893),\n",
       " np.float64(-1.7777777777777781),\n",
       " np.float64(-1.666666666666667),\n",
       " np.float64(-1.5555555555555558),\n",
       " np.float64(-1.4444444444444446),\n",
       " np.float64(-1.3333333333333335),\n",
       " np.float64(-1.2222222222222223),\n",
       " np.float64(-1.1111111111111112),\n",
       " np.float64(-1.0),\n",
       " np.float64(-0.8888888888888893),\n",
       " np.float64(-0.7777777777777777),\n",
       " np.float64(-0.666666666666667),\n",
       " np.float64(-0.5555555555555554),\n",
       " np.float64(-0.44444444444444464),\n",
       " np.float64(-0.3333333333333339),\n",
       " np.float64(-0.22222222222222232),\n",
       " np.float64(-0.1111111111111116),\n",
       " np.float64(0.0),\n",
       " np.float64(0.11111111111111072),\n",
       " np.float64(0.22222222222222232),\n",
       " np.float64(0.33333333333333304),\n",
       " np.float64(0.44444444444444375),\n",
       " np.float64(0.5555555555555554),\n",
       " np.float64(0.6666666666666661),\n",
       " np.float64(0.7777777777777777),\n",
       " np.float64(0.8888888888888884),\n",
       " np.float64(1.0),\n",
       " np.float64(1.1111111111111107),\n",
       " np.float64(1.2222222222222214),\n",
       " np.float64(1.333333333333333),\n",
       " np.float64(1.4444444444444438),\n",
       " np.float64(1.5555555555555554),\n",
       " np.float64(1.666666666666666),\n",
       " np.float64(1.7777777777777777),\n",
       " np.float64(1.8888888888888884),\n",
       " np.float64(2.0),\n",
       " np.float64(2.1111111111111107),\n",
       " np.float64(2.2222222222222214),\n",
       " np.float64(2.333333333333333),\n",
       " np.float64(2.4444444444444438),\n",
       " np.float64(2.5555555555555554),\n",
       " np.float64(2.666666666666666),\n",
       " np.float64(2.7777777777777777),\n",
       " np.float64(2.8888888888888884),\n",
       " np.float64(3.0),\n",
       " np.float64(3.1111111111111107),\n",
       " np.float64(3.2222222222222214),\n",
       " np.float64(3.333333333333332),\n",
       " np.float64(3.4444444444444446),\n",
       " np.float64(3.5555555555555554),\n",
       " np.float64(3.666666666666666),\n",
       " np.float64(3.777777777777777),\n",
       " np.float64(3.8888888888888893),\n",
       " np.float64(4.0),\n",
       " np.float64(4.111111111111111),\n",
       " np.float64(4.222222222222221),\n",
       " np.float64(4.333333333333332),\n",
       " np.float64(4.444444444444445),\n",
       " np.float64(4.555555555555555),\n",
       " np.float64(4.666666666666666),\n",
       " np.float64(4.777777777777777),\n",
       " np.float64(4.8888888888888875),\n",
       " np.float64(5.0),\n",
       " np.float64(5.111111111111111),\n",
       " np.float64(5.222222222222221),\n",
       " np.float64(5.333333333333332),\n",
       " np.float64(5.444444444444445),\n",
       " np.float64(5.555555555555555),\n",
       " np.float64(5.666666666666666),\n",
       " np.float64(5.777777777777777),\n",
       " np.float64(5.8888888888888875),\n",
       " np.float64(6.0)]"
      ]
     },
     "execution_count": 9,
     "metadata": {},
     "output_type": "execute_result"
    }
   ],
   "source": [
    "x = np.arange(-5,6)\n",
    "x = np.linspace(-5,6,100)\n",
    "list(x)"
   ]
  },
  {
   "cell_type": "code",
   "execution_count": 7,
   "id": "0bef86da",
   "metadata": {},
   "outputs": [],
   "source": [
    "def f(x):\n",
    "    return 2*x+1"
   ]
  },
  {
   "cell_type": "code",
   "execution_count": 8,
   "id": "869a3685",
   "metadata": {},
   "outputs": [
    {
     "data": {
      "text/plain": [
       "array([-9, -7, -5, -3, -1,  1,  3,  5,  7,  9, 11])"
      ]
     },
     "execution_count": 8,
     "metadata": {},
     "output_type": "execute_result"
    }
   ],
   "source": [
    "f(x)"
   ]
  },
  {
   "cell_type": "code",
   "execution_count": null,
   "id": "f76491e6",
   "metadata": {},
   "outputs": [
    {
     "data": {
      "text/plain": [
       "(array([1, 2, 3]), array([4, 5, 6]))"
      ]
     },
     "execution_count": 10,
     "metadata": {},
     "output_type": "execute_result"
    }
   ],
   "source": [
    "# 파이썬 실습 8\n",
    "# numpy 사용 이유에 대해...\n",
    "# 1. 벡터 내적 구현 -> .dot\n",
    "v1 = np.array([1, 2, 3])\n",
    "v2 = np.array([4, 5, 6])\n",
    "v1,v2"
   ]
  },
  {
   "cell_type": "code",
   "execution_count": 11,
   "id": "307bae23",
   "metadata": {},
   "outputs": [
    {
     "data": {
      "text/plain": [
       "np.int64(32)"
      ]
     },
     "execution_count": 11,
     "metadata": {},
     "output_type": "execute_result"
    }
   ],
   "source": [
    "np.dot(v1,v2)"
   ]
  },
  {
   "cell_type": "code",
   "execution_count": 12,
   "id": "cbf3be2b",
   "metadata": {},
   "outputs": [
    {
     "data": {
      "text/plain": [
       "np.int64(32)"
      ]
     },
     "execution_count": 12,
     "metadata": {},
     "output_type": "execute_result"
    }
   ],
   "source": [
    "v1.dot(v2)"
   ]
  },
  {
   "cell_type": "code",
   "execution_count": null,
   "id": "b8c2ced0",
   "metadata": {},
   "outputs": [
    {
     "data": {
      "text/plain": [
       "array([[1, 2, 3],\n",
       "       [4, 5, 6]])"
      ]
     },
     "execution_count": 15,
     "metadata": {},
     "output_type": "execute_result"
    }
   ],
   "source": [
    "# 파이썬 실습 8\n",
    "# 2. 행렬 전치 -> .T\n",
    "A = np.array([[1, 2, 3],\n",
    "      [4, 5, 6]])\n",
    "A"
   ]
  },
  {
   "cell_type": "code",
   "execution_count": 16,
   "id": "3a5d20bc",
   "metadata": {},
   "outputs": [
    {
     "data": {
      "text/plain": [
       "array([[1, 4],\n",
       "       [2, 5],\n",
       "       [3, 6]])"
      ]
     },
     "execution_count": 16,
     "metadata": {},
     "output_type": "execute_result"
    }
   ],
   "source": [
    "A.T"
   ]
  },
  {
   "cell_type": "code",
   "execution_count": null,
   "id": "21b5eb87",
   "metadata": {},
   "outputs": [
    {
     "data": {
      "text/plain": [
       "((2, 3), (3, 2))"
      ]
     },
     "execution_count": 17,
     "metadata": {},
     "output_type": "execute_result"
    }
   ],
   "source": [
    "# 파이썬 실습 8\n",
    "# 3. 행렬 곱셈 -> @\n",
    "A = np.array([[1, 2, 3],\n",
    "      [4, 5, 6]])\n",
    "\n",
    "B = np.array([[7, 8],\n",
    "     [9, 10],\n",
    "     [11, 12]])\n",
    "A.shape, B.shape"
   ]
  },
  {
   "cell_type": "code",
   "execution_count": 18,
   "id": "adfeac8f",
   "metadata": {},
   "outputs": [
    {
     "data": {
      "text/plain": [
       "(array([[ 58,  64],\n",
       "        [139, 154]]),\n",
       " (2, 2))"
      ]
     },
     "execution_count": 18,
     "metadata": {},
     "output_type": "execute_result"
    }
   ],
   "source": [
    "A.dot(B), A.dot(B).shape"
   ]
  },
  {
   "cell_type": "code",
   "execution_count": 19,
   "id": "fe910d54",
   "metadata": {},
   "outputs": [
    {
     "data": {
      "text/plain": [
       "array([[ 58,  64],\n",
       "       [139, 154]])"
      ]
     },
     "execution_count": 19,
     "metadata": {},
     "output_type": "execute_result"
    }
   ],
   "source": [
    "A@B"
   ]
  },
  {
   "cell_type": "code",
   "execution_count": 20,
   "id": "84f587a5",
   "metadata": {},
   "outputs": [
    {
     "data": {
      "text/plain": [
       "array([[ 58,  64],\n",
       "       [139, 154]])"
      ]
     },
     "execution_count": 20,
     "metadata": {},
     "output_type": "execute_result"
    }
   ],
   "source": [
    "np.dot(A,B)"
   ]
  },
  {
   "cell_type": "code",
   "execution_count": null,
   "id": "7f0fb527",
   "metadata": {},
   "outputs": [
    {
     "name": "stdout",
     "output_type": "stream",
     "text": [
      "<class 'int'> 1\n",
      "<class 'float'> 3.14\n",
      "<class 'bool'> True\n",
      "<class 'str'> Hello\n",
      "<class 'builtin_function_or_method'> <built-in function sum>\n",
      "<class 'type'> <class 'range'>\n"
     ]
    }
   ],
   "source": [
    "# 파이썬의 데이터 타입\n",
    "# 리스트에 여러 타입을 담을 수 있음\n",
    "l = [1,3.14, True, 'Hello', sum, range]\n",
    "\n",
    "for i in l:\n",
    "    print(type(i),i)"
   ]
  },
  {
   "cell_type": "code",
   "execution_count": null,
   "id": "e074906d",
   "metadata": {},
   "outputs": [],
   "source": [
    "# numpy 리스트 : np.array(동일한 타입)"
   ]
  },
  {
   "cell_type": "code",
   "execution_count": null,
   "id": "d45b54bd",
   "metadata": {},
   "outputs": [
    {
     "data": {
      "text/plain": [
       "(128, 3, 800, 600)"
      ]
     },
     "execution_count": 24,
     "metadata": {},
     "output_type": "execute_result"
    }
   ],
   "source": [
    "# numpy를 사용하여 가상의 이미지 데이터 묶음을 생성\n",
    "# randn 함수에 전달된 숫자들은 생성될 다차원 배열의 모양(shape)을 정의\n",
    "# 딥러닝 이미지 처리에서 이 구조는 NCHW 또는 NHWC 라는 표준적인 데이터 형식을 따름\n",
    "# N (Number of Images / Batch Size) : 이미지의 개수 또는 배치의 크기\n",
    "# C (Channels) : 이미지의 채널의 수(3이면 RGB 조합)\n",
    "# H (Height) : 이미지의 높이\n",
    "# W (Width) : 이미지의 너비\n",
    "image = np.random.randn(128, 3, 800, 600)\n",
    "image.shape"
   ]
  },
  {
   "cell_type": "code",
   "execution_count": 25,
   "id": "f60ebe0a",
   "metadata": {},
   "outputs": [
    {
     "data": {
      "text/plain": [
       "np.int64(55)"
      ]
     },
     "execution_count": 25,
     "metadata": {},
     "output_type": "execute_result"
    }
   ],
   "source": [
    "data = np.arange(1,11)\n",
    "np.sum(data)"
   ]
  },
  {
   "cell_type": "code",
   "execution_count": 27,
   "id": "cd6a70a8",
   "metadata": {},
   "outputs": [
    {
     "name": "stdout",
     "output_type": "stream",
     "text": [
      "Channels:\n",
      " - defaults\n",
      "Platform: win-64\n",
      "Collecting package metadata (repodata.json): done\n",
      "Solving environment: done\n",
      "\n",
      "## Package Plan ##\n",
      "\n",
      "  environment location: C:\\Users\\user\\miniconda3\\envs\\aip\n",
      "\n",
      "  added / updated specs:\n",
      "    - matplotlib\n",
      "\n",
      "\n",
      "The following packages will be downloaded:\n",
      "\n",
      "    package                    |            build\n",
      "    ---------------------------|-----------------\n",
      "    brotli-python-1.0.9        |   py39h5da7b33_9         345 KB\n",
      "    contourpy-1.2.1            |   py39h214f63a_1         202 KB\n",
      "    cycler-0.11.0              |     pyhd3eb1b0_0          12 KB\n",
      "    fonttools-4.55.3           |   py39h827c3e9_0         2.1 MB\n",
      "    freetype-2.13.3            |       h0620614_0         554 KB\n",
      "    icu-73.1                   |       h6c2663c_0        29.5 MB\n",
      "    importlib_resources-6.4.0  |   py39haa95532_0          61 KB\n",
      "    jpeg-9e                    |       h827c3e9_3         334 KB\n",
      "    kiwisolver-1.4.4           |   py39hd77b12b_0          60 KB\n",
      "    krb5-1.20.1                |       h5b6d351_0         790 KB\n",
      "    lcms2-2.16                 |       hb4a4139_0         566 KB\n",
      "    lerc-3.0                   |       hd77b12b_0         120 KB\n",
      "    libdeflate-1.17            |       h2bbff1b_1         153 KB\n",
      "    libpng-1.6.39              |       h8cc25b3_0         369 KB\n",
      "    libpq-17.4                 |       h70ee33d_0         4.2 MB\n",
      "    libtiff-4.5.1              |       hd77b12b_0         1.1 MB\n",
      "    libwebp-base-1.3.2         |       h3d04722_1         303 KB\n",
      "    matplotlib-3.9.2           |   py39haa95532_1           8 KB\n",
      "    matplotlib-base-3.9.2      |   py39he19b0ae_1         9.2 MB\n",
      "    openjpeg-2.5.2             |       hae555c5_0         268 KB\n",
      "    packaging-24.2             |   py39haa95532_0         168 KB\n",
      "    pillow-11.1.0              |   py39h096bfcc_0         759 KB\n",
      "    pyparsing-3.2.0            |   py39haa95532_0         422 KB\n",
      "    pyqt-6.7.1                 |   py39h5da7b33_1         3.5 MB\n",
      "    pyqt6-sip-13.9.1           |   py39h827c3e9_1          77 KB\n",
      "    python-dateutil-2.9.0post0 |   py39haa95532_2         280 KB\n",
      "    qtbase-6.7.3               |       h0804d20_0        32.2 MB\n",
      "    qtdeclarative-6.7.3        |       h5da7b33_0        21.4 MB\n",
      "    qtsvg-6.7.3                |       hf2fb9eb_0         314 KB\n",
      "    qttools-6.7.3              |       h0de5f00_0         9.4 MB\n",
      "    qtwebchannel-6.7.3         |       h5da7b33_0         162 KB\n",
      "    qtwebsockets-6.7.3         |       h5da7b33_0         147 KB\n",
      "    sip-6.10.0                 |   py39h5da7b33_0         571 KB\n",
      "    six-1.17.0                 |   py39haa95532_0          32 KB\n",
      "    tomli-2.0.1                |   py39haa95532_0          25 KB\n",
      "    tornado-6.5.1              |   py39h827c3e9_0         680 KB\n",
      "    unicodedata2-15.1.0        |   py39h827c3e9_1         525 KB\n",
      "    zipp-3.21.0                |   py39haa95532_0          28 KB\n",
      "    ------------------------------------------------------------\n",
      "                                           Total:       120.6 MB\n",
      "\n",
      "The following NEW packages will be INSTALLED:\n",
      "\n",
      "  brotli-python      pkgs/main/win-64::brotli-python-1.0.9-py39h5da7b33_9 \n",
      "  contourpy          pkgs/main/win-64::contourpy-1.2.1-py39h214f63a_1 \n",
      "  cycler             pkgs/main/noarch::cycler-0.11.0-pyhd3eb1b0_0 \n",
      "  fonttools          pkgs/main/win-64::fonttools-4.55.3-py39h827c3e9_0 \n",
      "  freetype           pkgs/main/win-64::freetype-2.13.3-h0620614_0 \n",
      "  icu                pkgs/main/win-64::icu-73.1-h6c2663c_0 \n",
      "  importlib_resourc~ pkgs/main/win-64::importlib_resources-6.4.0-py39haa95532_0 \n",
      "  jpeg               pkgs/main/win-64::jpeg-9e-h827c3e9_3 \n",
      "  kiwisolver         pkgs/main/win-64::kiwisolver-1.4.4-py39hd77b12b_0 \n",
      "  krb5               pkgs/main/win-64::krb5-1.20.1-h5b6d351_0 \n",
      "  lcms2              pkgs/main/win-64::lcms2-2.16-hb4a4139_0 \n",
      "  lerc               pkgs/main/win-64::lerc-3.0-hd77b12b_0 \n",
      "  libdeflate         pkgs/main/win-64::libdeflate-1.17-h2bbff1b_1 \n",
      "  libpng             pkgs/main/win-64::libpng-1.6.39-h8cc25b3_0 \n",
      "  libpq              pkgs/main/win-64::libpq-17.4-h70ee33d_0 \n",
      "  libtiff            pkgs/main/win-64::libtiff-4.5.1-hd77b12b_0 \n",
      "  libwebp-base       pkgs/main/win-64::libwebp-base-1.3.2-h3d04722_1 \n",
      "  lz4-c              pkgs/main/win-64::lz4-c-1.9.4-h2bbff1b_1 \n",
      "  matplotlib         pkgs/main/win-64::matplotlib-3.9.2-py39haa95532_1 \n",
      "  matplotlib-base    pkgs/main/win-64::matplotlib-base-3.9.2-py39he19b0ae_1 \n",
      "  openjpeg           pkgs/main/win-64::openjpeg-2.5.2-hae555c5_0 \n",
      "  packaging          pkgs/main/win-64::packaging-24.2-py39haa95532_0 \n",
      "  pillow             pkgs/main/win-64::pillow-11.1.0-py39h096bfcc_0 \n",
      "  pyparsing          pkgs/main/win-64::pyparsing-3.2.0-py39haa95532_0 \n",
      "  pyqt               pkgs/main/win-64::pyqt-6.7.1-py39h5da7b33_1 \n",
      "  pyqt6-sip          pkgs/main/win-64::pyqt6-sip-13.9.1-py39h827c3e9_1 \n",
      "  python-dateutil    pkgs/main/win-64::python-dateutil-2.9.0post0-py39haa95532_2 \n",
      "  qtbase             pkgs/main/win-64::qtbase-6.7.3-h0804d20_0 \n",
      "  qtdeclarative      pkgs/main/win-64::qtdeclarative-6.7.3-h5da7b33_0 \n",
      "  qtsvg              pkgs/main/win-64::qtsvg-6.7.3-hf2fb9eb_0 \n",
      "  qttools            pkgs/main/win-64::qttools-6.7.3-h0de5f00_0 \n",
      "  qtwebchannel       pkgs/main/win-64::qtwebchannel-6.7.3-h5da7b33_0 \n",
      "  qtwebsockets       pkgs/main/win-64::qtwebsockets-6.7.3-h5da7b33_0 \n",
      "  sip                pkgs/main/win-64::sip-6.10.0-py39h5da7b33_0 \n",
      "  six                pkgs/main/win-64::six-1.17.0-py39haa95532_0 \n",
      "  tomli              pkgs/main/win-64::tomli-2.0.1-py39haa95532_0 \n",
      "  tornado            pkgs/main/win-64::tornado-6.5.1-py39h827c3e9_0 \n",
      "  unicodedata2       pkgs/main/win-64::unicodedata2-15.1.0-py39h827c3e9_1 \n",
      "  zipp               pkgs/main/win-64::zipp-3.21.0-py39haa95532_0 \n",
      "  zstd               pkgs/main/win-64::zstd-1.5.6-h8880b57_0 \n",
      "\n",
      "\n",
      "\n",
      "Downloading and Extracting Packages: ...working...\n",
      "qtbase-6.7.3         | 32.2 MB   |            |   0% \n",
      "\n",
      "icu-73.1             | 29.5 MB   |            |   0% \u001b[A\n",
      "\n",
      "\n",
      "qtdeclarative-6.7.3  | 21.4 MB   |            |   0% \u001b[A\u001b[A\n",
      "\n",
      "\n",
      "\n",
      "qttools-6.7.3        | 9.4 MB    |            |   0% \u001b[A\u001b[A\u001b[A\n",
      "\n",
      "\n",
      "\n",
      "\n",
      "matplotlib-base-3.9. | 9.2 MB    |            |   0% \u001b[A\u001b[A\u001b[A\u001b[A\n",
      "\n",
      "\n",
      "\n",
      "\n",
      "\n",
      "libpq-17.4           | 4.2 MB    |            |   0% \u001b[A\u001b[A\u001b[A\u001b[A\u001b[A\n",
      "\n",
      "\n",
      "\n",
      "\n",
      "\n",
      "\n",
      "pyqt-6.7.1           | 3.5 MB    |            |   0% \u001b[A\u001b[A\u001b[A\u001b[A\u001b[A\u001b[A\n",
      "\n",
      "\n",
      "\n",
      "\n",
      "\n",
      "\n",
      "\n",
      "fonttools-4.55.3     | 2.1 MB    |            |   0% \u001b[A\u001b[A\u001b[A\u001b[A\u001b[A\u001b[A\u001b[A\n",
      "\n",
      "\n",
      "\n",
      "\n",
      "\n",
      "\n",
      "\n",
      "\n",
      "libtiff-4.5.1        | 1.1 MB    |            |   0% \u001b[A\u001b[A\u001b[A\u001b[A\u001b[A\u001b[A\u001b[A\u001b[A\n",
      "\n",
      "\n",
      "\n",
      "\n",
      "\n",
      "\n",
      "\n",
      "\n",
      "\n",
      "krb5-1.20.1          | 790 KB    |            |   0% \u001b[A\u001b[A\u001b[A\u001b[A\u001b[A\u001b[A\u001b[A\u001b[A\u001b[A\n",
      "\n",
      "\n",
      "\n",
      "\n",
      "\n",
      "\n",
      "\n",
      "\n",
      "\n",
      "\n",
      "pillow-11.1.0        | 759 KB    |            |   0% \u001b[A\u001b[A\u001b[A\u001b[A\u001b[A\u001b[A\u001b[A\u001b[A\u001b[A\u001b[A\n",
      "\n",
      "\n",
      "\n",
      "\n",
      "\n",
      "\n",
      "\n",
      "\n",
      "\n",
      "\n",
      "\n",
      "tornado-6.5.1        | 680 KB    |            |   0% \u001b[A\u001b[A\u001b[A\u001b[A\u001b[A\u001b[A\u001b[A\u001b[A\u001b[A\u001b[A\u001b[A\n",
      "\n",
      "\n",
      "\n",
      "\n",
      "\n",
      "\n",
      "\n",
      "\n",
      "\n",
      "\n",
      "\n",
      "\n",
      "sip-6.10.0           | 571 KB    |            |   0% \u001b[A\u001b[A\u001b[A\u001b[A\u001b[A\u001b[A\u001b[A\u001b[A\u001b[A\u001b[A\u001b[A\u001b[A\n",
      "\n",
      "\n",
      "\n",
      "\n",
      "\n",
      "\n",
      "\n",
      "\n",
      "\n",
      "\n",
      "\n",
      "\n",
      "\n",
      "lcms2-2.16           | 566 KB    |            |   0% \u001b[A\u001b[A\u001b[A\u001b[A\u001b[A\u001b[A\u001b[A\u001b[A\u001b[A\u001b[A\u001b[A\u001b[A\u001b[A\n",
      "\n",
      "\n",
      "\n",
      "\n",
      "\n",
      "\n",
      "\n",
      "\n",
      "\n",
      "\n",
      "\n",
      "\n",
      "\n",
      "\n",
      "freetype-2.13.3      | 554 KB    |            |   0% \u001b[A\u001b[A\u001b[A\u001b[A\u001b[A\u001b[A\u001b[A\u001b[A\u001b[A\u001b[A\u001b[A\u001b[A\u001b[A\u001b[A\n",
      "\n",
      "\n",
      "\n",
      "\n",
      "\n",
      "\n",
      "\n",
      "\n",
      "\n",
      "\n",
      "\n",
      "\n",
      "\n",
      "\n",
      "\n",
      "unicodedata2-15.1.0  | 525 KB    |            |   0% \u001b[A\u001b[A\u001b[A\u001b[A\u001b[A\u001b[A\u001b[A\u001b[A\u001b[A\u001b[A\u001b[A\u001b[A\u001b[A\u001b[A\u001b[A\n",
      "\n",
      "\n",
      "\n",
      "\n",
      "\n",
      "\n",
      "\n",
      "\n",
      "\n",
      "\n",
      "\n",
      "\n",
      "\n",
      "\n",
      "\n",
      "\n",
      "pyparsing-3.2.0      | 422 KB    |            |   0% \u001b[A\u001b[A\u001b[A\u001b[A\u001b[A\u001b[A\u001b[A\u001b[A\u001b[A\u001b[A\u001b[A\u001b[A\u001b[A\u001b[A\u001b[A\u001b[A\n",
      "\n",
      "\n",
      "\n",
      "\n",
      "\n",
      "\n",
      "\n",
      "\n",
      "\n",
      "\n",
      "\n",
      "\n",
      "\n",
      "\n",
      "\n",
      "\n",
      "\n",
      "libpng-1.6.39        | 369 KB    |            |   0% \u001b[A\u001b[A\u001b[A\u001b[A\u001b[A\u001b[A\u001b[A\u001b[A\u001b[A\u001b[A\u001b[A\u001b[A\u001b[A\u001b[A\u001b[A\u001b[A\u001b[A\n",
      "\n",
      "\n",
      "\n",
      "\n",
      "\n",
      "\n",
      "\n",
      "\n",
      "\n",
      "\n",
      "\n",
      "\n",
      "\n",
      "\n",
      "\n",
      "\n",
      "\n",
      "\n",
      "brotli-python-1.0.9  | 345 KB    |            |   0% \u001b[A\u001b[A\u001b[A\u001b[A\u001b[A\u001b[A\u001b[A\u001b[A\u001b[A\u001b[A\u001b[A\u001b[A\u001b[A\u001b[A\u001b[A\u001b[A\u001b[A\u001b[A\n",
      "\n",
      "\n",
      "\n",
      "\n",
      "\n",
      "\n",
      "\n",
      "\n",
      "\n",
      "\n",
      "\n",
      "\n",
      "\n",
      "\n",
      "\n",
      "\n",
      "\n",
      "\n",
      "\n",
      " ... (more hidden) ...\u001b[A\u001b[A\u001b[A\u001b[A\u001b[A\u001b[A\u001b[A\u001b[A\u001b[A\u001b[A\u001b[A\u001b[A\u001b[A\u001b[A\u001b[A\u001b[A\u001b[A\u001b[A\u001b[A\n",
      "\n",
      "\n",
      "qtdeclarative-6.7.3  | 21.4 MB   | 3          |   4% \u001b[A\u001b[A\n",
      "\n",
      "icu-73.1             | 29.5 MB   | 1          |   2% \u001b[A\n",
      "qtbase-6.7.3         | 32.2 MB   | 2          |   2% \n",
      "\n",
      "\n",
      "\n",
      "qttools-6.7.3        | 9.4 MB    |            |   0% \u001b[A\u001b[A\u001b[A\n",
      "\n",
      "\n",
      "\n",
      "\n",
      "matplotlib-base-3.9. | 9.2 MB    |            |   0% \u001b[A\u001b[A\u001b[A\u001b[A\n",
      "\n",
      "icu-73.1             | 29.5 MB   | 6          |   7% \u001b[A\n",
      "qtbase-6.7.3         | 32.2 MB   | 6          |   6% \n",
      "\n",
      "\n",
      "\n",
      "\n",
      "matplotlib-base-3.9. | 9.2 MB    | 4          |   4% \u001b[A\u001b[A\u001b[A\u001b[A\n",
      "\n",
      "icu-73.1             | 29.5 MB   | #3         |  13% \u001b[A\n",
      "qtbase-6.7.3         | 32.2 MB   | #3         |  13% \n",
      "\n",
      "icu-73.1             | 29.5 MB   | ##         |  20% \u001b[A\n",
      "qtbase-6.7.3         | 32.2 MB   | #9         |  20% \n",
      "\n",
      "\n",
      "qtdeclarative-6.7.3  | 21.4 MB   | #3         |  13% \u001b[A\u001b[A\n",
      "\n",
      "\n",
      "\n",
      "qttools-6.7.3        | 9.4 MB    | #          |  10% \u001b[A\u001b[A\u001b[A\n",
      "\n",
      "\n",
      "qtdeclarative-6.7.3  | 21.4 MB   | #9         |  19% \u001b[A\u001b[A\n",
      "\n",
      "icu-73.1             | 29.5 MB   | ##6        |  26% \u001b[A\n",
      "\n",
      "\n",
      "\n",
      "\n",
      "matplotlib-base-3.9. | 9.2 MB    | 7          |   7% \u001b[A\u001b[A\u001b[A\u001b[A\n",
      "qtbase-6.7.3         | 32.2 MB   | ##5        |  25% \n",
      "\n",
      "\n",
      "\n",
      "\n",
      "matplotlib-base-3.9. | 9.2 MB    | #1         |  11% \u001b[A\u001b[A\u001b[A\u001b[A\n",
      "qtbase-6.7.3         | 32.2 MB   | ###        |  30% \n",
      "\n",
      "\n",
      "qtdeclarative-6.7.3  | 21.4 MB   | ##3        |  23% \u001b[A\u001b[A\n",
      "\n",
      "icu-73.1             | 29.5 MB   | ###1       |  31% \u001b[A\n",
      "\n",
      "\n",
      "\n",
      "qttools-6.7.3        | 9.4 MB    | #2         |  13% \u001b[A\u001b[A\u001b[A\n",
      "\n",
      "\n",
      "\n",
      "\n",
      "matplotlib-base-3.9. | 9.2 MB    | #4         |  15% \u001b[A\u001b[A\u001b[A\u001b[A\n",
      "qtbase-6.7.3         | 32.2 MB   | ###4       |  35% \n",
      "\n",
      "\n",
      "qtdeclarative-6.7.3  | 21.4 MB   | ##7        |  27% \u001b[A\u001b[A\n",
      "\n",
      "icu-73.1             | 29.5 MB   | ###6       |  37% \u001b[A\n",
      "\n",
      "\n",
      "\n",
      "\n",
      "matplotlib-base-3.9. | 9.2 MB    | ##         |  21% \u001b[A\u001b[A\u001b[A\u001b[A\n",
      "qtbase-6.7.3         | 32.2 MB   | ###8       |  39% \n",
      "\n",
      "\n",
      "qtdeclarative-6.7.3  | 21.4 MB   | ###        |  31% \u001b[A\u001b[A\n",
      "\n",
      "icu-73.1             | 29.5 MB   | ####3      |  43% \u001b[A\n",
      "\n",
      "\n",
      "\n",
      "\n",
      "matplotlib-base-3.9. | 9.2 MB    | ##5        |  25% \u001b[A\u001b[A\u001b[A\u001b[A\n",
      "qtbase-6.7.3         | 32.2 MB   | ####3      |  43% \n",
      "\n",
      "icu-73.1             | 29.5 MB   | ####7      |  48% \u001b[A\n",
      "\n",
      "\n",
      "qtdeclarative-6.7.3  | 21.4 MB   | ###4       |  34% \u001b[A\u001b[A\n",
      "\n",
      "\n",
      "\n",
      "\n",
      "matplotlib-base-3.9. | 9.2 MB    | ##9        |  29% \u001b[A\u001b[A\u001b[A\u001b[A\n",
      "qtbase-6.7.3         | 32.2 MB   | ####8      |  49% \n",
      "\n",
      "icu-73.1             | 29.5 MB   | #####2     |  53% \u001b[A\n",
      "\n",
      "\n",
      "qtdeclarative-6.7.3  | 21.4 MB   | ###9       |  39% \u001b[A\u001b[A\n",
      "\n",
      "\n",
      "\n",
      "\n",
      "matplotlib-base-3.9. | 9.2 MB    | ###3       |  33% \u001b[A\u001b[A\u001b[A\u001b[A\n",
      "\n",
      "icu-73.1             | 29.5 MB   | #####7     |  57% \u001b[A\n",
      "qtbase-6.7.3         | 32.2 MB   | #####2     |  53% \n",
      "\n",
      "\n",
      "qtdeclarative-6.7.3  | 21.4 MB   | ####2      |  43% \u001b[A\u001b[A\n",
      "\n",
      "\n",
      "\n",
      "qttools-6.7.3        | 9.4 MB    | #4         |  14% \u001b[A\u001b[A\u001b[A\n",
      "\n",
      "\n",
      "\n",
      "\n",
      "matplotlib-base-3.9. | 9.2 MB    | ###7       |  37% \u001b[A\u001b[A\u001b[A\u001b[A\n",
      "\n",
      "icu-73.1             | 29.5 MB   | ######2    |  63% \u001b[A\n",
      "\n",
      "\n",
      "qtdeclarative-6.7.3  | 21.4 MB   | ####6      |  46% \u001b[A\u001b[A\n",
      "qtbase-6.7.3         | 32.2 MB   | #####6     |  57% \n",
      "\n",
      "\n",
      "\n",
      "qttools-6.7.3        | 9.4 MB    | #6         |  17% \u001b[A\u001b[A\u001b[A\n",
      "\n",
      "icu-73.1             | 29.5 MB   | ######7    |  68% \u001b[A\n",
      "\n",
      "\n",
      "\n",
      "\n",
      "matplotlib-base-3.9. | 9.2 MB    | ####       |  41% \u001b[A\u001b[A\u001b[A\u001b[A\n",
      "\n",
      "\n",
      "qtdeclarative-6.7.3  | 21.4 MB   | ####9      |  50% \u001b[A\u001b[A\n",
      "qtbase-6.7.3         | 32.2 MB   | ######     |  60% \n",
      "\n",
      "\n",
      "\n",
      "qttools-6.7.3        | 9.4 MB    | ##3        |  24% \u001b[A\u001b[A\u001b[A\n",
      "\n",
      "\n",
      "\n",
      "\n",
      "matplotlib-base-3.9. | 9.2 MB    | ####3      |  44% \u001b[A\u001b[A\u001b[A\u001b[A\n",
      "\n",
      "icu-73.1             | 29.5 MB   | #######2   |  73% \u001b[A\n",
      "\n",
      "\n",
      "qtdeclarative-6.7.3  | 21.4 MB   | #####3     |  53% \u001b[A\u001b[A\n",
      "qtbase-6.7.3         | 32.2 MB   | ######3    |  64% \n",
      "\n",
      "\n",
      "\n",
      "qttools-6.7.3        | 9.4 MB    | ##9        |  29% \u001b[A\u001b[A\u001b[A\n",
      "\n",
      "icu-73.1             | 29.5 MB   | #######7   |  77% \u001b[A\n",
      "\n",
      "\n",
      "qtdeclarative-6.7.3  | 21.4 MB   | #####6     |  56% \u001b[A\u001b[A\n",
      "\n",
      "\n",
      "\n",
      "\n",
      "matplotlib-base-3.9. | 9.2 MB    | ####7      |  47% \u001b[A\u001b[A\u001b[A\u001b[A\n",
      "\n",
      "\n",
      "\n",
      "qttools-6.7.3        | 9.4 MB    | ###3       |  34% \u001b[A\u001b[A\u001b[A\n",
      "qtbase-6.7.3         | 32.2 MB   | ######7    |  68% \n",
      "\n",
      "icu-73.1             | 29.5 MB   | ########1  |  82% \u001b[A\n",
      "\n",
      "\n",
      "qtdeclarative-6.7.3  | 21.4 MB   | #####9     |  60% \u001b[A\u001b[A\n",
      "\n",
      "\n",
      "\n",
      "qttools-6.7.3        | 9.4 MB    | ####       |  40% \u001b[A\u001b[A\u001b[A\n",
      "\n",
      "\n",
      "\n",
      "\n",
      "matplotlib-base-3.9. | 9.2 MB    | #####      |  50% \u001b[A\u001b[A\u001b[A\u001b[A\n",
      "qtbase-6.7.3         | 32.2 MB   | #######1   |  71% \n",
      "\n",
      "icu-73.1             | 29.5 MB   | ########6  |  86% \u001b[A\n",
      "\n",
      "\n",
      "qtdeclarative-6.7.3  | 21.4 MB   | ######3    |  63% \u001b[A\u001b[A\n",
      "\n",
      "\n",
      "\n",
      "qttools-6.7.3        | 9.4 MB    | ####5      |  45% \u001b[A\u001b[A\u001b[A\n",
      "\n",
      "\n",
      "\n",
      "\n",
      "matplotlib-base-3.9. | 9.2 MB    | #####2     |  53% \u001b[A\u001b[A\u001b[A\u001b[A\n",
      "qtbase-6.7.3         | 32.2 MB   | #######4   |  74% \n",
      "\n",
      "icu-73.1             | 29.5 MB   | #########  |  91% \u001b[A\n",
      "\n",
      "\n",
      "qtdeclarative-6.7.3  | 21.4 MB   | ######7    |  68% \u001b[A\u001b[A\n",
      "\n",
      "\n",
      "\n",
      "qttools-6.7.3        | 9.4 MB    | #####      |  51% \u001b[A\u001b[A\u001b[A\n",
      "qtbase-6.7.3         | 32.2 MB   | #######7   |  77% \n",
      "\n",
      "\n",
      "\n",
      "\n",
      "matplotlib-base-3.9. | 9.2 MB    | #####5     |  55% \u001b[A\u001b[A\u001b[A\u001b[A\n",
      "\n",
      "icu-73.1             | 29.5 MB   | #########5 |  95% \u001b[A\n",
      "\n",
      "\n",
      "qtdeclarative-6.7.3  | 21.4 MB   | #######2   |  72% \u001b[A\u001b[A\n",
      "\n",
      "\n",
      "\n",
      "qttools-6.7.3        | 9.4 MB    | #####6     |  56% \u001b[A\u001b[A\u001b[A\n",
      "qtbase-6.7.3         | 32.2 MB   | ########   |  81% \n",
      "\n",
      "\n",
      "\n",
      "\n",
      "matplotlib-base-3.9. | 9.2 MB    | #####8     |  58% \u001b[A\u001b[A\u001b[A\u001b[A\n",
      "\n",
      "\n",
      "qtdeclarative-6.7.3  | 21.4 MB   | #######6   |  77% \u001b[A\u001b[A\n",
      "\n",
      "icu-73.1             | 29.5 MB   | ########## | 100% \u001b[A\n",
      "\n",
      "icu-73.1             | 29.5 MB   | ########## | 100% \u001b[A\n",
      "\n",
      "\n",
      "\n",
      "qttools-6.7.3        | 9.4 MB    | ######     |  61% \u001b[A\u001b[A\u001b[A\n",
      "qtbase-6.7.3         | 32.2 MB   | ########4  |  84% \n",
      "\n",
      "\n",
      "\n",
      "\n",
      "matplotlib-base-3.9. | 9.2 MB    | ######     |  61% \u001b[A\u001b[A\u001b[A\u001b[A\n",
      "\n",
      "\n",
      "\n",
      "\n",
      "\n",
      "libpq-17.4           | 4.2 MB    |            |   0% \u001b[A\u001b[A\u001b[A\u001b[A\u001b[A\n",
      "\n",
      "\n",
      "\n",
      "qttools-6.7.3        | 9.4 MB    | #######2   |  73% \u001b[A\u001b[A\u001b[A\n",
      "\n",
      "\n",
      "qtdeclarative-6.7.3  | 21.4 MB   | ########1  |  81% \u001b[A\u001b[A\n",
      "\n",
      "\n",
      "\n",
      "\n",
      "matplotlib-base-3.9. | 9.2 MB    | ######4    |  64% \u001b[A\u001b[A\u001b[A\u001b[A\n",
      "qtbase-6.7.3         | 32.2 MB   | ########7  |  88% \n",
      "\n",
      "\n",
      "\n",
      "\n",
      "\n",
      "libpq-17.4           | 4.2 MB    | #6         |  17% \u001b[A\u001b[A\u001b[A\u001b[A\u001b[A\n",
      "\n",
      "\n",
      "qtdeclarative-6.7.3  | 21.4 MB   | ########5  |  85% \u001b[A\u001b[A\n",
      "\n",
      "\n",
      "\n",
      "\n",
      "matplotlib-base-3.9. | 9.2 MB    | ######9    |  70% \u001b[A\u001b[A\u001b[A\u001b[A\n",
      "\n",
      "\n",
      "\n",
      "\n",
      "\n",
      "libpq-17.4           | 4.2 MB    | #####3     |  54% \u001b[A\u001b[A\u001b[A\u001b[A\u001b[A\n",
      "qtbase-6.7.3         | 32.2 MB   | #########1 |  91% \n",
      "\n",
      "\n",
      "\n",
      "\n",
      "matplotlib-base-3.9. | 9.2 MB    | #######4   |  75% \u001b[A\u001b[A\u001b[A\u001b[A\n",
      "\n",
      "\n",
      "qtdeclarative-6.7.3  | 21.4 MB   | ########9  |  89% \u001b[A\u001b[A\n",
      "qtbase-6.7.3         | 32.2 MB   | #########4 |  94% \n",
      "\n",
      "\n",
      "\n",
      "\n",
      "\n",
      "libpq-17.4           | 4.2 MB    | ########4  |  84% \u001b[A\u001b[A\u001b[A\u001b[A\u001b[A\n",
      "\n",
      "\n",
      "\n",
      "\n",
      "\n",
      "libpq-17.4           | 4.2 MB    | ########## | 100% \u001b[A\u001b[A\u001b[A\u001b[A\u001b[A\n",
      "\n",
      "\n",
      "qtdeclarative-6.7.3  | 21.4 MB   | #########3 |  94% \u001b[A\u001b[A\n",
      "\n",
      "\n",
      "\n",
      "\n",
      "\n",
      "\n",
      "pyqt-6.7.1           | 3.5 MB    |            |   0% \u001b[A\u001b[A\u001b[A\u001b[A\u001b[A\u001b[A\n",
      "\n",
      "\n",
      "\n",
      "\n",
      "matplotlib-base-3.9. | 9.2 MB    | #######9   |  80% \u001b[A\u001b[A\u001b[A\u001b[A\n",
      "\n",
      "\n",
      "\n",
      "qttools-6.7.3        | 9.4 MB    | #######9   |  79% \u001b[A\u001b[A\u001b[A\n",
      "qtbase-6.7.3         | 32.2 MB   | #########8 |  98% \n",
      "\n",
      "\n",
      "\n",
      "\n",
      "\n",
      "\n",
      "pyqt-6.7.1           | 3.5 MB    | ###8       |  38% \u001b[A\u001b[A\u001b[A\u001b[A\u001b[A\u001b[A\n",
      "\n",
      "\n",
      "qtdeclarative-6.7.3  | 21.4 MB   | #########7 |  98% \u001b[A\u001b[A\n",
      "\n",
      "\n",
      "\n",
      "\n",
      "matplotlib-base-3.9. | 9.2 MB    | ########4  |  85% \u001b[A\u001b[A\u001b[A\u001b[A\n",
      "\n",
      "icu-73.1             | 29.5 MB   | ########## | 100% \u001b[A\n",
      "\n",
      "\n",
      "\n",
      "\n",
      "\n",
      "\n",
      "pyqt-6.7.1           | 3.5 MB    | ########## | 100% \u001b[A\u001b[A\u001b[A\u001b[A\u001b[A\u001b[A\n",
      "\n",
      "\n",
      "\n",
      "\n",
      "\n",
      "\n",
      "pyqt-6.7.1           | 3.5 MB    | ########## | 100% \u001b[A\u001b[A\u001b[A\u001b[A\u001b[A\u001b[A\n",
      "\n",
      "\n",
      "\n",
      "\n",
      "matplotlib-base-3.9. | 9.2 MB    | ########9  |  90% \u001b[A\u001b[A\u001b[A\u001b[A\n",
      "qtbase-6.7.3         | 32.2 MB   | ########## | 100% \n",
      "\n",
      "\n",
      "\n",
      "\n",
      "\n",
      "\n",
      "\n",
      "fonttools-4.55.3     | 2.1 MB    |            |   1% \u001b[A\u001b[A\u001b[A\u001b[A\u001b[A\u001b[A\u001b[A\n",
      "\n",
      "\n",
      "\n",
      "\n",
      "\n",
      "\n",
      "\n",
      "\n",
      "libtiff-4.5.1        | 1.1 MB    | 1          |   1% \u001b[A\u001b[A\u001b[A\u001b[A\u001b[A\u001b[A\u001b[A\u001b[A\n",
      "\n",
      "\n",
      "\n",
      "\n",
      "matplotlib-base-3.9. | 9.2 MB    | #########4 |  95% \u001b[A\u001b[A\u001b[A\u001b[A\n",
      "\n",
      "\n",
      "\n",
      "qttools-6.7.3        | 9.4 MB    | ########4  |  84% \u001b[A\u001b[A\u001b[A\n",
      "\n",
      "\n",
      "\n",
      "\n",
      "\n",
      "\n",
      "\n",
      "fonttools-4.55.3     | 2.1 MB    | ########## | 100% \u001b[A\u001b[A\u001b[A\u001b[A\u001b[A\u001b[A\u001b[A\n",
      "\n",
      "\n",
      "qtdeclarative-6.7.3  | 21.4 MB   | ########## | 100% \u001b[A\u001b[A\n",
      "\n",
      "\n",
      "\n",
      "\n",
      "\n",
      "\n",
      "\n",
      "\n",
      "\n",
      "krb5-1.20.1          | 790 KB    | 2          |   2% \u001b[A\u001b[A\u001b[A\u001b[A\u001b[A\u001b[A\u001b[A\u001b[A\u001b[A\n",
      "\n",
      "\n",
      "\n",
      "\n",
      "\n",
      "\n",
      "\n",
      "\n",
      "\n",
      "\n",
      "pillow-11.1.0        | 759 KB    | 2          |   2% \u001b[A\u001b[A\u001b[A\u001b[A\u001b[A\u001b[A\u001b[A\u001b[A\u001b[A\u001b[A\n",
      "\n",
      "\n",
      "\n",
      "\n",
      "\n",
      "\n",
      "\n",
      "\n",
      "libtiff-4.5.1        | 1.1 MB    | ########## | 100% \u001b[A\u001b[A\u001b[A\u001b[A\u001b[A\u001b[A\u001b[A\u001b[A\n",
      "\n",
      "\n",
      "\n",
      "\n",
      "\n",
      "\n",
      "\n",
      "\n",
      "libtiff-4.5.1        | 1.1 MB    | ########## | 100% \u001b[A\u001b[A\u001b[A\u001b[A\u001b[A\u001b[A\u001b[A\u001b[A\n",
      "\n",
      "\n",
      "\n",
      "\n",
      "\n",
      "\n",
      "\n",
      "\n",
      "\n",
      "krb5-1.20.1          | 790 KB    | ########## | 100% \u001b[A\u001b[A\u001b[A\u001b[A\u001b[A\u001b[A\u001b[A\u001b[A\u001b[A\n",
      "\n",
      "\n",
      "\n",
      "\n",
      "\n",
      "\n",
      "\n",
      "\n",
      "\n",
      "\n",
      "\n",
      "tornado-6.5.1        | 680 KB    | 2          |   2% \u001b[A\u001b[A\u001b[A\u001b[A\u001b[A\u001b[A\u001b[A\u001b[A\u001b[A\u001b[A\u001b[A\n",
      "\n",
      "\n",
      "\n",
      "\n",
      "\n",
      "\n",
      "\n",
      "\n",
      "\n",
      "\n",
      "\n",
      "\n",
      "sip-6.10.0           | 571 KB    | 2          |   3% \u001b[A\u001b[A\u001b[A\u001b[A\u001b[A\u001b[A\u001b[A\u001b[A\u001b[A\u001b[A\u001b[A\u001b[A\n",
      "\n",
      "\n",
      "\n",
      "qttools-6.7.3        | 9.4 MB    | #########9 | 100% \u001b[A\u001b[A\u001b[A\n",
      "\n",
      "\n",
      "\n",
      "\n",
      "\n",
      "\n",
      "\n",
      "\n",
      "\n",
      "\n",
      "pillow-11.1.0        | 759 KB    | ########## | 100% \u001b[A\u001b[A\u001b[A\u001b[A\u001b[A\u001b[A\u001b[A\u001b[A\u001b[A\u001b[A\n",
      "\n",
      "\n",
      "\n",
      "\n",
      "\n",
      "\n",
      "\n",
      "\n",
      "\n",
      "\n",
      "\n",
      "\n",
      "\n",
      "lcms2-2.16           | 566 KB    | 2          |   3% \u001b[A\u001b[A\u001b[A\u001b[A\u001b[A\u001b[A\u001b[A\u001b[A\u001b[A\u001b[A\u001b[A\u001b[A\u001b[A\n",
      "\n",
      "\n",
      "\n",
      "\n",
      "\n",
      "\n",
      "\n",
      "\n",
      "\n",
      "\n",
      "\n",
      "\n",
      "sip-6.10.0           | 571 KB    | ########## | 100% \u001b[A\u001b[A\u001b[A\u001b[A\u001b[A\u001b[A\u001b[A\u001b[A\u001b[A\u001b[A\u001b[A\u001b[A\n",
      "\n",
      "\n",
      "\n",
      "\n",
      "\n",
      "\n",
      "\n",
      "\n",
      "\n",
      "\n",
      "\n",
      "tornado-6.5.1        | 680 KB    | ########## | 100% \u001b[A\u001b[A\u001b[A\u001b[A\u001b[A\u001b[A\u001b[A\u001b[A\u001b[A\u001b[A\u001b[A\n",
      "\n",
      "\n",
      "\n",
      "\n",
      "\n",
      "\n",
      "\n",
      "\n",
      "\n",
      "\n",
      "\n",
      "\n",
      "\n",
      "lcms2-2.16           | 566 KB    | ########## | 100% \u001b[A\u001b[A\u001b[A\u001b[A\u001b[A\u001b[A\u001b[A\u001b[A\u001b[A\u001b[A\u001b[A\u001b[A\u001b[A\n",
      "\n",
      "\n",
      "\n",
      "\n",
      "matplotlib-base-3.9. | 9.2 MB    | ########## | 100% \u001b[A\u001b[A\u001b[A\u001b[A\n",
      "\n",
      "\n",
      "\n",
      "\n",
      "matplotlib-base-3.9. | 9.2 MB    | ########## | 100% \u001b[A\u001b[A\u001b[A\u001b[A\n",
      "\n",
      "\n",
      "\n",
      "\n",
      "\n",
      "\n",
      "\n",
      "\n",
      "\n",
      "\n",
      "\n",
      "\n",
      "\n",
      "\n",
      "\n",
      "unicodedata2-15.1.0  | 525 KB    | 3          |   3% \u001b[A\u001b[A\u001b[A\u001b[A\u001b[A\u001b[A\u001b[A\u001b[A\u001b[A\u001b[A\u001b[A\u001b[A\u001b[A\u001b[A\u001b[A\n",
      "\n",
      "\n",
      "\n",
      "\n",
      "\n",
      "\n",
      "\n",
      "\n",
      "\n",
      "\n",
      "\n",
      "\n",
      "\n",
      "\n",
      "freetype-2.13.3      | 554 KB    | 2          |   3% \u001b[A\u001b[A\u001b[A\u001b[A\u001b[A\u001b[A\u001b[A\u001b[A\u001b[A\u001b[A\u001b[A\u001b[A\u001b[A\u001b[A\n",
      "\n",
      "\n",
      "\n",
      "qttools-6.7.3        | 9.4 MB    | ########## | 100% \u001b[A\u001b[A\u001b[A\n",
      "\n",
      "\n",
      "\n",
      "\n",
      "\n",
      "\n",
      "\n",
      "\n",
      "\n",
      "\n",
      "\n",
      "\n",
      "\n",
      "\n",
      "\n",
      "\n",
      "pyparsing-3.2.0      | 422 KB    | 3          |   4% \u001b[A\u001b[A\u001b[A\u001b[A\u001b[A\u001b[A\u001b[A\u001b[A\u001b[A\u001b[A\u001b[A\u001b[A\u001b[A\u001b[A\u001b[A\u001b[A\n",
      "\n",
      "\n",
      "\n",
      "\n",
      "\n",
      "\n",
      "\n",
      "\n",
      "\n",
      "\n",
      "\n",
      "\n",
      "\n",
      "\n",
      "freetype-2.13.3      | 554 KB    | ########## | 100% \u001b[A\u001b[A\u001b[A\u001b[A\u001b[A\u001b[A\u001b[A\u001b[A\u001b[A\u001b[A\u001b[A\u001b[A\u001b[A\u001b[A\n",
      "\n",
      "\n",
      "\n",
      "\n",
      "\n",
      "\n",
      "\n",
      "\n",
      "\n",
      "\n",
      "\n",
      "\n",
      "\n",
      "\n",
      "\n",
      "\n",
      "\n",
      "libpng-1.6.39        | 369 KB    | 4          |   4% \u001b[A\u001b[A\u001b[A\u001b[A\u001b[A\u001b[A\u001b[A\u001b[A\u001b[A\u001b[A\u001b[A\u001b[A\u001b[A\u001b[A\u001b[A\u001b[A\u001b[A\n",
      "\n",
      "\n",
      "\n",
      "\n",
      "\n",
      "\n",
      "\n",
      "\n",
      "\n",
      "\n",
      "\n",
      "\n",
      "\n",
      "\n",
      "\n",
      "\n",
      "pyparsing-3.2.0      | 422 KB    | ########## | 100% \u001b[A\u001b[A\u001b[A\u001b[A\u001b[A\u001b[A\u001b[A\u001b[A\u001b[A\u001b[A\u001b[A\u001b[A\u001b[A\u001b[A\u001b[A\u001b[A\n",
      "\n",
      "\n",
      "\n",
      "\n",
      "\n",
      "\n",
      "\n",
      "\n",
      "\n",
      "\n",
      "\n",
      "\n",
      "\n",
      "\n",
      "\n",
      "unicodedata2-15.1.0  | 525 KB    | ########## | 100% \u001b[A\u001b[A\u001b[A\u001b[A\u001b[A\u001b[A\u001b[A\u001b[A\u001b[A\u001b[A\u001b[A\u001b[A\u001b[A\u001b[A\u001b[A\n",
      "\n",
      "\n",
      "\n",
      "\n",
      "\n",
      "\n",
      "\n",
      "\n",
      "\n",
      "\n",
      "\n",
      "\n",
      "\n",
      "\n",
      "\n",
      "\n",
      "\n",
      "\n",
      "brotli-python-1.0.9  | 345 KB    | 4          |   5% \u001b[A\u001b[A\u001b[A\u001b[A\u001b[A\u001b[A\u001b[A\u001b[A\u001b[A\u001b[A\u001b[A\u001b[A\u001b[A\u001b[A\u001b[A\u001b[A\u001b[A\u001b[A\n",
      "\n",
      "\n",
      "\n",
      "\n",
      "\n",
      "\n",
      "\n",
      "\n",
      "\n",
      "\n",
      "\n",
      "\n",
      "\n",
      "\n",
      "\n",
      "\n",
      "\n",
      "\n",
      "\n",
      " ... (more hidden) ...\u001b[A\u001b[A\u001b[A\u001b[A\u001b[A\u001b[A\u001b[A\u001b[A\u001b[A\u001b[A\u001b[A\u001b[A\u001b[A\u001b[A\u001b[A\u001b[A\u001b[A\u001b[A\u001b[A\n",
      "\n",
      "\n",
      "\n",
      "\n",
      "\n",
      "\n",
      "\n",
      "\n",
      "\n",
      "\n",
      "\n",
      "\n",
      "\n",
      "\n",
      "\n",
      "\n",
      "\n",
      "\n",
      "\n",
      " ... (more hidden) ...\u001b[A\u001b[A\u001b[A\u001b[A\u001b[A\u001b[A\u001b[A\u001b[A\u001b[A\u001b[A\u001b[A\u001b[A\u001b[A\u001b[A\u001b[A\u001b[A\u001b[A\u001b[A\u001b[A\n",
      "\n",
      "\n",
      "\n",
      "\n",
      "\n",
      "\n",
      "\n",
      "\n",
      "\n",
      "\n",
      "\n",
      "\n",
      "\n",
      "\n",
      "\n",
      "\n",
      "\n",
      "libpng-1.6.39        | 369 KB    | ########## | 100% \u001b[A\u001b[A\u001b[A\u001b[A\u001b[A\u001b[A\u001b[A\u001b[A\u001b[A\u001b[A\u001b[A\u001b[A\u001b[A\u001b[A\u001b[A\u001b[A\u001b[A\n",
      "\n",
      "\n",
      "\n",
      "\n",
      "\n",
      "\n",
      "\n",
      "\n",
      "\n",
      "\n",
      "\n",
      "\n",
      "\n",
      "\n",
      "\n",
      "\n",
      "\n",
      "\n",
      "brotli-python-1.0.9  | 345 KB    | ########## | 100% \u001b[A\u001b[A\u001b[A\u001b[A\u001b[A\u001b[A\u001b[A\u001b[A\u001b[A\u001b[A\u001b[A\u001b[A\u001b[A\u001b[A\u001b[A\u001b[A\u001b[A\u001b[A\n",
      "\n",
      "\n",
      "\n",
      "\n",
      "\n",
      "\n",
      "pyqt-6.7.1           | 3.5 MB    | ########## | 100% \u001b[A\u001b[A\u001b[A\u001b[A\u001b[A\u001b[A\n",
      "\n",
      "\n",
      "\n",
      "\n",
      "\n",
      "libpq-17.4           | 4.2 MB    | ########## | 100% \u001b[A\u001b[A\u001b[A\u001b[A\u001b[A\n",
      "\n",
      "\n",
      "\n",
      "\n",
      "\n",
      "\n",
      "\n",
      "fonttools-4.55.3     | 2.1 MB    | ########## | 100% \u001b[A\u001b[A\u001b[A\u001b[A\u001b[A\u001b[A\u001b[A\n",
      "\n",
      "\n",
      "\n",
      "\n",
      "\n",
      "\n",
      "\n",
      "fonttools-4.55.3     | 2.1 MB    | ########## | 100% \u001b[A\u001b[A\u001b[A\u001b[A\u001b[A\u001b[A\u001b[A\n",
      "\n",
      "\n",
      "\n",
      "\n",
      "\n",
      "\n",
      "\n",
      "\n",
      "libtiff-4.5.1        | 1.1 MB    | ########## | 100% \u001b[A\u001b[A\u001b[A\u001b[A\u001b[A\u001b[A\u001b[A\u001b[A\n",
      "\n",
      "\n",
      "\n",
      "\n",
      "\n",
      "\n",
      "\n",
      "\n",
      "\n",
      "krb5-1.20.1          | 790 KB    | ########## | 100% \u001b[A\u001b[A\u001b[A\u001b[A\u001b[A\u001b[A\u001b[A\u001b[A\u001b[A\n",
      "\n",
      "\n",
      "\n",
      "\n",
      "\n",
      "\n",
      "\n",
      "\n",
      "\n",
      "krb5-1.20.1          | 790 KB    | ########## | 100% \u001b[A\u001b[A\u001b[A\u001b[A\u001b[A\u001b[A\u001b[A\u001b[A\u001b[A\n",
      "\n",
      "\n",
      "\n",
      "\n",
      "\n",
      "\n",
      "\n",
      "\n",
      "\n",
      "\n",
      "pillow-11.1.0        | 759 KB    | ########## | 100% \u001b[A\u001b[A\u001b[A\u001b[A\u001b[A\u001b[A\u001b[A\u001b[A\u001b[A\u001b[A\n",
      "\n",
      "\n",
      "\n",
      "\n",
      "\n",
      "\n",
      "\n",
      "\n",
      "\n",
      "\n",
      "pillow-11.1.0        | 759 KB    | ########## | 100% \u001b[A\u001b[A\u001b[A\u001b[A\u001b[A\u001b[A\u001b[A\u001b[A\u001b[A\u001b[A\n",
      "\n",
      "\n",
      "\n",
      "\n",
      "\n",
      "\n",
      "\n",
      "\n",
      "\n",
      "\n",
      "\n",
      "\n",
      "sip-6.10.0           | 571 KB    | ########## | 100% \u001b[A\u001b[A\u001b[A\u001b[A\u001b[A\u001b[A\u001b[A\u001b[A\u001b[A\u001b[A\u001b[A\u001b[A\n",
      "\n",
      "\n",
      "\n",
      "\n",
      "\n",
      "\n",
      "\n",
      "\n",
      "\n",
      "\n",
      "\n",
      "\n",
      "sip-6.10.0           | 571 KB    | ########## | 100% \u001b[A\u001b[A\u001b[A\u001b[A\u001b[A\u001b[A\u001b[A\u001b[A\u001b[A\u001b[A\u001b[A\u001b[A\n",
      "\n",
      "\n",
      "\n",
      "\n",
      "\n",
      "\n",
      "\n",
      "\n",
      "\n",
      "\n",
      "\n",
      "tornado-6.5.1        | 680 KB    | ########## | 100% \u001b[A\u001b[A\u001b[A\u001b[A\u001b[A\u001b[A\u001b[A\u001b[A\u001b[A\u001b[A\u001b[A\n",
      "\n",
      "\n",
      "\n",
      "\n",
      "\n",
      "\n",
      "\n",
      "\n",
      "\n",
      "\n",
      "\n",
      "tornado-6.5.1        | 680 KB    | ########## | 100% \u001b[A\u001b[A\u001b[A\u001b[A\u001b[A\u001b[A\u001b[A\u001b[A\u001b[A\u001b[A\u001b[A\n",
      "\n",
      "\n",
      "\n",
      "\n",
      "\n",
      "\n",
      "\n",
      "\n",
      "\n",
      "\n",
      "\n",
      "\n",
      "\n",
      "lcms2-2.16           | 566 KB    | ########## | 100% \u001b[A\u001b[A\u001b[A\u001b[A\u001b[A\u001b[A\u001b[A\u001b[A\u001b[A\u001b[A\u001b[A\u001b[A\u001b[A\n",
      "\n",
      "\n",
      "\n",
      "\n",
      "\n",
      "\n",
      "\n",
      "\n",
      "\n",
      "\n",
      "\n",
      "\n",
      "\n",
      "lcms2-2.16           | 566 KB    | ########## | 100% \u001b[A\u001b[A\u001b[A\u001b[A\u001b[A\u001b[A\u001b[A\u001b[A\u001b[A\u001b[A\u001b[A\u001b[A\u001b[A\n",
      "qtbase-6.7.3         | 32.2 MB   | ########## | 100% \n",
      "\n",
      "\n",
      "qtdeclarative-6.7.3  | 21.4 MB   | ########## | 100% \u001b[A\u001b[A\n",
      "\n",
      "\n",
      "\n",
      "\n",
      "\n",
      "\n",
      "\n",
      "\n",
      "\n",
      "\n",
      "\n",
      "\n",
      "\n",
      "\n",
      "freetype-2.13.3      | 554 KB    | ########## | 100% \u001b[A\u001b[A\u001b[A\u001b[A\u001b[A\u001b[A\u001b[A\u001b[A\u001b[A\u001b[A\u001b[A\u001b[A\u001b[A\u001b[A\n",
      "\n",
      "\n",
      "\n",
      "\n",
      "\n",
      "\n",
      "\n",
      "\n",
      "\n",
      "\n",
      "\n",
      "\n",
      "\n",
      "\n",
      "freetype-2.13.3      | 554 KB    | ########## | 100% \u001b[A\u001b[A\u001b[A\u001b[A\u001b[A\u001b[A\u001b[A\u001b[A\u001b[A\u001b[A\u001b[A\u001b[A\u001b[A\u001b[A\n",
      "\n",
      "\n",
      "\n",
      "\n",
      "\n",
      "\n",
      "\n",
      "\n",
      "\n",
      "\n",
      "\n",
      "\n",
      "\n",
      "\n",
      "\n",
      "\n",
      "pyparsing-3.2.0      | 422 KB    | ########## | 100% \u001b[A\u001b[A\u001b[A\u001b[A\u001b[A\u001b[A\u001b[A\u001b[A\u001b[A\u001b[A\u001b[A\u001b[A\u001b[A\u001b[A\u001b[A\u001b[A\n",
      "\n",
      "\n",
      "\n",
      "\n",
      "\n",
      "\n",
      "\n",
      "\n",
      "\n",
      "\n",
      "\n",
      "\n",
      "\n",
      "\n",
      "\n",
      "\n",
      "pyparsing-3.2.0      | 422 KB    | ########## | 100% \u001b[A\u001b[A\u001b[A\u001b[A\u001b[A\u001b[A\u001b[A\u001b[A\u001b[A\u001b[A\u001b[A\u001b[A\u001b[A\u001b[A\u001b[A\u001b[A\n",
      "\n",
      "\n",
      "\n",
      "\n",
      "\n",
      "\n",
      "\n",
      "\n",
      "\n",
      "\n",
      "\n",
      "\n",
      "\n",
      "\n",
      "\n",
      "unicodedata2-15.1.0  | 525 KB    | ########## | 100% \u001b[A\u001b[A\u001b[A\u001b[A\u001b[A\u001b[A\u001b[A\u001b[A\u001b[A\u001b[A\u001b[A\u001b[A\u001b[A\u001b[A\u001b[A\n",
      "\n",
      "\n",
      "\n",
      "\n",
      "\n",
      "\n",
      "\n",
      "\n",
      "\n",
      "\n",
      "\n",
      "\n",
      "\n",
      "\n",
      "\n",
      "unicodedata2-15.1.0  | 525 KB    | ########## | 100% \u001b[A\u001b[A\u001b[A\u001b[A\u001b[A\u001b[A\u001b[A\u001b[A\u001b[A\u001b[A\u001b[A\u001b[A\u001b[A\u001b[A\u001b[A\n",
      "\n",
      "\n",
      "\n",
      "\n",
      "\n",
      "\n",
      "\n",
      "\n",
      "\n",
      "\n",
      "\n",
      "\n",
      "\n",
      "\n",
      "\n",
      "\n",
      "\n",
      "\n",
      "\n",
      " ... (more hidden) ...\u001b[A\u001b[A\u001b[A\u001b[A\u001b[A\u001b[A\u001b[A\u001b[A\u001b[A\u001b[A\u001b[A\u001b[A\u001b[A\u001b[A\u001b[A\u001b[A\u001b[A\u001b[A\u001b[A\n",
      "\n",
      "\n",
      "\n",
      "\n",
      "\n",
      "\n",
      "\n",
      "\n",
      "\n",
      "\n",
      "\n",
      "\n",
      "\n",
      "\n",
      "\n",
      "\n",
      "\n",
      "\n",
      "\n",
      " ... (more hidden) ...\u001b[A\u001b[A\u001b[A\u001b[A\u001b[A\u001b[A\u001b[A\u001b[A\u001b[A\u001b[A\u001b[A\u001b[A\u001b[A\u001b[A\u001b[A\u001b[A\u001b[A\u001b[A\u001b[A\n",
      "\n",
      "\n",
      "\n",
      "\n",
      "\n",
      "\n",
      "\n",
      "\n",
      "\n",
      "\n",
      "\n",
      "\n",
      "\n",
      "\n",
      "\n",
      "\n",
      "\n",
      "libpng-1.6.39        | 369 KB    | ########## | 100% \u001b[A\u001b[A\u001b[A\u001b[A\u001b[A\u001b[A\u001b[A\u001b[A\u001b[A\u001b[A\u001b[A\u001b[A\u001b[A\u001b[A\u001b[A\u001b[A\u001b[A\n",
      "\n",
      "\n",
      "\n",
      "\n",
      "\n",
      "\n",
      "\n",
      "\n",
      "\n",
      "\n",
      "\n",
      "\n",
      "\n",
      "\n",
      "\n",
      "\n",
      "\n",
      "libpng-1.6.39        | 369 KB    | ########## | 100% \u001b[A\u001b[A\u001b[A\u001b[A\u001b[A\u001b[A\u001b[A\u001b[A\u001b[A\u001b[A\u001b[A\u001b[A\u001b[A\u001b[A\u001b[A\u001b[A\u001b[A\n",
      "\n",
      "\n",
      "\n",
      "\n",
      "\n",
      "\n",
      "\n",
      "\n",
      "\n",
      "\n",
      "\n",
      "\n",
      "\n",
      "\n",
      "\n",
      "\n",
      "\n",
      "\n",
      "brotli-python-1.0.9  | 345 KB    | ########## | 100% \u001b[A\u001b[A\u001b[A\u001b[A\u001b[A\u001b[A\u001b[A\u001b[A\u001b[A\u001b[A\u001b[A\u001b[A\u001b[A\u001b[A\u001b[A\u001b[A\u001b[A\u001b[A\n",
      "\n",
      "\n",
      "\n",
      "\n",
      "\n",
      "\n",
      "\n",
      "\n",
      "\n",
      "\n",
      "\n",
      "\n",
      "\n",
      "\n",
      "\n",
      "\n",
      "\n",
      "\n",
      "brotli-python-1.0.9  | 345 KB    | ########## | 100% \u001b[A\u001b[A\u001b[A\u001b[A\u001b[A\u001b[A\u001b[A\u001b[A\u001b[A\u001b[A\u001b[A\u001b[A\u001b[A\u001b[A\u001b[A\u001b[A\u001b[A\u001b[A\n",
      "\n",
      "\n",
      "\n",
      "qttools-6.7.3        | 9.4 MB    | ########## | 100% \u001b[A\u001b[A\u001b[A\n",
      "\n",
      "\n",
      "\n",
      "\n",
      "matplotlib-base-3.9. | 9.2 MB    | ########## | 100% \u001b[A\u001b[A\u001b[A\u001b[A\n",
      "\n",
      "\n",
      "\n",
      "\n",
      "\n",
      "\n",
      "\n",
      "\n",
      "\n",
      "\n",
      "\n",
      "\n",
      "\n",
      "\n",
      "\n",
      "\n",
      "\n",
      "\n",
      "\n",
      "                      \n",
      "\u001b[A\u001b[A\u001b[A\u001b[A\u001b[A\u001b[A\u001b[A\u001b[A\u001b[A\u001b[A\u001b[A\u001b[A\u001b[A\u001b[A\u001b[A\u001b[A\u001b[A\u001b[A\u001b[A\n",
      "                                                     \n",
      "\n",
      "\n",
      "                                                     \u001b[A\n",
      "\n",
      "\n",
      "                                                     \u001b[A\u001b[A\n",
      "\n",
      "\n",
      "\n",
      "                                                     \u001b[A\u001b[A\u001b[A\n",
      "\n",
      "\n",
      "\n",
      "\n",
      "                                                     \u001b[A\u001b[A\u001b[A\u001b[A\n",
      "\n",
      "\n",
      "\n",
      "\n",
      "\n",
      "                                                     \u001b[A\u001b[A\u001b[A\u001b[A\u001b[A\n",
      "\n",
      "\n",
      "\n",
      "\n",
      "\n",
      "\n",
      "                                                     \u001b[A\u001b[A\u001b[A\u001b[A\u001b[A\u001b[A\n",
      "\n",
      "\n",
      "\n",
      "\n",
      "\n",
      "\n",
      "\n",
      "                                                     \u001b[A\u001b[A\u001b[A\u001b[A\u001b[A\u001b[A\u001b[A\n",
      "\n",
      "\n",
      "\n",
      "\n",
      "\n",
      "\n",
      "\n",
      "\n",
      "                                                     \u001b[A\u001b[A\u001b[A\u001b[A\u001b[A\u001b[A\u001b[A\u001b[A\n",
      "\n",
      "\n",
      "\n",
      "\n",
      "\n",
      "\n",
      "\n",
      "\n",
      "\n",
      "                                                     \u001b[A\u001b[A\u001b[A\u001b[A\u001b[A\u001b[A\u001b[A\u001b[A\u001b[A\n",
      "\n",
      "\n",
      "\n",
      "\n",
      "\n",
      "\n",
      "\n",
      "\n",
      "\n",
      "\n",
      "                                                     \u001b[A\u001b[A\u001b[A\u001b[A\u001b[A\u001b[A\u001b[A\u001b[A\u001b[A\u001b[A\n",
      "\n",
      "\n",
      "\n",
      "\n",
      "\n",
      "\n",
      "\n",
      "\n",
      "\n",
      "\n",
      "\n",
      "                                                     \u001b[A\u001b[A\u001b[A\u001b[A\u001b[A\u001b[A\u001b[A\u001b[A\u001b[A\u001b[A\u001b[A\n",
      "\n",
      "\n",
      "\n",
      "\n",
      "\n",
      "\n",
      "\n",
      "\n",
      "\n",
      "\n",
      "\n",
      "\n",
      "                                                     \u001b[A\u001b[A\u001b[A\u001b[A\u001b[A\u001b[A\u001b[A\u001b[A\u001b[A\u001b[A\u001b[A\u001b[A\n",
      "\n",
      "\n",
      "\n",
      "\n",
      "\n",
      "\n",
      "\n",
      "\n",
      "\n",
      "\n",
      "\n",
      "\n",
      "\n",
      "                                                     \u001b[A\u001b[A\u001b[A\u001b[A\u001b[A\u001b[A\u001b[A\u001b[A\u001b[A\u001b[A\u001b[A\u001b[A\u001b[A\n",
      "\n",
      "\n",
      "\n",
      "\n",
      "\n",
      "\n",
      "\n",
      "\n",
      "\n",
      "\n",
      "\n",
      "\n",
      "\n",
      "\n",
      "                                                     \u001b[A\u001b[A\u001b[A\u001b[A\u001b[A\u001b[A\u001b[A\u001b[A\u001b[A\u001b[A\u001b[A\u001b[A\u001b[A\u001b[A\n",
      "\n",
      "\n",
      "\n",
      "\n",
      "\n",
      "\n",
      "\n",
      "\n",
      "\n",
      "\n",
      "\n",
      "\n",
      "\n",
      "\n",
      "\n",
      "                                                     \u001b[A\u001b[A\u001b[A\u001b[A\u001b[A\u001b[A\u001b[A\u001b[A\u001b[A\u001b[A\u001b[A\u001b[A\u001b[A\u001b[A\u001b[A\n",
      "\n",
      "\n",
      "\n",
      "\n",
      "\n",
      "\n",
      "\n",
      "\n",
      "\n",
      "\n",
      "\n",
      "\n",
      "\n",
      "\n",
      "\n",
      "\n",
      "                                                     \u001b[A\u001b[A\u001b[A\u001b[A\u001b[A\u001b[A\u001b[A\u001b[A\u001b[A\u001b[A\u001b[A\u001b[A\u001b[A\u001b[A\u001b[A\u001b[A\n",
      "\n",
      "\n",
      "\n",
      "\n",
      "\n",
      "\n",
      "\n",
      "\n",
      "\n",
      "\n",
      "\n",
      "\n",
      "\n",
      "\n",
      "\n",
      "\n",
      "\n",
      "                                                     \u001b[A\u001b[A\u001b[A\u001b[A\u001b[A\u001b[A\u001b[A\u001b[A\u001b[A\u001b[A\u001b[A\u001b[A\u001b[A\u001b[A\u001b[A\u001b[A\u001b[A\n",
      "\n",
      "\n",
      "\n",
      "\n",
      "\n",
      "\n",
      "\n",
      "\n",
      "\n",
      "\n",
      "\n",
      "\n",
      "\n",
      "\n",
      "\n",
      "\n",
      "\n",
      "\n",
      "                                                     \u001b[A\u001b[A\u001b[A\u001b[A\u001b[A\u001b[A\u001b[A\u001b[A\u001b[A\u001b[A\u001b[A\u001b[A\u001b[A\u001b[A\u001b[A\u001b[A\u001b[A\u001b[A\n",
      "\n",
      "\n",
      "\n",
      "\u001b[A\n",
      "\n",
      "\n",
      "\u001b[A\u001b[A\n",
      "\n",
      "\n",
      "\n",
      "\u001b[A\u001b[A\u001b[A\n",
      "\n",
      "\n",
      "\n",
      "\n",
      "\u001b[A\u001b[A\u001b[A\u001b[A\n",
      "\n",
      "\n",
      "\n",
      "\n",
      "\n",
      "\u001b[A\u001b[A\u001b[A\u001b[A\u001b[A\n",
      "\n",
      "\n",
      "\n",
      "\n",
      "\n",
      "\n",
      "\u001b[A\u001b[A\u001b[A\u001b[A\u001b[A\u001b[A\n",
      "\n",
      "\n",
      "\n",
      "\n",
      "\n",
      "\n",
      "\n",
      "\u001b[A\u001b[A\u001b[A\u001b[A\u001b[A\u001b[A\u001b[A\n",
      "\n",
      "\n",
      "\n",
      "\n",
      "\n",
      "\n",
      "\n",
      "\n",
      "\u001b[A\u001b[A\u001b[A\u001b[A\u001b[A\u001b[A\u001b[A\u001b[A\n",
      "\n",
      "\n",
      "\n",
      "\n",
      "\n",
      "\n",
      "\n",
      "\n",
      "\n",
      "\u001b[A\u001b[A\u001b[A\u001b[A\u001b[A\u001b[A\u001b[A\u001b[A\u001b[A\n",
      "\n",
      "\n",
      "\n",
      "\n",
      "\n",
      "\n",
      "\n",
      "\n",
      "\n",
      "\n",
      "\u001b[A\u001b[A\u001b[A\u001b[A\u001b[A\u001b[A\u001b[A\u001b[A\u001b[A\u001b[A\n",
      "\n",
      "\n",
      "\n",
      "\n",
      "\n",
      "\n",
      "\n",
      "\n",
      "\n",
      "\n",
      "\n",
      "\u001b[A\u001b[A\u001b[A\u001b[A\u001b[A\u001b[A\u001b[A\u001b[A\u001b[A\u001b[A\u001b[A\n",
      "\n",
      "\n",
      "\n",
      "\n",
      "\n",
      "\n",
      "\n",
      "\n",
      "\n",
      "\n",
      "\n",
      "\n",
      "\u001b[A\u001b[A\u001b[A\u001b[A\u001b[A\u001b[A\u001b[A\u001b[A\u001b[A\u001b[A\u001b[A\u001b[A\n",
      "\n",
      "\n",
      "\n",
      "\n",
      "\n",
      "\n",
      "\n",
      "\n",
      "\n",
      "\n",
      "\n",
      "\n",
      "\n",
      "\u001b[A\u001b[A\u001b[A\u001b[A\u001b[A\u001b[A\u001b[A\u001b[A\u001b[A\u001b[A\u001b[A\u001b[A\u001b[A\n",
      "\n",
      "\n",
      "\n",
      "\n",
      "\n",
      "\n",
      "\n",
      "\n",
      "\n",
      "\n",
      "\n",
      "\n",
      "\n",
      "\n",
      "\u001b[A\u001b[A\u001b[A\u001b[A\u001b[A\u001b[A\u001b[A\u001b[A\u001b[A\u001b[A\u001b[A\u001b[A\u001b[A\u001b[A\n",
      "\n",
      "\n",
      "\n",
      "\n",
      "\n",
      "\n",
      "\n",
      "\n",
      "\n",
      "\n",
      "\n",
      "\n",
      "\n",
      "\n",
      "\n",
      "\u001b[A\u001b[A\u001b[A\u001b[A\u001b[A\u001b[A\u001b[A\u001b[A\u001b[A\u001b[A\u001b[A\u001b[A\u001b[A\u001b[A\u001b[A\n",
      "\n",
      "\n",
      "\n",
      "\n",
      "\n",
      "\n",
      "\n",
      "\n",
      "\n",
      "\n",
      "\n",
      "\n",
      "\n",
      "\n",
      "\n",
      "\n",
      "\u001b[A\u001b[A\u001b[A\u001b[A\u001b[A\u001b[A\u001b[A\u001b[A\u001b[A\u001b[A\u001b[A\u001b[A\u001b[A\u001b[A\u001b[A\u001b[A\n",
      "\n",
      "\n",
      "\n",
      "\n",
      "\n",
      "\n",
      "\n",
      "\n",
      "\n",
      "\n",
      "\n",
      "\n",
      "\n",
      "\n",
      "\n",
      "\n",
      "\n",
      "\u001b[A\u001b[A\u001b[A\u001b[A\u001b[A\u001b[A\u001b[A\u001b[A\u001b[A\u001b[A\u001b[A\u001b[A\u001b[A\u001b[A\u001b[A\u001b[A\u001b[A\n",
      "\n",
      "\n",
      "\n",
      "\n",
      "\n",
      "\n",
      "\n",
      "\n",
      "\n",
      "\n",
      "\n",
      "\n",
      "\n",
      "\n",
      "\n",
      "\n",
      "\n",
      "\n",
      "\u001b[A\u001b[A\u001b[A\u001b[A\u001b[A\u001b[A\u001b[A\u001b[A\u001b[A\u001b[A\u001b[A\u001b[A\u001b[A\u001b[A\u001b[A\u001b[A\u001b[A\u001b[A done\n",
      "Preparing transaction: done\n",
      "Verifying transaction: done\n",
      "Executing transaction: done\n"
     ]
    }
   ],
   "source": [
    "!conda install -y matplotlib"
   ]
  },
  {
   "cell_type": "code",
   "execution_count": 28,
   "id": "076b018c",
   "metadata": {},
   "outputs": [
    {
     "data": {
      "text/plain": [
       "[<matplotlib.lines.Line2D at 0x1f933565ac0>]"
      ]
     },
     "execution_count": 28,
     "metadata": {},
     "output_type": "execute_result"
    },
    {
     "data": {
      "image/png": "[encoded data removed]",
      "text/plain": [
       "<Figure size 640x480 with 1 Axes>"
      ]
     },
     "metadata": {},
     "output_type": "display_data"
    }
   ],
   "source": [
    "import matplotlib.pyplot as plt\n",
    "x = np.linspace(-5,5,101)\n",
    "y = x**2\n",
    "\n",
    "plt.plot(x,y)"
   ]
  },
  {
   "cell_type": "code",
   "execution_count": null,
   "id": "54df3eb5",
   "metadata": {},
   "outputs": [
    {
     "data": {
      "text/plain": [
       "(100,)"
      ]
     },
     "execution_count": 29,
     "metadata": {},
     "output_type": "execute_result"
    }
   ],
   "source": [
    "# p.44\n",
    "# 배열 초기화\n",
    "np.zeros(100).shape"
   ]
  },
  {
   "cell_type": "code",
   "execution_count": 31,
   "id": "622e4f55",
   "metadata": {},
   "outputs": [
    {
     "data": {
      "text/plain": [
       "(3, 3)"
      ]
     },
     "execution_count": 31,
     "metadata": {},
     "output_type": "execute_result"
    }
   ],
   "source": [
    "np.zeros((3,3)).shape"
   ]
  },
  {
   "cell_type": "code",
   "execution_count": 32,
   "id": "bd76f2ae",
   "metadata": {},
   "outputs": [
    {
     "data": {
      "text/plain": [
       "(4, 3)"
      ]
     },
     "execution_count": 32,
     "metadata": {},
     "output_type": "execute_result"
    }
   ],
   "source": [
    "np.ones((4,3)).shape"
   ]
  },
  {
   "cell_type": "code",
   "execution_count": 34,
   "id": "b0e8592b",
   "metadata": {},
   "outputs": [
    {
     "data": {
      "text/plain": [
       "(3,)"
      ]
     },
     "execution_count": 34,
     "metadata": {},
     "output_type": "execute_result"
    }
   ],
   "source": [
    "np.full((3),0.1).shape"
   ]
  },
  {
   "cell_type": "code",
   "execution_count": null,
   "id": "106c2a3c",
   "metadata": {},
   "outputs": [
    {
     "data": {
      "text/plain": [
       "((4, 3), (3,))"
      ]
     },
     "execution_count": 39,
     "metadata": {},
     "output_type": "execute_result"
    }
   ],
   "source": [
    "# dense \n",
    "input_data = np.random.randn(150,4)\n",
    "W = np.ones((4,3))\n",
    "b = np.full((3),0.1)\n",
    "\n",
    "W.shape, b.shape"
   ]
  },
  {
   "cell_type": "code",
   "execution_count": 38,
   "id": "355cc517",
   "metadata": {},
   "outputs": [
    {
     "data": {
      "text/plain": [
       "(150, 3)"
      ]
     },
     "execution_count": 38,
     "metadata": {},
     "output_type": "execute_result"
    }
   ],
   "source": [
    "output = input_data.dot(W)+b\n",
    "output.shape"
   ]
  },
  {
   "cell_type": "code",
   "execution_count": 2,
   "id": "d9573d89",
   "metadata": {},
   "outputs": [
    {
     "data": {
      "text/plain": [
       "(1000,)"
      ]
     },
     "execution_count": 2,
     "metadata": {},
     "output_type": "execute_result"
    }
   ],
   "source": [
    "# np.random\n",
    "import numpy as np\n",
    "\n",
    "data = np.random.random(1000)\n",
    "data.shape"
   ]
  },
  {
   "cell_type": "code",
   "execution_count": 3,
   "id": "f9dacce6",
   "metadata": {},
   "outputs": [
    {
     "data": {
      "text/plain": [
       "(array([122.,  99.,  86.,  89.,  95., 105.,  91., 102., 111., 100.]),\n",
       " array([2.27149809e-04, 1.00073542e-01, 1.99919934e-01, 2.99766326e-01,\n",
       "        3.99612718e-01, 4.99459110e-01, 5.99305501e-01, 6.99151893e-01,\n",
       "        7.98998285e-01, 8.98844677e-01, 9.98691069e-01]),\n",
       " <BarContainer object of 10 artists>)"
      ]
     },
     "execution_count": 3,
     "metadata": {},
     "output_type": "execute_result"
    },
    {
     "data": {
      "image/png": "[encoded data removed]",
      "text/plain": [
       "<Figure size 640x480 with 1 Axes>"
      ]
     },
     "metadata": {},
     "output_type": "display_data"
    }
   ],
   "source": [
    "import matplotlib.pyplot as plt\n",
    "\n",
    "plt.hist(data)"
   ]
  },
  {
   "cell_type": "code",
   "execution_count": 42,
   "id": "93623945",
   "metadata": {},
   "outputs": [
    {
     "data": {
      "text/plain": [
       "(1000,)"
      ]
     },
     "execution_count": 42,
     "metadata": {},
     "output_type": "execute_result"
    }
   ],
   "source": [
    "data = np.random.uniform(-1,1,1000)\n",
    "data.shape"
   ]
  },
  {
   "cell_type": "code",
   "execution_count": 43,
   "id": "6a5d022e",
   "metadata": {},
   "outputs": [
    {
     "data": {
      "text/plain": [
       "(array([ 91.,  84., 113., 103.,  93., 104., 115.,  98.,  98., 101.]),\n",
       " array([-9.97873514e-01, -7.98442685e-01, -5.99011856e-01, -3.99581026e-01,\n",
       "        -2.00150197e-01, -7.19368176e-04,  1.98711461e-01,  3.98142290e-01,\n",
       "         5.97573119e-01,  7.97003948e-01,  9.96434777e-01]),\n",
       " <BarContainer object of 10 artists>)"
      ]
     },
     "execution_count": 43,
     "metadata": {},
     "output_type": "execute_result"
    },
    {
     "data": {
      "image/png": "[encoded data removed]",
      "text/plain": [
       "<Figure size 640x480 with 1 Axes>"
      ]
     },
     "metadata": {},
     "output_type": "display_data"
    }
   ],
   "source": [
    "plt.hist(data)"
   ]
  },
  {
   "cell_type": "code",
   "execution_count": 10,
   "id": "4d9a5b77",
   "metadata": {},
   "outputs": [
    {
     "data": {
      "text/plain": [
       "array([8, 9, 5, 1, 3])"
      ]
     },
     "execution_count": 10,
     "metadata": {},
     "output_type": "execute_result"
    }
   ],
   "source": [
    "data = np.arange(1,11)\n",
    "np.random.choice(data,3, replace=False)\n",
    "np.random.choice(data,3, replace=False)\n",
    "np.random.choice(data,3, replace=False)\n",
    "np.random.choice(data,5, replace=False)\n"
   ]
  },
  {
   "cell_type": "code",
   "execution_count": null,
   "id": "a2df27ef",
   "metadata": {},
   "outputs": [
    {
     "data": {
      "text/plain": [
       "array([ 5,  4,  6,  3,  4,  2,  2,  8, 10,  9,  3])"
      ]
     },
     "execution_count": 13,
     "metadata": {},
     "output_type": "execute_result"
    }
   ],
   "source": [
    "data = np.arange(1,11)\n",
    "np.random.choice(data,11, replace=True) # replace=True : 중복 가능(디폴트)"
   ]
  },
  {
   "cell_type": "code",
   "execution_count": 9,
   "id": "10961d9a",
   "metadata": {},
   "outputs": [
    {
     "data": {
      "text/plain": [
       "array([ 1,  2,  3,  4,  5,  6,  7,  8,  9, 10])"
      ]
     },
     "execution_count": 9,
     "metadata": {},
     "output_type": "execute_result"
    }
   ],
   "source": [
    "data"
   ]
  },
  {
   "cell_type": "code",
   "execution_count": 14,
   "id": "bf039efd",
   "metadata": {},
   "outputs": [
    {
     "data": {
      "text/plain": [
       "array([ 4,  6,  5,  7, 10,  1,  9,  8,  3,  2])"
      ]
     },
     "execution_count": 14,
     "metadata": {},
     "output_type": "execute_result"
    }
   ],
   "source": [
    "data = np.arange(1,11)\n",
    "np.random.shuffle(data)\n",
    "data"
   ]
  },
  {
   "cell_type": "code",
   "execution_count": null,
   "id": "c389fdb4",
   "metadata": {},
   "outputs": [
    {
     "data": {
      "text/plain": [
       "array([3, 1, 1, 1, 1, 1, 1, 1, 1, 1])"
      ]
     },
     "execution_count": 17,
     "metadata": {},
     "output_type": "execute_result"
    }
   ],
   "source": [
    "data = np.arange(1,4)\n",
    "np.random.choice(data, 10, p=[0.8,0.1,0.1]) #p=[확률 가중치] : p 리스트의 각 요소는 data의 같은 위치에 있는 요소가 뽑힐 확률"
   ]
  },
  {
   "cell_type": "code",
   "execution_count": null,
   "id": "a217e544",
   "metadata": {},
   "outputs": [
    {
     "data": {
      "text/plain": [
       "(1000,)"
      ]
     },
     "execution_count": 18,
     "metadata": {},
     "output_type": "execute_result"
    }
   ],
   "source": [
    "data = np.random.normal(0,1,1000) # random.normal(평균, 표준편차,개수) : 정규분포를 따르는 난수(샘플)를 생성\n",
    "data.shape"
   ]
  },
  {
   "cell_type": "code",
   "execution_count": 19,
   "id": "87217732",
   "metadata": {},
   "outputs": [
    {
     "data": {
      "text/plain": [
       "(array([  3.,   9.,  48., 109., 175., 238., 205., 137.,  57.,  19.]),\n",
       " array([-3.42289623, -2.81695747, -2.21101872, -1.60507997, -0.99914121,\n",
       "        -0.39320246,  0.2127363 ,  0.81867505,  1.42461381,  2.03055256,\n",
       "         2.63649131]),\n",
       " <BarContainer object of 10 artists>)"
      ]
     },
     "execution_count": 19,
     "metadata": {},
     "output_type": "execute_result"
    },
    {
     "data": {
      "image/png": "[encoded data removed]",
      "text/plain": [
       "<Figure size 640x480 with 1 Axes>"
      ]
     },
     "metadata": {},
     "output_type": "display_data"
    }
   ],
   "source": [
    "plt.hist(data)"
   ]
  },
  {
   "cell_type": "code",
   "execution_count": 21,
   "id": "b35febe3",
   "metadata": {},
   "outputs": [
    {
     "data": {
      "text/plain": [
       "(1000,)"
      ]
     },
     "execution_count": 21,
     "metadata": {},
     "output_type": "execute_result"
    }
   ],
   "source": [
    "data = np.random.randn(1000)\n",
    "data.shape"
   ]
  },
  {
   "cell_type": "code",
   "execution_count": 23,
   "id": "8a9b559c",
   "metadata": {},
   "outputs": [
    {
     "data": {
      "text/plain": [
       "(array([  2.,   6.,  35., 105., 204., 299., 199., 108.,  37.,   5.]),\n",
       " array([-3.74042581, -3.05872347, -2.37702114, -1.6953188 , -1.01361647,\n",
       "        -0.33191413,  0.3497882 ,  1.03149054,  1.71319287,  2.39489521,\n",
       "         3.07659754]),\n",
       " <BarContainer object of 10 artists>)"
      ]
     },
     "execution_count": 23,
     "metadata": {},
     "output_type": "execute_result"
    },
    {
     "data": {
      "image/png": "[encoded data removed]",
      "text/plain": [
       "<Figure size 640x480 with 1 Axes>"
      ]
     },
     "metadata": {},
     "output_type": "display_data"
    }
   ],
   "source": [
    "plt.hist(data)"
   ]
  },
  {
   "cell_type": "code",
   "execution_count": 24,
   "id": "b0f82d89",
   "metadata": {},
   "outputs": [
    {
     "data": {
      "text/plain": [
       "(100,)"
      ]
     },
     "execution_count": 24,
     "metadata": {},
     "output_type": "execute_result"
    }
   ],
   "source": [
    "data = np.random.randint(1,7,100)\n",
    "data.shape"
   ]
  },
  {
   "cell_type": "code",
   "execution_count": 25,
   "id": "92e96145",
   "metadata": {},
   "outputs": [
    {
     "data": {
      "text/plain": [
       "(array([22.,  0., 13.,  0., 15.,  0., 16.,  0., 18., 16.]),\n",
       " array([1. , 1.5, 2. , 2.5, 3. , 3.5, 4. , 4.5, 5. , 5.5, 6. ]),\n",
       " <BarContainer object of 10 artists>)"
      ]
     },
     "execution_count": 25,
     "metadata": {},
     "output_type": "execute_result"
    },
    {
     "data": {
      "image/png": "[encoded data removed]",
      "text/plain": [
       "<Figure size 640x480 with 1 Axes>"
      ]
     },
     "metadata": {},
     "output_type": "display_data"
    }
   ],
   "source": [
    "plt.hist(data)"
   ]
  },
  {
   "cell_type": "code",
   "execution_count": 26,
   "id": "d5740e16",
   "metadata": {},
   "outputs": [
    {
     "data": {
      "text/plain": [
       "array([[1., 0., 0.],\n",
       "       [0., 1., 0.],\n",
       "       [0., 0., 1.]])"
      ]
     },
     "execution_count": 26,
     "metadata": {},
     "output_type": "execute_result"
    }
   ],
   "source": [
    "np.eye(3)"
   ]
  },
  {
   "cell_type": "code",
   "execution_count": 29,
   "id": "f620cf5e",
   "metadata": {},
   "outputs": [
    {
     "data": {
      "text/plain": [
       "array([[ 39.22222222, 119.22222222],\n",
       "       [199.22222222, 279.22222222],\n",
       "       [359.22222222, 403.32222222]])"
      ]
     },
     "execution_count": 29,
     "metadata": {},
     "output_type": "execute_result"
    }
   ],
   "source": [
    "v1 = np.empty((3,2))\n",
    "v1"
   ]
  },
  {
   "cell_type": "code",
   "execution_count": null,
   "id": "b2862be8",
   "metadata": {},
   "outputs": [
    {
     "data": {
      "text/plain": [
       "((3, 2), dtype('float64'))"
      ]
     },
     "execution_count": 31,
     "metadata": {},
     "output_type": "execute_result"
    }
   ],
   "source": [
    "# p.46 NumPy 데이터 타입\n",
    "data = np.zeros((3,2)) \n",
    "data.shape, data.dtype"
   ]
  },
  {
   "cell_type": "code",
   "execution_count": null,
   "id": "c2186b1c",
   "metadata": {},
   "outputs": [],
   "source": [
    "data = np.zeros((3,2), dtype='int') # dtype='int' : 배열을 생성할 때부터 데이터 타입을 정수(int)로 지정하여 만들기"
   ]
  },
  {
   "cell_type": "code",
   "execution_count": 33,
   "id": "832ed35d",
   "metadata": {},
   "outputs": [
    {
     "data": {
      "text/plain": [
       "((3, 2), dtype('int64'))"
      ]
     },
     "execution_count": 33,
     "metadata": {},
     "output_type": "execute_result"
    }
   ],
   "source": [
    "data.shape, data.dtype"
   ]
  },
  {
   "cell_type": "code",
   "execution_count": null,
   "id": "68b2d3d1",
   "metadata": {},
   "outputs": [],
   "source": [
    "# p.47 NumPy 배열\n",
    "data = np.random.randint(1,10,(3,4))"
   ]
  },
  {
   "cell_type": "code",
   "execution_count": 48,
   "id": "eed5d5ed",
   "metadata": {},
   "outputs": [
    {
     "data": {
      "text/plain": [
       "((3, 4), dtype('int32'), 12)"
      ]
     },
     "execution_count": 48,
     "metadata": {},
     "output_type": "execute_result"
    }
   ],
   "source": [
    "data.shape, data.dtype, data.size"
   ]
  },
  {
   "cell_type": "code",
   "execution_count": 43,
   "id": "ea81a328",
   "metadata": {},
   "outputs": [
    {
     "data": {
      "text/plain": [
       "array([[ 1.14864559,  0.84418741,  0.06185747,  1.32261017],\n",
       "       [ 0.15420134,  0.97686719,  0.24394351,  0.20489068],\n",
       "       [-1.11440286,  0.33442531, -0.18408344, -0.19550043]])"
      ]
     },
     "execution_count": 43,
     "metadata": {},
     "output_type": "execute_result"
    }
   ],
   "source": [
    "np.random.normal(0,1,(3,4))"
   ]
  },
  {
   "cell_type": "code",
   "execution_count": null,
   "id": "7e9f9779",
   "metadata": {},
   "outputs": [
    {
     "data": {
      "text/plain": [
       "array([[7, 4, 8, 5],\n",
       "       [7, 3, 7, 8],\n",
       "       [5, 4, 8, 8]], dtype=int32)"
      ]
     },
     "execution_count": 52,
     "metadata": {},
     "output_type": "execute_result"
    }
   ],
   "source": [
    "#p.48~ 배열 슬라이싱\n",
    "np.random.seed(42)\n",
    "data = np.random.randint(1,10,(3,4))\n",
    "data"
   ]
  },
  {
   "cell_type": "code",
   "execution_count": null,
   "id": "e543e9b1",
   "metadata": {},
   "outputs": [
    {
     "data": {
      "text/plain": [
       "array([5, 4, 8, 8], dtype=int32)"
      ]
     },
     "execution_count": 54,
     "metadata": {},
     "output_type": "execute_result"
    }
   ],
   "source": [
    "data[2] #row"
   ]
  },
  {
   "cell_type": "code",
   "execution_count": null,
   "id": "9e393531",
   "metadata": {},
   "outputs": [
    {
     "data": {
      "text/plain": [
       "array([7, 7, 5], dtype=int32)"
      ]
     },
     "execution_count": 55,
     "metadata": {},
     "output_type": "execute_result"
    }
   ],
   "source": [
    "data[:,0] #col"
   ]
  },
  {
   "cell_type": "code",
   "execution_count": 56,
   "id": "60ec897d",
   "metadata": {},
   "outputs": [
    {
     "data": {
      "text/plain": [
       "array([3, 7], dtype=int32)"
      ]
     },
     "execution_count": 56,
     "metadata": {},
     "output_type": "execute_result"
    }
   ],
   "source": [
    "data[1,1:3]"
   ]
  },
  {
   "cell_type": "code",
   "execution_count": 57,
   "id": "ce40f6e8",
   "metadata": {},
   "outputs": [
    {
     "data": {
      "text/plain": [
       "array([[4, 8],\n",
       "       [3, 7]], dtype=int32)"
      ]
     },
     "execution_count": 57,
     "metadata": {},
     "output_type": "execute_result"
    }
   ],
   "source": [
    "data[0:2,1:3]"
   ]
  },
  {
   "cell_type": "code",
   "execution_count": 58,
   "id": "bb0ffd26",
   "metadata": {},
   "outputs": [
    {
     "data": {
      "text/plain": [
       "array([[7, 4, 8, 5, 7],\n",
       "       [3, 7, 8, 5, 4],\n",
       "       [8, 8, 3, 6, 5],\n",
       "       [2, 8, 6, 2, 5],\n",
       "       [1, 6, 9, 1, 3]], dtype=int32)"
      ]
     },
     "execution_count": 58,
     "metadata": {},
     "output_type": "execute_result"
    }
   ],
   "source": [
    "np.random.seed(42)\n",
    "data = np.random.randint(1,10,(5,5))\n",
    "data"
   ]
  },
  {
   "cell_type": "code",
   "execution_count": 60,
   "id": "6a51063e",
   "metadata": {},
   "outputs": [
    {
     "data": {
      "text/plain": [
       "array([8, 3, 6], dtype=int32)"
      ]
     },
     "execution_count": 60,
     "metadata": {},
     "output_type": "execute_result"
    }
   ],
   "source": [
    "data[2,1:4]"
   ]
  },
  {
   "cell_type": "code",
   "execution_count": 63,
   "id": "d8045c9a",
   "metadata": {},
   "outputs": [
    {
     "data": {
      "text/plain": [
       "array([[7, 8],\n",
       "       [8, 3]], dtype=int32)"
      ]
     },
     "execution_count": 63,
     "metadata": {},
     "output_type": "execute_result"
    }
   ],
   "source": [
    "data[1:3,1:3]"
   ]
  },
  {
   "cell_type": "code",
   "execution_count": 65,
   "id": "006fa000",
   "metadata": {},
   "outputs": [
    {
     "data": {
      "text/plain": [
       "array([7, 4, 5, 5, 3], dtype=int32)"
      ]
     },
     "execution_count": 65,
     "metadata": {},
     "output_type": "execute_result"
    }
   ],
   "source": [
    "data[:,-1]"
   ]
  },
  {
   "cell_type": "code",
   "execution_count": 68,
   "id": "4aff7f3b",
   "metadata": {},
   "outputs": [
    {
     "data": {
      "text/plain": [
       "array([[8, 3, 6],\n",
       "       [8, 6, 2]], dtype=int32)"
      ]
     },
     "execution_count": 68,
     "metadata": {},
     "output_type": "execute_result"
    }
   ],
   "source": [
    "data[2:4,1:4]"
   ]
  },
  {
   "cell_type": "code",
   "execution_count": 3,
   "id": "1b3654b8",
   "metadata": {},
   "outputs": [
    {
     "data": {
      "text/plain": [
       "30"
      ]
     },
     "execution_count": 3,
     "metadata": {},
     "output_type": "execute_result"
    }
   ],
   "source": [
    "#p.51 \n",
    "\n",
    "def my_sum(x):\n",
    "    result=[]\n",
    "    for i in x:\n",
    "        if i%2==0:\n",
    "            result.append(i)\n",
    "    return sum(result)\n",
    "\n",
    "x = list(range(1,11))\n",
    "my_sum(x)"
   ]
  },
  {
   "cell_type": "code",
   "execution_count": 6,
   "id": "01fbe0cb",
   "metadata": {},
   "outputs": [
    {
     "data": {
      "text/plain": [
       "30"
      ]
     },
     "execution_count": 6,
     "metadata": {},
     "output_type": "execute_result"
    }
   ],
   "source": [
    "def get_even(x):\n",
    "    for i in x:\n",
    "        if i%2 != 0:\n",
    "            x.remove(i)\n",
    "    return x\n",
    "\n",
    "x = list(range(1,11))\n",
    "get_even(x)\n",
    "sum(x)"
   ]
  },
  {
   "cell_type": "code",
   "execution_count": null,
   "id": "4ff293ab",
   "metadata": {},
   "outputs": [
    {
     "data": {
      "text/plain": [
       "55"
      ]
     },
     "execution_count": 8,
     "metadata": {},
     "output_type": "execute_result"
    }
   ],
   "source": [
    "def get_even(x):\n",
    "    for i in x:\n",
    "        if i%2 != 0:\n",
    "            x.remove(i)\n",
    "    return x\n",
    "\n",
    "x = list(range(1,11))\n",
    "get_even(x[:]) #복사본을 넘기기 = x.copy()\n",
    "sum(x) #원본은 건드리지 X"
   ]
  },
  {
   "cell_type": "code",
   "execution_count": 12,
   "id": "5fef2b78",
   "metadata": {},
   "outputs": [
    {
     "data": {
      "text/plain": [
       "np.int64(55)"
      ]
     },
     "execution_count": 12,
     "metadata": {},
     "output_type": "execute_result"
    }
   ],
   "source": [
    "import numpy as np\n",
    "def get_even(x):\n",
    "    for i in x:\n",
    "        if i%2 != 0:\n",
    "            np.delete(x,i) # np.delete()는 원본을 바꾸지 않음\n",
    "    return x\n",
    "\n",
    "x = np.array(range(1,11))\n",
    "get_even(x.copy())\n",
    "sum(x)"
   ]
  },
  {
   "cell_type": "code",
   "execution_count": null,
   "id": "8b0ad3f9",
   "metadata": {},
   "outputs": [
    {
     "data": {
      "text/plain": [
       "array([[7, 4, 8],\n",
       "       [5, 7, 3]], dtype=int32)"
      ]
     },
     "execution_count": 13,
     "metadata": {},
     "output_type": "execute_result"
    }
   ],
   "source": [
    "#p.53 배열 재구조화 : reshape()\n",
    "np.random.seed(42)\n",
    "data = np.random.randint(1,10,(2,3))\n",
    "data"
   ]
  },
  {
   "cell_type": "code",
   "execution_count": 14,
   "id": "f810c037",
   "metadata": {},
   "outputs": [
    {
     "data": {
      "text/plain": [
       "array([[7, 4, 8, 5, 7, 3]], dtype=int32)"
      ]
     },
     "execution_count": 14,
     "metadata": {},
     "output_type": "execute_result"
    }
   ],
   "source": [
    "data.reshape(1,6)"
   ]
  },
  {
   "cell_type": "code",
   "execution_count": 15,
   "id": "1d4e9f13",
   "metadata": {},
   "outputs": [
    {
     "data": {
      "text/plain": [
       "array([[7, 4],\n",
       "       [8, 5],\n",
       "       [7, 3]], dtype=int32)"
      ]
     },
     "execution_count": 15,
     "metadata": {},
     "output_type": "execute_result"
    }
   ],
   "source": [
    "data.reshape(3,2)"
   ]
  },
  {
   "cell_type": "code",
   "execution_count": 17,
   "id": "a4abdcbe",
   "metadata": {},
   "outputs": [
    {
     "data": {
      "text/plain": [
       "array([[7],\n",
       "       [4],\n",
       "       [8],\n",
       "       [5],\n",
       "       [7],\n",
       "       [3]], dtype=int32)"
      ]
     },
     "execution_count": 17,
     "metadata": {},
     "output_type": "execute_result"
    }
   ],
   "source": [
    "data.reshape(6,1)"
   ]
  },
  {
   "cell_type": "code",
   "execution_count": 18,
   "id": "d6f9460f",
   "metadata": {},
   "outputs": [
    {
     "data": {
      "text/plain": [
       "array([-0.094621  , -0.9288281 , -0.88523035])"
      ]
     },
     "execution_count": 18,
     "metadata": {},
     "output_type": "execute_result"
    }
   ],
   "source": [
    "data = np.random.normal(0,1,(3))\n",
    "data"
   ]
  },
  {
   "cell_type": "code",
   "execution_count": null,
   "id": "1ec4fdfc",
   "metadata": {},
   "outputs": [
    {
     "data": {
      "text/plain": [
       "array([[-0.094621  , -0.9288281 , -0.88523035]])"
      ]
     },
     "execution_count": 19,
     "metadata": {},
     "output_type": "execute_result"
    }
   ],
   "source": [
    "# 1차원 배열을 2차원 배열로 바꾸기\n",
    "data.reshape(1,3)"
   ]
  },
  {
   "cell_type": "code",
   "execution_count": 20,
   "id": "b89946fe",
   "metadata": {},
   "outputs": [
    {
     "data": {
      "text/plain": [
       "array([[-0.094621  ],\n",
       "       [-0.9288281 ],\n",
       "       [-0.88523035]])"
      ]
     },
     "execution_count": 20,
     "metadata": {},
     "output_type": "execute_result"
    }
   ],
   "source": [
    "data.reshape(3,1)"
   ]
  },
  {
   "cell_type": "code",
   "execution_count": 21,
   "id": "b3becc98",
   "metadata": {},
   "outputs": [
    {
     "data": {
      "text/plain": [
       "array([[-0.094621  , -0.9288281 , -0.88523035]])"
      ]
     },
     "execution_count": 21,
     "metadata": {},
     "output_type": "execute_result"
    }
   ],
   "source": [
    "data[np.newaxis,:]"
   ]
  },
  {
   "cell_type": "code",
   "execution_count": 22,
   "id": "0bb58da9",
   "metadata": {},
   "outputs": [
    {
     "data": {
      "text/plain": [
       "array([[-0.094621  ],\n",
       "       [-0.9288281 ],\n",
       "       [-0.88523035]])"
      ]
     },
     "execution_count": 22,
     "metadata": {},
     "output_type": "execute_result"
    }
   ],
   "source": [
    "data[:,np.newaxis]"
   ]
  },
  {
   "cell_type": "code",
   "execution_count": 24,
   "id": "2aa3559a",
   "metadata": {},
   "outputs": [
    {
     "data": {
      "text/plain": [
       "array([[[-0.094621  ]],\n",
       "\n",
       "       [[-0.9288281 ]],\n",
       "\n",
       "       [[-0.88523035]]])"
      ]
     },
     "execution_count": 24,
     "metadata": {},
     "output_type": "execute_result"
    }
   ],
   "source": [
    "data[:,np.newaxis,np.newaxis]"
   ]
  },
  {
   "cell_type": "code",
   "execution_count": 25,
   "id": "e18a8c88",
   "metadata": {},
   "outputs": [
    {
     "data": {
      "text/plain": [
       "array([[-0.094621  , -0.9288281 , -0.88523035]])"
      ]
     },
     "execution_count": 25,
     "metadata": {},
     "output_type": "execute_result"
    }
   ],
   "source": [
    "data[None,:]"
   ]
  },
  {
   "cell_type": "code",
   "execution_count": 26,
   "id": "a4a146e4",
   "metadata": {},
   "outputs": [
    {
     "data": {
      "text/plain": [
       "array([[-0.094621  ],\n",
       "       [-0.9288281 ],\n",
       "       [-0.88523035]])"
      ]
     },
     "execution_count": 26,
     "metadata": {},
     "output_type": "execute_result"
    }
   ],
   "source": [
    "data[:,None]"
   ]
  },
  {
   "cell_type": "code",
   "execution_count": null,
   "id": "95e5be06",
   "metadata": {},
   "outputs": [
    {
     "data": {
      "text/plain": [
       "(array([[7, 4, 8],\n",
       "        [5, 7, 3]], dtype=int32),\n",
       " array([[7, 8, 5],\n",
       "        [4, 8, 8]], dtype=int32))"
      ]
     },
     "execution_count": 28,
     "metadata": {},
     "output_type": "execute_result"
    }
   ],
   "source": [
    "#p.54 배열 연결\n",
    "np.random.seed(42)\n",
    "d1 = np.random.randint(1,10,(2,3))\n",
    "d2 = np.random.randint(1,10,(2,3))\n",
    "d1, d2"
   ]
  },
  {
   "cell_type": "code",
   "execution_count": null,
   "id": "fc39f362",
   "metadata": {},
   "outputs": [
    {
     "data": {
      "text/plain": [
       "array([[7, 4, 8],\n",
       "       [5, 7, 3],\n",
       "       [7, 8, 5],\n",
       "       [4, 8, 8]], dtype=int32)"
      ]
     },
     "execution_count": 30,
     "metadata": {},
     "output_type": "execute_result"
    }
   ],
   "source": [
    "np.concatenate([d1,d2]) "
   ]
  },
  {
   "cell_type": "code",
   "execution_count": 31,
   "id": "3812bca2",
   "metadata": {},
   "outputs": [
    {
     "data": {
      "text/plain": [
       "array([[7, 4, 8, 7, 8, 5],\n",
       "       [5, 7, 3, 4, 8, 8]], dtype=int32)"
      ]
     },
     "execution_count": 31,
     "metadata": {},
     "output_type": "execute_result"
    }
   ],
   "source": [
    "np.concatenate([d1,d2],axis=1)"
   ]
  },
  {
   "cell_type": "code",
   "execution_count": 39,
   "id": "0ef0cc3f",
   "metadata": {},
   "outputs": [
    {
     "data": {
      "text/plain": [
       "((2, 3), (2, 3))"
      ]
     },
     "execution_count": 39,
     "metadata": {},
     "output_type": "execute_result"
    }
   ],
   "source": [
    "d1.shape,d2.shape"
   ]
  },
  {
   "cell_type": "code",
   "execution_count": 36,
   "id": "9e26d09a",
   "metadata": {},
   "outputs": [
    {
     "data": {
      "text/plain": [
       "(2, 1)"
      ]
     },
     "execution_count": 36,
     "metadata": {},
     "output_type": "execute_result"
    }
   ],
   "source": [
    "c = np.array([5,3])\n",
    "c[:,None].shape"
   ]
  },
  {
   "cell_type": "code",
   "execution_count": 37,
   "id": "7c28a1de",
   "metadata": {},
   "outputs": [
    {
     "data": {
      "text/plain": [
       "array([[7, 4, 8, 5],\n",
       "       [5, 7, 3, 3]])"
      ]
     },
     "execution_count": 37,
     "metadata": {},
     "output_type": "execute_result"
    }
   ],
   "source": [
    "np.concatenate([d1,c[:,None]],axis=1)"
   ]
  },
  {
   "cell_type": "code",
   "execution_count": 43,
   "id": "648e9725",
   "metadata": {},
   "outputs": [
    {
     "data": {
      "text/plain": [
       "(2, 2, 3)"
      ]
     },
     "execution_count": 43,
     "metadata": {},
     "output_type": "execute_result"
    }
   ],
   "source": [
    "np.c_[[d1,d2]].shape"
   ]
  },
  {
   "cell_type": "code",
   "execution_count": 44,
   "id": "9d3fd838",
   "metadata": {},
   "outputs": [
    {
     "data": {
      "text/plain": [
       "array([[7, 4, 8, 7, 8, 5],\n",
       "       [5, 7, 3, 4, 8, 8]], dtype=int32)"
      ]
     },
     "execution_count": 44,
     "metadata": {},
     "output_type": "execute_result"
    }
   ],
   "source": [
    "np.hstack([d1,d2])"
   ]
  },
  {
   "cell_type": "code",
   "execution_count": 45,
   "id": "28f291b1",
   "metadata": {},
   "outputs": [
    {
     "data": {
      "text/plain": [
       "array([[7, 4, 8],\n",
       "       [5, 7, 3],\n",
       "       [7, 8, 5],\n",
       "       [4, 8, 8]], dtype=int32)"
      ]
     },
     "execution_count": 45,
     "metadata": {},
     "output_type": "execute_result"
    }
   ],
   "source": [
    "np.vstack([d1,d2])"
   ]
  },
  {
   "cell_type": "code",
   "execution_count": 47,
   "id": "f800b29e",
   "metadata": {},
   "outputs": [
    {
     "data": {
      "text/plain": [
       "(100,)"
      ]
     },
     "execution_count": 47,
     "metadata": {},
     "output_type": "execute_result"
    }
   ],
   "source": [
    "# p.55 배열 분할\n",
    "\n",
    "index = np.arange(1,101)\n",
    "index.shape"
   ]
  },
  {
   "cell_type": "code",
   "execution_count": 48,
   "id": "6d6426db",
   "metadata": {},
   "outputs": [],
   "source": [
    "a1,a2 = np.split(index,[20])"
   ]
  },
  {
   "cell_type": "code",
   "execution_count": 49,
   "id": "1c13508e",
   "metadata": {},
   "outputs": [
    {
     "data": {
      "text/plain": [
       "((20,), (80,))"
      ]
     },
     "execution_count": 49,
     "metadata": {},
     "output_type": "execute_result"
    }
   ],
   "source": [
    "a1.shape, a2.shape"
   ]
  },
  {
   "cell_type": "code",
   "execution_count": 51,
   "id": "fccd501c",
   "metadata": {},
   "outputs": [
    {
     "data": {
      "text/plain": [
       "((20,), (20,), (60,))"
      ]
     },
     "execution_count": 51,
     "metadata": {},
     "output_type": "execute_result"
    }
   ],
   "source": [
    "a1,a2,a3 = np.split(index,[20,40])\n",
    "a1.shape, a2.shape, a3.shape"
   ]
  }
 ],
 "metadata": {
  "kernelspec": {
   "display_name": "aip",
   "language": "python",
   "name": "python3"
  },
  "language_info": {
   "codemirror_mode": {
    "name": "ipython",
    "version": 3
   },
   "file_extension": ".py",
   "mimetype": "text/x-python",
   "name": "python",
   "nbconvert_exporter": "python",
   "pygments_lexer": "ipython3",
   "version": "3.9.23"
  }
 },
 "nbformat": 4,
 "nbformat_minor": 5
}
