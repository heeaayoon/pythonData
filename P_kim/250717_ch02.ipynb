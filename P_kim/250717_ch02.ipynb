{
 "cells": [
  {
   "cell_type": "code",
   "execution_count": 3,
   "id": "ce3fca0f",
   "metadata": {},
   "outputs": [
    {
     "data": {
      "text/plain": [
       "array([-0.14611976, -0.19826563, -0.44353975,  0.04376426, -0.77338117,\n",
       "       -0.55224823, -0.0277685 ,  1.05132799,  0.19795266, -0.70288709])"
      ]
     },
     "execution_count": 3,
     "metadata": {},
     "output_type": "execute_result"
    }
   ],
   "source": [
    "#p.97\n",
    "import numpy as np\n",
    "\n",
    "data = np.random.normal(0,1,10)\n",
    "data"
   ]
  },
  {
   "cell_type": "code",
   "execution_count": null,
   "id": "225cfecd",
   "metadata": {},
   "outputs": [
    {
     "data": {
      "text/plain": [
       "(np.int64(4), np.int64(7))"
      ]
     },
     "execution_count": 4,
     "metadata": {},
     "output_type": "execute_result"
    }
   ],
   "source": [
    "#argmin, argmax: 배열에서 가장 작은/큰 값이 어디에 있는지(위치/인덱스)\n",
    "np.argmin(data), np.argmax(data)"
   ]
  },
  {
   "cell_type": "code",
   "execution_count": 5,
   "id": "d689865a",
   "metadata": {},
   "outputs": [
    {
     "data": {
      "text/plain": [
       "(np.int64(4),\n",
       " np.int64(7),\n",
       " np.float64(-0.7733811660800654),\n",
       " np.float64(1.0513279931763786))"
      ]
     },
     "execution_count": 5,
     "metadata": {},
     "output_type": "execute_result"
    }
   ],
   "source": [
    "i1 = np.argmin(data)\n",
    "i2 = np.argmax(data)\n",
    "i1,i2, data[i1],data[i2]"
   ]
  },
  {
   "cell_type": "code",
   "execution_count": 6,
   "id": "627b608a",
   "metadata": {},
   "outputs": [
    {
     "data": {
      "text/plain": [
       "array([-0.77338117, -0.70288709, -0.55224823, -0.44353975, -0.19826563,\n",
       "       -0.14611976, -0.0277685 ,  0.04376426,  0.19795266,  1.05132799])"
      ]
     },
     "execution_count": 6,
     "metadata": {},
     "output_type": "execute_result"
    }
   ],
   "source": [
    "np.sort(data)"
   ]
  },
  {
   "cell_type": "code",
   "execution_count": null,
   "id": "a746efdc",
   "metadata": {},
   "outputs": [
    {
     "data": {
      "text/plain": [
       "array([4, 9, 5, 2, 1, 0, 6, 3, 8, 7])"
      ]
     },
     "execution_count": 7,
     "metadata": {},
     "output_type": "execute_result"
    }
   ],
   "source": [
    "# argsort: 배열의 모든 원소를 정렬했을 때의 순서를 인덱스로 알려줌\n",
    "np.argsort(data)"
   ]
  },
  {
   "cell_type": "code",
   "execution_count": 10,
   "id": "b6d0e2b7",
   "metadata": {},
   "outputs": [
    {
     "data": {
      "text/plain": [
       "array([-0.77338117, -0.70288709, -0.55224823])"
      ]
     },
     "execution_count": 10,
     "metadata": {},
     "output_type": "execute_result"
    }
   ],
   "source": [
    "idx = np.argsort(data)\n",
    "data[idx][:3]"
   ]
  },
  {
   "cell_type": "code",
   "execution_count": 12,
   "id": "e1911df7",
   "metadata": {},
   "outputs": [
    {
     "data": {
      "text/plain": [
       "((4, 6),\n",
       " array([[5, 4, 6, 9, 0, 3],\n",
       "        [6, 4, 1, 8, 5, 8],\n",
       "        [2, 1, 4, 5, 5, 1],\n",
       "        [4, 6, 4, 2, 8, 4]], dtype=int32))"
      ]
     },
     "execution_count": 12,
     "metadata": {},
     "output_type": "execute_result"
    }
   ],
   "source": [
    "data = np.random.randint(0,10,(4,6))\n",
    "data.shape, data"
   ]
  },
  {
   "cell_type": "code",
   "execution_count": null,
   "id": "284a7732",
   "metadata": {},
   "outputs": [
    {
     "data": {
      "text/plain": [
       "array([[0, 3, 4, 5, 6, 9],\n",
       "       [1, 4, 5, 6, 8, 8],\n",
       "       [1, 1, 2, 4, 5, 5],\n",
       "       [2, 4, 4, 4, 6, 8]], dtype=int32)"
      ]
     },
     "execution_count": 13,
     "metadata": {},
     "output_type": "execute_result"
    }
   ],
   "source": [
    "np.sort(data, axis=1) # 행 별로 정렬됨(디폴트, axis 설정하지 않으면 자동으로 행정렬)"
   ]
  },
  {
   "cell_type": "code",
   "execution_count": null,
   "id": "a00f058b",
   "metadata": {},
   "outputs": [
    {
     "data": {
      "text/plain": [
       "array([[2, 1, 1, 2, 0, 1],\n",
       "       [4, 4, 4, 5, 5, 3],\n",
       "       [5, 4, 4, 8, 5, 4],\n",
       "       [6, 6, 6, 9, 8, 8]], dtype=int32)"
      ]
     },
     "execution_count": 14,
     "metadata": {},
     "output_type": "execute_result"
    }
   ],
   "source": [
    "np.sort(data, axis=0) # 열별로 정렬됨"
   ]
  },
  {
   "cell_type": "code",
   "execution_count": 15,
   "id": "155ac115",
   "metadata": {},
   "outputs": [
    {
     "data": {
      "text/plain": [
       "array([1, 3, 9, 8, 5, 4, 7], dtype=int32)"
      ]
     },
     "execution_count": 15,
     "metadata": {},
     "output_type": "execute_result"
    }
   ],
   "source": [
    "#p.100\n",
    "data = np.random.randint(0,10,7)\n",
    "data"
   ]
  },
  {
   "cell_type": "code",
   "execution_count": 26,
   "id": "4d04b5d9",
   "metadata": {},
   "outputs": [
    {
     "data": {
      "text/plain": [
       "array([64, 15,  1, 20, 57, 59, 74, 16, 43,  9, 90, 52, 91, 41, 13, 47, 12,\n",
       "       66, 62, 14, 89, 42, 67, 97, 82,  5, 61, 44, 98, 65, 72, 69, 60, 81,\n",
       "       45, 19, 50,  4, 92, 70, 39, 77, 51, 36, 95, 10, 85, 54, 87, 96, 24,\n",
       "       73, 22, 48, 35, 55, 83, 23, 17, 80, 94, 30, 68, 53, 38, 32, 78,  3,\n",
       "       99, 18, 79, 26, 84, 93, 33, 25,  8, 49, 31, 46, 37,  2, 56, 75, 71,\n",
       "       29, 27, 40, 88, 11,  6,  7, 28, 34, 21, 86, 76, 63, 58])"
      ]
     },
     "execution_count": 26,
     "metadata": {},
     "output_type": "execute_result"
    }
   ],
   "source": [
    "data = np.arange(1,100)\n",
    "np.random.shuffle(data)\n",
    "data"
   ]
  },
  {
   "cell_type": "code",
   "execution_count": null,
   "id": "171a43ff",
   "metadata": {},
   "outputs": [
    {
     "data": {
      "text/plain": [
       "array([ 1,  2,  3,  4,  5,  6,  7,  8,  9, 10, 11, 12, 13, 14, 15, 16, 17,\n",
       "       18, 19, 20, 21, 22, 23, 24, 25, 26, 27, 28, 29, 30, 31, 32, 34, 76,\n",
       "       59, 57, 78, 43, 74, 47, 41, 52, 38, 53, 68, 62, 66, 80, 82, 67, 42,\n",
       "       72, 65, 44, 61, 45, 81, 60, 69, 79, 83, 55, 35, 48, 49, 33, 73, 54,\n",
       "       37, 46, 71, 75, 56, 36, 51, 77, 40, 39, 70, 50, 63, 58, 64, 86, 88,\n",
       "       93, 84, 99, 98, 97, 89, 91, 90, 94, 96, 87, 85, 95, 92])"
      ]
     },
     "execution_count": 29,
     "metadata": {},
     "output_type": "execute_result"
    }
   ],
   "source": [
    "# np.partition(a, k): 배열 a에서 k번째로 작은 값을 찾아 제자리에 놓고, 그 값보다 작은 것들은 왼쪽, 큰 것들은 오른쪽으로 분할(partition)만 함\n",
    "np.partition(data,30)"
   ]
  },
  {
   "cell_type": "code",
   "execution_count": null,
   "id": "74895913",
   "metadata": {},
   "outputs": [],
   "source": []
  }
 ],
 "metadata": {
  "kernelspec": {
   "display_name": "aip",
   "language": "python",
   "name": "python3"
  },
  "language_info": {
   "codemirror_mode": {
    "name": "ipython",
    "version": 3
   },
   "file_extension": ".py",
   "mimetype": "text/x-python",
   "name": "python",
   "nbconvert_exporter": "python",
   "pygments_lexer": "ipython3",
   "version": "3.9.23"
  }
 },
 "nbformat": 4,
 "nbformat_minor": 5
}
