{
 "cells": [
  {
   "cell_type": "markdown",
   "id": "da6e62a6",
   "metadata": {},
   "source": [
    "데이터(old) -> 전처리 ->    보고서 #1    -> 데이터(new) -> 예측 by                              \n",
    "                        - 상관계수 확인                  1. 사람\n",
    "                        - 데이터 이해                    2. 수학 ** -> \n",
    "                                                       3. 기계"
   ]
  }
 ],
 "metadata": {
  "kernelspec": {
   "display_name": "aip",
   "language": "python",
   "name": "python3"
  },
  "language_info": {
   "name": "python",
   "version": "3.9.23"
  }
 },
 "nbformat": 4,
 "nbformat_minor": 5
}
